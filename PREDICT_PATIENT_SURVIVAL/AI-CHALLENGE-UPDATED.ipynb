{
 "cells": [
  {
   "cell_type": "code",
   "execution_count": 125,
   "id": "14d48469",
   "metadata": {},
   "outputs": [],
   "source": [
    "# In efforts to improving the care conditions at a hospital in the province of Greenland, the following is a model which probes \n",
    "# into the historic survival data of the patients and predicts their chances of survival after 1 year of treatment."
   ]
  },
  {
   "cell_type": "code",
   "execution_count": 126,
   "id": "21559113",
   "metadata": {},
   "outputs": [],
   "source": [
    "# Load dependencies"
   ]
  },
  {
   "cell_type": "code",
   "execution_count": 127,
   "id": "0613652f",
   "metadata": {},
   "outputs": [],
   "source": [
    "import numpy as np\n",
    "import matplotlib.pyplot as plt\n",
    "import seaborn as sns\n",
    "import pandas as pd"
   ]
  },
  {
   "cell_type": "code",
   "execution_count": 128,
   "id": "d8b2fb1e",
   "metadata": {},
   "outputs": [],
   "source": [
    "dataset = pd.read_csv('./hospital_dataset/Train_Data.csv')"
   ]
  },
  {
   "cell_type": "code",
   "execution_count": 129,
   "id": "1dfaa7d8",
   "metadata": {},
   "outputs": [],
   "source": [
    "# View the first 5 rows of the dataset"
   ]
  },
  {
   "cell_type": "code",
   "execution_count": 130,
   "id": "9b4df4e8",
   "metadata": {},
   "outputs": [
    {
     "data": {
      "text/html": [
       "<div>\n",
       "<style scoped>\n",
       "    .dataframe tbody tr th:only-of-type {\n",
       "        vertical-align: middle;\n",
       "    }\n",
       "\n",
       "    .dataframe tbody tr th {\n",
       "        vertical-align: top;\n",
       "    }\n",
       "\n",
       "    .dataframe thead th {\n",
       "        text-align: right;\n",
       "    }\n",
       "</style>\n",
       "<table border=\"1\" class=\"dataframe\">\n",
       "  <thead>\n",
       "    <tr style=\"text-align: right;\">\n",
       "      <th></th>\n",
       "      <th>ID_Patient_Care_Situation</th>\n",
       "      <th>Diagnosed_Condition</th>\n",
       "      <th>Patient_ID</th>\n",
       "      <th>Treated_with_drugs</th>\n",
       "      <th>Patient_Age</th>\n",
       "      <th>Patient_Body_Mass_Index</th>\n",
       "      <th>Patient_Smoker</th>\n",
       "      <th>Patient_Rural_Urban</th>\n",
       "      <th>Patient_mental_condition</th>\n",
       "      <th>A</th>\n",
       "      <th>B</th>\n",
       "      <th>C</th>\n",
       "      <th>D</th>\n",
       "      <th>E</th>\n",
       "      <th>F</th>\n",
       "      <th>Z</th>\n",
       "      <th>Number_of_prev_cond</th>\n",
       "      <th>Survived_1_year</th>\n",
       "    </tr>\n",
       "  </thead>\n",
       "  <tbody>\n",
       "    <tr>\n",
       "      <th>0</th>\n",
       "      <td>22374</td>\n",
       "      <td>8</td>\n",
       "      <td>3333</td>\n",
       "      <td>DX6</td>\n",
       "      <td>56</td>\n",
       "      <td>18.479385</td>\n",
       "      <td>YES</td>\n",
       "      <td>URBAN</td>\n",
       "      <td>Stable</td>\n",
       "      <td>1.0</td>\n",
       "      <td>0.0</td>\n",
       "      <td>0.0</td>\n",
       "      <td>0.0</td>\n",
       "      <td>1.0</td>\n",
       "      <td>0.0</td>\n",
       "      <td>0.0</td>\n",
       "      <td>2.0</td>\n",
       "      <td>0</td>\n",
       "    </tr>\n",
       "    <tr>\n",
       "      <th>1</th>\n",
       "      <td>18164</td>\n",
       "      <td>5</td>\n",
       "      <td>5740</td>\n",
       "      <td>DX2</td>\n",
       "      <td>36</td>\n",
       "      <td>22.945566</td>\n",
       "      <td>YES</td>\n",
       "      <td>RURAL</td>\n",
       "      <td>Stable</td>\n",
       "      <td>1.0</td>\n",
       "      <td>0.0</td>\n",
       "      <td>0.0</td>\n",
       "      <td>0.0</td>\n",
       "      <td>0.0</td>\n",
       "      <td>0.0</td>\n",
       "      <td>0.0</td>\n",
       "      <td>1.0</td>\n",
       "      <td>1</td>\n",
       "    </tr>\n",
       "    <tr>\n",
       "      <th>2</th>\n",
       "      <td>6283</td>\n",
       "      <td>23</td>\n",
       "      <td>10446</td>\n",
       "      <td>DX6</td>\n",
       "      <td>48</td>\n",
       "      <td>27.510027</td>\n",
       "      <td>YES</td>\n",
       "      <td>RURAL</td>\n",
       "      <td>Stable</td>\n",
       "      <td>1.0</td>\n",
       "      <td>0.0</td>\n",
       "      <td>0.0</td>\n",
       "      <td>0.0</td>\n",
       "      <td>0.0</td>\n",
       "      <td>0.0</td>\n",
       "      <td>0.0</td>\n",
       "      <td>1.0</td>\n",
       "      <td>0</td>\n",
       "    </tr>\n",
       "    <tr>\n",
       "      <th>3</th>\n",
       "      <td>5339</td>\n",
       "      <td>51</td>\n",
       "      <td>12011</td>\n",
       "      <td>DX1</td>\n",
       "      <td>5</td>\n",
       "      <td>19.130976</td>\n",
       "      <td>NO</td>\n",
       "      <td>URBAN</td>\n",
       "      <td>Stable</td>\n",
       "      <td>1.0</td>\n",
       "      <td>0.0</td>\n",
       "      <td>0.0</td>\n",
       "      <td>0.0</td>\n",
       "      <td>0.0</td>\n",
       "      <td>0.0</td>\n",
       "      <td>0.0</td>\n",
       "      <td>1.0</td>\n",
       "      <td>1</td>\n",
       "    </tr>\n",
       "    <tr>\n",
       "      <th>4</th>\n",
       "      <td>33012</td>\n",
       "      <td>0</td>\n",
       "      <td>12513</td>\n",
       "      <td>NaN</td>\n",
       "      <td>128</td>\n",
       "      <td>1.348400</td>\n",
       "      <td>Cannot say</td>\n",
       "      <td>RURAL</td>\n",
       "      <td>Stable</td>\n",
       "      <td>0.0</td>\n",
       "      <td>0.0</td>\n",
       "      <td>0.0</td>\n",
       "      <td>0.0</td>\n",
       "      <td>0.0</td>\n",
       "      <td>0.0</td>\n",
       "      <td>1.0</td>\n",
       "      <td>1.0</td>\n",
       "      <td>1</td>\n",
       "    </tr>\n",
       "  </tbody>\n",
       "</table>\n",
       "</div>"
      ],
      "text/plain": [
       "   ID_Patient_Care_Situation  Diagnosed_Condition  Patient_ID  \\\n",
       "0                      22374                    8        3333   \n",
       "1                      18164                    5        5740   \n",
       "2                       6283                   23       10446   \n",
       "3                       5339                   51       12011   \n",
       "4                      33012                    0       12513   \n",
       "\n",
       "  Treated_with_drugs  Patient_Age  Patient_Body_Mass_Index Patient_Smoker  \\\n",
       "0                DX6           56                18.479385            YES   \n",
       "1               DX2            36                22.945566            YES   \n",
       "2                DX6           48                27.510027            YES   \n",
       "3               DX1             5                19.130976             NO   \n",
       "4                NaN          128                 1.348400     Cannot say   \n",
       "\n",
       "  Patient_Rural_Urban Patient_mental_condition    A    B    C    D    E    F  \\\n",
       "0               URBAN                   Stable  1.0  0.0  0.0  0.0  1.0  0.0   \n",
       "1               RURAL                   Stable  1.0  0.0  0.0  0.0  0.0  0.0   \n",
       "2               RURAL                   Stable  1.0  0.0  0.0  0.0  0.0  0.0   \n",
       "3               URBAN                   Stable  1.0  0.0  0.0  0.0  0.0  0.0   \n",
       "4               RURAL                   Stable  0.0  0.0  0.0  0.0  0.0  0.0   \n",
       "\n",
       "     Z  Number_of_prev_cond  Survived_1_year  \n",
       "0  0.0                  2.0                0  \n",
       "1  0.0                  1.0                1  \n",
       "2  0.0                  1.0                0  \n",
       "3  0.0                  1.0                1  \n",
       "4  1.0                  1.0                1  "
      ]
     },
     "execution_count": 130,
     "metadata": {},
     "output_type": "execute_result"
    }
   ],
   "source": [
    "dataset.head()"
   ]
  },
  {
   "cell_type": "code",
   "execution_count": 131,
   "id": "cc82597d",
   "metadata": {},
   "outputs": [],
   "source": [
    "# Find out more information about the dataset"
   ]
  },
  {
   "cell_type": "code",
   "execution_count": 132,
   "id": "2d618c3f",
   "metadata": {},
   "outputs": [
    {
     "name": "stdout",
     "output_type": "stream",
     "text": [
      "<class 'pandas.core.frame.DataFrame'>\n",
      "RangeIndex: 23097 entries, 0 to 23096\n",
      "Data columns (total 18 columns):\n",
      " #   Column                     Non-Null Count  Dtype  \n",
      "---  ------                     --------------  -----  \n",
      " 0   ID_Patient_Care_Situation  23097 non-null  int64  \n",
      " 1   Diagnosed_Condition        23097 non-null  int64  \n",
      " 2   Patient_ID                 23097 non-null  int64  \n",
      " 3   Treated_with_drugs         23084 non-null  object \n",
      " 4   Patient_Age                23097 non-null  int64  \n",
      " 5   Patient_Body_Mass_Index    23097 non-null  float64\n",
      " 6   Patient_Smoker             23097 non-null  object \n",
      " 7   Patient_Rural_Urban        23097 non-null  object \n",
      " 8   Patient_mental_condition   23097 non-null  object \n",
      " 9   A                          21862 non-null  float64\n",
      " 10  B                          21862 non-null  float64\n",
      " 11  C                          21862 non-null  float64\n",
      " 12  D                          21862 non-null  float64\n",
      " 13  E                          21862 non-null  float64\n",
      " 14  F                          21862 non-null  float64\n",
      " 15  Z                          21862 non-null  float64\n",
      " 16  Number_of_prev_cond        21862 non-null  float64\n",
      " 17  Survived_1_year            23097 non-null  int64  \n",
      "dtypes: float64(9), int64(5), object(4)\n",
      "memory usage: 3.2+ MB\n"
     ]
    }
   ],
   "source": [
    "dataset.info()"
   ]
  },
  {
   "cell_type": "code",
   "execution_count": 133,
   "id": "138f9061",
   "metadata": {},
   "outputs": [],
   "source": [
    "# See statistical representation of the dataset"
   ]
  },
  {
   "cell_type": "code",
   "execution_count": 134,
   "id": "5c5712b8",
   "metadata": {},
   "outputs": [
    {
     "data": {
      "text/html": [
       "<div>\n",
       "<style scoped>\n",
       "    .dataframe tbody tr th:only-of-type {\n",
       "        vertical-align: middle;\n",
       "    }\n",
       "\n",
       "    .dataframe tbody tr th {\n",
       "        vertical-align: top;\n",
       "    }\n",
       "\n",
       "    .dataframe thead th {\n",
       "        text-align: right;\n",
       "    }\n",
       "</style>\n",
       "<table border=\"1\" class=\"dataframe\">\n",
       "  <thead>\n",
       "    <tr style=\"text-align: right;\">\n",
       "      <th></th>\n",
       "      <th>count</th>\n",
       "      <th>mean</th>\n",
       "      <th>std</th>\n",
       "      <th>min</th>\n",
       "      <th>25%</th>\n",
       "      <th>50%</th>\n",
       "      <th>75%</th>\n",
       "      <th>max</th>\n",
       "    </tr>\n",
       "  </thead>\n",
       "  <tbody>\n",
       "    <tr>\n",
       "      <th>ID_Patient_Care_Situation</th>\n",
       "      <td>23097.0</td>\n",
       "      <td>16545.712041</td>\n",
       "      <td>9532.263503</td>\n",
       "      <td>2.0000</td>\n",
       "      <td>8280.00000</td>\n",
       "      <td>16597.000000</td>\n",
       "      <td>24825.000000</td>\n",
       "      <td>33014.000000</td>\n",
       "    </tr>\n",
       "    <tr>\n",
       "      <th>Diagnosed_Condition</th>\n",
       "      <td>23097.0</td>\n",
       "      <td>26.413127</td>\n",
       "      <td>15.030865</td>\n",
       "      <td>0.0000</td>\n",
       "      <td>13.00000</td>\n",
       "      <td>26.000000</td>\n",
       "      <td>39.000000</td>\n",
       "      <td>52.000000</td>\n",
       "    </tr>\n",
       "    <tr>\n",
       "      <th>Patient_ID</th>\n",
       "      <td>23097.0</td>\n",
       "      <td>6261.280772</td>\n",
       "      <td>3595.990620</td>\n",
       "      <td>1.0000</td>\n",
       "      <td>3181.00000</td>\n",
       "      <td>6242.000000</td>\n",
       "      <td>9363.000000</td>\n",
       "      <td>12515.000000</td>\n",
       "    </tr>\n",
       "    <tr>\n",
       "      <th>Patient_Age</th>\n",
       "      <td>23097.0</td>\n",
       "      <td>33.209768</td>\n",
       "      <td>19.549882</td>\n",
       "      <td>0.0000</td>\n",
       "      <td>16.00000</td>\n",
       "      <td>33.000000</td>\n",
       "      <td>50.000000</td>\n",
       "      <td>149.000000</td>\n",
       "    </tr>\n",
       "    <tr>\n",
       "      <th>Patient_Body_Mass_Index</th>\n",
       "      <td>23097.0</td>\n",
       "      <td>23.454820</td>\n",
       "      <td>3.807661</td>\n",
       "      <td>1.0893</td>\n",
       "      <td>20.20555</td>\n",
       "      <td>23.386199</td>\n",
       "      <td>26.788154</td>\n",
       "      <td>29.999579</td>\n",
       "    </tr>\n",
       "    <tr>\n",
       "      <th>A</th>\n",
       "      <td>21862.0</td>\n",
       "      <td>0.897905</td>\n",
       "      <td>0.302780</td>\n",
       "      <td>0.0000</td>\n",
       "      <td>1.00000</td>\n",
       "      <td>1.000000</td>\n",
       "      <td>1.000000</td>\n",
       "      <td>1.000000</td>\n",
       "    </tr>\n",
       "    <tr>\n",
       "      <th>B</th>\n",
       "      <td>21862.0</td>\n",
       "      <td>0.136355</td>\n",
       "      <td>0.343173</td>\n",
       "      <td>0.0000</td>\n",
       "      <td>0.00000</td>\n",
       "      <td>0.000000</td>\n",
       "      <td>0.000000</td>\n",
       "      <td>1.000000</td>\n",
       "    </tr>\n",
       "    <tr>\n",
       "      <th>C</th>\n",
       "      <td>21862.0</td>\n",
       "      <td>0.185070</td>\n",
       "      <td>0.388363</td>\n",
       "      <td>0.0000</td>\n",
       "      <td>0.00000</td>\n",
       "      <td>0.000000</td>\n",
       "      <td>0.000000</td>\n",
       "      <td>1.000000</td>\n",
       "    </tr>\n",
       "    <tr>\n",
       "      <th>D</th>\n",
       "      <td>21862.0</td>\n",
       "      <td>0.083615</td>\n",
       "      <td>0.276817</td>\n",
       "      <td>0.0000</td>\n",
       "      <td>0.00000</td>\n",
       "      <td>0.000000</td>\n",
       "      <td>0.000000</td>\n",
       "      <td>1.000000</td>\n",
       "    </tr>\n",
       "    <tr>\n",
       "      <th>E</th>\n",
       "      <td>21862.0</td>\n",
       "      <td>0.393239</td>\n",
       "      <td>0.488480</td>\n",
       "      <td>0.0000</td>\n",
       "      <td>0.00000</td>\n",
       "      <td>0.000000</td>\n",
       "      <td>1.000000</td>\n",
       "      <td>1.000000</td>\n",
       "    </tr>\n",
       "    <tr>\n",
       "      <th>F</th>\n",
       "      <td>21862.0</td>\n",
       "      <td>0.053700</td>\n",
       "      <td>0.225431</td>\n",
       "      <td>0.0000</td>\n",
       "      <td>0.00000</td>\n",
       "      <td>0.000000</td>\n",
       "      <td>0.000000</td>\n",
       "      <td>1.000000</td>\n",
       "    </tr>\n",
       "    <tr>\n",
       "      <th>Z</th>\n",
       "      <td>21862.0</td>\n",
       "      <td>0.000595</td>\n",
       "      <td>0.024379</td>\n",
       "      <td>0.0000</td>\n",
       "      <td>0.00000</td>\n",
       "      <td>0.000000</td>\n",
       "      <td>0.000000</td>\n",
       "      <td>1.000000</td>\n",
       "    </tr>\n",
       "    <tr>\n",
       "      <th>Number_of_prev_cond</th>\n",
       "      <td>21862.0</td>\n",
       "      <td>1.750480</td>\n",
       "      <td>0.770311</td>\n",
       "      <td>1.0000</td>\n",
       "      <td>1.00000</td>\n",
       "      <td>2.000000</td>\n",
       "      <td>2.000000</td>\n",
       "      <td>5.000000</td>\n",
       "    </tr>\n",
       "    <tr>\n",
       "      <th>Survived_1_year</th>\n",
       "      <td>23097.0</td>\n",
       "      <td>0.632247</td>\n",
       "      <td>0.482204</td>\n",
       "      <td>0.0000</td>\n",
       "      <td>0.00000</td>\n",
       "      <td>1.000000</td>\n",
       "      <td>1.000000</td>\n",
       "      <td>1.000000</td>\n",
       "    </tr>\n",
       "  </tbody>\n",
       "</table>\n",
       "</div>"
      ],
      "text/plain": [
       "                             count          mean          std     min  \\\n",
       "ID_Patient_Care_Situation  23097.0  16545.712041  9532.263503  2.0000   \n",
       "Diagnosed_Condition        23097.0     26.413127    15.030865  0.0000   \n",
       "Patient_ID                 23097.0   6261.280772  3595.990620  1.0000   \n",
       "Patient_Age                23097.0     33.209768    19.549882  0.0000   \n",
       "Patient_Body_Mass_Index    23097.0     23.454820     3.807661  1.0893   \n",
       "A                          21862.0      0.897905     0.302780  0.0000   \n",
       "B                          21862.0      0.136355     0.343173  0.0000   \n",
       "C                          21862.0      0.185070     0.388363  0.0000   \n",
       "D                          21862.0      0.083615     0.276817  0.0000   \n",
       "E                          21862.0      0.393239     0.488480  0.0000   \n",
       "F                          21862.0      0.053700     0.225431  0.0000   \n",
       "Z                          21862.0      0.000595     0.024379  0.0000   \n",
       "Number_of_prev_cond        21862.0      1.750480     0.770311  1.0000   \n",
       "Survived_1_year            23097.0      0.632247     0.482204  0.0000   \n",
       "\n",
       "                                  25%           50%           75%  \\\n",
       "ID_Patient_Care_Situation  8280.00000  16597.000000  24825.000000   \n",
       "Diagnosed_Condition          13.00000     26.000000     39.000000   \n",
       "Patient_ID                 3181.00000   6242.000000   9363.000000   \n",
       "Patient_Age                  16.00000     33.000000     50.000000   \n",
       "Patient_Body_Mass_Index      20.20555     23.386199     26.788154   \n",
       "A                             1.00000      1.000000      1.000000   \n",
       "B                             0.00000      0.000000      0.000000   \n",
       "C                             0.00000      0.000000      0.000000   \n",
       "D                             0.00000      0.000000      0.000000   \n",
       "E                             0.00000      0.000000      1.000000   \n",
       "F                             0.00000      0.000000      0.000000   \n",
       "Z                             0.00000      0.000000      0.000000   \n",
       "Number_of_prev_cond           1.00000      2.000000      2.000000   \n",
       "Survived_1_year               0.00000      1.000000      1.000000   \n",
       "\n",
       "                                    max  \n",
       "ID_Patient_Care_Situation  33014.000000  \n",
       "Diagnosed_Condition           52.000000  \n",
       "Patient_ID                 12515.000000  \n",
       "Patient_Age                  149.000000  \n",
       "Patient_Body_Mass_Index       29.999579  \n",
       "A                              1.000000  \n",
       "B                              1.000000  \n",
       "C                              1.000000  \n",
       "D                              1.000000  \n",
       "E                              1.000000  \n",
       "F                              1.000000  \n",
       "Z                              1.000000  \n",
       "Number_of_prev_cond            5.000000  \n",
       "Survived_1_year                1.000000  "
      ]
     },
     "execution_count": 134,
     "metadata": {},
     "output_type": "execute_result"
    }
   ],
   "source": [
    "dataset.describe().T"
   ]
  },
  {
   "cell_type": "code",
   "execution_count": 135,
   "id": "25dd2f22",
   "metadata": {},
   "outputs": [],
   "source": [
    "# check for null values"
   ]
  },
  {
   "cell_type": "code",
   "execution_count": 136,
   "id": "9a9cf4cc",
   "metadata": {},
   "outputs": [
    {
     "data": {
      "text/plain": [
       "ID_Patient_Care_Situation       0\n",
       "Diagnosed_Condition             0\n",
       "Patient_ID                      0\n",
       "Treated_with_drugs             13\n",
       "Patient_Age                     0\n",
       "Patient_Body_Mass_Index         0\n",
       "Patient_Smoker                  0\n",
       "Patient_Rural_Urban             0\n",
       "Patient_mental_condition        0\n",
       "A                            1235\n",
       "B                            1235\n",
       "C                            1235\n",
       "D                            1235\n",
       "E                            1235\n",
       "F                            1235\n",
       "Z                            1235\n",
       "Number_of_prev_cond          1235\n",
       "Survived_1_year                 0\n",
       "dtype: int64"
      ]
     },
     "execution_count": 136,
     "metadata": {},
     "output_type": "execute_result"
    }
   ],
   "source": [
    "dataset.isnull().sum()"
   ]
  },
  {
   "cell_type": "code",
   "execution_count": 137,
   "id": "a73af0a2",
   "metadata": {},
   "outputs": [],
   "source": [
    "# The following shows that every feature has got not more than 20% of mising data so, they'd all be considered"
   ]
  },
  {
   "cell_type": "code",
   "execution_count": 138,
   "id": "c6f65a2b",
   "metadata": {},
   "outputs": [
    {
     "data": {
      "text/plain": [
       "ID_Patient_Care_Situation    True\n",
       "Diagnosed_Condition          True\n",
       "Patient_ID                   True\n",
       "Treated_with_drugs           True\n",
       "Patient_Age                  True\n",
       "Patient_Body_Mass_Index      True\n",
       "Patient_Smoker               True\n",
       "Patient_Rural_Urban          True\n",
       "Patient_mental_condition     True\n",
       "A                            True\n",
       "B                            True\n",
       "C                            True\n",
       "D                            True\n",
       "E                            True\n",
       "F                            True\n",
       "Z                            True\n",
       "Number_of_prev_cond          True\n",
       "Survived_1_year              True\n",
       "dtype: bool"
      ]
     },
     "execution_count": 138,
     "metadata": {},
     "output_type": "execute_result"
    }
   ],
   "source": [
    "dataset.isnull().mean() <= 0.2"
   ]
  },
  {
   "cell_type": "code",
   "execution_count": 139,
   "id": "22fba822",
   "metadata": {},
   "outputs": [],
   "source": [
    "# scan for numerical variables"
   ]
  },
  {
   "cell_type": "code",
   "execution_count": 140,
   "id": "6b9d4ec2",
   "metadata": {},
   "outputs": [],
   "source": [
    "numerical_data = dataset.select_dtypes(include=np.number)"
   ]
  },
  {
   "cell_type": "code",
   "execution_count": 141,
   "id": "8cc52216",
   "metadata": {},
   "outputs": [],
   "source": [
    "# Numerical columns"
   ]
  },
  {
   "cell_type": "code",
   "execution_count": 142,
   "id": "688ca870",
   "metadata": {},
   "outputs": [
    {
     "data": {
      "text/plain": [
       "Index(['ID_Patient_Care_Situation', 'Diagnosed_Condition', 'Patient_ID',\n",
       "       'Patient_Age', 'Patient_Body_Mass_Index', 'A', 'B', 'C', 'D', 'E', 'F',\n",
       "       'Z', 'Number_of_prev_cond', 'Survived_1_year'],\n",
       "      dtype='object')"
      ]
     },
     "execution_count": 142,
     "metadata": {},
     "output_type": "execute_result"
    }
   ],
   "source": [
    "numerical_data.columns"
   ]
  },
  {
   "cell_type": "code",
   "execution_count": 143,
   "id": "5dac5734",
   "metadata": {},
   "outputs": [],
   "source": [
    "# Fill in the missing values on the numerical dataset"
   ]
  },
  {
   "cell_type": "code",
   "execution_count": 144,
   "id": "0c23f8a5",
   "metadata": {},
   "outputs": [],
   "source": [
    "for col in numerical_data.columns:\n",
    "    dataset[col] = dataset[col].fillna(dataset[col].mean())"
   ]
  },
  {
   "cell_type": "code",
   "execution_count": 145,
   "id": "4215d4ae",
   "metadata": {},
   "outputs": [
    {
     "data": {
      "text/plain": [
       "ID_Patient_Care_Situation    0\n",
       "Diagnosed_Condition          0\n",
       "Patient_ID                   0\n",
       "Patient_Age                  0\n",
       "Patient_Body_Mass_Index      0\n",
       "A                            0\n",
       "B                            0\n",
       "C                            0\n",
       "D                            0\n",
       "E                            0\n",
       "F                            0\n",
       "Z                            0\n",
       "Number_of_prev_cond          0\n",
       "Survived_1_year              0\n",
       "dtype: int64"
      ]
     },
     "execution_count": 145,
     "metadata": {},
     "output_type": "execute_result"
    }
   ],
   "source": [
    "dataset[numerical_data.columns].isnull().sum()"
   ]
  },
  {
   "cell_type": "code",
   "execution_count": 146,
   "id": "f43aa79a",
   "metadata": {},
   "outputs": [],
   "source": [
    "# Check for categorical features"
   ]
  },
  {
   "cell_type": "code",
   "execution_count": 147,
   "id": "f4fb3266",
   "metadata": {},
   "outputs": [],
   "source": [
    "cat_data = dataset.select_dtypes(include='object')"
   ]
  },
  {
   "cell_type": "code",
   "execution_count": 148,
   "id": "b549f3a8",
   "metadata": {},
   "outputs": [],
   "source": [
    "# Categorical columns"
   ]
  },
  {
   "cell_type": "code",
   "execution_count": 149,
   "id": "2b18e265",
   "metadata": {},
   "outputs": [
    {
     "data": {
      "text/plain": [
       "Index(['Treated_with_drugs', 'Patient_Smoker', 'Patient_Rural_Urban',\n",
       "       'Patient_mental_condition'],\n",
       "      dtype='object')"
      ]
     },
     "execution_count": 149,
     "metadata": {},
     "output_type": "execute_result"
    }
   ],
   "source": [
    "cat_data.columns"
   ]
  },
  {
   "cell_type": "code",
   "execution_count": 150,
   "id": "877ba368",
   "metadata": {},
   "outputs": [
    {
     "data": {
      "text/plain": [
       "Treated_with_drugs          13\n",
       "Patient_Smoker               0\n",
       "Patient_Rural_Urban          0\n",
       "Patient_mental_condition     0\n",
       "dtype: int64"
      ]
     },
     "execution_count": 150,
     "metadata": {},
     "output_type": "execute_result"
    }
   ],
   "source": [
    "dataset[cat_data.columns].isnull().sum()"
   ]
  },
  {
   "cell_type": "code",
   "execution_count": 151,
   "id": "bb26a8d4",
   "metadata": {},
   "outputs": [],
   "source": [
    "# Fill in null values on the \"Treated_with_drugs\" column of the categprical dataset"
   ]
  },
  {
   "cell_type": "code",
   "execution_count": 152,
   "id": "1f31e7e5",
   "metadata": {},
   "outputs": [],
   "source": [
    "dataset['Treated_with_drugs'] = dataset['Treated_with_drugs'].fillna(dataset['Treated_with_drugs'].mode().iloc[0])"
   ]
  },
  {
   "cell_type": "code",
   "execution_count": 153,
   "id": "89bf2bd1",
   "metadata": {},
   "outputs": [],
   "source": [
    "# Double check for missing values"
   ]
  },
  {
   "cell_type": "code",
   "execution_count": 154,
   "id": "c8af9f15",
   "metadata": {},
   "outputs": [
    {
     "data": {
      "text/plain": [
       "ID_Patient_Care_Situation    0\n",
       "Diagnosed_Condition          0\n",
       "Patient_ID                   0\n",
       "Treated_with_drugs           0\n",
       "Patient_Age                  0\n",
       "Patient_Body_Mass_Index      0\n",
       "Patient_Smoker               0\n",
       "Patient_Rural_Urban          0\n",
       "Patient_mental_condition     0\n",
       "A                            0\n",
       "B                            0\n",
       "C                            0\n",
       "D                            0\n",
       "E                            0\n",
       "F                            0\n",
       "Z                            0\n",
       "Number_of_prev_cond          0\n",
       "Survived_1_year              0\n",
       "dtype: int64"
      ]
     },
     "execution_count": 154,
     "metadata": {},
     "output_type": "execute_result"
    }
   ],
   "source": [
    "dataset.isnull().sum()"
   ]
  },
  {
   "cell_type": "code",
   "execution_count": 155,
   "id": "5bc92262",
   "metadata": {},
   "outputs": [],
   "source": [
    "# Convert categorical values into numerical values"
   ]
  },
  {
   "cell_type": "code",
   "execution_count": 156,
   "id": "e237ed4d",
   "metadata": {},
   "outputs": [],
   "source": [
    "from sklearn.preprocessing import LabelEncoder"
   ]
  },
  {
   "cell_type": "code",
   "execution_count": 157,
   "id": "ed85913e",
   "metadata": {},
   "outputs": [],
   "source": [
    "encoder = LabelEncoder()"
   ]
  },
  {
   "cell_type": "code",
   "execution_count": 158,
   "id": "22121eec",
   "metadata": {},
   "outputs": [],
   "source": [
    "for column in cat_data.columns:\n",
    "    dataset[column] = encoder.fit_transform(dataset[column])"
   ]
  },
  {
   "cell_type": "code",
   "execution_count": 159,
   "id": "08bbcf49",
   "metadata": {},
   "outputs": [
    {
     "data": {
      "text/html": [
       "<div>\n",
       "<style scoped>\n",
       "    .dataframe tbody tr th:only-of-type {\n",
       "        vertical-align: middle;\n",
       "    }\n",
       "\n",
       "    .dataframe tbody tr th {\n",
       "        vertical-align: top;\n",
       "    }\n",
       "\n",
       "    .dataframe thead th {\n",
       "        text-align: right;\n",
       "    }\n",
       "</style>\n",
       "<table border=\"1\" class=\"dataframe\">\n",
       "  <thead>\n",
       "    <tr style=\"text-align: right;\">\n",
       "      <th></th>\n",
       "      <th>ID_Patient_Care_Situation</th>\n",
       "      <th>Diagnosed_Condition</th>\n",
       "      <th>Patient_ID</th>\n",
       "      <th>Treated_with_drugs</th>\n",
       "      <th>Patient_Age</th>\n",
       "      <th>Patient_Body_Mass_Index</th>\n",
       "      <th>Patient_Smoker</th>\n",
       "      <th>Patient_Rural_Urban</th>\n",
       "      <th>Patient_mental_condition</th>\n",
       "      <th>A</th>\n",
       "      <th>B</th>\n",
       "      <th>C</th>\n",
       "      <th>D</th>\n",
       "      <th>E</th>\n",
       "      <th>F</th>\n",
       "      <th>Z</th>\n",
       "      <th>Number_of_prev_cond</th>\n",
       "      <th>Survived_1_year</th>\n",
       "    </tr>\n",
       "  </thead>\n",
       "  <tbody>\n",
       "    <tr>\n",
       "      <th>0</th>\n",
       "      <td>22374</td>\n",
       "      <td>8</td>\n",
       "      <td>3333</td>\n",
       "      <td>31</td>\n",
       "      <td>56</td>\n",
       "      <td>18.479385</td>\n",
       "      <td>2</td>\n",
       "      <td>1</td>\n",
       "      <td>0</td>\n",
       "      <td>1.0</td>\n",
       "      <td>0.0</td>\n",
       "      <td>0.0</td>\n",
       "      <td>0.0</td>\n",
       "      <td>1.0</td>\n",
       "      <td>0.0</td>\n",
       "      <td>0.0</td>\n",
       "      <td>2.0</td>\n",
       "      <td>0</td>\n",
       "    </tr>\n",
       "    <tr>\n",
       "      <th>1</th>\n",
       "      <td>18164</td>\n",
       "      <td>5</td>\n",
       "      <td>5740</td>\n",
       "      <td>16</td>\n",
       "      <td>36</td>\n",
       "      <td>22.945566</td>\n",
       "      <td>2</td>\n",
       "      <td>0</td>\n",
       "      <td>0</td>\n",
       "      <td>1.0</td>\n",
       "      <td>0.0</td>\n",
       "      <td>0.0</td>\n",
       "      <td>0.0</td>\n",
       "      <td>0.0</td>\n",
       "      <td>0.0</td>\n",
       "      <td>0.0</td>\n",
       "      <td>1.0</td>\n",
       "      <td>1</td>\n",
       "    </tr>\n",
       "    <tr>\n",
       "      <th>2</th>\n",
       "      <td>6283</td>\n",
       "      <td>23</td>\n",
       "      <td>10446</td>\n",
       "      <td>31</td>\n",
       "      <td>48</td>\n",
       "      <td>27.510027</td>\n",
       "      <td>2</td>\n",
       "      <td>0</td>\n",
       "      <td>0</td>\n",
       "      <td>1.0</td>\n",
       "      <td>0.0</td>\n",
       "      <td>0.0</td>\n",
       "      <td>0.0</td>\n",
       "      <td>0.0</td>\n",
       "      <td>0.0</td>\n",
       "      <td>0.0</td>\n",
       "      <td>1.0</td>\n",
       "      <td>0</td>\n",
       "    </tr>\n",
       "    <tr>\n",
       "      <th>3</th>\n",
       "      <td>5339</td>\n",
       "      <td>51</td>\n",
       "      <td>12011</td>\n",
       "      <td>0</td>\n",
       "      <td>5</td>\n",
       "      <td>19.130976</td>\n",
       "      <td>1</td>\n",
       "      <td>1</td>\n",
       "      <td>0</td>\n",
       "      <td>1.0</td>\n",
       "      <td>0.0</td>\n",
       "      <td>0.0</td>\n",
       "      <td>0.0</td>\n",
       "      <td>0.0</td>\n",
       "      <td>0.0</td>\n",
       "      <td>0.0</td>\n",
       "      <td>1.0</td>\n",
       "      <td>1</td>\n",
       "    </tr>\n",
       "    <tr>\n",
       "      <th>4</th>\n",
       "      <td>33012</td>\n",
       "      <td>0</td>\n",
       "      <td>12513</td>\n",
       "      <td>31</td>\n",
       "      <td>128</td>\n",
       "      <td>1.348400</td>\n",
       "      <td>0</td>\n",
       "      <td>0</td>\n",
       "      <td>0</td>\n",
       "      <td>0.0</td>\n",
       "      <td>0.0</td>\n",
       "      <td>0.0</td>\n",
       "      <td>0.0</td>\n",
       "      <td>0.0</td>\n",
       "      <td>0.0</td>\n",
       "      <td>1.0</td>\n",
       "      <td>1.0</td>\n",
       "      <td>1</td>\n",
       "    </tr>\n",
       "  </tbody>\n",
       "</table>\n",
       "</div>"
      ],
      "text/plain": [
       "   ID_Patient_Care_Situation  Diagnosed_Condition  Patient_ID  \\\n",
       "0                      22374                    8        3333   \n",
       "1                      18164                    5        5740   \n",
       "2                       6283                   23       10446   \n",
       "3                       5339                   51       12011   \n",
       "4                      33012                    0       12513   \n",
       "\n",
       "   Treated_with_drugs  Patient_Age  Patient_Body_Mass_Index  Patient_Smoker  \\\n",
       "0                  31           56                18.479385               2   \n",
       "1                  16           36                22.945566               2   \n",
       "2                  31           48                27.510027               2   \n",
       "3                   0            5                19.130976               1   \n",
       "4                  31          128                 1.348400               0   \n",
       "\n",
       "   Patient_Rural_Urban  Patient_mental_condition    A    B    C    D    E  \\\n",
       "0                    1                         0  1.0  0.0  0.0  0.0  1.0   \n",
       "1                    0                         0  1.0  0.0  0.0  0.0  0.0   \n",
       "2                    0                         0  1.0  0.0  0.0  0.0  0.0   \n",
       "3                    1                         0  1.0  0.0  0.0  0.0  0.0   \n",
       "4                    0                         0  0.0  0.0  0.0  0.0  0.0   \n",
       "\n",
       "     F    Z  Number_of_prev_cond  Survived_1_year  \n",
       "0  0.0  0.0                  2.0                0  \n",
       "1  0.0  0.0                  1.0                1  \n",
       "2  0.0  0.0                  1.0                0  \n",
       "3  0.0  0.0                  1.0                1  \n",
       "4  0.0  1.0                  1.0                1  "
      ]
     },
     "execution_count": 159,
     "metadata": {},
     "output_type": "execute_result"
    }
   ],
   "source": [
    "dataset.head()"
   ]
  },
  {
   "cell_type": "code",
   "execution_count": 160,
   "id": "6a862374",
   "metadata": {},
   "outputs": [
    {
     "name": "stdout",
     "output_type": "stream",
     "text": [
      "<class 'pandas.core.frame.DataFrame'>\n",
      "RangeIndex: 23097 entries, 0 to 23096\n",
      "Data columns (total 18 columns):\n",
      " #   Column                     Non-Null Count  Dtype  \n",
      "---  ------                     --------------  -----  \n",
      " 0   ID_Patient_Care_Situation  23097 non-null  int64  \n",
      " 1   Diagnosed_Condition        23097 non-null  int64  \n",
      " 2   Patient_ID                 23097 non-null  int64  \n",
      " 3   Treated_with_drugs         23097 non-null  int32  \n",
      " 4   Patient_Age                23097 non-null  int64  \n",
      " 5   Patient_Body_Mass_Index    23097 non-null  float64\n",
      " 6   Patient_Smoker             23097 non-null  int32  \n",
      " 7   Patient_Rural_Urban        23097 non-null  int32  \n",
      " 8   Patient_mental_condition   23097 non-null  int32  \n",
      " 9   A                          23097 non-null  float64\n",
      " 10  B                          23097 non-null  float64\n",
      " 11  C                          23097 non-null  float64\n",
      " 12  D                          23097 non-null  float64\n",
      " 13  E                          23097 non-null  float64\n",
      " 14  F                          23097 non-null  float64\n",
      " 15  Z                          23097 non-null  float64\n",
      " 16  Number_of_prev_cond        23097 non-null  float64\n",
      " 17  Survived_1_year            23097 non-null  int64  \n",
      "dtypes: float64(9), int32(4), int64(5)\n",
      "memory usage: 2.8 MB\n"
     ]
    }
   ],
   "source": [
    "dataset.info()"
   ]
  },
  {
   "cell_type": "code",
   "execution_count": 161,
   "id": "b67b85d0",
   "metadata": {},
   "outputs": [],
   "source": [
    "training_data = dataset.drop('Survived_1_year',axis=1)"
   ]
  },
  {
   "cell_type": "code",
   "execution_count": 162,
   "id": "ee7ef495",
   "metadata": {},
   "outputs": [],
   "source": [
    "test_data = dataset['Survived_1_year']"
   ]
  },
  {
   "cell_type": "code",
   "execution_count": 163,
   "id": "d8574f1d",
   "metadata": {},
   "outputs": [
    {
     "data": {
      "text/plain": [
       "(23097, 17)"
      ]
     },
     "execution_count": 163,
     "metadata": {},
     "output_type": "execute_result"
    }
   ],
   "source": [
    "training_data.shape"
   ]
  },
  {
   "cell_type": "code",
   "execution_count": 164,
   "id": "02dee7e3",
   "metadata": {},
   "outputs": [
    {
     "data": {
      "text/plain": [
       "(23097,)"
      ]
     },
     "execution_count": 164,
     "metadata": {},
     "output_type": "execute_result"
    }
   ],
   "source": [
    "test_data.shape"
   ]
  },
  {
   "cell_type": "code",
   "execution_count": 165,
   "id": "c58301b4",
   "metadata": {},
   "outputs": [],
   "source": [
    "# Normalize training dataset"
   ]
  },
  {
   "cell_type": "code",
   "execution_count": 166,
   "id": "a7916eb4",
   "metadata": {},
   "outputs": [],
   "source": [
    "from sklearn.preprocessing import MinMaxScaler"
   ]
  },
  {
   "cell_type": "code",
   "execution_count": 167,
   "id": "a9f1ba75",
   "metadata": {},
   "outputs": [],
   "source": [
    "scaler = MinMaxScaler()"
   ]
  },
  {
   "cell_type": "code",
   "execution_count": 168,
   "id": "3aa39a55",
   "metadata": {},
   "outputs": [],
   "source": [
    "scaled_training_data = scaler.fit_transform(training_data)"
   ]
  },
  {
   "cell_type": "code",
   "execution_count": 169,
   "id": "90059792",
   "metadata": {},
   "outputs": [
    {
     "data": {
      "text/html": [
       "<div>\n",
       "<style scoped>\n",
       "    .dataframe tbody tr th:only-of-type {\n",
       "        vertical-align: middle;\n",
       "    }\n",
       "\n",
       "    .dataframe tbody tr th {\n",
       "        vertical-align: top;\n",
       "    }\n",
       "\n",
       "    .dataframe thead th {\n",
       "        text-align: right;\n",
       "    }\n",
       "</style>\n",
       "<table border=\"1\" class=\"dataframe\">\n",
       "  <thead>\n",
       "    <tr style=\"text-align: right;\">\n",
       "      <th></th>\n",
       "      <th>ID_Patient_Care_Situation</th>\n",
       "      <th>Diagnosed_Condition</th>\n",
       "      <th>Patient_ID</th>\n",
       "      <th>Treated_with_drugs</th>\n",
       "      <th>Patient_Age</th>\n",
       "      <th>Patient_Body_Mass_Index</th>\n",
       "      <th>Patient_Smoker</th>\n",
       "      <th>Patient_Rural_Urban</th>\n",
       "      <th>Patient_mental_condition</th>\n",
       "      <th>A</th>\n",
       "      <th>B</th>\n",
       "      <th>C</th>\n",
       "      <th>D</th>\n",
       "      <th>E</th>\n",
       "      <th>F</th>\n",
       "      <th>Z</th>\n",
       "      <th>Number_of_prev_cond</th>\n",
       "    </tr>\n",
       "  </thead>\n",
       "  <tbody>\n",
       "    <tr>\n",
       "      <th>0</th>\n",
       "      <td>0.677693</td>\n",
       "      <td>0.153846</td>\n",
       "      <td>0.266262</td>\n",
       "      <td>1.000000</td>\n",
       "      <td>0.375839</td>\n",
       "      <td>0.601519</td>\n",
       "      <td>1.0</td>\n",
       "      <td>1.0</td>\n",
       "      <td>0.0</td>\n",
       "      <td>1.0</td>\n",
       "      <td>0.0</td>\n",
       "      <td>0.0</td>\n",
       "      <td>0.0</td>\n",
       "      <td>1.0</td>\n",
       "      <td>0.0</td>\n",
       "      <td>0.0</td>\n",
       "      <td>0.25</td>\n",
       "    </tr>\n",
       "    <tr>\n",
       "      <th>1</th>\n",
       "      <td>0.550164</td>\n",
       "      <td>0.096154</td>\n",
       "      <td>0.458606</td>\n",
       "      <td>0.516129</td>\n",
       "      <td>0.241611</td>\n",
       "      <td>0.756003</td>\n",
       "      <td>1.0</td>\n",
       "      <td>0.0</td>\n",
       "      <td>0.0</td>\n",
       "      <td>1.0</td>\n",
       "      <td>0.0</td>\n",
       "      <td>0.0</td>\n",
       "      <td>0.0</td>\n",
       "      <td>0.0</td>\n",
       "      <td>0.0</td>\n",
       "      <td>0.0</td>\n",
       "      <td>0.00</td>\n",
       "    </tr>\n",
       "    <tr>\n",
       "      <th>2</th>\n",
       "      <td>0.190264</td>\n",
       "      <td>0.442308</td>\n",
       "      <td>0.834665</td>\n",
       "      <td>1.000000</td>\n",
       "      <td>0.322148</td>\n",
       "      <td>0.913887</td>\n",
       "      <td>1.0</td>\n",
       "      <td>0.0</td>\n",
       "      <td>0.0</td>\n",
       "      <td>1.0</td>\n",
       "      <td>0.0</td>\n",
       "      <td>0.0</td>\n",
       "      <td>0.0</td>\n",
       "      <td>0.0</td>\n",
       "      <td>0.0</td>\n",
       "      <td>0.0</td>\n",
       "      <td>0.00</td>\n",
       "    </tr>\n",
       "    <tr>\n",
       "      <th>3</th>\n",
       "      <td>0.161668</td>\n",
       "      <td>0.980769</td>\n",
       "      <td>0.959725</td>\n",
       "      <td>0.000000</td>\n",
       "      <td>0.033557</td>\n",
       "      <td>0.624057</td>\n",
       "      <td>0.5</td>\n",
       "      <td>1.0</td>\n",
       "      <td>0.0</td>\n",
       "      <td>1.0</td>\n",
       "      <td>0.0</td>\n",
       "      <td>0.0</td>\n",
       "      <td>0.0</td>\n",
       "      <td>0.0</td>\n",
       "      <td>0.0</td>\n",
       "      <td>0.0</td>\n",
       "      <td>0.00</td>\n",
       "    </tr>\n",
       "    <tr>\n",
       "      <th>4</th>\n",
       "      <td>0.999939</td>\n",
       "      <td>0.000000</td>\n",
       "      <td>0.999840</td>\n",
       "      <td>1.000000</td>\n",
       "      <td>0.859060</td>\n",
       "      <td>0.008962</td>\n",
       "      <td>0.0</td>\n",
       "      <td>0.0</td>\n",
       "      <td>0.0</td>\n",
       "      <td>0.0</td>\n",
       "      <td>0.0</td>\n",
       "      <td>0.0</td>\n",
       "      <td>0.0</td>\n",
       "      <td>0.0</td>\n",
       "      <td>0.0</td>\n",
       "      <td>1.0</td>\n",
       "      <td>0.00</td>\n",
       "    </tr>\n",
       "  </tbody>\n",
       "</table>\n",
       "</div>"
      ],
      "text/plain": [
       "   ID_Patient_Care_Situation  Diagnosed_Condition  Patient_ID  \\\n",
       "0                   0.677693             0.153846    0.266262   \n",
       "1                   0.550164             0.096154    0.458606   \n",
       "2                   0.190264             0.442308    0.834665   \n",
       "3                   0.161668             0.980769    0.959725   \n",
       "4                   0.999939             0.000000    0.999840   \n",
       "\n",
       "   Treated_with_drugs  Patient_Age  Patient_Body_Mass_Index  Patient_Smoker  \\\n",
       "0            1.000000     0.375839                 0.601519             1.0   \n",
       "1            0.516129     0.241611                 0.756003             1.0   \n",
       "2            1.000000     0.322148                 0.913887             1.0   \n",
       "3            0.000000     0.033557                 0.624057             0.5   \n",
       "4            1.000000     0.859060                 0.008962             0.0   \n",
       "\n",
       "   Patient_Rural_Urban  Patient_mental_condition    A    B    C    D    E  \\\n",
       "0                  1.0                       0.0  1.0  0.0  0.0  0.0  1.0   \n",
       "1                  0.0                       0.0  1.0  0.0  0.0  0.0  0.0   \n",
       "2                  0.0                       0.0  1.0  0.0  0.0  0.0  0.0   \n",
       "3                  1.0                       0.0  1.0  0.0  0.0  0.0  0.0   \n",
       "4                  0.0                       0.0  0.0  0.0  0.0  0.0  0.0   \n",
       "\n",
       "     F    Z  Number_of_prev_cond  \n",
       "0  0.0  0.0                 0.25  \n",
       "1  0.0  0.0                 0.00  \n",
       "2  0.0  0.0                 0.00  \n",
       "3  0.0  0.0                 0.00  \n",
       "4  0.0  1.0                 0.00  "
      ]
     },
     "execution_count": 169,
     "metadata": {},
     "output_type": "execute_result"
    }
   ],
   "source": [
    "pd.DataFrame(scaled_training_data,columns=training_data.columns).head()"
   ]
  },
  {
   "cell_type": "code",
   "execution_count": 170,
   "id": "246851b2",
   "metadata": {},
   "outputs": [
    {
     "data": {
      "text/plain": [
       "<AxesSubplot:xlabel='Survived_1_year'>"
      ]
     },
     "execution_count": 170,
     "metadata": {},
     "output_type": "execute_result"
    },
    {
     "data": {
      "image/png": "[encoded data removed]",
      "text/plain": [
       "<Figure size 432x288 with 1 Axes>"
      ]
     },
     "metadata": {
      "needs_background": "light"
     },
     "output_type": "display_data"
    }
   ],
   "source": [
    "dataset.pivot_table(index='Survived_1_year',aggfunc='size').plot(kind='bar')"
   ]
  },
  {
   "cell_type": "code",
   "execution_count": 171,
   "id": "28b66b08",
   "metadata": {},
   "outputs": [],
   "source": [
    "# From the given plot above,there seems to exist an imbalance between both classes of the dependent variable(Survived_1_year)"
   ]
  },
  {
   "cell_type": "code",
   "execution_count": 172,
   "id": "3002b4d9",
   "metadata": {},
   "outputs": [],
   "source": [
    "from sklearn.model_selection import train_test_split"
   ]
  },
  {
   "cell_type": "code",
   "execution_count": 173,
   "id": "83d007fc",
   "metadata": {},
   "outputs": [],
   "source": [
    "X_train,X_test,y_train,y_test = train_test_split(training_data,test_data,test_size=0.2,random_state=123)"
   ]
  },
  {
   "cell_type": "code",
   "execution_count": 174,
   "id": "21f1182b",
   "metadata": {},
   "outputs": [],
   "source": [
    "from imblearn.over_sampling import SMOTE"
   ]
  },
  {
   "cell_type": "code",
   "execution_count": 175,
   "id": "0adee359",
   "metadata": {},
   "outputs": [],
   "source": [
    "sm = SMOTE(random_state=25,sampling_strategy=1.0)"
   ]
  },
  {
   "cell_type": "code",
   "execution_count": 176,
   "id": "3ab36ebb",
   "metadata": {},
   "outputs": [],
   "source": [
    "X_train, y_train = sm.fit_resample(X_train,y_train)"
   ]
  },
  {
   "cell_type": "code",
   "execution_count": 177,
   "id": "4919334e",
   "metadata": {},
   "outputs": [
    {
     "data": {
      "text/plain": [
       "(array([0, 1], dtype=int64), array([11688, 11688], dtype=int64))"
      ]
     },
     "execution_count": 177,
     "metadata": {},
     "output_type": "execute_result"
    }
   ],
   "source": [
    "np.unique(y_train, return_counts=True)"
   ]
  },
  {
   "cell_type": "code",
   "execution_count": 178,
   "id": "3682d8c9",
   "metadata": {},
   "outputs": [],
   "source": [
    "# Balance now established on the training dataset"
   ]
  },
  {
   "cell_type": "code",
   "execution_count": 179,
   "id": "4efcbdd8",
   "metadata": {},
   "outputs": [],
   "source": [
    "# Import LogisticRegression"
   ]
  },
  {
   "cell_type": "code",
   "execution_count": 180,
   "id": "0c7d968d",
   "metadata": {},
   "outputs": [],
   "source": [
    "from sklearn.linear_model import LogisticRegression"
   ]
  },
  {
   "cell_type": "code",
   "execution_count": 181,
   "id": "e0e76b54",
   "metadata": {},
   "outputs": [],
   "source": [
    "log_model = LogisticRegression()"
   ]
  },
  {
   "cell_type": "code",
   "execution_count": 182,
   "id": "10991701",
   "metadata": {},
   "outputs": [
    {
     "data": {
      "text/html": [
       "<style>#sk-container-id-6 {color: black;background-color: white;}#sk-container-id-6 pre{padding: 0;}#sk-container-id-6 div.sk-toggleable {background-color: white;}#sk-container-id-6 label.sk-toggleable__label {cursor: pointer;display: block;width: 100%;margin-bottom: 0;padding: 0.3em;box-sizing: border-box;text-align: center;}#sk-container-id-6 label.sk-toggleable__label-arrow:before {content: \"▸\";float: left;margin-right: 0.25em;color: #696969;}#sk-container-id-6 label.sk-toggleable__label-arrow:hover:before {color: black;}#sk-container-id-6 div.sk-estimator:hover label.sk-toggleable__label-arrow:before {color: black;}#sk-container-id-6 div.sk-toggleable__content {max-height: 0;max-width: 0;overflow: hidden;text-align: left;background-color: #f0f8ff;}#sk-container-id-6 div.sk-toggleable__content pre {margin: 0.2em;color: black;border-radius: 0.25em;background-color: #f0f8ff;}#sk-container-id-6 input.sk-toggleable__control:checked~div.sk-toggleable__content {max-height: 200px;max-width: 100%;overflow: auto;}#sk-container-id-6 input.sk-toggleable__control:checked~label.sk-toggleable__label-arrow:before {content: \"▾\";}#sk-container-id-6 div.sk-estimator input.sk-toggleable__control:checked~label.sk-toggleable__label {background-color: #d4ebff;}#sk-container-id-6 div.sk-label input.sk-toggleable__control:checked~label.sk-toggleable__label {background-color: #d4ebff;}#sk-container-id-6 input.sk-hidden--visually {border: 0;clip: rect(1px 1px 1px 1px);clip: rect(1px, 1px, 1px, 1px);height: 1px;margin: -1px;overflow: hidden;padding: 0;position: absolute;width: 1px;}#sk-container-id-6 div.sk-estimator {font-family: monospace;background-color: #f0f8ff;border: 1px dotted black;border-radius: 0.25em;box-sizing: border-box;margin-bottom: 0.5em;}#sk-container-id-6 div.sk-estimator:hover {background-color: #d4ebff;}#sk-container-id-6 div.sk-parallel-item::after {content: \"\";width: 100%;border-bottom: 1px solid gray;flex-grow: 1;}#sk-container-id-6 div.sk-label:hover label.sk-toggleable__label {background-color: #d4ebff;}#sk-container-id-6 div.sk-serial::before {content: \"\";position: absolute;border-left: 1px solid gray;box-sizing: border-box;top: 0;bottom: 0;left: 50%;z-index: 0;}#sk-container-id-6 div.sk-serial {display: flex;flex-direction: column;align-items: center;background-color: white;padding-right: 0.2em;padding-left: 0.2em;position: relative;}#sk-container-id-6 div.sk-item {position: relative;z-index: 1;}#sk-container-id-6 div.sk-parallel {display: flex;align-items: stretch;justify-content: center;background-color: white;position: relative;}#sk-container-id-6 div.sk-item::before, #sk-container-id-6 div.sk-parallel-item::before {content: \"\";position: absolute;border-left: 1px solid gray;box-sizing: border-box;top: 0;bottom: 0;left: 50%;z-index: -1;}#sk-container-id-6 div.sk-parallel-item {display: flex;flex-direction: column;z-index: 1;position: relative;background-color: white;}#sk-container-id-6 div.sk-parallel-item:first-child::after {align-self: flex-end;width: 50%;}#sk-container-id-6 div.sk-parallel-item:last-child::after {align-self: flex-start;width: 50%;}#sk-container-id-6 div.sk-parallel-item:only-child::after {width: 0;}#sk-container-id-6 div.sk-dashed-wrapped {border: 1px dashed gray;margin: 0 0.4em 0.5em 0.4em;box-sizing: border-box;padding-bottom: 0.4em;background-color: white;}#sk-container-id-6 div.sk-label label {font-family: monospace;font-weight: bold;display: inline-block;line-height: 1.2em;}#sk-container-id-6 div.sk-label-container {text-align: center;}#sk-container-id-6 div.sk-container {/* jupyter's `normalize.less` sets `[hidden] { display: none; }` but bootstrap.min.css set `[hidden] { display: none !important; }` so we also need the `!important` here to be able to override the default hidden behavior on the sphinx rendered scikit-learn.org. See: https://github.com/scikit-learn/scikit-learn/issues/21755 */display: inline-block !important;position: relative;}#sk-container-id-6 div.sk-text-repr-fallback {display: none;}</style><div id=\"sk-container-id-6\" class=\"sk-top-container\"><div class=\"sk-text-repr-fallback\"><pre>LogisticRegression()</pre><b>In a Jupyter environment, please rerun this cell to show the HTML representation or trust the notebook. <br />On GitHub, the HTML representation is unable to render, please try loading this page with nbviewer.org.</b></div><div class=\"sk-container\" hidden><div class=\"sk-item\"><div class=\"sk-estimator sk-toggleable\"><input class=\"sk-toggleable__control sk-hidden--visually\" id=\"sk-estimator-id-8\" type=\"checkbox\" checked><label for=\"sk-estimator-id-8\" class=\"sk-toggleable__label sk-toggleable__label-arrow\">LogisticRegression</label><div class=\"sk-toggleable__content\"><pre>LogisticRegression()</pre></div></div></div></div></div>"
      ],
      "text/plain": [
       "LogisticRegression()"
      ]
     },
     "execution_count": 182,
     "metadata": {},
     "output_type": "execute_result"
    }
   ],
   "source": [
    "log_model.fit(X_train,y_train)"
   ]
  },
  {
   "cell_type": "code",
   "execution_count": 183,
   "id": "e7e945cd",
   "metadata": {},
   "outputs": [],
   "source": [
    "log_pred = log_model.predict(X_test)"
   ]
  },
  {
   "cell_type": "code",
   "execution_count": 184,
   "id": "29e293bd",
   "metadata": {},
   "outputs": [],
   "source": [
    "from sklearn.metrics import f1_score"
   ]
  },
  {
   "cell_type": "code",
   "execution_count": 185,
   "id": "09e4ba68",
   "metadata": {},
   "outputs": [
    {
     "data": {
      "text/plain": [
       "0.5330756013745704"
      ]
     },
     "execution_count": 185,
     "metadata": {},
     "output_type": "execute_result"
    }
   ],
   "source": [
    "f1_score(y_test,log_pred)"
   ]
  },
  {
   "cell_type": "code",
   "execution_count": 186,
   "id": "6f95bda3",
   "metadata": {},
   "outputs": [],
   "source": [
    "# For want of a superior performance, try a different model(DecisionTreeClassifier)"
   ]
  },
  {
   "cell_type": "code",
   "execution_count": 187,
   "id": "cebb9b49",
   "metadata": {},
   "outputs": [],
   "source": [
    "from sklearn.tree import DecisionTreeClassifier"
   ]
  },
  {
   "cell_type": "code",
   "execution_count": 188,
   "id": "ffbc0307",
   "metadata": {},
   "outputs": [],
   "source": [
    "decision_model = DecisionTreeClassifier()"
   ]
  },
  {
   "cell_type": "code",
   "execution_count": 189,
   "id": "10d87e93",
   "metadata": {},
   "outputs": [
    {
     "data": {
      "text/html": [
       "<style>#sk-container-id-7 {color: black;background-color: white;}#sk-container-id-7 pre{padding: 0;}#sk-container-id-7 div.sk-toggleable {background-color: white;}#sk-container-id-7 label.sk-toggleable__label {cursor: pointer;display: block;width: 100%;margin-bottom: 0;padding: 0.3em;box-sizing: border-box;text-align: center;}#sk-container-id-7 label.sk-toggleable__label-arrow:before {content: \"▸\";float: left;margin-right: 0.25em;color: #696969;}#sk-container-id-7 label.sk-toggleable__label-arrow:hover:before {color: black;}#sk-container-id-7 div.sk-estimator:hover label.sk-toggleable__label-arrow:before {color: black;}#sk-container-id-7 div.sk-toggleable__content {max-height: 0;max-width: 0;overflow: hidden;text-align: left;background-color: #f0f8ff;}#sk-container-id-7 div.sk-toggleable__content pre {margin: 0.2em;color: black;border-radius: 0.25em;background-color: #f0f8ff;}#sk-container-id-7 input.sk-toggleable__control:checked~div.sk-toggleable__content {max-height: 200px;max-width: 100%;overflow: auto;}#sk-container-id-7 input.sk-toggleable__control:checked~label.sk-toggleable__label-arrow:before {content: \"▾\";}#sk-container-id-7 div.sk-estimator input.sk-toggleable__control:checked~label.sk-toggleable__label {background-color: #d4ebff;}#sk-container-id-7 div.sk-label input.sk-toggleable__control:checked~label.sk-toggleable__label {background-color: #d4ebff;}#sk-container-id-7 input.sk-hidden--visually {border: 0;clip: rect(1px 1px 1px 1px);clip: rect(1px, 1px, 1px, 1px);height: 1px;margin: -1px;overflow: hidden;padding: 0;position: absolute;width: 1px;}#sk-container-id-7 div.sk-estimator {font-family: monospace;background-color: #f0f8ff;border: 1px dotted black;border-radius: 0.25em;box-sizing: border-box;margin-bottom: 0.5em;}#sk-container-id-7 div.sk-estimator:hover {background-color: #d4ebff;}#sk-container-id-7 div.sk-parallel-item::after {content: \"\";width: 100%;border-bottom: 1px solid gray;flex-grow: 1;}#sk-container-id-7 div.sk-label:hover label.sk-toggleable__label {background-color: #d4ebff;}#sk-container-id-7 div.sk-serial::before {content: \"\";position: absolute;border-left: 1px solid gray;box-sizing: border-box;top: 0;bottom: 0;left: 50%;z-index: 0;}#sk-container-id-7 div.sk-serial {display: flex;flex-direction: column;align-items: center;background-color: white;padding-right: 0.2em;padding-left: 0.2em;position: relative;}#sk-container-id-7 div.sk-item {position: relative;z-index: 1;}#sk-container-id-7 div.sk-parallel {display: flex;align-items: stretch;justify-content: center;background-color: white;position: relative;}#sk-container-id-7 div.sk-item::before, #sk-container-id-7 div.sk-parallel-item::before {content: \"\";position: absolute;border-left: 1px solid gray;box-sizing: border-box;top: 0;bottom: 0;left: 50%;z-index: -1;}#sk-container-id-7 div.sk-parallel-item {display: flex;flex-direction: column;z-index: 1;position: relative;background-color: white;}#sk-container-id-7 div.sk-parallel-item:first-child::after {align-self: flex-end;width: 50%;}#sk-container-id-7 div.sk-parallel-item:last-child::after {align-self: flex-start;width: 50%;}#sk-container-id-7 div.sk-parallel-item:only-child::after {width: 0;}#sk-container-id-7 div.sk-dashed-wrapped {border: 1px dashed gray;margin: 0 0.4em 0.5em 0.4em;box-sizing: border-box;padding-bottom: 0.4em;background-color: white;}#sk-container-id-7 div.sk-label label {font-family: monospace;font-weight: bold;display: inline-block;line-height: 1.2em;}#sk-container-id-7 div.sk-label-container {text-align: center;}#sk-container-id-7 div.sk-container {/* jupyter's `normalize.less` sets `[hidden] { display: none; }` but bootstrap.min.css set `[hidden] { display: none !important; }` so we also need the `!important` here to be able to override the default hidden behavior on the sphinx rendered scikit-learn.org. See: https://github.com/scikit-learn/scikit-learn/issues/21755 */display: inline-block !important;position: relative;}#sk-container-id-7 div.sk-text-repr-fallback {display: none;}</style><div id=\"sk-container-id-7\" class=\"sk-top-container\"><div class=\"sk-text-repr-fallback\"><pre>DecisionTreeClassifier()</pre><b>In a Jupyter environment, please rerun this cell to show the HTML representation or trust the notebook. <br />On GitHub, the HTML representation is unable to render, please try loading this page with nbviewer.org.</b></div><div class=\"sk-container\" hidden><div class=\"sk-item\"><div class=\"sk-estimator sk-toggleable\"><input class=\"sk-toggleable__control sk-hidden--visually\" id=\"sk-estimator-id-9\" type=\"checkbox\" checked><label for=\"sk-estimator-id-9\" class=\"sk-toggleable__label sk-toggleable__label-arrow\">DecisionTreeClassifier</label><div class=\"sk-toggleable__content\"><pre>DecisionTreeClassifier()</pre></div></div></div></div></div>"
      ],
      "text/plain": [
       "DecisionTreeClassifier()"
      ]
     },
     "execution_count": 189,
     "metadata": {},
     "output_type": "execute_result"
    }
   ],
   "source": [
    "decision_model.fit(X_train,y_train)"
   ]
  },
  {
   "cell_type": "code",
   "execution_count": 190,
   "id": "d6324823",
   "metadata": {},
   "outputs": [
    {
     "data": {
      "text/plain": [
       "1.0"
      ]
     },
     "execution_count": 190,
     "metadata": {},
     "output_type": "execute_result"
    }
   ],
   "source": [
    "from sklearn.metrics import accuracy_score,f1_score\n",
    "d_pred = decision_model.predict(X_train)\n",
    "f1_score(y_train,d_pred)"
   ]
  },
  {
   "cell_type": "code",
   "execution_count": 191,
   "id": "bd302b18",
   "metadata": {},
   "outputs": [
    {
     "data": {
      "text/plain": [
       "0.784711111111111"
      ]
     },
     "execution_count": 191,
     "metadata": {},
     "output_type": "execute_result"
    }
   ],
   "source": [
    "f1_score(y_test,decision_model.predict(X_test))"
   ]
  },
  {
   "cell_type": "code",
   "execution_count": 192,
   "id": "1c590ffb",
   "metadata": {},
   "outputs": [],
   "source": [
    "# Model clearly performs better on training dataset which is by no means a great performance(overfitting)"
   ]
  },
  {
   "cell_type": "code",
   "execution_count": 193,
   "id": "c75520de",
   "metadata": {},
   "outputs": [],
   "source": [
    "# Prune the model"
   ]
  },
  {
   "cell_type": "code",
   "execution_count": 194,
   "id": "ff001ceb",
   "metadata": {},
   "outputs": [],
   "source": [
    "d_tree_classifier = DecisionTreeClassifier(criterion=\"entropy\", max_depth=3)"
   ]
  },
  {
   "cell_type": "code",
   "execution_count": 195,
   "id": "5b6c28bd",
   "metadata": {},
   "outputs": [
    {
     "data": {
      "text/html": [
       "<style>#sk-container-id-8 {color: black;background-color: white;}#sk-container-id-8 pre{padding: 0;}#sk-container-id-8 div.sk-toggleable {background-color: white;}#sk-container-id-8 label.sk-toggleable__label {cursor: pointer;display: block;width: 100%;margin-bottom: 0;padding: 0.3em;box-sizing: border-box;text-align: center;}#sk-container-id-8 label.sk-toggleable__label-arrow:before {content: \"▸\";float: left;margin-right: 0.25em;color: #696969;}#sk-container-id-8 label.sk-toggleable__label-arrow:hover:before {color: black;}#sk-container-id-8 div.sk-estimator:hover label.sk-toggleable__label-arrow:before {color: black;}#sk-container-id-8 div.sk-toggleable__content {max-height: 0;max-width: 0;overflow: hidden;text-align: left;background-color: #f0f8ff;}#sk-container-id-8 div.sk-toggleable__content pre {margin: 0.2em;color: black;border-radius: 0.25em;background-color: #f0f8ff;}#sk-container-id-8 input.sk-toggleable__control:checked~div.sk-toggleable__content {max-height: 200px;max-width: 100%;overflow: auto;}#sk-container-id-8 input.sk-toggleable__control:checked~label.sk-toggleable__label-arrow:before {content: \"▾\";}#sk-container-id-8 div.sk-estimator input.sk-toggleable__control:checked~label.sk-toggleable__label {background-color: #d4ebff;}#sk-container-id-8 div.sk-label input.sk-toggleable__control:checked~label.sk-toggleable__label {background-color: #d4ebff;}#sk-container-id-8 input.sk-hidden--visually {border: 0;clip: rect(1px 1px 1px 1px);clip: rect(1px, 1px, 1px, 1px);height: 1px;margin: -1px;overflow: hidden;padding: 0;position: absolute;width: 1px;}#sk-container-id-8 div.sk-estimator {font-family: monospace;background-color: #f0f8ff;border: 1px dotted black;border-radius: 0.25em;box-sizing: border-box;margin-bottom: 0.5em;}#sk-container-id-8 div.sk-estimator:hover {background-color: #d4ebff;}#sk-container-id-8 div.sk-parallel-item::after {content: \"\";width: 100%;border-bottom: 1px solid gray;flex-grow: 1;}#sk-container-id-8 div.sk-label:hover label.sk-toggleable__label {background-color: #d4ebff;}#sk-container-id-8 div.sk-serial::before {content: \"\";position: absolute;border-left: 1px solid gray;box-sizing: border-box;top: 0;bottom: 0;left: 50%;z-index: 0;}#sk-container-id-8 div.sk-serial {display: flex;flex-direction: column;align-items: center;background-color: white;padding-right: 0.2em;padding-left: 0.2em;position: relative;}#sk-container-id-8 div.sk-item {position: relative;z-index: 1;}#sk-container-id-8 div.sk-parallel {display: flex;align-items: stretch;justify-content: center;background-color: white;position: relative;}#sk-container-id-8 div.sk-item::before, #sk-container-id-8 div.sk-parallel-item::before {content: \"\";position: absolute;border-left: 1px solid gray;box-sizing: border-box;top: 0;bottom: 0;left: 50%;z-index: -1;}#sk-container-id-8 div.sk-parallel-item {display: flex;flex-direction: column;z-index: 1;position: relative;background-color: white;}#sk-container-id-8 div.sk-parallel-item:first-child::after {align-self: flex-end;width: 50%;}#sk-container-id-8 div.sk-parallel-item:last-child::after {align-self: flex-start;width: 50%;}#sk-container-id-8 div.sk-parallel-item:only-child::after {width: 0;}#sk-container-id-8 div.sk-dashed-wrapped {border: 1px dashed gray;margin: 0 0.4em 0.5em 0.4em;box-sizing: border-box;padding-bottom: 0.4em;background-color: white;}#sk-container-id-8 div.sk-label label {font-family: monospace;font-weight: bold;display: inline-block;line-height: 1.2em;}#sk-container-id-8 div.sk-label-container {text-align: center;}#sk-container-id-8 div.sk-container {/* jupyter's `normalize.less` sets `[hidden] { display: none; }` but bootstrap.min.css set `[hidden] { display: none !important; }` so we also need the `!important` here to be able to override the default hidden behavior on the sphinx rendered scikit-learn.org. See: https://github.com/scikit-learn/scikit-learn/issues/21755 */display: inline-block !important;position: relative;}#sk-container-id-8 div.sk-text-repr-fallback {display: none;}</style><div id=\"sk-container-id-8\" class=\"sk-top-container\"><div class=\"sk-text-repr-fallback\"><pre>DecisionTreeClassifier(criterion=&#x27;entropy&#x27;, max_depth=3)</pre><b>In a Jupyter environment, please rerun this cell to show the HTML representation or trust the notebook. <br />On GitHub, the HTML representation is unable to render, please try loading this page with nbviewer.org.</b></div><div class=\"sk-container\" hidden><div class=\"sk-item\"><div class=\"sk-estimator sk-toggleable\"><input class=\"sk-toggleable__control sk-hidden--visually\" id=\"sk-estimator-id-10\" type=\"checkbox\" checked><label for=\"sk-estimator-id-10\" class=\"sk-toggleable__label sk-toggleable__label-arrow\">DecisionTreeClassifier</label><div class=\"sk-toggleable__content\"><pre>DecisionTreeClassifier(criterion=&#x27;entropy&#x27;, max_depth=3)</pre></div></div></div></div></div>"
      ],
      "text/plain": [
       "DecisionTreeClassifier(criterion='entropy', max_depth=3)"
      ]
     },
     "execution_count": 195,
     "metadata": {},
     "output_type": "execute_result"
    }
   ],
   "source": [
    "d_tree_classifier.fit(X_train,y_train)"
   ]
  },
  {
   "cell_type": "code",
   "execution_count": 196,
   "id": "28b10cef",
   "metadata": {},
   "outputs": [
    {
     "data": {
      "text/plain": [
       "0.7012987012987012"
      ]
     },
     "execution_count": 196,
     "metadata": {},
     "output_type": "execute_result"
    }
   ],
   "source": [
    "f1_score(y_train,d_tree_classifier.predict(X_train))"
   ]
  },
  {
   "cell_type": "code",
   "execution_count": 197,
   "id": "0b8f327c",
   "metadata": {},
   "outputs": [
    {
     "data": {
      "text/plain": [
       "0.7830051057622173"
      ]
     },
     "execution_count": 197,
     "metadata": {},
     "output_type": "execute_result"
    }
   ],
   "source": [
    "f1_score(y_test,d_tree_classifier.predict(X_test))"
   ]
  },
  {
   "cell_type": "code",
   "execution_count": 198,
   "id": "76a7cf85",
   "metadata": {},
   "outputs": [],
   "source": [
    "# This time, model awesomely performs better on the test dataset"
   ]
  },
  {
   "cell_type": "code",
   "execution_count": 199,
   "id": "7cac85b3",
   "metadata": {},
   "outputs": [],
   "source": [
    "from sklearn.model_selection import cross_val_score"
   ]
  },
  {
   "cell_type": "code",
   "execution_count": 200,
   "id": "e9775b33",
   "metadata": {},
   "outputs": [],
   "source": [
    "cv_score = cross_val_score(d_tree_classifier,X_train,y_train,cv=10,scoring='f1')"
   ]
  },
  {
   "cell_type": "code",
   "execution_count": 201,
   "id": "c5cb87c5",
   "metadata": {},
   "outputs": [
    {
     "data": {
      "text/plain": [
       "array([0.71683673, 0.73445378, 0.75376021, 0.73441503, 0.72896406,\n",
       "       0.72036349, 0.65412668, 0.66793458, 0.64875095, 0.66615385])"
      ]
     },
     "execution_count": 201,
     "metadata": {},
     "output_type": "execute_result"
    }
   ],
   "source": [
    "cv_score"
   ]
  },
  {
   "cell_type": "code",
   "execution_count": 202,
   "id": "5df4006b",
   "metadata": {},
   "outputs": [
    {
     "name": "stdout",
     "output_type": "stream",
     "text": [
      "Average training score:  0.7025759345482623\n",
      "Standard deviation training score:  0.036928183361017955\n"
     ]
    }
   ],
   "source": [
    "print('Average training score: ', cv_score.mean())\n",
    "print('Standard deviation training score: ', cv_score.std())"
   ]
  },
  {
   "cell_type": "code",
   "execution_count": 203,
   "id": "d6b74153",
   "metadata": {},
   "outputs": [
    {
     "name": "stdout",
     "output_type": "stream",
     "text": [
      "with depth value of:  2\n",
      " Average training score:  0.6561351585434314\n",
      " Standard deviation training score:  0.028803856812817573\n",
      "with depth value of:  3\n",
      " Average training score:  0.7012770568526714\n",
      " Standard deviation training score:  0.038152657742486565\n",
      "with depth value of:  4\n",
      " Average training score:  0.7037549978523708\n",
      " Standard deviation training score:  0.020575474201565795\n",
      "with depth value of:  5\n",
      " Average training score:  0.6844965534477139\n",
      " Standard deviation training score:  0.01063751291044296\n",
      "with depth value of:  6\n",
      " Average training score:  0.7163155163436177\n",
      " Standard deviation training score:  0.015528078574566484\n",
      "with depth value of:  7\n",
      " Average training score:  0.7458096765787242\n",
      " Standard deviation training score:  0.012478727436845862\n",
      "with depth value of:  8\n",
      " Average training score:  0.7604379266648269\n",
      " Standard deviation training score:  0.012046634468846053\n",
      "with depth value of:  9\n",
      " Average training score:  0.7749939088373345\n",
      " Standard deviation training score:  0.00967107854012996\n",
      "with depth value of:  10\n",
      " Average training score:  0.7859383072806262\n",
      " Standard deviation training score:  0.009446737825690407\n",
      "with depth value of:  11\n",
      " Average training score:  0.7893774084413546\n",
      " Standard deviation training score:  0.006635661048106034\n",
      "with depth value of:  12\n",
      " Average training score:  0.7851510105209321\n",
      " Standard deviation training score:  0.0055967993516714\n",
      "with depth value of:  13\n",
      " Average training score:  0.7842879392923148\n",
      " Standard deviation training score:  0.008043931263778836\n",
      "with depth value of:  14\n",
      " Average training score:  0.779110242623476\n",
      " Standard deviation training score:  0.010241275173275803\n",
      "with depth value of:  15\n",
      " Average training score:  0.7740395282289041\n",
      " Standard deviation training score:  0.011385879763188729\n",
      "with depth value of:  16\n",
      " Average training score:  0.7726308411057784\n",
      " Standard deviation training score:  0.01441757187673274\n",
      "with depth value of:  17\n",
      " Average training score:  0.7721739856276547\n",
      " Standard deviation training score:  0.01888990953794658\n",
      "with depth value of:  18\n",
      " Average training score:  0.769204343191241\n",
      " Standard deviation training score:  0.01770487372577214\n",
      "with depth value of:  19\n",
      " Average training score:  0.7665209502514609\n",
      " Standard deviation training score:  0.018939903459603835\n"
     ]
    }
   ],
   "source": [
    "for depth in range(2,20):\n",
    "    print('with depth value of: ', depth)\n",
    "    cv_score = cross_val_score(DecisionTreeClassifier(max_depth=depth, max_features=None),X_train,y_train,cv=10,scoring='f1')\n",
    "    print(' Average training score: ',cv_score.mean())\n",
    "    print(' Standard deviation training score: ',cv_score.std())"
   ]
  },
  {
   "cell_type": "code",
   "execution_count": 204,
   "id": "680fc2af",
   "metadata": {},
   "outputs": [],
   "source": [
    "improved_model_2 = DecisionTreeClassifier(max_depth=11)"
   ]
  },
  {
   "cell_type": "code",
   "execution_count": 205,
   "id": "a1345b6f",
   "metadata": {},
   "outputs": [
    {
     "data": {
      "text/html": [
       "<style>#sk-container-id-9 {color: black;background-color: white;}#sk-container-id-9 pre{padding: 0;}#sk-container-id-9 div.sk-toggleable {background-color: white;}#sk-container-id-9 label.sk-toggleable__label {cursor: pointer;display: block;width: 100%;margin-bottom: 0;padding: 0.3em;box-sizing: border-box;text-align: center;}#sk-container-id-9 label.sk-toggleable__label-arrow:before {content: \"▸\";float: left;margin-right: 0.25em;color: #696969;}#sk-container-id-9 label.sk-toggleable__label-arrow:hover:before {color: black;}#sk-container-id-9 div.sk-estimator:hover label.sk-toggleable__label-arrow:before {color: black;}#sk-container-id-9 div.sk-toggleable__content {max-height: 0;max-width: 0;overflow: hidden;text-align: left;background-color: #f0f8ff;}#sk-container-id-9 div.sk-toggleable__content pre {margin: 0.2em;color: black;border-radius: 0.25em;background-color: #f0f8ff;}#sk-container-id-9 input.sk-toggleable__control:checked~div.sk-toggleable__content {max-height: 200px;max-width: 100%;overflow: auto;}#sk-container-id-9 input.sk-toggleable__control:checked~label.sk-toggleable__label-arrow:before {content: \"▾\";}#sk-container-id-9 div.sk-estimator input.sk-toggleable__control:checked~label.sk-toggleable__label {background-color: #d4ebff;}#sk-container-id-9 div.sk-label input.sk-toggleable__control:checked~label.sk-toggleable__label {background-color: #d4ebff;}#sk-container-id-9 input.sk-hidden--visually {border: 0;clip: rect(1px 1px 1px 1px);clip: rect(1px, 1px, 1px, 1px);height: 1px;margin: -1px;overflow: hidden;padding: 0;position: absolute;width: 1px;}#sk-container-id-9 div.sk-estimator {font-family: monospace;background-color: #f0f8ff;border: 1px dotted black;border-radius: 0.25em;box-sizing: border-box;margin-bottom: 0.5em;}#sk-container-id-9 div.sk-estimator:hover {background-color: #d4ebff;}#sk-container-id-9 div.sk-parallel-item::after {content: \"\";width: 100%;border-bottom: 1px solid gray;flex-grow: 1;}#sk-container-id-9 div.sk-label:hover label.sk-toggleable__label {background-color: #d4ebff;}#sk-container-id-9 div.sk-serial::before {content: \"\";position: absolute;border-left: 1px solid gray;box-sizing: border-box;top: 0;bottom: 0;left: 50%;z-index: 0;}#sk-container-id-9 div.sk-serial {display: flex;flex-direction: column;align-items: center;background-color: white;padding-right: 0.2em;padding-left: 0.2em;position: relative;}#sk-container-id-9 div.sk-item {position: relative;z-index: 1;}#sk-container-id-9 div.sk-parallel {display: flex;align-items: stretch;justify-content: center;background-color: white;position: relative;}#sk-container-id-9 div.sk-item::before, #sk-container-id-9 div.sk-parallel-item::before {content: \"\";position: absolute;border-left: 1px solid gray;box-sizing: border-box;top: 0;bottom: 0;left: 50%;z-index: -1;}#sk-container-id-9 div.sk-parallel-item {display: flex;flex-direction: column;z-index: 1;position: relative;background-color: white;}#sk-container-id-9 div.sk-parallel-item:first-child::after {align-self: flex-end;width: 50%;}#sk-container-id-9 div.sk-parallel-item:last-child::after {align-self: flex-start;width: 50%;}#sk-container-id-9 div.sk-parallel-item:only-child::after {width: 0;}#sk-container-id-9 div.sk-dashed-wrapped {border: 1px dashed gray;margin: 0 0.4em 0.5em 0.4em;box-sizing: border-box;padding-bottom: 0.4em;background-color: white;}#sk-container-id-9 div.sk-label label {font-family: monospace;font-weight: bold;display: inline-block;line-height: 1.2em;}#sk-container-id-9 div.sk-label-container {text-align: center;}#sk-container-id-9 div.sk-container {/* jupyter's `normalize.less` sets `[hidden] { display: none; }` but bootstrap.min.css set `[hidden] { display: none !important; }` so we also need the `!important` here to be able to override the default hidden behavior on the sphinx rendered scikit-learn.org. See: https://github.com/scikit-learn/scikit-learn/issues/21755 */display: inline-block !important;position: relative;}#sk-container-id-9 div.sk-text-repr-fallback {display: none;}</style><div id=\"sk-container-id-9\" class=\"sk-top-container\"><div class=\"sk-text-repr-fallback\"><pre>DecisionTreeClassifier(max_depth=11)</pre><b>In a Jupyter environment, please rerun this cell to show the HTML representation or trust the notebook. <br />On GitHub, the HTML representation is unable to render, please try loading this page with nbviewer.org.</b></div><div class=\"sk-container\" hidden><div class=\"sk-item\"><div class=\"sk-estimator sk-toggleable\"><input class=\"sk-toggleable__control sk-hidden--visually\" id=\"sk-estimator-id-11\" type=\"checkbox\" checked><label for=\"sk-estimator-id-11\" class=\"sk-toggleable__label sk-toggleable__label-arrow\">DecisionTreeClassifier</label><div class=\"sk-toggleable__content\"><pre>DecisionTreeClassifier(max_depth=11)</pre></div></div></div></div></div>"
      ],
      "text/plain": [
       "DecisionTreeClassifier(max_depth=11)"
      ]
     },
     "execution_count": 205,
     "metadata": {},
     "output_type": "execute_result"
    }
   ],
   "source": [
    "improved_model_2.fit(X_train,y_train)"
   ]
  },
  {
   "cell_type": "code",
   "execution_count": 206,
   "id": "13087641",
   "metadata": {},
   "outputs": [
    {
     "name": "stdout",
     "output_type": "stream",
     "text": [
      "Training F1 score:  0.8645225795700716\n",
      "Testing F1 score:  0.8355354659248957\n"
     ]
    }
   ],
   "source": [
    "print('Training F1 score: ', f1_score(y_train,improved_model_2.predict(X_train)))\n",
    "print('Testing F1 score: ', f1_score(y_test,improved_model_2.predict(X_test)))"
   ]
  },
  {
   "cell_type": "code",
   "execution_count": 207,
   "id": "f2de4336",
   "metadata": {},
   "outputs": [],
   "source": [
    "from sklearn.model_selection import GridSearchCV"
   ]
  },
  {
   "cell_type": "code",
   "execution_count": 208,
   "id": "89593dde",
   "metadata": {},
   "outputs": [],
   "source": [
    "param_grid = {\n",
    "    'max_depth':[i for i in range(2,20)],\n",
    "    'criterion':['gini','entropy'],\n",
    "    'max_features':['auto','sqrt','log2',None]\n",
    "}"
   ]
  },
  {
   "cell_type": "code",
   "execution_count": 209,
   "id": "8a8087c2",
   "metadata": {},
   "outputs": [],
   "source": [
    "clf = GridSearchCV(DecisionTreeClassifier(),param_grid,cv=10,verbose=2,scoring='f1')"
   ]
  },
  {
   "cell_type": "code",
   "execution_count": 210,
   "id": "53122114",
   "metadata": {},
   "outputs": [
    {
     "name": "stdout",
     "output_type": "stream",
     "text": [
      "Fitting 10 folds for each of 144 candidates, totalling 1440 fits\n",
      "[CV] END .....criterion=gini, max_depth=2, max_features=auto; total time=   0.0s\n",
      "[CV] END .....criterion=gini, max_depth=2, max_features=auto; total time=   0.0s\n",
      "[CV] END .....criterion=gini, max_depth=2, max_features=auto; total time=   0.0s\n",
      "[CV] END .....criterion=gini, max_depth=2, max_features=auto; total time=   0.0s\n",
      "[CV] END .....criterion=gini, max_depth=2, max_features=auto; total time=   0.0s\n",
      "[CV] END .....criterion=gini, max_depth=2, max_features=auto; total time=   0.0s\n"
     ]
    },
    {
     "name": "stderr",
     "output_type": "stream",
     "text": [
      "C:\\Users\\user\\anaconda3\\lib\\site-packages\\sklearn\\tree\\_classes.py:269: FutureWarning: `max_features='auto'` has been deprecated in 1.1 and will be removed in 1.3. To keep the past behaviour, explicitly set `max_features='sqrt'`.\n",
      "  warnings.warn(\n",
      "C:\\Users\\user\\anaconda3\\lib\\site-packages\\sklearn\\tree\\_classes.py:269: FutureWarning: `max_features='auto'` has been deprecated in 1.1 and will be removed in 1.3. To keep the past behaviour, explicitly set `max_features='sqrt'`.\n",
      "  warnings.warn(\n",
      "C:\\Users\\user\\anaconda3\\lib\\site-packages\\sklearn\\tree\\_classes.py:269: FutureWarning: `max_features='auto'` has been deprecated in 1.1 and will be removed in 1.3. To keep the past behaviour, explicitly set `max_features='sqrt'`.\n",
      "  warnings.warn(\n",
      "C:\\Users\\user\\anaconda3\\lib\\site-packages\\sklearn\\tree\\_classes.py:269: FutureWarning: `max_features='auto'` has been deprecated in 1.1 and will be removed in 1.3. To keep the past behaviour, explicitly set `max_features='sqrt'`.\n",
      "  warnings.warn(\n",
      "C:\\Users\\user\\anaconda3\\lib\\site-packages\\sklearn\\tree\\_classes.py:269: FutureWarning: `max_features='auto'` has been deprecated in 1.1 and will be removed in 1.3. To keep the past behaviour, explicitly set `max_features='sqrt'`.\n",
      "  warnings.warn(\n",
      "C:\\Users\\user\\anaconda3\\lib\\site-packages\\sklearn\\tree\\_classes.py:269: FutureWarning: `max_features='auto'` has been deprecated in 1.1 and will be removed in 1.3. To keep the past behaviour, explicitly set `max_features='sqrt'`.\n",
      "  warnings.warn(\n",
      "C:\\Users\\user\\anaconda3\\lib\\site-packages\\sklearn\\tree\\_classes.py:269: FutureWarning: `max_features='auto'` has been deprecated in 1.1 and will be removed in 1.3. To keep the past behaviour, explicitly set `max_features='sqrt'`.\n",
      "  warnings.warn(\n"
     ]
    },
    {
     "name": "stdout",
     "output_type": "stream",
     "text": [
      "[CV] END .....criterion=gini, max_depth=2, max_features=auto; total time=   0.0s\n",
      "[CV] END .....criterion=gini, max_depth=2, max_features=auto; total time=   0.0s\n",
      "[CV] END .....criterion=gini, max_depth=2, max_features=auto; total time=   0.0s\n",
      "[CV] END .....criterion=gini, max_depth=2, max_features=auto; total time=   0.0s\n",
      "[CV] END .....criterion=gini, max_depth=2, max_features=sqrt; total time=   0.0s\n",
      "[CV] END .....criterion=gini, max_depth=2, max_features=sqrt; total time=   0.0s\n"
     ]
    },
    {
     "name": "stderr",
     "output_type": "stream",
     "text": [
      "C:\\Users\\user\\anaconda3\\lib\\site-packages\\sklearn\\tree\\_classes.py:269: FutureWarning: `max_features='auto'` has been deprecated in 1.1 and will be removed in 1.3. To keep the past behaviour, explicitly set `max_features='sqrt'`.\n",
      "  warnings.warn(\n",
      "C:\\Users\\user\\anaconda3\\lib\\site-packages\\sklearn\\tree\\_classes.py:269: FutureWarning: `max_features='auto'` has been deprecated in 1.1 and will be removed in 1.3. To keep the past behaviour, explicitly set `max_features='sqrt'`.\n",
      "  warnings.warn(\n",
      "C:\\Users\\user\\anaconda3\\lib\\site-packages\\sklearn\\tree\\_classes.py:269: FutureWarning: `max_features='auto'` has been deprecated in 1.1 and will be removed in 1.3. To keep the past behaviour, explicitly set `max_features='sqrt'`.\n",
      "  warnings.warn(\n"
     ]
    },
    {
     "name": "stdout",
     "output_type": "stream",
     "text": [
      "[CV] END .....criterion=gini, max_depth=2, max_features=sqrt; total time=   0.0s\n",
      "[CV] END .....criterion=gini, max_depth=2, max_features=sqrt; total time=   0.0s\n",
      "[CV] END .....criterion=gini, max_depth=2, max_features=sqrt; total time=   0.0s\n",
      "[CV] END .....criterion=gini, max_depth=2, max_features=sqrt; total time=   0.0s\n",
      "[CV] END .....criterion=gini, max_depth=2, max_features=sqrt; total time=   0.0s\n",
      "[CV] END .....criterion=gini, max_depth=2, max_features=sqrt; total time=   0.0s\n",
      "[CV] END .....criterion=gini, max_depth=2, max_features=sqrt; total time=   0.0s\n",
      "[CV] END .....criterion=gini, max_depth=2, max_features=sqrt; total time=   0.0s\n",
      "[CV] END .....criterion=gini, max_depth=2, max_features=log2; total time=   0.0s\n",
      "[CV] END .....criterion=gini, max_depth=2, max_features=log2; total time=   0.0s\n",
      "[CV] END .....criterion=gini, max_depth=2, max_features=log2; total time=   0.0s\n",
      "[CV] END .....criterion=gini, max_depth=2, max_features=log2; total time=   0.0s\n",
      "[CV] END .....criterion=gini, max_depth=2, max_features=log2; total time=   0.0s\n",
      "[CV] END .....criterion=gini, max_depth=2, max_features=log2; total time=   0.0s\n",
      "[CV] END .....criterion=gini, max_depth=2, max_features=log2; total time=   0.0s\n",
      "[CV] END .....criterion=gini, max_depth=2, max_features=log2; total time=   0.0s\n",
      "[CV] END .....criterion=gini, max_depth=2, max_features=log2; total time=   0.0s\n",
      "[CV] END .....criterion=gini, max_depth=2, max_features=log2; total time=   0.0s\n",
      "[CV] END .....criterion=gini, max_depth=2, max_features=None; total time=   0.0s\n",
      "[CV] END .....criterion=gini, max_depth=2, max_features=None; total time=   0.0s\n",
      "[CV] END .....criterion=gini, max_depth=2, max_features=None; total time=   0.0s\n",
      "[CV] END .....criterion=gini, max_depth=2, max_features=None; total time=   0.0s\n",
      "[CV] END .....criterion=gini, max_depth=2, max_features=None; total time=   0.0s\n",
      "[CV] END .....criterion=gini, max_depth=2, max_features=None; total time=   0.0s\n",
      "[CV] END .....criterion=gini, max_depth=2, max_features=None; total time=   0.0s\n",
      "[CV] END .....criterion=gini, max_depth=2, max_features=None; total time=   0.0s\n",
      "[CV] END .....criterion=gini, max_depth=2, max_features=None; total time=   0.0s\n",
      "[CV] END .....criterion=gini, max_depth=2, max_features=None; total time=   0.0s\n",
      "[CV] END .....criterion=gini, max_depth=3, max_features=auto; total time=   0.0s\n",
      "[CV] END .....criterion=gini, max_depth=3, max_features=auto; total time=   0.0s\n",
      "[CV] END .....criterion=gini, max_depth=3, max_features=auto; total time=   0.0s\n",
      "[CV] END .....criterion=gini, max_depth=3, max_features=auto; total time=   0.0s\n",
      "[CV] END .....criterion=gini, max_depth=3, max_features=auto; total time=   0.0s\n",
      "[CV] END .....criterion=gini, max_depth=3, max_features=auto; total time=   0.0s\n"
     ]
    },
    {
     "name": "stderr",
     "output_type": "stream",
     "text": [
      "C:\\Users\\user\\anaconda3\\lib\\site-packages\\sklearn\\tree\\_classes.py:269: FutureWarning: `max_features='auto'` has been deprecated in 1.1 and will be removed in 1.3. To keep the past behaviour, explicitly set `max_features='sqrt'`.\n",
      "  warnings.warn(\n",
      "C:\\Users\\user\\anaconda3\\lib\\site-packages\\sklearn\\tree\\_classes.py:269: FutureWarning: `max_features='auto'` has been deprecated in 1.1 and will be removed in 1.3. To keep the past behaviour, explicitly set `max_features='sqrt'`.\n",
      "  warnings.warn(\n",
      "C:\\Users\\user\\anaconda3\\lib\\site-packages\\sklearn\\tree\\_classes.py:269: FutureWarning: `max_features='auto'` has been deprecated in 1.1 and will be removed in 1.3. To keep the past behaviour, explicitly set `max_features='sqrt'`.\n",
      "  warnings.warn(\n",
      "C:\\Users\\user\\anaconda3\\lib\\site-packages\\sklearn\\tree\\_classes.py:269: FutureWarning: `max_features='auto'` has been deprecated in 1.1 and will be removed in 1.3. To keep the past behaviour, explicitly set `max_features='sqrt'`.\n",
      "  warnings.warn(\n",
      "C:\\Users\\user\\anaconda3\\lib\\site-packages\\sklearn\\tree\\_classes.py:269: FutureWarning: `max_features='auto'` has been deprecated in 1.1 and will be removed in 1.3. To keep the past behaviour, explicitly set `max_features='sqrt'`.\n",
      "  warnings.warn(\n",
      "C:\\Users\\user\\anaconda3\\lib\\site-packages\\sklearn\\tree\\_classes.py:269: FutureWarning: `max_features='auto'` has been deprecated in 1.1 and will be removed in 1.3. To keep the past behaviour, explicitly set `max_features='sqrt'`.\n",
      "  warnings.warn(\n"
     ]
    },
    {
     "name": "stdout",
     "output_type": "stream",
     "text": [
      "[CV] END .....criterion=gini, max_depth=3, max_features=auto; total time=   0.0s\n",
      "[CV] END .....criterion=gini, max_depth=3, max_features=auto; total time=   0.0s\n",
      "[CV] END .....criterion=gini, max_depth=3, max_features=auto; total time=   0.0s\n",
      "[CV] END .....criterion=gini, max_depth=3, max_features=auto; total time=   0.0s\n",
      "[CV] END .....criterion=gini, max_depth=3, max_features=sqrt; total time=   0.0s\n",
      "[CV] END .....criterion=gini, max_depth=3, max_features=sqrt; total time=   0.0s\n"
     ]
    },
    {
     "name": "stderr",
     "output_type": "stream",
     "text": [
      "C:\\Users\\user\\anaconda3\\lib\\site-packages\\sklearn\\tree\\_classes.py:269: FutureWarning: `max_features='auto'` has been deprecated in 1.1 and will be removed in 1.3. To keep the past behaviour, explicitly set `max_features='sqrt'`.\n",
      "  warnings.warn(\n",
      "C:\\Users\\user\\anaconda3\\lib\\site-packages\\sklearn\\tree\\_classes.py:269: FutureWarning: `max_features='auto'` has been deprecated in 1.1 and will be removed in 1.3. To keep the past behaviour, explicitly set `max_features='sqrt'`.\n",
      "  warnings.warn(\n",
      "C:\\Users\\user\\anaconda3\\lib\\site-packages\\sklearn\\tree\\_classes.py:269: FutureWarning: `max_features='auto'` has been deprecated in 1.1 and will be removed in 1.3. To keep the past behaviour, explicitly set `max_features='sqrt'`.\n",
      "  warnings.warn(\n",
      "C:\\Users\\user\\anaconda3\\lib\\site-packages\\sklearn\\tree\\_classes.py:269: FutureWarning: `max_features='auto'` has been deprecated in 1.1 and will be removed in 1.3. To keep the past behaviour, explicitly set `max_features='sqrt'`.\n",
      "  warnings.warn(\n"
     ]
    },
    {
     "name": "stdout",
     "output_type": "stream",
     "text": [
      "[CV] END .....criterion=gini, max_depth=3, max_features=sqrt; total time=   0.0s\n",
      "[CV] END .....criterion=gini, max_depth=3, max_features=sqrt; total time=   0.0s\n",
      "[CV] END .....criterion=gini, max_depth=3, max_features=sqrt; total time=   0.0s\n",
      "[CV] END .....criterion=gini, max_depth=3, max_features=sqrt; total time=   0.0s\n",
      "[CV] END .....criterion=gini, max_depth=3, max_features=sqrt; total time=   0.0s\n",
      "[CV] END .....criterion=gini, max_depth=3, max_features=sqrt; total time=   0.0s\n",
      "[CV] END .....criterion=gini, max_depth=3, max_features=sqrt; total time=   0.0s\n",
      "[CV] END .....criterion=gini, max_depth=3, max_features=sqrt; total time=   0.0s\n",
      "[CV] END .....criterion=gini, max_depth=3, max_features=log2; total time=   0.0s\n",
      "[CV] END .....criterion=gini, max_depth=3, max_features=log2; total time=   0.0s\n",
      "[CV] END .....criterion=gini, max_depth=3, max_features=log2; total time=   0.0s\n",
      "[CV] END .....criterion=gini, max_depth=3, max_features=log2; total time=   0.0s\n",
      "[CV] END .....criterion=gini, max_depth=3, max_features=log2; total time=   0.0s\n",
      "[CV] END .....criterion=gini, max_depth=3, max_features=log2; total time=   0.0s\n",
      "[CV] END .....criterion=gini, max_depth=3, max_features=log2; total time=   0.0s\n",
      "[CV] END .....criterion=gini, max_depth=3, max_features=log2; total time=   0.0s\n",
      "[CV] END .....criterion=gini, max_depth=3, max_features=log2; total time=   0.0s\n",
      "[CV] END .....criterion=gini, max_depth=3, max_features=log2; total time=   0.0s\n",
      "[CV] END .....criterion=gini, max_depth=3, max_features=None; total time=   0.0s\n",
      "[CV] END .....criterion=gini, max_depth=3, max_features=None; total time=   0.0s\n",
      "[CV] END .....criterion=gini, max_depth=3, max_features=None; total time=   0.0s\n",
      "[CV] END .....criterion=gini, max_depth=3, max_features=None; total time=   0.0s\n",
      "[CV] END .....criterion=gini, max_depth=3, max_features=None; total time=   0.0s\n",
      "[CV] END .....criterion=gini, max_depth=3, max_features=None; total time=   0.0s\n",
      "[CV] END .....criterion=gini, max_depth=3, max_features=None; total time=   0.0s\n",
      "[CV] END .....criterion=gini, max_depth=3, max_features=None; total time=   0.0s\n",
      "[CV] END .....criterion=gini, max_depth=3, max_features=None; total time=   0.0s\n",
      "[CV] END .....criterion=gini, max_depth=3, max_features=None; total time=   0.0s\n",
      "[CV] END .....criterion=gini, max_depth=4, max_features=auto; total time=   0.0s\n",
      "[CV] END .....criterion=gini, max_depth=4, max_features=auto; total time=   0.0s\n",
      "[CV] END .....criterion=gini, max_depth=4, max_features=auto; total time=   0.0s\n",
      "[CV] END .....criterion=gini, max_depth=4, max_features=auto; total time=   0.0s\n",
      "[CV] END .....criterion=gini, max_depth=4, max_features=auto; total time=   0.0s\n",
      "[CV] END .....criterion=gini, max_depth=4, max_features=auto; total time=   0.0s\n"
     ]
    },
    {
     "name": "stderr",
     "output_type": "stream",
     "text": [
      "C:\\Users\\user\\anaconda3\\lib\\site-packages\\sklearn\\tree\\_classes.py:269: FutureWarning: `max_features='auto'` has been deprecated in 1.1 and will be removed in 1.3. To keep the past behaviour, explicitly set `max_features='sqrt'`.\n",
      "  warnings.warn(\n",
      "C:\\Users\\user\\anaconda3\\lib\\site-packages\\sklearn\\tree\\_classes.py:269: FutureWarning: `max_features='auto'` has been deprecated in 1.1 and will be removed in 1.3. To keep the past behaviour, explicitly set `max_features='sqrt'`.\n",
      "  warnings.warn(\n",
      "C:\\Users\\user\\anaconda3\\lib\\site-packages\\sklearn\\tree\\_classes.py:269: FutureWarning: `max_features='auto'` has been deprecated in 1.1 and will be removed in 1.3. To keep the past behaviour, explicitly set `max_features='sqrt'`.\n",
      "  warnings.warn(\n",
      "C:\\Users\\user\\anaconda3\\lib\\site-packages\\sklearn\\tree\\_classes.py:269: FutureWarning: `max_features='auto'` has been deprecated in 1.1 and will be removed in 1.3. To keep the past behaviour, explicitly set `max_features='sqrt'`.\n",
      "  warnings.warn(\n",
      "C:\\Users\\user\\anaconda3\\lib\\site-packages\\sklearn\\tree\\_classes.py:269: FutureWarning: `max_features='auto'` has been deprecated in 1.1 and will be removed in 1.3. To keep the past behaviour, explicitly set `max_features='sqrt'`.\n",
      "  warnings.warn(\n",
      "C:\\Users\\user\\anaconda3\\lib\\site-packages\\sklearn\\tree\\_classes.py:269: FutureWarning: `max_features='auto'` has been deprecated in 1.1 and will be removed in 1.3. To keep the past behaviour, explicitly set `max_features='sqrt'`.\n",
      "  warnings.warn(\n",
      "C:\\Users\\user\\anaconda3\\lib\\site-packages\\sklearn\\tree\\_classes.py:269: FutureWarning: `max_features='auto'` has been deprecated in 1.1 and will be removed in 1.3. To keep the past behaviour, explicitly set `max_features='sqrt'`.\n",
      "  warnings.warn(\n"
     ]
    },
    {
     "name": "stdout",
     "output_type": "stream",
     "text": [
      "[CV] END .....criterion=gini, max_depth=4, max_features=auto; total time=   0.0s\n",
      "[CV] END .....criterion=gini, max_depth=4, max_features=auto; total time=   0.0s\n",
      "[CV] END .....criterion=gini, max_depth=4, max_features=auto; total time=   0.0s\n",
      "[CV] END .....criterion=gini, max_depth=4, max_features=auto; total time=   0.0s\n",
      "[CV] END .....criterion=gini, max_depth=4, max_features=sqrt; total time=   0.0s\n"
     ]
    },
    {
     "name": "stderr",
     "output_type": "stream",
     "text": [
      "C:\\Users\\user\\anaconda3\\lib\\site-packages\\sklearn\\tree\\_classes.py:269: FutureWarning: `max_features='auto'` has been deprecated in 1.1 and will be removed in 1.3. To keep the past behaviour, explicitly set `max_features='sqrt'`.\n",
      "  warnings.warn(\n",
      "C:\\Users\\user\\anaconda3\\lib\\site-packages\\sklearn\\tree\\_classes.py:269: FutureWarning: `max_features='auto'` has been deprecated in 1.1 and will be removed in 1.3. To keep the past behaviour, explicitly set `max_features='sqrt'`.\n",
      "  warnings.warn(\n",
      "C:\\Users\\user\\anaconda3\\lib\\site-packages\\sklearn\\tree\\_classes.py:269: FutureWarning: `max_features='auto'` has been deprecated in 1.1 and will be removed in 1.3. To keep the past behaviour, explicitly set `max_features='sqrt'`.\n",
      "  warnings.warn(\n"
     ]
    },
    {
     "name": "stdout",
     "output_type": "stream",
     "text": [
      "[CV] END .....criterion=gini, max_depth=4, max_features=sqrt; total time=   0.0s\n",
      "[CV] END .....criterion=gini, max_depth=4, max_features=sqrt; total time=   0.0s\n",
      "[CV] END .....criterion=gini, max_depth=4, max_features=sqrt; total time=   0.0s\n",
      "[CV] END .....criterion=gini, max_depth=4, max_features=sqrt; total time=   0.0s\n",
      "[CV] END .....criterion=gini, max_depth=4, max_features=sqrt; total time=   0.0s\n",
      "[CV] END .....criterion=gini, max_depth=4, max_features=sqrt; total time=   0.0s\n",
      "[CV] END .....criterion=gini, max_depth=4, max_features=sqrt; total time=   0.0s\n",
      "[CV] END .....criterion=gini, max_depth=4, max_features=sqrt; total time=   0.0s\n",
      "[CV] END .....criterion=gini, max_depth=4, max_features=sqrt; total time=   0.0s\n",
      "[CV] END .....criterion=gini, max_depth=4, max_features=log2; total time=   0.0s\n",
      "[CV] END .....criterion=gini, max_depth=4, max_features=log2; total time=   0.0s\n",
      "[CV] END .....criterion=gini, max_depth=4, max_features=log2; total time=   0.0s\n",
      "[CV] END .....criterion=gini, max_depth=4, max_features=log2; total time=   0.0s\n",
      "[CV] END .....criterion=gini, max_depth=4, max_features=log2; total time=   0.0s\n",
      "[CV] END .....criterion=gini, max_depth=4, max_features=log2; total time=   0.0s\n",
      "[CV] END .....criterion=gini, max_depth=4, max_features=log2; total time=   0.0s\n",
      "[CV] END .....criterion=gini, max_depth=4, max_features=log2; total time=   0.0s\n",
      "[CV] END .....criterion=gini, max_depth=4, max_features=log2; total time=   0.0s\n",
      "[CV] END .....criterion=gini, max_depth=4, max_features=log2; total time=   0.0s\n",
      "[CV] END .....criterion=gini, max_depth=4, max_features=None; total time=   0.0s\n",
      "[CV] END .....criterion=gini, max_depth=4, max_features=None; total time=   0.0s\n",
      "[CV] END .....criterion=gini, max_depth=4, max_features=None; total time=   0.0s\n",
      "[CV] END .....criterion=gini, max_depth=4, max_features=None; total time=   0.0s\n",
      "[CV] END .....criterion=gini, max_depth=4, max_features=None; total time=   0.0s\n",
      "[CV] END .....criterion=gini, max_depth=4, max_features=None; total time=   0.0s\n",
      "[CV] END .....criterion=gini, max_depth=4, max_features=None; total time=   0.0s\n",
      "[CV] END .....criterion=gini, max_depth=4, max_features=None; total time=   0.0s\n",
      "[CV] END .....criterion=gini, max_depth=4, max_features=None; total time=   0.0s\n",
      "[CV] END .....criterion=gini, max_depth=4, max_features=None; total time=   0.0s\n",
      "[CV] END .....criterion=gini, max_depth=5, max_features=auto; total time=   0.0s\n",
      "[CV] END .....criterion=gini, max_depth=5, max_features=auto; total time=   0.0s\n",
      "[CV] END .....criterion=gini, max_depth=5, max_features=auto; total time=   0.0s\n"
     ]
    },
    {
     "name": "stderr",
     "output_type": "stream",
     "text": [
      "C:\\Users\\user\\anaconda3\\lib\\site-packages\\sklearn\\tree\\_classes.py:269: FutureWarning: `max_features='auto'` has been deprecated in 1.1 and will be removed in 1.3. To keep the past behaviour, explicitly set `max_features='sqrt'`.\n",
      "  warnings.warn(\n",
      "C:\\Users\\user\\anaconda3\\lib\\site-packages\\sklearn\\tree\\_classes.py:269: FutureWarning: `max_features='auto'` has been deprecated in 1.1 and will be removed in 1.3. To keep the past behaviour, explicitly set `max_features='sqrt'`.\n",
      "  warnings.warn(\n",
      "C:\\Users\\user\\anaconda3\\lib\\site-packages\\sklearn\\tree\\_classes.py:269: FutureWarning: `max_features='auto'` has been deprecated in 1.1 and will be removed in 1.3. To keep the past behaviour, explicitly set `max_features='sqrt'`.\n",
      "  warnings.warn(\n",
      "C:\\Users\\user\\anaconda3\\lib\\site-packages\\sklearn\\tree\\_classes.py:269: FutureWarning: `max_features='auto'` has been deprecated in 1.1 and will be removed in 1.3. To keep the past behaviour, explicitly set `max_features='sqrt'`.\n",
      "  warnings.warn(\n",
      "C:\\Users\\user\\anaconda3\\lib\\site-packages\\sklearn\\tree\\_classes.py:269: FutureWarning: `max_features='auto'` has been deprecated in 1.1 and will be removed in 1.3. To keep the past behaviour, explicitly set `max_features='sqrt'`.\n",
      "  warnings.warn(\n",
      "C:\\Users\\user\\anaconda3\\lib\\site-packages\\sklearn\\tree\\_classes.py:269: FutureWarning: `max_features='auto'` has been deprecated in 1.1 and will be removed in 1.3. To keep the past behaviour, explicitly set `max_features='sqrt'`.\n",
      "  warnings.warn(\n"
     ]
    },
    {
     "name": "stdout",
     "output_type": "stream",
     "text": [
      "[CV] END .....criterion=gini, max_depth=5, max_features=auto; total time=   0.0s\n",
      "[CV] END .....criterion=gini, max_depth=5, max_features=auto; total time=   0.0s\n",
      "[CV] END .....criterion=gini, max_depth=5, max_features=auto; total time=   0.0s\n",
      "[CV] END .....criterion=gini, max_depth=5, max_features=auto; total time=   0.0s\n",
      "[CV] END .....criterion=gini, max_depth=5, max_features=auto; total time=   0.0s\n",
      "[CV] END .....criterion=gini, max_depth=5, max_features=auto; total time=   0.0s\n"
     ]
    },
    {
     "name": "stderr",
     "output_type": "stream",
     "text": [
      "C:\\Users\\user\\anaconda3\\lib\\site-packages\\sklearn\\tree\\_classes.py:269: FutureWarning: `max_features='auto'` has been deprecated in 1.1 and will be removed in 1.3. To keep the past behaviour, explicitly set `max_features='sqrt'`.\n",
      "  warnings.warn(\n",
      "C:\\Users\\user\\anaconda3\\lib\\site-packages\\sklearn\\tree\\_classes.py:269: FutureWarning: `max_features='auto'` has been deprecated in 1.1 and will be removed in 1.3. To keep the past behaviour, explicitly set `max_features='sqrt'`.\n",
      "  warnings.warn(\n",
      "C:\\Users\\user\\anaconda3\\lib\\site-packages\\sklearn\\tree\\_classes.py:269: FutureWarning: `max_features='auto'` has been deprecated in 1.1 and will be removed in 1.3. To keep the past behaviour, explicitly set `max_features='sqrt'`.\n",
      "  warnings.warn(\n",
      "C:\\Users\\user\\anaconda3\\lib\\site-packages\\sklearn\\tree\\_classes.py:269: FutureWarning: `max_features='auto'` has been deprecated in 1.1 and will be removed in 1.3. To keep the past behaviour, explicitly set `max_features='sqrt'`.\n",
      "  warnings.warn(\n"
     ]
    },
    {
     "name": "stdout",
     "output_type": "stream",
     "text": [
      "[CV] END .....criterion=gini, max_depth=5, max_features=auto; total time=   0.0s\n",
      "[CV] END .....criterion=gini, max_depth=5, max_features=sqrt; total time=   0.0s\n",
      "[CV] END .....criterion=gini, max_depth=5, max_features=sqrt; total time=   0.0s\n",
      "[CV] END .....criterion=gini, max_depth=5, max_features=sqrt; total time=   0.0s\n",
      "[CV] END .....criterion=gini, max_depth=5, max_features=sqrt; total time=   0.0s\n",
      "[CV] END .....criterion=gini, max_depth=5, max_features=sqrt; total time=   0.0s\n",
      "[CV] END .....criterion=gini, max_depth=5, max_features=sqrt; total time=   0.0s\n",
      "[CV] END .....criterion=gini, max_depth=5, max_features=sqrt; total time=   0.0s\n",
      "[CV] END .....criterion=gini, max_depth=5, max_features=sqrt; total time=   0.0s\n",
      "[CV] END .....criterion=gini, max_depth=5, max_features=sqrt; total time=   0.0s\n",
      "[CV] END .....criterion=gini, max_depth=5, max_features=sqrt; total time=   0.0s\n",
      "[CV] END .....criterion=gini, max_depth=5, max_features=log2; total time=   0.0s\n",
      "[CV] END .....criterion=gini, max_depth=5, max_features=log2; total time=   0.0s\n",
      "[CV] END .....criterion=gini, max_depth=5, max_features=log2; total time=   0.0s\n",
      "[CV] END .....criterion=gini, max_depth=5, max_features=log2; total time=   0.0s\n",
      "[CV] END .....criterion=gini, max_depth=5, max_features=log2; total time=   0.0s\n",
      "[CV] END .....criterion=gini, max_depth=5, max_features=log2; total time=   0.0s\n",
      "[CV] END .....criterion=gini, max_depth=5, max_features=log2; total time=   0.0s\n",
      "[CV] END .....criterion=gini, max_depth=5, max_features=log2; total time=   0.0s\n",
      "[CV] END .....criterion=gini, max_depth=5, max_features=log2; total time=   0.0s\n",
      "[CV] END .....criterion=gini, max_depth=5, max_features=log2; total time=   0.0s\n",
      "[CV] END .....criterion=gini, max_depth=5, max_features=None; total time=   0.0s\n",
      "[CV] END .....criterion=gini, max_depth=5, max_features=None; total time=   0.0s\n",
      "[CV] END .....criterion=gini, max_depth=5, max_features=None; total time=   0.0s\n",
      "[CV] END .....criterion=gini, max_depth=5, max_features=None; total time=   0.0s\n",
      "[CV] END .....criterion=gini, max_depth=5, max_features=None; total time=   0.0s\n",
      "[CV] END .....criterion=gini, max_depth=5, max_features=None; total time=   0.0s\n",
      "[CV] END .....criterion=gini, max_depth=5, max_features=None; total time=   0.0s\n",
      "[CV] END .....criterion=gini, max_depth=5, max_features=None; total time=   0.0s\n",
      "[CV] END .....criterion=gini, max_depth=5, max_features=None; total time=   0.0s\n",
      "[CV] END .....criterion=gini, max_depth=5, max_features=None; total time=   0.0s\n"
     ]
    },
    {
     "name": "stderr",
     "output_type": "stream",
     "text": [
      "C:\\Users\\user\\anaconda3\\lib\\site-packages\\sklearn\\tree\\_classes.py:269: FutureWarning: `max_features='auto'` has been deprecated in 1.1 and will be removed in 1.3. To keep the past behaviour, explicitly set `max_features='sqrt'`.\n",
      "  warnings.warn(\n",
      "C:\\Users\\user\\anaconda3\\lib\\site-packages\\sklearn\\tree\\_classes.py:269: FutureWarning: `max_features='auto'` has been deprecated in 1.1 and will be removed in 1.3. To keep the past behaviour, explicitly set `max_features='sqrt'`.\n",
      "  warnings.warn(\n",
      "C:\\Users\\user\\anaconda3\\lib\\site-packages\\sklearn\\tree\\_classes.py:269: FutureWarning: `max_features='auto'` has been deprecated in 1.1 and will be removed in 1.3. To keep the past behaviour, explicitly set `max_features='sqrt'`.\n",
      "  warnings.warn(\n",
      "C:\\Users\\user\\anaconda3\\lib\\site-packages\\sklearn\\tree\\_classes.py:269: FutureWarning: `max_features='auto'` has been deprecated in 1.1 and will be removed in 1.3. To keep the past behaviour, explicitly set `max_features='sqrt'`.\n",
      "  warnings.warn(\n",
      "C:\\Users\\user\\anaconda3\\lib\\site-packages\\sklearn\\tree\\_classes.py:269: FutureWarning: `max_features='auto'` has been deprecated in 1.1 and will be removed in 1.3. To keep the past behaviour, explicitly set `max_features='sqrt'`.\n",
      "  warnings.warn(\n"
     ]
    },
    {
     "name": "stdout",
     "output_type": "stream",
     "text": [
      "[CV] END .....criterion=gini, max_depth=6, max_features=auto; total time=   0.0s\n",
      "[CV] END .....criterion=gini, max_depth=6, max_features=auto; total time=   0.0s\n",
      "[CV] END .....criterion=gini, max_depth=6, max_features=auto; total time=   0.0s\n",
      "[CV] END .....criterion=gini, max_depth=6, max_features=auto; total time=   0.0s\n",
      "[CV] END .....criterion=gini, max_depth=6, max_features=auto; total time=   0.0s\n",
      "[CV] END .....criterion=gini, max_depth=6, max_features=auto; total time=   0.0s\n"
     ]
    },
    {
     "name": "stderr",
     "output_type": "stream",
     "text": [
      "C:\\Users\\user\\anaconda3\\lib\\site-packages\\sklearn\\tree\\_classes.py:269: FutureWarning: `max_features='auto'` has been deprecated in 1.1 and will be removed in 1.3. To keep the past behaviour, explicitly set `max_features='sqrt'`.\n",
      "  warnings.warn(\n",
      "C:\\Users\\user\\anaconda3\\lib\\site-packages\\sklearn\\tree\\_classes.py:269: FutureWarning: `max_features='auto'` has been deprecated in 1.1 and will be removed in 1.3. To keep the past behaviour, explicitly set `max_features='sqrt'`.\n",
      "  warnings.warn(\n",
      "C:\\Users\\user\\anaconda3\\lib\\site-packages\\sklearn\\tree\\_classes.py:269: FutureWarning: `max_features='auto'` has been deprecated in 1.1 and will be removed in 1.3. To keep the past behaviour, explicitly set `max_features='sqrt'`.\n",
      "  warnings.warn(\n",
      "C:\\Users\\user\\anaconda3\\lib\\site-packages\\sklearn\\tree\\_classes.py:269: FutureWarning: `max_features='auto'` has been deprecated in 1.1 and will be removed in 1.3. To keep the past behaviour, explicitly set `max_features='sqrt'`.\n",
      "  warnings.warn(\n",
      "C:\\Users\\user\\anaconda3\\lib\\site-packages\\sklearn\\tree\\_classes.py:269: FutureWarning: `max_features='auto'` has been deprecated in 1.1 and will be removed in 1.3. To keep the past behaviour, explicitly set `max_features='sqrt'`.\n",
      "  warnings.warn(\n"
     ]
    },
    {
     "name": "stdout",
     "output_type": "stream",
     "text": [
      "[CV] END .....criterion=gini, max_depth=6, max_features=auto; total time=   0.0s\n",
      "[CV] END .....criterion=gini, max_depth=6, max_features=auto; total time=   0.0s\n",
      "[CV] END .....criterion=gini, max_depth=6, max_features=auto; total time=   0.0s\n",
      "[CV] END .....criterion=gini, max_depth=6, max_features=auto; total time=   0.0s\n",
      "[CV] END .....criterion=gini, max_depth=6, max_features=sqrt; total time=   0.0s\n",
      "[CV] END .....criterion=gini, max_depth=6, max_features=sqrt; total time=   0.0s\n",
      "[CV] END .....criterion=gini, max_depth=6, max_features=sqrt; total time=   0.0s\n",
      "[CV] END .....criterion=gini, max_depth=6, max_features=sqrt; total time=   0.0s\n",
      "[CV] END .....criterion=gini, max_depth=6, max_features=sqrt; total time=   0.0s\n",
      "[CV] END .....criterion=gini, max_depth=6, max_features=sqrt; total time=   0.0s\n",
      "[CV] END .....criterion=gini, max_depth=6, max_features=sqrt; total time=   0.0s\n",
      "[CV] END .....criterion=gini, max_depth=6, max_features=sqrt; total time=   0.0s\n",
      "[CV] END .....criterion=gini, max_depth=6, max_features=sqrt; total time=   0.0s\n",
      "[CV] END .....criterion=gini, max_depth=6, max_features=sqrt; total time=   0.0s\n",
      "[CV] END .....criterion=gini, max_depth=6, max_features=log2; total time=   0.0s\n",
      "[CV] END .....criterion=gini, max_depth=6, max_features=log2; total time=   0.0s\n",
      "[CV] END .....criterion=gini, max_depth=6, max_features=log2; total time=   0.0s\n",
      "[CV] END .....criterion=gini, max_depth=6, max_features=log2; total time=   0.0s\n",
      "[CV] END .....criterion=gini, max_depth=6, max_features=log2; total time=   0.0s\n",
      "[CV] END .....criterion=gini, max_depth=6, max_features=log2; total time=   0.0s\n",
      "[CV] END .....criterion=gini, max_depth=6, max_features=log2; total time=   0.0s\n",
      "[CV] END .....criterion=gini, max_depth=6, max_features=log2; total time=   0.0s\n",
      "[CV] END .....criterion=gini, max_depth=6, max_features=log2; total time=   0.0s\n",
      "[CV] END .....criterion=gini, max_depth=6, max_features=log2; total time=   0.0s\n",
      "[CV] END .....criterion=gini, max_depth=6, max_features=None; total time=   0.0s\n",
      "[CV] END .....criterion=gini, max_depth=6, max_features=None; total time=   0.0s\n",
      "[CV] END .....criterion=gini, max_depth=6, max_features=None; total time=   0.0s\n",
      "[CV] END .....criterion=gini, max_depth=6, max_features=None; total time=   0.0s\n",
      "[CV] END .....criterion=gini, max_depth=6, max_features=None; total time=   0.0s\n",
      "[CV] END .....criterion=gini, max_depth=6, max_features=None; total time=   0.0s\n",
      "[CV] END .....criterion=gini, max_depth=6, max_features=None; total time=   0.0s\n",
      "[CV] END .....criterion=gini, max_depth=6, max_features=None; total time=   0.0s\n",
      "[CV] END .....criterion=gini, max_depth=6, max_features=None; total time=   0.0s\n",
      "[CV] END .....criterion=gini, max_depth=6, max_features=None; total time=   0.0s\n"
     ]
    },
    {
     "name": "stderr",
     "output_type": "stream",
     "text": [
      "C:\\Users\\user\\anaconda3\\lib\\site-packages\\sklearn\\tree\\_classes.py:269: FutureWarning: `max_features='auto'` has been deprecated in 1.1 and will be removed in 1.3. To keep the past behaviour, explicitly set `max_features='sqrt'`.\n",
      "  warnings.warn(\n",
      "C:\\Users\\user\\anaconda3\\lib\\site-packages\\sklearn\\tree\\_classes.py:269: FutureWarning: `max_features='auto'` has been deprecated in 1.1 and will be removed in 1.3. To keep the past behaviour, explicitly set `max_features='sqrt'`.\n",
      "  warnings.warn(\n",
      "C:\\Users\\user\\anaconda3\\lib\\site-packages\\sklearn\\tree\\_classes.py:269: FutureWarning: `max_features='auto'` has been deprecated in 1.1 and will be removed in 1.3. To keep the past behaviour, explicitly set `max_features='sqrt'`.\n",
      "  warnings.warn(\n",
      "C:\\Users\\user\\anaconda3\\lib\\site-packages\\sklearn\\tree\\_classes.py:269: FutureWarning: `max_features='auto'` has been deprecated in 1.1 and will be removed in 1.3. To keep the past behaviour, explicitly set `max_features='sqrt'`.\n",
      "  warnings.warn(\n"
     ]
    },
    {
     "name": "stdout",
     "output_type": "stream",
     "text": [
      "[CV] END .....criterion=gini, max_depth=7, max_features=auto; total time=   0.0s\n",
      "[CV] END .....criterion=gini, max_depth=7, max_features=auto; total time=   0.0s\n",
      "[CV] END .....criterion=gini, max_depth=7, max_features=auto; total time=   0.0s\n",
      "[CV] END .....criterion=gini, max_depth=7, max_features=auto; total time=   0.0s\n",
      "[CV] END .....criterion=gini, max_depth=7, max_features=auto; total time=   0.0s\n"
     ]
    },
    {
     "name": "stderr",
     "output_type": "stream",
     "text": [
      "C:\\Users\\user\\anaconda3\\lib\\site-packages\\sklearn\\tree\\_classes.py:269: FutureWarning: `max_features='auto'` has been deprecated in 1.1 and will be removed in 1.3. To keep the past behaviour, explicitly set `max_features='sqrt'`.\n",
      "  warnings.warn(\n",
      "C:\\Users\\user\\anaconda3\\lib\\site-packages\\sklearn\\tree\\_classes.py:269: FutureWarning: `max_features='auto'` has been deprecated in 1.1 and will be removed in 1.3. To keep the past behaviour, explicitly set `max_features='sqrt'`.\n",
      "  warnings.warn(\n",
      "C:\\Users\\user\\anaconda3\\lib\\site-packages\\sklearn\\tree\\_classes.py:269: FutureWarning: `max_features='auto'` has been deprecated in 1.1 and will be removed in 1.3. To keep the past behaviour, explicitly set `max_features='sqrt'`.\n",
      "  warnings.warn(\n",
      "C:\\Users\\user\\anaconda3\\lib\\site-packages\\sklearn\\tree\\_classes.py:269: FutureWarning: `max_features='auto'` has been deprecated in 1.1 and will be removed in 1.3. To keep the past behaviour, explicitly set `max_features='sqrt'`.\n",
      "  warnings.warn(\n",
      "C:\\Users\\user\\anaconda3\\lib\\site-packages\\sklearn\\tree\\_classes.py:269: FutureWarning: `max_features='auto'` has been deprecated in 1.1 and will be removed in 1.3. To keep the past behaviour, explicitly set `max_features='sqrt'`.\n",
      "  warnings.warn(\n"
     ]
    },
    {
     "name": "stdout",
     "output_type": "stream",
     "text": [
      "[CV] END .....criterion=gini, max_depth=7, max_features=auto; total time=   0.0s\n",
      "[CV] END .....criterion=gini, max_depth=7, max_features=auto; total time=   0.0s\n",
      "[CV] END .....criterion=gini, max_depth=7, max_features=auto; total time=   0.0s\n",
      "[CV] END .....criterion=gini, max_depth=7, max_features=auto; total time=   0.0s\n",
      "[CV] END .....criterion=gini, max_depth=7, max_features=auto; total time=   0.0s\n",
      "[CV] END .....criterion=gini, max_depth=7, max_features=sqrt; total time=   0.0s\n"
     ]
    },
    {
     "name": "stderr",
     "output_type": "stream",
     "text": [
      "C:\\Users\\user\\anaconda3\\lib\\site-packages\\sklearn\\tree\\_classes.py:269: FutureWarning: `max_features='auto'` has been deprecated in 1.1 and will be removed in 1.3. To keep the past behaviour, explicitly set `max_features='sqrt'`.\n",
      "  warnings.warn(\n"
     ]
    },
    {
     "name": "stdout",
     "output_type": "stream",
     "text": [
      "[CV] END .....criterion=gini, max_depth=7, max_features=sqrt; total time=   0.0s\n",
      "[CV] END .....criterion=gini, max_depth=7, max_features=sqrt; total time=   0.0s\n",
      "[CV] END .....criterion=gini, max_depth=7, max_features=sqrt; total time=   0.0s\n",
      "[CV] END .....criterion=gini, max_depth=7, max_features=sqrt; total time=   0.0s\n",
      "[CV] END .....criterion=gini, max_depth=7, max_features=sqrt; total time=   0.0s\n",
      "[CV] END .....criterion=gini, max_depth=7, max_features=sqrt; total time=   0.0s\n",
      "[CV] END .....criterion=gini, max_depth=7, max_features=sqrt; total time=   0.0s\n",
      "[CV] END .....criterion=gini, max_depth=7, max_features=sqrt; total time=   0.0s\n",
      "[CV] END .....criterion=gini, max_depth=7, max_features=sqrt; total time=   0.0s\n",
      "[CV] END .....criterion=gini, max_depth=7, max_features=log2; total time=   0.0s\n",
      "[CV] END .....criterion=gini, max_depth=7, max_features=log2; total time=   0.0s\n",
      "[CV] END .....criterion=gini, max_depth=7, max_features=log2; total time=   0.0s\n",
      "[CV] END .....criterion=gini, max_depth=7, max_features=log2; total time=   0.0s\n",
      "[CV] END .....criterion=gini, max_depth=7, max_features=log2; total time=   0.0s\n",
      "[CV] END .....criterion=gini, max_depth=7, max_features=log2; total time=   0.0s\n",
      "[CV] END .....criterion=gini, max_depth=7, max_features=log2; total time=   0.0s\n",
      "[CV] END .....criterion=gini, max_depth=7, max_features=log2; total time=   0.0s\n",
      "[CV] END .....criterion=gini, max_depth=7, max_features=log2; total time=   0.0s\n",
      "[CV] END .....criterion=gini, max_depth=7, max_features=log2; total time=   0.0s\n",
      "[CV] END .....criterion=gini, max_depth=7, max_features=None; total time=   0.0s\n",
      "[CV] END .....criterion=gini, max_depth=7, max_features=None; total time=   0.0s\n",
      "[CV] END .....criterion=gini, max_depth=7, max_features=None; total time=   0.0s\n",
      "[CV] END .....criterion=gini, max_depth=7, max_features=None; total time=   0.0s\n",
      "[CV] END .....criterion=gini, max_depth=7, max_features=None; total time=   0.0s\n",
      "[CV] END .....criterion=gini, max_depth=7, max_features=None; total time=   0.0s\n",
      "[CV] END .....criterion=gini, max_depth=7, max_features=None; total time=   0.0s\n",
      "[CV] END .....criterion=gini, max_depth=7, max_features=None; total time=   0.0s\n",
      "[CV] END .....criterion=gini, max_depth=7, max_features=None; total time=   0.0s\n",
      "[CV] END .....criterion=gini, max_depth=7, max_features=None; total time=   0.0s\n",
      "[CV] END .....criterion=gini, max_depth=8, max_features=auto; total time=   0.0s\n"
     ]
    },
    {
     "name": "stderr",
     "output_type": "stream",
     "text": [
      "C:\\Users\\user\\anaconda3\\lib\\site-packages\\sklearn\\tree\\_classes.py:269: FutureWarning: `max_features='auto'` has been deprecated in 1.1 and will be removed in 1.3. To keep the past behaviour, explicitly set `max_features='sqrt'`.\n",
      "  warnings.warn(\n",
      "C:\\Users\\user\\anaconda3\\lib\\site-packages\\sklearn\\tree\\_classes.py:269: FutureWarning: `max_features='auto'` has been deprecated in 1.1 and will be removed in 1.3. To keep the past behaviour, explicitly set `max_features='sqrt'`.\n",
      "  warnings.warn(\n",
      "C:\\Users\\user\\anaconda3\\lib\\site-packages\\sklearn\\tree\\_classes.py:269: FutureWarning: `max_features='auto'` has been deprecated in 1.1 and will be removed in 1.3. To keep the past behaviour, explicitly set `max_features='sqrt'`.\n",
      "  warnings.warn(\n",
      "C:\\Users\\user\\anaconda3\\lib\\site-packages\\sklearn\\tree\\_classes.py:269: FutureWarning: `max_features='auto'` has been deprecated in 1.1 and will be removed in 1.3. To keep the past behaviour, explicitly set `max_features='sqrt'`.\n",
      "  warnings.warn(\n",
      "C:\\Users\\user\\anaconda3\\lib\\site-packages\\sklearn\\tree\\_classes.py:269: FutureWarning: `max_features='auto'` has been deprecated in 1.1 and will be removed in 1.3. To keep the past behaviour, explicitly set `max_features='sqrt'`.\n",
      "  warnings.warn(\n"
     ]
    },
    {
     "name": "stdout",
     "output_type": "stream",
     "text": [
      "[CV] END .....criterion=gini, max_depth=8, max_features=auto; total time=   0.0s\n",
      "[CV] END .....criterion=gini, max_depth=8, max_features=auto; total time=   0.0s\n",
      "[CV] END .....criterion=gini, max_depth=8, max_features=auto; total time=   0.0s\n",
      "[CV] END .....criterion=gini, max_depth=8, max_features=auto; total time=   0.0s\n",
      "[CV] END .....criterion=gini, max_depth=8, max_features=auto; total time=   0.0s\n"
     ]
    },
    {
     "name": "stderr",
     "output_type": "stream",
     "text": [
      "C:\\Users\\user\\anaconda3\\lib\\site-packages\\sklearn\\tree\\_classes.py:269: FutureWarning: `max_features='auto'` has been deprecated in 1.1 and will be removed in 1.3. To keep the past behaviour, explicitly set `max_features='sqrt'`.\n",
      "  warnings.warn(\n",
      "C:\\Users\\user\\anaconda3\\lib\\site-packages\\sklearn\\tree\\_classes.py:269: FutureWarning: `max_features='auto'` has been deprecated in 1.1 and will be removed in 1.3. To keep the past behaviour, explicitly set `max_features='sqrt'`.\n",
      "  warnings.warn(\n",
      "C:\\Users\\user\\anaconda3\\lib\\site-packages\\sklearn\\tree\\_classes.py:269: FutureWarning: `max_features='auto'` has been deprecated in 1.1 and will be removed in 1.3. To keep the past behaviour, explicitly set `max_features='sqrt'`.\n",
      "  warnings.warn(\n",
      "C:\\Users\\user\\anaconda3\\lib\\site-packages\\sklearn\\tree\\_classes.py:269: FutureWarning: `max_features='auto'` has been deprecated in 1.1 and will be removed in 1.3. To keep the past behaviour, explicitly set `max_features='sqrt'`.\n",
      "  warnings.warn(\n"
     ]
    },
    {
     "name": "stdout",
     "output_type": "stream",
     "text": [
      "[CV] END .....criterion=gini, max_depth=8, max_features=auto; total time=   0.0s\n",
      "[CV] END .....criterion=gini, max_depth=8, max_features=auto; total time=   0.0s\n",
      "[CV] END .....criterion=gini, max_depth=8, max_features=auto; total time=   0.0s\n",
      "[CV] END .....criterion=gini, max_depth=8, max_features=auto; total time=   0.0s\n"
     ]
    },
    {
     "name": "stderr",
     "output_type": "stream",
     "text": [
      "C:\\Users\\user\\anaconda3\\lib\\site-packages\\sklearn\\tree\\_classes.py:269: FutureWarning: `max_features='auto'` has been deprecated in 1.1 and will be removed in 1.3. To keep the past behaviour, explicitly set `max_features='sqrt'`.\n",
      "  warnings.warn(\n"
     ]
    },
    {
     "name": "stdout",
     "output_type": "stream",
     "text": [
      "[CV] END .....criterion=gini, max_depth=8, max_features=sqrt; total time=   0.0s\n",
      "[CV] END .....criterion=gini, max_depth=8, max_features=sqrt; total time=   0.0s\n",
      "[CV] END .....criterion=gini, max_depth=8, max_features=sqrt; total time=   0.0s\n",
      "[CV] END .....criterion=gini, max_depth=8, max_features=sqrt; total time=   0.0s\n",
      "[CV] END .....criterion=gini, max_depth=8, max_features=sqrt; total time=   0.0s\n",
      "[CV] END .....criterion=gini, max_depth=8, max_features=sqrt; total time=   0.0s\n",
      "[CV] END .....criterion=gini, max_depth=8, max_features=sqrt; total time=   0.0s\n",
      "[CV] END .....criterion=gini, max_depth=8, max_features=sqrt; total time=   0.0s\n",
      "[CV] END .....criterion=gini, max_depth=8, max_features=sqrt; total time=   0.0s\n",
      "[CV] END .....criterion=gini, max_depth=8, max_features=sqrt; total time=   0.0s\n",
      "[CV] END .....criterion=gini, max_depth=8, max_features=log2; total time=   0.0s\n",
      "[CV] END .....criterion=gini, max_depth=8, max_features=log2; total time=   0.0s\n",
      "[CV] END .....criterion=gini, max_depth=8, max_features=log2; total time=   0.0s\n",
      "[CV] END .....criterion=gini, max_depth=8, max_features=log2; total time=   0.0s\n",
      "[CV] END .....criterion=gini, max_depth=8, max_features=log2; total time=   0.0s\n",
      "[CV] END .....criterion=gini, max_depth=8, max_features=log2; total time=   0.0s\n",
      "[CV] END .....criterion=gini, max_depth=8, max_features=log2; total time=   0.0s\n",
      "[CV] END .....criterion=gini, max_depth=8, max_features=log2; total time=   0.0s\n",
      "[CV] END .....criterion=gini, max_depth=8, max_features=log2; total time=   0.0s\n",
      "[CV] END .....criterion=gini, max_depth=8, max_features=log2; total time=   0.0s\n",
      "[CV] END .....criterion=gini, max_depth=8, max_features=None; total time=   0.1s\n",
      "[CV] END .....criterion=gini, max_depth=8, max_features=None; total time=   0.1s\n",
      "[CV] END .....criterion=gini, max_depth=8, max_features=None; total time=   0.0s\n",
      "[CV] END .....criterion=gini, max_depth=8, max_features=None; total time=   0.0s\n",
      "[CV] END .....criterion=gini, max_depth=8, max_features=None; total time=   0.0s\n",
      "[CV] END .....criterion=gini, max_depth=8, max_features=None; total time=   0.0s\n",
      "[CV] END .....criterion=gini, max_depth=8, max_features=None; total time=   0.1s\n",
      "[CV] END .....criterion=gini, max_depth=8, max_features=None; total time=   0.1s\n",
      "[CV] END .....criterion=gini, max_depth=8, max_features=None; total time=   0.0s\n",
      "[CV] END .....criterion=gini, max_depth=8, max_features=None; total time=   0.0s\n",
      "[CV] END .....criterion=gini, max_depth=9, max_features=auto; total time=   0.0s\n",
      "[CV] END .....criterion=gini, max_depth=9, max_features=auto; total time=   0.0s\n"
     ]
    },
    {
     "name": "stderr",
     "output_type": "stream",
     "text": [
      "C:\\Users\\user\\anaconda3\\lib\\site-packages\\sklearn\\tree\\_classes.py:269: FutureWarning: `max_features='auto'` has been deprecated in 1.1 and will be removed in 1.3. To keep the past behaviour, explicitly set `max_features='sqrt'`.\n",
      "  warnings.warn(\n",
      "C:\\Users\\user\\anaconda3\\lib\\site-packages\\sklearn\\tree\\_classes.py:269: FutureWarning: `max_features='auto'` has been deprecated in 1.1 and will be removed in 1.3. To keep the past behaviour, explicitly set `max_features='sqrt'`.\n",
      "  warnings.warn(\n",
      "C:\\Users\\user\\anaconda3\\lib\\site-packages\\sklearn\\tree\\_classes.py:269: FutureWarning: `max_features='auto'` has been deprecated in 1.1 and will be removed in 1.3. To keep the past behaviour, explicitly set `max_features='sqrt'`.\n",
      "  warnings.warn(\n",
      "C:\\Users\\user\\anaconda3\\lib\\site-packages\\sklearn\\tree\\_classes.py:269: FutureWarning: `max_features='auto'` has been deprecated in 1.1 and will be removed in 1.3. To keep the past behaviour, explicitly set `max_features='sqrt'`.\n",
      "  warnings.warn(\n"
     ]
    },
    {
     "name": "stdout",
     "output_type": "stream",
     "text": [
      "[CV] END .....criterion=gini, max_depth=9, max_features=auto; total time=   0.0s\n",
      "[CV] END .....criterion=gini, max_depth=9, max_features=auto; total time=   0.0s\n",
      "[CV] END .....criterion=gini, max_depth=9, max_features=auto; total time=   0.0s\n"
     ]
    },
    {
     "name": "stderr",
     "output_type": "stream",
     "text": [
      "C:\\Users\\user\\anaconda3\\lib\\site-packages\\sklearn\\tree\\_classes.py:269: FutureWarning: `max_features='auto'` has been deprecated in 1.1 and will be removed in 1.3. To keep the past behaviour, explicitly set `max_features='sqrt'`.\n",
      "  warnings.warn(\n",
      "C:\\Users\\user\\anaconda3\\lib\\site-packages\\sklearn\\tree\\_classes.py:269: FutureWarning: `max_features='auto'` has been deprecated in 1.1 and will be removed in 1.3. To keep the past behaviour, explicitly set `max_features='sqrt'`.\n",
      "  warnings.warn(\n",
      "C:\\Users\\user\\anaconda3\\lib\\site-packages\\sklearn\\tree\\_classes.py:269: FutureWarning: `max_features='auto'` has been deprecated in 1.1 and will be removed in 1.3. To keep the past behaviour, explicitly set `max_features='sqrt'`.\n",
      "  warnings.warn(\n"
     ]
    },
    {
     "name": "stdout",
     "output_type": "stream",
     "text": [
      "[CV] END .....criterion=gini, max_depth=9, max_features=auto; total time=   0.0s\n",
      "[CV] END .....criterion=gini, max_depth=9, max_features=auto; total time=   0.0s\n",
      "[CV] END .....criterion=gini, max_depth=9, max_features=auto; total time=   0.0s\n",
      "[CV] END .....criterion=gini, max_depth=9, max_features=auto; total time=   0.0s\n",
      "[CV] END .....criterion=gini, max_depth=9, max_features=auto; total time=   0.0s\n"
     ]
    },
    {
     "name": "stderr",
     "output_type": "stream",
     "text": [
      "C:\\Users\\user\\anaconda3\\lib\\site-packages\\sklearn\\tree\\_classes.py:269: FutureWarning: `max_features='auto'` has been deprecated in 1.1 and will be removed in 1.3. To keep the past behaviour, explicitly set `max_features='sqrt'`.\n",
      "  warnings.warn(\n",
      "C:\\Users\\user\\anaconda3\\lib\\site-packages\\sklearn\\tree\\_classes.py:269: FutureWarning: `max_features='auto'` has been deprecated in 1.1 and will be removed in 1.3. To keep the past behaviour, explicitly set `max_features='sqrt'`.\n",
      "  warnings.warn(\n",
      "C:\\Users\\user\\anaconda3\\lib\\site-packages\\sklearn\\tree\\_classes.py:269: FutureWarning: `max_features='auto'` has been deprecated in 1.1 and will be removed in 1.3. To keep the past behaviour, explicitly set `max_features='sqrt'`.\n",
      "  warnings.warn(\n"
     ]
    },
    {
     "name": "stdout",
     "output_type": "stream",
     "text": [
      "[CV] END .....criterion=gini, max_depth=9, max_features=sqrt; total time=   0.0s\n",
      "[CV] END .....criterion=gini, max_depth=9, max_features=sqrt; total time=   0.0s\n",
      "[CV] END .....criterion=gini, max_depth=9, max_features=sqrt; total time=   0.0s\n",
      "[CV] END .....criterion=gini, max_depth=9, max_features=sqrt; total time=   0.0s\n",
      "[CV] END .....criterion=gini, max_depth=9, max_features=sqrt; total time=   0.0s\n",
      "[CV] END .....criterion=gini, max_depth=9, max_features=sqrt; total time=   0.0s\n",
      "[CV] END .....criterion=gini, max_depth=9, max_features=sqrt; total time=   0.0s\n",
      "[CV] END .....criterion=gini, max_depth=9, max_features=sqrt; total time=   0.0s\n",
      "[CV] END .....criterion=gini, max_depth=9, max_features=sqrt; total time=   0.0s\n",
      "[CV] END .....criterion=gini, max_depth=9, max_features=sqrt; total time=   0.0s\n",
      "[CV] END .....criterion=gini, max_depth=9, max_features=log2; total time=   0.0s\n",
      "[CV] END .....criterion=gini, max_depth=9, max_features=log2; total time=   0.0s\n",
      "[CV] END .....criterion=gini, max_depth=9, max_features=log2; total time=   0.0s\n",
      "[CV] END .....criterion=gini, max_depth=9, max_features=log2; total time=   0.0s\n",
      "[CV] END .....criterion=gini, max_depth=9, max_features=log2; total time=   0.0s\n",
      "[CV] END .....criterion=gini, max_depth=9, max_features=log2; total time=   0.0s\n",
      "[CV] END .....criterion=gini, max_depth=9, max_features=log2; total time=   0.0s\n",
      "[CV] END .....criterion=gini, max_depth=9, max_features=log2; total time=   0.0s\n",
      "[CV] END .....criterion=gini, max_depth=9, max_features=log2; total time=   0.0s\n",
      "[CV] END .....criterion=gini, max_depth=9, max_features=log2; total time=   0.0s\n",
      "[CV] END .....criterion=gini, max_depth=9, max_features=None; total time=   0.1s\n",
      "[CV] END .....criterion=gini, max_depth=9, max_features=None; total time=   0.0s\n",
      "[CV] END .....criterion=gini, max_depth=9, max_features=None; total time=   0.0s\n",
      "[CV] END .....criterion=gini, max_depth=9, max_features=None; total time=   0.0s\n",
      "[CV] END .....criterion=gini, max_depth=9, max_features=None; total time=   0.0s\n",
      "[CV] END .....criterion=gini, max_depth=9, max_features=None; total time=   0.0s\n",
      "[CV] END .....criterion=gini, max_depth=9, max_features=None; total time=   0.1s\n",
      "[CV] END .....criterion=gini, max_depth=9, max_features=None; total time=   0.0s\n",
      "[CV] END .....criterion=gini, max_depth=9, max_features=None; total time=   0.0s\n",
      "[CV] END .....criterion=gini, max_depth=9, max_features=None; total time=   0.0s\n",
      "[CV] END ....criterion=gini, max_depth=10, max_features=auto; total time=   0.0s\n"
     ]
    },
    {
     "name": "stderr",
     "output_type": "stream",
     "text": [
      "C:\\Users\\user\\anaconda3\\lib\\site-packages\\sklearn\\tree\\_classes.py:269: FutureWarning: `max_features='auto'` has been deprecated in 1.1 and will be removed in 1.3. To keep the past behaviour, explicitly set `max_features='sqrt'`.\n",
      "  warnings.warn(\n",
      "C:\\Users\\user\\anaconda3\\lib\\site-packages\\sklearn\\tree\\_classes.py:269: FutureWarning: `max_features='auto'` has been deprecated in 1.1 and will be removed in 1.3. To keep the past behaviour, explicitly set `max_features='sqrt'`.\n",
      "  warnings.warn(\n",
      "C:\\Users\\user\\anaconda3\\lib\\site-packages\\sklearn\\tree\\_classes.py:269: FutureWarning: `max_features='auto'` has been deprecated in 1.1 and will be removed in 1.3. To keep the past behaviour, explicitly set `max_features='sqrt'`.\n",
      "  warnings.warn(\n",
      "C:\\Users\\user\\anaconda3\\lib\\site-packages\\sklearn\\tree\\_classes.py:269: FutureWarning: `max_features='auto'` has been deprecated in 1.1 and will be removed in 1.3. To keep the past behaviour, explicitly set `max_features='sqrt'`.\n",
      "  warnings.warn(\n"
     ]
    },
    {
     "name": "stdout",
     "output_type": "stream",
     "text": [
      "[CV] END ....criterion=gini, max_depth=10, max_features=auto; total time=   0.0s\n",
      "[CV] END ....criterion=gini, max_depth=10, max_features=auto; total time=   0.0s\n",
      "[CV] END ....criterion=gini, max_depth=10, max_features=auto; total time=   0.0s\n",
      "[CV] END ....criterion=gini, max_depth=10, max_features=auto; total time=   0.0s\n"
     ]
    },
    {
     "name": "stderr",
     "output_type": "stream",
     "text": [
      "C:\\Users\\user\\anaconda3\\lib\\site-packages\\sklearn\\tree\\_classes.py:269: FutureWarning: `max_features='auto'` has been deprecated in 1.1 and will be removed in 1.3. To keep the past behaviour, explicitly set `max_features='sqrt'`.\n",
      "  warnings.warn(\n",
      "C:\\Users\\user\\anaconda3\\lib\\site-packages\\sklearn\\tree\\_classes.py:269: FutureWarning: `max_features='auto'` has been deprecated in 1.1 and will be removed in 1.3. To keep the past behaviour, explicitly set `max_features='sqrt'`.\n",
      "  warnings.warn(\n",
      "C:\\Users\\user\\anaconda3\\lib\\site-packages\\sklearn\\tree\\_classes.py:269: FutureWarning: `max_features='auto'` has been deprecated in 1.1 and will be removed in 1.3. To keep the past behaviour, explicitly set `max_features='sqrt'`.\n",
      "  warnings.warn(\n",
      "C:\\Users\\user\\anaconda3\\lib\\site-packages\\sklearn\\tree\\_classes.py:269: FutureWarning: `max_features='auto'` has been deprecated in 1.1 and will be removed in 1.3. To keep the past behaviour, explicitly set `max_features='sqrt'`.\n",
      "  warnings.warn(\n"
     ]
    },
    {
     "name": "stdout",
     "output_type": "stream",
     "text": [
      "[CV] END ....criterion=gini, max_depth=10, max_features=auto; total time=   0.0s\n",
      "[CV] END ....criterion=gini, max_depth=10, max_features=auto; total time=   0.0s\n",
      "[CV] END ....criterion=gini, max_depth=10, max_features=auto; total time=   0.0s\n",
      "[CV] END ....criterion=gini, max_depth=10, max_features=auto; total time=   0.0s\n"
     ]
    },
    {
     "name": "stderr",
     "output_type": "stream",
     "text": [
      "C:\\Users\\user\\anaconda3\\lib\\site-packages\\sklearn\\tree\\_classes.py:269: FutureWarning: `max_features='auto'` has been deprecated in 1.1 and will be removed in 1.3. To keep the past behaviour, explicitly set `max_features='sqrt'`.\n",
      "  warnings.warn(\n",
      "C:\\Users\\user\\anaconda3\\lib\\site-packages\\sklearn\\tree\\_classes.py:269: FutureWarning: `max_features='auto'` has been deprecated in 1.1 and will be removed in 1.3. To keep the past behaviour, explicitly set `max_features='sqrt'`.\n",
      "  warnings.warn(\n"
     ]
    },
    {
     "name": "stdout",
     "output_type": "stream",
     "text": [
      "[CV] END ....criterion=gini, max_depth=10, max_features=auto; total time=   0.0s\n",
      "[CV] END ....criterion=gini, max_depth=10, max_features=sqrt; total time=   0.0s\n",
      "[CV] END ....criterion=gini, max_depth=10, max_features=sqrt; total time=   0.0s\n",
      "[CV] END ....criterion=gini, max_depth=10, max_features=sqrt; total time=   0.0s\n",
      "[CV] END ....criterion=gini, max_depth=10, max_features=sqrt; total time=   0.0s\n",
      "[CV] END ....criterion=gini, max_depth=10, max_features=sqrt; total time=   0.0s\n",
      "[CV] END ....criterion=gini, max_depth=10, max_features=sqrt; total time=   0.0s\n",
      "[CV] END ....criterion=gini, max_depth=10, max_features=sqrt; total time=   0.0s\n",
      "[CV] END ....criterion=gini, max_depth=10, max_features=sqrt; total time=   0.0s\n",
      "[CV] END ....criterion=gini, max_depth=10, max_features=sqrt; total time=   0.0s\n",
      "[CV] END ....criterion=gini, max_depth=10, max_features=sqrt; total time=   0.0s\n",
      "[CV] END ....criterion=gini, max_depth=10, max_features=log2; total time=   0.0s\n",
      "[CV] END ....criterion=gini, max_depth=10, max_features=log2; total time=   0.0s\n",
      "[CV] END ....criterion=gini, max_depth=10, max_features=log2; total time=   0.0s\n",
      "[CV] END ....criterion=gini, max_depth=10, max_features=log2; total time=   0.0s\n",
      "[CV] END ....criterion=gini, max_depth=10, max_features=log2; total time=   0.0s\n",
      "[CV] END ....criterion=gini, max_depth=10, max_features=log2; total time=   0.0s\n",
      "[CV] END ....criterion=gini, max_depth=10, max_features=log2; total time=   0.0s\n",
      "[CV] END ....criterion=gini, max_depth=10, max_features=log2; total time=   0.0s\n",
      "[CV] END ....criterion=gini, max_depth=10, max_features=log2; total time=   0.0s\n",
      "[CV] END ....criterion=gini, max_depth=10, max_features=log2; total time=   0.0s\n",
      "[CV] END ....criterion=gini, max_depth=10, max_features=None; total time=   0.1s\n",
      "[CV] END ....criterion=gini, max_depth=10, max_features=None; total time=   0.0s\n",
      "[CV] END ....criterion=gini, max_depth=10, max_features=None; total time=   0.1s\n",
      "[CV] END ....criterion=gini, max_depth=10, max_features=None; total time=   0.0s\n",
      "[CV] END ....criterion=gini, max_depth=10, max_features=None; total time=   0.1s\n",
      "[CV] END ....criterion=gini, max_depth=10, max_features=None; total time=   0.1s\n",
      "[CV] END ....criterion=gini, max_depth=10, max_features=None; total time=   0.1s\n",
      "[CV] END ....criterion=gini, max_depth=10, max_features=None; total time=   0.1s\n",
      "[CV] END ....criterion=gini, max_depth=10, max_features=None; total time=   0.1s\n",
      "[CV] END ....criterion=gini, max_depth=10, max_features=None; total time=   0.1s\n"
     ]
    },
    {
     "name": "stderr",
     "output_type": "stream",
     "text": [
      "C:\\Users\\user\\anaconda3\\lib\\site-packages\\sklearn\\tree\\_classes.py:269: FutureWarning: `max_features='auto'` has been deprecated in 1.1 and will be removed in 1.3. To keep the past behaviour, explicitly set `max_features='sqrt'`.\n",
      "  warnings.warn(\n",
      "C:\\Users\\user\\anaconda3\\lib\\site-packages\\sklearn\\tree\\_classes.py:269: FutureWarning: `max_features='auto'` has been deprecated in 1.1 and will be removed in 1.3. To keep the past behaviour, explicitly set `max_features='sqrt'`.\n",
      "  warnings.warn(\n",
      "C:\\Users\\user\\anaconda3\\lib\\site-packages\\sklearn\\tree\\_classes.py:269: FutureWarning: `max_features='auto'` has been deprecated in 1.1 and will be removed in 1.3. To keep the past behaviour, explicitly set `max_features='sqrt'`.\n",
      "  warnings.warn(\n",
      "C:\\Users\\user\\anaconda3\\lib\\site-packages\\sklearn\\tree\\_classes.py:269: FutureWarning: `max_features='auto'` has been deprecated in 1.1 and will be removed in 1.3. To keep the past behaviour, explicitly set `max_features='sqrt'`.\n",
      "  warnings.warn(\n"
     ]
    },
    {
     "name": "stdout",
     "output_type": "stream",
     "text": [
      "[CV] END ....criterion=gini, max_depth=11, max_features=auto; total time=   0.0s\n",
      "[CV] END ....criterion=gini, max_depth=11, max_features=auto; total time=   0.0s\n",
      "[CV] END ....criterion=gini, max_depth=11, max_features=auto; total time=   0.0s\n",
      "[CV] END ....criterion=gini, max_depth=11, max_features=auto; total time=   0.0s\n"
     ]
    },
    {
     "name": "stderr",
     "output_type": "stream",
     "text": [
      "C:\\Users\\user\\anaconda3\\lib\\site-packages\\sklearn\\tree\\_classes.py:269: FutureWarning: `max_features='auto'` has been deprecated in 1.1 and will be removed in 1.3. To keep the past behaviour, explicitly set `max_features='sqrt'`.\n",
      "  warnings.warn(\n",
      "C:\\Users\\user\\anaconda3\\lib\\site-packages\\sklearn\\tree\\_classes.py:269: FutureWarning: `max_features='auto'` has been deprecated in 1.1 and will be removed in 1.3. To keep the past behaviour, explicitly set `max_features='sqrt'`.\n",
      "  warnings.warn(\n",
      "C:\\Users\\user\\anaconda3\\lib\\site-packages\\sklearn\\tree\\_classes.py:269: FutureWarning: `max_features='auto'` has been deprecated in 1.1 and will be removed in 1.3. To keep the past behaviour, explicitly set `max_features='sqrt'`.\n",
      "  warnings.warn(\n",
      "C:\\Users\\user\\anaconda3\\lib\\site-packages\\sklearn\\tree\\_classes.py:269: FutureWarning: `max_features='auto'` has been deprecated in 1.1 and will be removed in 1.3. To keep the past behaviour, explicitly set `max_features='sqrt'`.\n",
      "  warnings.warn(\n"
     ]
    },
    {
     "name": "stdout",
     "output_type": "stream",
     "text": [
      "[CV] END ....criterion=gini, max_depth=11, max_features=auto; total time=   0.0s\n",
      "[CV] END ....criterion=gini, max_depth=11, max_features=auto; total time=   0.0s\n",
      "[CV] END ....criterion=gini, max_depth=11, max_features=auto; total time=   0.0s\n",
      "[CV] END ....criterion=gini, max_depth=11, max_features=auto; total time=   0.0s\n"
     ]
    },
    {
     "name": "stderr",
     "output_type": "stream",
     "text": [
      "C:\\Users\\user\\anaconda3\\lib\\site-packages\\sklearn\\tree\\_classes.py:269: FutureWarning: `max_features='auto'` has been deprecated in 1.1 and will be removed in 1.3. To keep the past behaviour, explicitly set `max_features='sqrt'`.\n",
      "  warnings.warn(\n",
      "C:\\Users\\user\\anaconda3\\lib\\site-packages\\sklearn\\tree\\_classes.py:269: FutureWarning: `max_features='auto'` has been deprecated in 1.1 and will be removed in 1.3. To keep the past behaviour, explicitly set `max_features='sqrt'`.\n",
      "  warnings.warn(\n"
     ]
    },
    {
     "name": "stdout",
     "output_type": "stream",
     "text": [
      "[CV] END ....criterion=gini, max_depth=11, max_features=auto; total time=   0.0s\n",
      "[CV] END ....criterion=gini, max_depth=11, max_features=auto; total time=   0.0s\n",
      "[CV] END ....criterion=gini, max_depth=11, max_features=sqrt; total time=   0.0s\n",
      "[CV] END ....criterion=gini, max_depth=11, max_features=sqrt; total time=   0.0s\n",
      "[CV] END ....criterion=gini, max_depth=11, max_features=sqrt; total time=   0.0s\n",
      "[CV] END ....criterion=gini, max_depth=11, max_features=sqrt; total time=   0.0s\n",
      "[CV] END ....criterion=gini, max_depth=11, max_features=sqrt; total time=   0.0s\n",
      "[CV] END ....criterion=gini, max_depth=11, max_features=sqrt; total time=   0.0s\n",
      "[CV] END ....criterion=gini, max_depth=11, max_features=sqrt; total time=   0.0s\n",
      "[CV] END ....criterion=gini, max_depth=11, max_features=sqrt; total time=   0.0s\n",
      "[CV] END ....criterion=gini, max_depth=11, max_features=sqrt; total time=   0.0s\n",
      "[CV] END ....criterion=gini, max_depth=11, max_features=sqrt; total time=   0.0s\n",
      "[CV] END ....criterion=gini, max_depth=11, max_features=log2; total time=   0.0s\n",
      "[CV] END ....criterion=gini, max_depth=11, max_features=log2; total time=   0.0s\n",
      "[CV] END ....criterion=gini, max_depth=11, max_features=log2; total time=   0.0s\n",
      "[CV] END ....criterion=gini, max_depth=11, max_features=log2; total time=   0.0s\n",
      "[CV] END ....criterion=gini, max_depth=11, max_features=log2; total time=   0.0s\n",
      "[CV] END ....criterion=gini, max_depth=11, max_features=log2; total time=   0.0s\n",
      "[CV] END ....criterion=gini, max_depth=11, max_features=log2; total time=   0.0s\n",
      "[CV] END ....criterion=gini, max_depth=11, max_features=log2; total time=   0.0s\n",
      "[CV] END ....criterion=gini, max_depth=11, max_features=log2; total time=   0.0s\n",
      "[CV] END ....criterion=gini, max_depth=11, max_features=log2; total time=   0.0s\n",
      "[CV] END ....criterion=gini, max_depth=11, max_features=None; total time=   0.1s\n",
      "[CV] END ....criterion=gini, max_depth=11, max_features=None; total time=   0.1s\n",
      "[CV] END ....criterion=gini, max_depth=11, max_features=None; total time=   0.1s\n",
      "[CV] END ....criterion=gini, max_depth=11, max_features=None; total time=   0.1s\n",
      "[CV] END ....criterion=gini, max_depth=11, max_features=None; total time=   0.1s\n",
      "[CV] END ....criterion=gini, max_depth=11, max_features=None; total time=   0.1s\n",
      "[CV] END ....criterion=gini, max_depth=11, max_features=None; total time=   0.1s\n",
      "[CV] END ....criterion=gini, max_depth=11, max_features=None; total time=   0.1s\n",
      "[CV] END ....criterion=gini, max_depth=11, max_features=None; total time=   0.1s\n",
      "[CV] END ....criterion=gini, max_depth=11, max_features=None; total time=   0.1s\n",
      "[CV] END ....criterion=gini, max_depth=12, max_features=auto; total time=   0.0s\n",
      "[CV] END ....criterion=gini, max_depth=12, max_features=auto; total time=   0.0s\n",
      "[CV] END ....criterion=gini, max_depth=12, max_features=auto; total time=   0.0s\n"
     ]
    },
    {
     "name": "stderr",
     "output_type": "stream",
     "text": [
      "C:\\Users\\user\\anaconda3\\lib\\site-packages\\sklearn\\tree\\_classes.py:269: FutureWarning: `max_features='auto'` has been deprecated in 1.1 and will be removed in 1.3. To keep the past behaviour, explicitly set `max_features='sqrt'`.\n",
      "  warnings.warn(\n",
      "C:\\Users\\user\\anaconda3\\lib\\site-packages\\sklearn\\tree\\_classes.py:269: FutureWarning: `max_features='auto'` has been deprecated in 1.1 and will be removed in 1.3. To keep the past behaviour, explicitly set `max_features='sqrt'`.\n",
      "  warnings.warn(\n",
      "C:\\Users\\user\\anaconda3\\lib\\site-packages\\sklearn\\tree\\_classes.py:269: FutureWarning: `max_features='auto'` has been deprecated in 1.1 and will be removed in 1.3. To keep the past behaviour, explicitly set `max_features='sqrt'`.\n",
      "  warnings.warn(\n",
      "C:\\Users\\user\\anaconda3\\lib\\site-packages\\sklearn\\tree\\_classes.py:269: FutureWarning: `max_features='auto'` has been deprecated in 1.1 and will be removed in 1.3. To keep the past behaviour, explicitly set `max_features='sqrt'`.\n",
      "  warnings.warn(\n",
      "C:\\Users\\user\\anaconda3\\lib\\site-packages\\sklearn\\tree\\_classes.py:269: FutureWarning: `max_features='auto'` has been deprecated in 1.1 and will be removed in 1.3. To keep the past behaviour, explicitly set `max_features='sqrt'`.\n",
      "  warnings.warn(\n",
      "C:\\Users\\user\\anaconda3\\lib\\site-packages\\sklearn\\tree\\_classes.py:269: FutureWarning: `max_features='auto'` has been deprecated in 1.1 and will be removed in 1.3. To keep the past behaviour, explicitly set `max_features='sqrt'`.\n",
      "  warnings.warn(\n",
      "C:\\Users\\user\\anaconda3\\lib\\site-packages\\sklearn\\tree\\_classes.py:269: FutureWarning: `max_features='auto'` has been deprecated in 1.1 and will be removed in 1.3. To keep the past behaviour, explicitly set `max_features='sqrt'`.\n",
      "  warnings.warn(\n"
     ]
    },
    {
     "name": "stdout",
     "output_type": "stream",
     "text": [
      "[CV] END ....criterion=gini, max_depth=12, max_features=auto; total time=   0.0s\n",
      "[CV] END ....criterion=gini, max_depth=12, max_features=auto; total time=   0.0s\n",
      "[CV] END ....criterion=gini, max_depth=12, max_features=auto; total time=   0.0s\n",
      "[CV] END ....criterion=gini, max_depth=12, max_features=auto; total time=   0.0s\n"
     ]
    },
    {
     "name": "stderr",
     "output_type": "stream",
     "text": [
      "C:\\Users\\user\\anaconda3\\lib\\site-packages\\sklearn\\tree\\_classes.py:269: FutureWarning: `max_features='auto'` has been deprecated in 1.1 and will be removed in 1.3. To keep the past behaviour, explicitly set `max_features='sqrt'`.\n",
      "  warnings.warn(\n",
      "C:\\Users\\user\\anaconda3\\lib\\site-packages\\sklearn\\tree\\_classes.py:269: FutureWarning: `max_features='auto'` has been deprecated in 1.1 and will be removed in 1.3. To keep the past behaviour, explicitly set `max_features='sqrt'`.\n",
      "  warnings.warn(\n",
      "C:\\Users\\user\\anaconda3\\lib\\site-packages\\sklearn\\tree\\_classes.py:269: FutureWarning: `max_features='auto'` has been deprecated in 1.1 and will be removed in 1.3. To keep the past behaviour, explicitly set `max_features='sqrt'`.\n",
      "  warnings.warn(\n"
     ]
    },
    {
     "name": "stdout",
     "output_type": "stream",
     "text": [
      "[CV] END ....criterion=gini, max_depth=12, max_features=auto; total time=   0.0s\n",
      "[CV] END ....criterion=gini, max_depth=12, max_features=auto; total time=   0.0s\n",
      "[CV] END ....criterion=gini, max_depth=12, max_features=auto; total time=   0.0s\n",
      "[CV] END ....criterion=gini, max_depth=12, max_features=sqrt; total time=   0.0s\n",
      "[CV] END ....criterion=gini, max_depth=12, max_features=sqrt; total time=   0.0s\n",
      "[CV] END ....criterion=gini, max_depth=12, max_features=sqrt; total time=   0.0s\n",
      "[CV] END ....criterion=gini, max_depth=12, max_features=sqrt; total time=   0.0s\n",
      "[CV] END ....criterion=gini, max_depth=12, max_features=sqrt; total time=   0.0s\n",
      "[CV] END ....criterion=gini, max_depth=12, max_features=sqrt; total time=   0.0s\n",
      "[CV] END ....criterion=gini, max_depth=12, max_features=sqrt; total time=   0.0s\n",
      "[CV] END ....criterion=gini, max_depth=12, max_features=sqrt; total time=   0.0s\n",
      "[CV] END ....criterion=gini, max_depth=12, max_features=sqrt; total time=   0.0s\n",
      "[CV] END ....criterion=gini, max_depth=12, max_features=sqrt; total time=   0.0s\n",
      "[CV] END ....criterion=gini, max_depth=12, max_features=log2; total time=   0.0s\n",
      "[CV] END ....criterion=gini, max_depth=12, max_features=log2; total time=   0.0s\n",
      "[CV] END ....criterion=gini, max_depth=12, max_features=log2; total time=   0.0s\n",
      "[CV] END ....criterion=gini, max_depth=12, max_features=log2; total time=   0.0s\n",
      "[CV] END ....criterion=gini, max_depth=12, max_features=log2; total time=   0.0s\n",
      "[CV] END ....criterion=gini, max_depth=12, max_features=log2; total time=   0.0s\n",
      "[CV] END ....criterion=gini, max_depth=12, max_features=log2; total time=   0.0s\n",
      "[CV] END ....criterion=gini, max_depth=12, max_features=log2; total time=   0.0s\n",
      "[CV] END ....criterion=gini, max_depth=12, max_features=log2; total time=   0.0s\n",
      "[CV] END ....criterion=gini, max_depth=12, max_features=log2; total time=   0.0s\n",
      "[CV] END ....criterion=gini, max_depth=12, max_features=None; total time=   0.1s\n",
      "[CV] END ....criterion=gini, max_depth=12, max_features=None; total time=   0.1s\n",
      "[CV] END ....criterion=gini, max_depth=12, max_features=None; total time=   0.1s\n",
      "[CV] END ....criterion=gini, max_depth=12, max_features=None; total time=   0.1s\n",
      "[CV] END ....criterion=gini, max_depth=12, max_features=None; total time=   0.2s\n",
      "[CV] END ....criterion=gini, max_depth=12, max_features=None; total time=   0.2s\n",
      "[CV] END ....criterion=gini, max_depth=12, max_features=None; total time=   0.2s\n",
      "[CV] END ....criterion=gini, max_depth=12, max_features=None; total time=   0.2s\n",
      "[CV] END ....criterion=gini, max_depth=12, max_features=None; total time=   0.1s\n",
      "[CV] END ....criterion=gini, max_depth=12, max_features=None; total time=   0.2s\n",
      "[CV] END ....criterion=gini, max_depth=13, max_features=auto; total time=   0.0s\n",
      "[CV] END ....criterion=gini, max_depth=13, max_features=auto; total time=   0.0s\n"
     ]
    },
    {
     "name": "stderr",
     "output_type": "stream",
     "text": [
      "C:\\Users\\user\\anaconda3\\lib\\site-packages\\sklearn\\tree\\_classes.py:269: FutureWarning: `max_features='auto'` has been deprecated in 1.1 and will be removed in 1.3. To keep the past behaviour, explicitly set `max_features='sqrt'`.\n",
      "  warnings.warn(\n",
      "C:\\Users\\user\\anaconda3\\lib\\site-packages\\sklearn\\tree\\_classes.py:269: FutureWarning: `max_features='auto'` has been deprecated in 1.1 and will be removed in 1.3. To keep the past behaviour, explicitly set `max_features='sqrt'`.\n",
      "  warnings.warn(\n",
      "C:\\Users\\user\\anaconda3\\lib\\site-packages\\sklearn\\tree\\_classes.py:269: FutureWarning: `max_features='auto'` has been deprecated in 1.1 and will be removed in 1.3. To keep the past behaviour, explicitly set `max_features='sqrt'`.\n",
      "  warnings.warn(\n"
     ]
    },
    {
     "name": "stdout",
     "output_type": "stream",
     "text": [
      "[CV] END ....criterion=gini, max_depth=13, max_features=auto; total time=   0.0s\n",
      "[CV] END ....criterion=gini, max_depth=13, max_features=auto; total time=   0.0s\n",
      "[CV] END ....criterion=gini, max_depth=13, max_features=auto; total time=   0.0s\n",
      "[CV] END ....criterion=gini, max_depth=13, max_features=auto; total time=   0.0s\n"
     ]
    },
    {
     "name": "stderr",
     "output_type": "stream",
     "text": [
      "C:\\Users\\user\\anaconda3\\lib\\site-packages\\sklearn\\tree\\_classes.py:269: FutureWarning: `max_features='auto'` has been deprecated in 1.1 and will be removed in 1.3. To keep the past behaviour, explicitly set `max_features='sqrt'`.\n",
      "  warnings.warn(\n",
      "C:\\Users\\user\\anaconda3\\lib\\site-packages\\sklearn\\tree\\_classes.py:269: FutureWarning: `max_features='auto'` has been deprecated in 1.1 and will be removed in 1.3. To keep the past behaviour, explicitly set `max_features='sqrt'`.\n",
      "  warnings.warn(\n",
      "C:\\Users\\user\\anaconda3\\lib\\site-packages\\sklearn\\tree\\_classes.py:269: FutureWarning: `max_features='auto'` has been deprecated in 1.1 and will be removed in 1.3. To keep the past behaviour, explicitly set `max_features='sqrt'`.\n",
      "  warnings.warn(\n",
      "C:\\Users\\user\\anaconda3\\lib\\site-packages\\sklearn\\tree\\_classes.py:269: FutureWarning: `max_features='auto'` has been deprecated in 1.1 and will be removed in 1.3. To keep the past behaviour, explicitly set `max_features='sqrt'`.\n",
      "  warnings.warn(\n",
      "C:\\Users\\user\\anaconda3\\lib\\site-packages\\sklearn\\tree\\_classes.py:269: FutureWarning: `max_features='auto'` has been deprecated in 1.1 and will be removed in 1.3. To keep the past behaviour, explicitly set `max_features='sqrt'`.\n",
      "  warnings.warn(\n",
      "C:\\Users\\user\\anaconda3\\lib\\site-packages\\sklearn\\tree\\_classes.py:269: FutureWarning: `max_features='auto'` has been deprecated in 1.1 and will be removed in 1.3. To keep the past behaviour, explicitly set `max_features='sqrt'`.\n",
      "  warnings.warn(\n"
     ]
    },
    {
     "name": "stdout",
     "output_type": "stream",
     "text": [
      "[CV] END ....criterion=gini, max_depth=13, max_features=auto; total time=   0.0s\n",
      "[CV] END ....criterion=gini, max_depth=13, max_features=auto; total time=   0.0s\n",
      "[CV] END ....criterion=gini, max_depth=13, max_features=auto; total time=   0.0s\n"
     ]
    },
    {
     "name": "stderr",
     "output_type": "stream",
     "text": [
      "C:\\Users\\user\\anaconda3\\lib\\site-packages\\sklearn\\tree\\_classes.py:269: FutureWarning: `max_features='auto'` has been deprecated in 1.1 and will be removed in 1.3. To keep the past behaviour, explicitly set `max_features='sqrt'`.\n",
      "  warnings.warn(\n"
     ]
    },
    {
     "name": "stdout",
     "output_type": "stream",
     "text": [
      "[CV] END ....criterion=gini, max_depth=13, max_features=auto; total time=   0.0s\n",
      "[CV] END ....criterion=gini, max_depth=13, max_features=sqrt; total time=   0.0s\n",
      "[CV] END ....criterion=gini, max_depth=13, max_features=sqrt; total time=   0.0s\n",
      "[CV] END ....criterion=gini, max_depth=13, max_features=sqrt; total time=   0.0s\n",
      "[CV] END ....criterion=gini, max_depth=13, max_features=sqrt; total time=   0.0s\n",
      "[CV] END ....criterion=gini, max_depth=13, max_features=sqrt; total time=   0.0s\n",
      "[CV] END ....criterion=gini, max_depth=13, max_features=sqrt; total time=   0.0s\n",
      "[CV] END ....criterion=gini, max_depth=13, max_features=sqrt; total time=   0.0s\n",
      "[CV] END ....criterion=gini, max_depth=13, max_features=sqrt; total time=   0.0s\n",
      "[CV] END ....criterion=gini, max_depth=13, max_features=sqrt; total time=   0.0s\n",
      "[CV] END ....criterion=gini, max_depth=13, max_features=sqrt; total time=   0.0s\n",
      "[CV] END ....criterion=gini, max_depth=13, max_features=log2; total time=   0.0s\n",
      "[CV] END ....criterion=gini, max_depth=13, max_features=log2; total time=   0.0s\n",
      "[CV] END ....criterion=gini, max_depth=13, max_features=log2; total time=   0.0s\n",
      "[CV] END ....criterion=gini, max_depth=13, max_features=log2; total time=   0.0s\n",
      "[CV] END ....criterion=gini, max_depth=13, max_features=log2; total time=   0.0s\n",
      "[CV] END ....criterion=gini, max_depth=13, max_features=log2; total time=   0.0s\n",
      "[CV] END ....criterion=gini, max_depth=13, max_features=log2; total time=   0.0s\n",
      "[CV] END ....criterion=gini, max_depth=13, max_features=log2; total time=   0.0s\n",
      "[CV] END ....criterion=gini, max_depth=13, max_features=log2; total time=   0.0s\n",
      "[CV] END ....criterion=gini, max_depth=13, max_features=log2; total time=   0.0s\n",
      "[CV] END ....criterion=gini, max_depth=13, max_features=None; total time=   0.1s\n",
      "[CV] END ....criterion=gini, max_depth=13, max_features=None; total time=   0.1s\n",
      "[CV] END ....criterion=gini, max_depth=13, max_features=None; total time=   0.1s\n",
      "[CV] END ....criterion=gini, max_depth=13, max_features=None; total time=   0.1s\n",
      "[CV] END ....criterion=gini, max_depth=13, max_features=None; total time=   0.1s\n",
      "[CV] END ....criterion=gini, max_depth=13, max_features=None; total time=   0.1s\n",
      "[CV] END ....criterion=gini, max_depth=13, max_features=None; total time=   0.1s\n",
      "[CV] END ....criterion=gini, max_depth=13, max_features=None; total time=   0.1s\n",
      "[CV] END ....criterion=gini, max_depth=13, max_features=None; total time=   0.1s\n",
      "[CV] END ....criterion=gini, max_depth=13, max_features=None; total time=   0.1s\n",
      "[CV] END ....criterion=gini, max_depth=14, max_features=auto; total time=   0.0s\n",
      "[CV] END ....criterion=gini, max_depth=14, max_features=auto; total time=   0.0s\n",
      "[CV] END ....criterion=gini, max_depth=14, max_features=auto; total time=   0.0s\n"
     ]
    },
    {
     "name": "stderr",
     "output_type": "stream",
     "text": [
      "C:\\Users\\user\\anaconda3\\lib\\site-packages\\sklearn\\tree\\_classes.py:269: FutureWarning: `max_features='auto'` has been deprecated in 1.1 and will be removed in 1.3. To keep the past behaviour, explicitly set `max_features='sqrt'`.\n",
      "  warnings.warn(\n",
      "C:\\Users\\user\\anaconda3\\lib\\site-packages\\sklearn\\tree\\_classes.py:269: FutureWarning: `max_features='auto'` has been deprecated in 1.1 and will be removed in 1.3. To keep the past behaviour, explicitly set `max_features='sqrt'`.\n",
      "  warnings.warn(\n",
      "C:\\Users\\user\\anaconda3\\lib\\site-packages\\sklearn\\tree\\_classes.py:269: FutureWarning: `max_features='auto'` has been deprecated in 1.1 and will be removed in 1.3. To keep the past behaviour, explicitly set `max_features='sqrt'`.\n",
      "  warnings.warn(\n",
      "C:\\Users\\user\\anaconda3\\lib\\site-packages\\sklearn\\tree\\_classes.py:269: FutureWarning: `max_features='auto'` has been deprecated in 1.1 and will be removed in 1.3. To keep the past behaviour, explicitly set `max_features='sqrt'`.\n",
      "  warnings.warn(\n"
     ]
    },
    {
     "name": "stdout",
     "output_type": "stream",
     "text": [
      "[CV] END ....criterion=gini, max_depth=14, max_features=auto; total time=   0.0s\n",
      "[CV] END ....criterion=gini, max_depth=14, max_features=auto; total time=   0.0s\n",
      "[CV] END ....criterion=gini, max_depth=14, max_features=auto; total time=   0.0s\n",
      "[CV] END ....criterion=gini, max_depth=14, max_features=auto; total time=   0.0s\n"
     ]
    },
    {
     "name": "stderr",
     "output_type": "stream",
     "text": [
      "C:\\Users\\user\\anaconda3\\lib\\site-packages\\sklearn\\tree\\_classes.py:269: FutureWarning: `max_features='auto'` has been deprecated in 1.1 and will be removed in 1.3. To keep the past behaviour, explicitly set `max_features='sqrt'`.\n",
      "  warnings.warn(\n",
      "C:\\Users\\user\\anaconda3\\lib\\site-packages\\sklearn\\tree\\_classes.py:269: FutureWarning: `max_features='auto'` has been deprecated in 1.1 and will be removed in 1.3. To keep the past behaviour, explicitly set `max_features='sqrt'`.\n",
      "  warnings.warn(\n",
      "C:\\Users\\user\\anaconda3\\lib\\site-packages\\sklearn\\tree\\_classes.py:269: FutureWarning: `max_features='auto'` has been deprecated in 1.1 and will be removed in 1.3. To keep the past behaviour, explicitly set `max_features='sqrt'`.\n",
      "  warnings.warn(\n",
      "C:\\Users\\user\\anaconda3\\lib\\site-packages\\sklearn\\tree\\_classes.py:269: FutureWarning: `max_features='auto'` has been deprecated in 1.1 and will be removed in 1.3. To keep the past behaviour, explicitly set `max_features='sqrt'`.\n",
      "  warnings.warn(\n"
     ]
    },
    {
     "name": "stdout",
     "output_type": "stream",
     "text": [
      "[CV] END ....criterion=gini, max_depth=14, max_features=auto; total time=   0.0s\n",
      "[CV] END ....criterion=gini, max_depth=14, max_features=auto; total time=   0.0s\n",
      "[CV] END ....criterion=gini, max_depth=14, max_features=auto; total time=   0.0s\n",
      "[CV] END ....criterion=gini, max_depth=14, max_features=sqrt; total time=   0.0s\n"
     ]
    },
    {
     "name": "stderr",
     "output_type": "stream",
     "text": [
      "C:\\Users\\user\\anaconda3\\lib\\site-packages\\sklearn\\tree\\_classes.py:269: FutureWarning: `max_features='auto'` has been deprecated in 1.1 and will be removed in 1.3. To keep the past behaviour, explicitly set `max_features='sqrt'`.\n",
      "  warnings.warn(\n",
      "C:\\Users\\user\\anaconda3\\lib\\site-packages\\sklearn\\tree\\_classes.py:269: FutureWarning: `max_features='auto'` has been deprecated in 1.1 and will be removed in 1.3. To keep the past behaviour, explicitly set `max_features='sqrt'`.\n",
      "  warnings.warn(\n"
     ]
    },
    {
     "name": "stdout",
     "output_type": "stream",
     "text": [
      "[CV] END ....criterion=gini, max_depth=14, max_features=sqrt; total time=   0.0s\n",
      "[CV] END ....criterion=gini, max_depth=14, max_features=sqrt; total time=   0.0s\n",
      "[CV] END ....criterion=gini, max_depth=14, max_features=sqrt; total time=   0.0s\n",
      "[CV] END ....criterion=gini, max_depth=14, max_features=sqrt; total time=   0.0s\n",
      "[CV] END ....criterion=gini, max_depth=14, max_features=sqrt; total time=   0.0s\n",
      "[CV] END ....criterion=gini, max_depth=14, max_features=sqrt; total time=   0.0s\n",
      "[CV] END ....criterion=gini, max_depth=14, max_features=sqrt; total time=   0.0s\n",
      "[CV] END ....criterion=gini, max_depth=14, max_features=sqrt; total time=   0.0s\n",
      "[CV] END ....criterion=gini, max_depth=14, max_features=sqrt; total time=   0.0s\n",
      "[CV] END ....criterion=gini, max_depth=14, max_features=log2; total time=   0.0s\n",
      "[CV] END ....criterion=gini, max_depth=14, max_features=log2; total time=   0.0s\n",
      "[CV] END ....criterion=gini, max_depth=14, max_features=log2; total time=   0.0s\n",
      "[CV] END ....criterion=gini, max_depth=14, max_features=log2; total time=   0.0s\n",
      "[CV] END ....criterion=gini, max_depth=14, max_features=log2; total time=   0.0s\n",
      "[CV] END ....criterion=gini, max_depth=14, max_features=log2; total time=   0.0s\n",
      "[CV] END ....criterion=gini, max_depth=14, max_features=log2; total time=   0.0s\n",
      "[CV] END ....criterion=gini, max_depth=14, max_features=log2; total time=   0.0s\n",
      "[CV] END ....criterion=gini, max_depth=14, max_features=log2; total time=   0.0s\n",
      "[CV] END ....criterion=gini, max_depth=14, max_features=log2; total time=   0.0s\n",
      "[CV] END ....criterion=gini, max_depth=14, max_features=None; total time=   0.1s\n",
      "[CV] END ....criterion=gini, max_depth=14, max_features=None; total time=   0.2s\n",
      "[CV] END ....criterion=gini, max_depth=14, max_features=None; total time=   0.1s\n",
      "[CV] END ....criterion=gini, max_depth=14, max_features=None; total time=   0.1s\n",
      "[CV] END ....criterion=gini, max_depth=14, max_features=None; total time=   0.1s\n",
      "[CV] END ....criterion=gini, max_depth=14, max_features=None; total time=   0.1s\n",
      "[CV] END ....criterion=gini, max_depth=14, max_features=None; total time=   0.1s\n",
      "[CV] END ....criterion=gini, max_depth=14, max_features=None; total time=   0.1s\n",
      "[CV] END ....criterion=gini, max_depth=14, max_features=None; total time=   0.1s\n"
     ]
    },
    {
     "name": "stderr",
     "output_type": "stream",
     "text": [
      "C:\\Users\\user\\anaconda3\\lib\\site-packages\\sklearn\\tree\\_classes.py:269: FutureWarning: `max_features='auto'` has been deprecated in 1.1 and will be removed in 1.3. To keep the past behaviour, explicitly set `max_features='sqrt'`.\n",
      "  warnings.warn(\n",
      "C:\\Users\\user\\anaconda3\\lib\\site-packages\\sklearn\\tree\\_classes.py:269: FutureWarning: `max_features='auto'` has been deprecated in 1.1 and will be removed in 1.3. To keep the past behaviour, explicitly set `max_features='sqrt'`.\n",
      "  warnings.warn(\n",
      "C:\\Users\\user\\anaconda3\\lib\\site-packages\\sklearn\\tree\\_classes.py:269: FutureWarning: `max_features='auto'` has been deprecated in 1.1 and will be removed in 1.3. To keep the past behaviour, explicitly set `max_features='sqrt'`.\n",
      "  warnings.warn(\n",
      "C:\\Users\\user\\anaconda3\\lib\\site-packages\\sklearn\\tree\\_classes.py:269: FutureWarning: `max_features='auto'` has been deprecated in 1.1 and will be removed in 1.3. To keep the past behaviour, explicitly set `max_features='sqrt'`.\n",
      "  warnings.warn(\n"
     ]
    },
    {
     "name": "stdout",
     "output_type": "stream",
     "text": [
      "[CV] END ....criterion=gini, max_depth=14, max_features=None; total time=   0.1s\n",
      "[CV] END ....criterion=gini, max_depth=15, max_features=auto; total time=   0.0s\n",
      "[CV] END ....criterion=gini, max_depth=15, max_features=auto; total time=   0.0s\n",
      "[CV] END ....criterion=gini, max_depth=15, max_features=auto; total time=   0.0s\n",
      "[CV] END ....criterion=gini, max_depth=15, max_features=auto; total time=   0.0s\n",
      "[CV] END ....criterion=gini, max_depth=15, max_features=auto; total time=   0.0s\n",
      "[CV] END ....criterion=gini, max_depth=15, max_features=auto; total time=   0.0s\n"
     ]
    },
    {
     "name": "stderr",
     "output_type": "stream",
     "text": [
      "C:\\Users\\user\\anaconda3\\lib\\site-packages\\sklearn\\tree\\_classes.py:269: FutureWarning: `max_features='auto'` has been deprecated in 1.1 and will be removed in 1.3. To keep the past behaviour, explicitly set `max_features='sqrt'`.\n",
      "  warnings.warn(\n",
      "C:\\Users\\user\\anaconda3\\lib\\site-packages\\sklearn\\tree\\_classes.py:269: FutureWarning: `max_features='auto'` has been deprecated in 1.1 and will be removed in 1.3. To keep the past behaviour, explicitly set `max_features='sqrt'`.\n",
      "  warnings.warn(\n",
      "C:\\Users\\user\\anaconda3\\lib\\site-packages\\sklearn\\tree\\_classes.py:269: FutureWarning: `max_features='auto'` has been deprecated in 1.1 and will be removed in 1.3. To keep the past behaviour, explicitly set `max_features='sqrt'`.\n",
      "  warnings.warn(\n"
     ]
    },
    {
     "name": "stdout",
     "output_type": "stream",
     "text": [
      "[CV] END ....criterion=gini, max_depth=15, max_features=auto; total time=   0.0s\n",
      "[CV] END ....criterion=gini, max_depth=15, max_features=auto; total time=   0.0s\n",
      "[CV] END ....criterion=gini, max_depth=15, max_features=auto; total time=   0.0s\n"
     ]
    },
    {
     "name": "stderr",
     "output_type": "stream",
     "text": [
      "C:\\Users\\user\\anaconda3\\lib\\site-packages\\sklearn\\tree\\_classes.py:269: FutureWarning: `max_features='auto'` has been deprecated in 1.1 and will be removed in 1.3. To keep the past behaviour, explicitly set `max_features='sqrt'`.\n",
      "  warnings.warn(\n",
      "C:\\Users\\user\\anaconda3\\lib\\site-packages\\sklearn\\tree\\_classes.py:269: FutureWarning: `max_features='auto'` has been deprecated in 1.1 and will be removed in 1.3. To keep the past behaviour, explicitly set `max_features='sqrt'`.\n",
      "  warnings.warn(\n",
      "C:\\Users\\user\\anaconda3\\lib\\site-packages\\sklearn\\tree\\_classes.py:269: FutureWarning: `max_features='auto'` has been deprecated in 1.1 and will be removed in 1.3. To keep the past behaviour, explicitly set `max_features='sqrt'`.\n",
      "  warnings.warn(\n"
     ]
    },
    {
     "name": "stdout",
     "output_type": "stream",
     "text": [
      "[CV] END ....criterion=gini, max_depth=15, max_features=auto; total time=   0.0s\n",
      "[CV] END ....criterion=gini, max_depth=15, max_features=sqrt; total time=   0.0s\n",
      "[CV] END ....criterion=gini, max_depth=15, max_features=sqrt; total time=   0.0s\n",
      "[CV] END ....criterion=gini, max_depth=15, max_features=sqrt; total time=   0.0s\n",
      "[CV] END ....criterion=gini, max_depth=15, max_features=sqrt; total time=   0.0s\n",
      "[CV] END ....criterion=gini, max_depth=15, max_features=sqrt; total time=   0.0s\n",
      "[CV] END ....criterion=gini, max_depth=15, max_features=sqrt; total time=   0.0s\n",
      "[CV] END ....criterion=gini, max_depth=15, max_features=sqrt; total time=   0.0s\n",
      "[CV] END ....criterion=gini, max_depth=15, max_features=sqrt; total time=   0.0s\n",
      "[CV] END ....criterion=gini, max_depth=15, max_features=sqrt; total time=   0.0s\n",
      "[CV] END ....criterion=gini, max_depth=15, max_features=sqrt; total time=   0.0s\n",
      "[CV] END ....criterion=gini, max_depth=15, max_features=log2; total time=   0.0s\n",
      "[CV] END ....criterion=gini, max_depth=15, max_features=log2; total time=   0.0s\n",
      "[CV] END ....criterion=gini, max_depth=15, max_features=log2; total time=   0.0s\n",
      "[CV] END ....criterion=gini, max_depth=15, max_features=log2; total time=   0.0s\n",
      "[CV] END ....criterion=gini, max_depth=15, max_features=log2; total time=   0.0s\n",
      "[CV] END ....criterion=gini, max_depth=15, max_features=log2; total time=   0.0s\n",
      "[CV] END ....criterion=gini, max_depth=15, max_features=log2; total time=   0.0s\n",
      "[CV] END ....criterion=gini, max_depth=15, max_features=log2; total time=   0.0s\n",
      "[CV] END ....criterion=gini, max_depth=15, max_features=log2; total time=   0.0s\n",
      "[CV] END ....criterion=gini, max_depth=15, max_features=log2; total time=   0.0s\n",
      "[CV] END ....criterion=gini, max_depth=15, max_features=None; total time=   0.1s\n",
      "[CV] END ....criterion=gini, max_depth=15, max_features=None; total time=   0.1s\n",
      "[CV] END ....criterion=gini, max_depth=15, max_features=None; total time=   0.1s\n",
      "[CV] END ....criterion=gini, max_depth=15, max_features=None; total time=   0.1s\n",
      "[CV] END ....criterion=gini, max_depth=15, max_features=None; total time=   0.1s\n",
      "[CV] END ....criterion=gini, max_depth=15, max_features=None; total time=   0.1s\n",
      "[CV] END ....criterion=gini, max_depth=15, max_features=None; total time=   0.1s\n",
      "[CV] END ....criterion=gini, max_depth=15, max_features=None; total time=   0.1s\n",
      "[CV] END ....criterion=gini, max_depth=15, max_features=None; total time=   0.1s\n",
      "[CV] END ....criterion=gini, max_depth=15, max_features=None; total time=   0.1s\n"
     ]
    },
    {
     "name": "stderr",
     "output_type": "stream",
     "text": [
      "C:\\Users\\user\\anaconda3\\lib\\site-packages\\sklearn\\tree\\_classes.py:269: FutureWarning: `max_features='auto'` has been deprecated in 1.1 and will be removed in 1.3. To keep the past behaviour, explicitly set `max_features='sqrt'`.\n",
      "  warnings.warn(\n",
      "C:\\Users\\user\\anaconda3\\lib\\site-packages\\sklearn\\tree\\_classes.py:269: FutureWarning: `max_features='auto'` has been deprecated in 1.1 and will be removed in 1.3. To keep the past behaviour, explicitly set `max_features='sqrt'`.\n",
      "  warnings.warn(\n",
      "C:\\Users\\user\\anaconda3\\lib\\site-packages\\sklearn\\tree\\_classes.py:269: FutureWarning: `max_features='auto'` has been deprecated in 1.1 and will be removed in 1.3. To keep the past behaviour, explicitly set `max_features='sqrt'`.\n",
      "  warnings.warn(\n",
      "C:\\Users\\user\\anaconda3\\lib\\site-packages\\sklearn\\tree\\_classes.py:269: FutureWarning: `max_features='auto'` has been deprecated in 1.1 and will be removed in 1.3. To keep the past behaviour, explicitly set `max_features='sqrt'`.\n",
      "  warnings.warn(\n"
     ]
    },
    {
     "name": "stdout",
     "output_type": "stream",
     "text": [
      "[CV] END ....criterion=gini, max_depth=16, max_features=auto; total time=   0.0s\n",
      "[CV] END ....criterion=gini, max_depth=16, max_features=auto; total time=   0.0s\n",
      "[CV] END ....criterion=gini, max_depth=16, max_features=auto; total time=   0.0s\n",
      "[CV] END ....criterion=gini, max_depth=16, max_features=auto; total time=   0.0s\n"
     ]
    },
    {
     "name": "stderr",
     "output_type": "stream",
     "text": [
      "C:\\Users\\user\\anaconda3\\lib\\site-packages\\sklearn\\tree\\_classes.py:269: FutureWarning: `max_features='auto'` has been deprecated in 1.1 and will be removed in 1.3. To keep the past behaviour, explicitly set `max_features='sqrt'`.\n",
      "  warnings.warn(\n",
      "C:\\Users\\user\\anaconda3\\lib\\site-packages\\sklearn\\tree\\_classes.py:269: FutureWarning: `max_features='auto'` has been deprecated in 1.1 and will be removed in 1.3. To keep the past behaviour, explicitly set `max_features='sqrt'`.\n",
      "  warnings.warn(\n",
      "C:\\Users\\user\\anaconda3\\lib\\site-packages\\sklearn\\tree\\_classes.py:269: FutureWarning: `max_features='auto'` has been deprecated in 1.1 and will be removed in 1.3. To keep the past behaviour, explicitly set `max_features='sqrt'`.\n",
      "  warnings.warn(\n"
     ]
    },
    {
     "name": "stdout",
     "output_type": "stream",
     "text": [
      "[CV] END ....criterion=gini, max_depth=16, max_features=auto; total time=   0.0s\n",
      "[CV] END ....criterion=gini, max_depth=16, max_features=auto; total time=   0.0s\n",
      "[CV] END ....criterion=gini, max_depth=16, max_features=auto; total time=   0.0s\n"
     ]
    },
    {
     "name": "stderr",
     "output_type": "stream",
     "text": [
      "C:\\Users\\user\\anaconda3\\lib\\site-packages\\sklearn\\tree\\_classes.py:269: FutureWarning: `max_features='auto'` has been deprecated in 1.1 and will be removed in 1.3. To keep the past behaviour, explicitly set `max_features='sqrt'`.\n",
      "  warnings.warn(\n",
      "C:\\Users\\user\\anaconda3\\lib\\site-packages\\sklearn\\tree\\_classes.py:269: FutureWarning: `max_features='auto'` has been deprecated in 1.1 and will be removed in 1.3. To keep the past behaviour, explicitly set `max_features='sqrt'`.\n",
      "  warnings.warn(\n",
      "C:\\Users\\user\\anaconda3\\lib\\site-packages\\sklearn\\tree\\_classes.py:269: FutureWarning: `max_features='auto'` has been deprecated in 1.1 and will be removed in 1.3. To keep the past behaviour, explicitly set `max_features='sqrt'`.\n",
      "  warnings.warn(\n"
     ]
    },
    {
     "name": "stdout",
     "output_type": "stream",
     "text": [
      "[CV] END ....criterion=gini, max_depth=16, max_features=auto; total time=   0.0s\n",
      "[CV] END ....criterion=gini, max_depth=16, max_features=auto; total time=   0.0s\n",
      "[CV] END ....criterion=gini, max_depth=16, max_features=auto; total time=   0.0s\n",
      "[CV] END ....criterion=gini, max_depth=16, max_features=sqrt; total time=   0.0s\n",
      "[CV] END ....criterion=gini, max_depth=16, max_features=sqrt; total time=   0.1s\n",
      "[CV] END ....criterion=gini, max_depth=16, max_features=sqrt; total time=   0.0s\n",
      "[CV] END ....criterion=gini, max_depth=16, max_features=sqrt; total time=   0.0s\n",
      "[CV] END ....criterion=gini, max_depth=16, max_features=sqrt; total time=   0.0s\n",
      "[CV] END ....criterion=gini, max_depth=16, max_features=sqrt; total time=   0.0s\n",
      "[CV] END ....criterion=gini, max_depth=16, max_features=sqrt; total time=   0.0s\n",
      "[CV] END ....criterion=gini, max_depth=16, max_features=sqrt; total time=   0.0s\n",
      "[CV] END ....criterion=gini, max_depth=16, max_features=sqrt; total time=   0.0s\n",
      "[CV] END ....criterion=gini, max_depth=16, max_features=sqrt; total time=   0.0s\n",
      "[CV] END ....criterion=gini, max_depth=16, max_features=log2; total time=   0.0s\n",
      "[CV] END ....criterion=gini, max_depth=16, max_features=log2; total time=   0.0s\n",
      "[CV] END ....criterion=gini, max_depth=16, max_features=log2; total time=   0.0s\n",
      "[CV] END ....criterion=gini, max_depth=16, max_features=log2; total time=   0.0s\n",
      "[CV] END ....criterion=gini, max_depth=16, max_features=log2; total time=   0.0s\n",
      "[CV] END ....criterion=gini, max_depth=16, max_features=log2; total time=   0.0s\n",
      "[CV] END ....criterion=gini, max_depth=16, max_features=log2; total time=   0.0s\n",
      "[CV] END ....criterion=gini, max_depth=16, max_features=log2; total time=   0.0s\n",
      "[CV] END ....criterion=gini, max_depth=16, max_features=log2; total time=   0.0s\n",
      "[CV] END ....criterion=gini, max_depth=16, max_features=log2; total time=   0.0s\n",
      "[CV] END ....criterion=gini, max_depth=16, max_features=None; total time=   0.1s\n",
      "[CV] END ....criterion=gini, max_depth=16, max_features=None; total time=   0.2s\n",
      "[CV] END ....criterion=gini, max_depth=16, max_features=None; total time=   0.2s\n",
      "[CV] END ....criterion=gini, max_depth=16, max_features=None; total time=   0.2s\n",
      "[CV] END ....criterion=gini, max_depth=16, max_features=None; total time=   0.2s\n",
      "[CV] END ....criterion=gini, max_depth=16, max_features=None; total time=   0.3s\n",
      "[CV] END ....criterion=gini, max_depth=16, max_features=None; total time=   0.1s\n",
      "[CV] END ....criterion=gini, max_depth=16, max_features=None; total time=   0.1s\n",
      "[CV] END ....criterion=gini, max_depth=16, max_features=None; total time=   0.1s\n",
      "[CV] END ....criterion=gini, max_depth=16, max_features=None; total time=   0.1s\n",
      "[CV] END ....criterion=gini, max_depth=17, max_features=auto; total time=   0.0s\n",
      "[CV] END ....criterion=gini, max_depth=17, max_features=auto; total time=   0.0s\n"
     ]
    },
    {
     "name": "stderr",
     "output_type": "stream",
     "text": [
      "C:\\Users\\user\\anaconda3\\lib\\site-packages\\sklearn\\tree\\_classes.py:269: FutureWarning: `max_features='auto'` has been deprecated in 1.1 and will be removed in 1.3. To keep the past behaviour, explicitly set `max_features='sqrt'`.\n",
      "  warnings.warn(\n",
      "C:\\Users\\user\\anaconda3\\lib\\site-packages\\sklearn\\tree\\_classes.py:269: FutureWarning: `max_features='auto'` has been deprecated in 1.1 and will be removed in 1.3. To keep the past behaviour, explicitly set `max_features='sqrt'`.\n",
      "  warnings.warn(\n",
      "C:\\Users\\user\\anaconda3\\lib\\site-packages\\sklearn\\tree\\_classes.py:269: FutureWarning: `max_features='auto'` has been deprecated in 1.1 and will be removed in 1.3. To keep the past behaviour, explicitly set `max_features='sqrt'`.\n",
      "  warnings.warn(\n"
     ]
    },
    {
     "name": "stdout",
     "output_type": "stream",
     "text": [
      "[CV] END ....criterion=gini, max_depth=17, max_features=auto; total time=   0.0s\n",
      "[CV] END ....criterion=gini, max_depth=17, max_features=auto; total time=   0.0s\n",
      "[CV] END ....criterion=gini, max_depth=17, max_features=auto; total time=   0.0s\n"
     ]
    },
    {
     "name": "stderr",
     "output_type": "stream",
     "text": [
      "C:\\Users\\user\\anaconda3\\lib\\site-packages\\sklearn\\tree\\_classes.py:269: FutureWarning: `max_features='auto'` has been deprecated in 1.1 and will be removed in 1.3. To keep the past behaviour, explicitly set `max_features='sqrt'`.\n",
      "  warnings.warn(\n",
      "C:\\Users\\user\\anaconda3\\lib\\site-packages\\sklearn\\tree\\_classes.py:269: FutureWarning: `max_features='auto'` has been deprecated in 1.1 and will be removed in 1.3. To keep the past behaviour, explicitly set `max_features='sqrt'`.\n",
      "  warnings.warn(\n",
      "C:\\Users\\user\\anaconda3\\lib\\site-packages\\sklearn\\tree\\_classes.py:269: FutureWarning: `max_features='auto'` has been deprecated in 1.1 and will be removed in 1.3. To keep the past behaviour, explicitly set `max_features='sqrt'`.\n",
      "  warnings.warn(\n"
     ]
    },
    {
     "name": "stdout",
     "output_type": "stream",
     "text": [
      "[CV] END ....criterion=gini, max_depth=17, max_features=auto; total time=   0.0s\n",
      "[CV] END ....criterion=gini, max_depth=17, max_features=auto; total time=   0.0s\n",
      "[CV] END ....criterion=gini, max_depth=17, max_features=auto; total time=   0.0s\n"
     ]
    },
    {
     "name": "stderr",
     "output_type": "stream",
     "text": [
      "C:\\Users\\user\\anaconda3\\lib\\site-packages\\sklearn\\tree\\_classes.py:269: FutureWarning: `max_features='auto'` has been deprecated in 1.1 and will be removed in 1.3. To keep the past behaviour, explicitly set `max_features='sqrt'`.\n",
      "  warnings.warn(\n",
      "C:\\Users\\user\\anaconda3\\lib\\site-packages\\sklearn\\tree\\_classes.py:269: FutureWarning: `max_features='auto'` has been deprecated in 1.1 and will be removed in 1.3. To keep the past behaviour, explicitly set `max_features='sqrt'`.\n",
      "  warnings.warn(\n",
      "C:\\Users\\user\\anaconda3\\lib\\site-packages\\sklearn\\tree\\_classes.py:269: FutureWarning: `max_features='auto'` has been deprecated in 1.1 and will be removed in 1.3. To keep the past behaviour, explicitly set `max_features='sqrt'`.\n",
      "  warnings.warn(\n"
     ]
    },
    {
     "name": "stdout",
     "output_type": "stream",
     "text": [
      "[CV] END ....criterion=gini, max_depth=17, max_features=auto; total time=   0.0s\n",
      "[CV] END ....criterion=gini, max_depth=17, max_features=auto; total time=   0.0s\n",
      "[CV] END ....criterion=gini, max_depth=17, max_features=sqrt; total time=   0.0s\n",
      "[CV] END ....criterion=gini, max_depth=17, max_features=sqrt; total time=   0.0s\n"
     ]
    },
    {
     "name": "stderr",
     "output_type": "stream",
     "text": [
      "C:\\Users\\user\\anaconda3\\lib\\site-packages\\sklearn\\tree\\_classes.py:269: FutureWarning: `max_features='auto'` has been deprecated in 1.1 and will be removed in 1.3. To keep the past behaviour, explicitly set `max_features='sqrt'`.\n",
      "  warnings.warn(\n"
     ]
    },
    {
     "name": "stdout",
     "output_type": "stream",
     "text": [
      "[CV] END ....criterion=gini, max_depth=17, max_features=sqrt; total time=   0.0s\n",
      "[CV] END ....criterion=gini, max_depth=17, max_features=sqrt; total time=   0.0s\n",
      "[CV] END ....criterion=gini, max_depth=17, max_features=sqrt; total time=   0.0s\n",
      "[CV] END ....criterion=gini, max_depth=17, max_features=sqrt; total time=   0.0s\n",
      "[CV] END ....criterion=gini, max_depth=17, max_features=sqrt; total time=   0.0s\n",
      "[CV] END ....criterion=gini, max_depth=17, max_features=sqrt; total time=   0.0s\n",
      "[CV] END ....criterion=gini, max_depth=17, max_features=sqrt; total time=   0.0s\n",
      "[CV] END ....criterion=gini, max_depth=17, max_features=sqrt; total time=   0.0s\n",
      "[CV] END ....criterion=gini, max_depth=17, max_features=log2; total time=   0.0s\n",
      "[CV] END ....criterion=gini, max_depth=17, max_features=log2; total time=   0.0s\n",
      "[CV] END ....criterion=gini, max_depth=17, max_features=log2; total time=   0.0s\n",
      "[CV] END ....criterion=gini, max_depth=17, max_features=log2; total time=   0.0s\n",
      "[CV] END ....criterion=gini, max_depth=17, max_features=log2; total time=   0.0s\n",
      "[CV] END ....criterion=gini, max_depth=17, max_features=log2; total time=   0.0s\n",
      "[CV] END ....criterion=gini, max_depth=17, max_features=log2; total time=   0.0s\n",
      "[CV] END ....criterion=gini, max_depth=17, max_features=log2; total time=   0.0s\n",
      "[CV] END ....criterion=gini, max_depth=17, max_features=log2; total time=   0.0s\n",
      "[CV] END ....criterion=gini, max_depth=17, max_features=log2; total time=   0.0s\n",
      "[CV] END ....criterion=gini, max_depth=17, max_features=None; total time=   0.1s\n",
      "[CV] END ....criterion=gini, max_depth=17, max_features=None; total time=   0.1s\n",
      "[CV] END ....criterion=gini, max_depth=17, max_features=None; total time=   0.1s\n",
      "[CV] END ....criterion=gini, max_depth=17, max_features=None; total time=   0.1s\n",
      "[CV] END ....criterion=gini, max_depth=17, max_features=None; total time=   0.2s\n",
      "[CV] END ....criterion=gini, max_depth=17, max_features=None; total time=   0.1s\n",
      "[CV] END ....criterion=gini, max_depth=17, max_features=None; total time=   0.1s\n",
      "[CV] END ....criterion=gini, max_depth=17, max_features=None; total time=   0.1s\n",
      "[CV] END ....criterion=gini, max_depth=17, max_features=None; total time=   0.1s\n",
      "[CV] END ....criterion=gini, max_depth=17, max_features=None; total time=   0.1s\n",
      "[CV] END ....criterion=gini, max_depth=18, max_features=auto; total time=   0.0s\n",
      "[CV] END ....criterion=gini, max_depth=18, max_features=auto; total time=   0.0s\n"
     ]
    },
    {
     "name": "stderr",
     "output_type": "stream",
     "text": [
      "C:\\Users\\user\\anaconda3\\lib\\site-packages\\sklearn\\tree\\_classes.py:269: FutureWarning: `max_features='auto'` has been deprecated in 1.1 and will be removed in 1.3. To keep the past behaviour, explicitly set `max_features='sqrt'`.\n",
      "  warnings.warn(\n",
      "C:\\Users\\user\\anaconda3\\lib\\site-packages\\sklearn\\tree\\_classes.py:269: FutureWarning: `max_features='auto'` has been deprecated in 1.1 and will be removed in 1.3. To keep the past behaviour, explicitly set `max_features='sqrt'`.\n",
      "  warnings.warn(\n",
      "C:\\Users\\user\\anaconda3\\lib\\site-packages\\sklearn\\tree\\_classes.py:269: FutureWarning: `max_features='auto'` has been deprecated in 1.1 and will be removed in 1.3. To keep the past behaviour, explicitly set `max_features='sqrt'`.\n",
      "  warnings.warn(\n"
     ]
    },
    {
     "name": "stdout",
     "output_type": "stream",
     "text": [
      "[CV] END ....criterion=gini, max_depth=18, max_features=auto; total time=   0.0s\n",
      "[CV] END ....criterion=gini, max_depth=18, max_features=auto; total time=   0.0s\n",
      "[CV] END ....criterion=gini, max_depth=18, max_features=auto; total time=   0.0s\n"
     ]
    },
    {
     "name": "stderr",
     "output_type": "stream",
     "text": [
      "C:\\Users\\user\\anaconda3\\lib\\site-packages\\sklearn\\tree\\_classes.py:269: FutureWarning: `max_features='auto'` has been deprecated in 1.1 and will be removed in 1.3. To keep the past behaviour, explicitly set `max_features='sqrt'`.\n",
      "  warnings.warn(\n",
      "C:\\Users\\user\\anaconda3\\lib\\site-packages\\sklearn\\tree\\_classes.py:269: FutureWarning: `max_features='auto'` has been deprecated in 1.1 and will be removed in 1.3. To keep the past behaviour, explicitly set `max_features='sqrt'`.\n",
      "  warnings.warn(\n",
      "C:\\Users\\user\\anaconda3\\lib\\site-packages\\sklearn\\tree\\_classes.py:269: FutureWarning: `max_features='auto'` has been deprecated in 1.1 and will be removed in 1.3. To keep the past behaviour, explicitly set `max_features='sqrt'`.\n",
      "  warnings.warn(\n"
     ]
    },
    {
     "name": "stdout",
     "output_type": "stream",
     "text": [
      "[CV] END ....criterion=gini, max_depth=18, max_features=auto; total time=   0.0s\n",
      "[CV] END ....criterion=gini, max_depth=18, max_features=auto; total time=   0.0s\n",
      "[CV] END ....criterion=gini, max_depth=18, max_features=auto; total time=   0.0s\n"
     ]
    },
    {
     "name": "stderr",
     "output_type": "stream",
     "text": [
      "C:\\Users\\user\\anaconda3\\lib\\site-packages\\sklearn\\tree\\_classes.py:269: FutureWarning: `max_features='auto'` has been deprecated in 1.1 and will be removed in 1.3. To keep the past behaviour, explicitly set `max_features='sqrt'`.\n",
      "  warnings.warn(\n",
      "C:\\Users\\user\\anaconda3\\lib\\site-packages\\sklearn\\tree\\_classes.py:269: FutureWarning: `max_features='auto'` has been deprecated in 1.1 and will be removed in 1.3. To keep the past behaviour, explicitly set `max_features='sqrt'`.\n",
      "  warnings.warn(\n",
      "C:\\Users\\user\\anaconda3\\lib\\site-packages\\sklearn\\tree\\_classes.py:269: FutureWarning: `max_features='auto'` has been deprecated in 1.1 and will be removed in 1.3. To keep the past behaviour, explicitly set `max_features='sqrt'`.\n",
      "  warnings.warn(\n"
     ]
    },
    {
     "name": "stdout",
     "output_type": "stream",
     "text": [
      "[CV] END ....criterion=gini, max_depth=18, max_features=auto; total time=   0.0s\n",
      "[CV] END ....criterion=gini, max_depth=18, max_features=auto; total time=   0.0s\n",
      "[CV] END ....criterion=gini, max_depth=18, max_features=sqrt; total time=   0.0s\n"
     ]
    },
    {
     "name": "stderr",
     "output_type": "stream",
     "text": [
      "C:\\Users\\user\\anaconda3\\lib\\site-packages\\sklearn\\tree\\_classes.py:269: FutureWarning: `max_features='auto'` has been deprecated in 1.1 and will be removed in 1.3. To keep the past behaviour, explicitly set `max_features='sqrt'`.\n",
      "  warnings.warn(\n"
     ]
    },
    {
     "name": "stdout",
     "output_type": "stream",
     "text": [
      "[CV] END ....criterion=gini, max_depth=18, max_features=sqrt; total time=   0.0s\n",
      "[CV] END ....criterion=gini, max_depth=18, max_features=sqrt; total time=   0.0s\n",
      "[CV] END ....criterion=gini, max_depth=18, max_features=sqrt; total time=   0.0s\n",
      "[CV] END ....criterion=gini, max_depth=18, max_features=sqrt; total time=   0.0s\n",
      "[CV] END ....criterion=gini, max_depth=18, max_features=sqrt; total time=   0.0s\n",
      "[CV] END ....criterion=gini, max_depth=18, max_features=sqrt; total time=   0.0s\n",
      "[CV] END ....criterion=gini, max_depth=18, max_features=sqrt; total time=   0.0s\n",
      "[CV] END ....criterion=gini, max_depth=18, max_features=sqrt; total time=   0.0s\n",
      "[CV] END ....criterion=gini, max_depth=18, max_features=sqrt; total time=   0.0s\n",
      "[CV] END ....criterion=gini, max_depth=18, max_features=log2; total time=   0.0s\n",
      "[CV] END ....criterion=gini, max_depth=18, max_features=log2; total time=   0.0s\n",
      "[CV] END ....criterion=gini, max_depth=18, max_features=log2; total time=   0.0s\n",
      "[CV] END ....criterion=gini, max_depth=18, max_features=log2; total time=   0.0s\n",
      "[CV] END ....criterion=gini, max_depth=18, max_features=log2; total time=   0.0s\n",
      "[CV] END ....criterion=gini, max_depth=18, max_features=log2; total time=   0.0s\n",
      "[CV] END ....criterion=gini, max_depth=18, max_features=log2; total time=   0.0s\n",
      "[CV] END ....criterion=gini, max_depth=18, max_features=log2; total time=   0.0s\n",
      "[CV] END ....criterion=gini, max_depth=18, max_features=log2; total time=   0.0s\n",
      "[CV] END ....criterion=gini, max_depth=18, max_features=log2; total time=   0.0s\n",
      "[CV] END ....criterion=gini, max_depth=18, max_features=None; total time=   0.1s\n",
      "[CV] END ....criterion=gini, max_depth=18, max_features=None; total time=   0.1s\n",
      "[CV] END ....criterion=gini, max_depth=18, max_features=None; total time=   0.1s\n",
      "[CV] END ....criterion=gini, max_depth=18, max_features=None; total time=   0.1s\n",
      "[CV] END ....criterion=gini, max_depth=18, max_features=None; total time=   0.1s\n",
      "[CV] END ....criterion=gini, max_depth=18, max_features=None; total time=   0.1s\n",
      "[CV] END ....criterion=gini, max_depth=18, max_features=None; total time=   0.2s\n",
      "[CV] END ....criterion=gini, max_depth=18, max_features=None; total time=   0.1s\n",
      "[CV] END ....criterion=gini, max_depth=18, max_features=None; total time=   0.1s\n",
      "[CV] END ....criterion=gini, max_depth=18, max_features=None; total time=   0.1s\n",
      "[CV] END ....criterion=gini, max_depth=19, max_features=auto; total time=   0.0s\n",
      "[CV] END ....criterion=gini, max_depth=19, max_features=auto; total time=   0.0s\n"
     ]
    },
    {
     "name": "stderr",
     "output_type": "stream",
     "text": [
      "C:\\Users\\user\\anaconda3\\lib\\site-packages\\sklearn\\tree\\_classes.py:269: FutureWarning: `max_features='auto'` has been deprecated in 1.1 and will be removed in 1.3. To keep the past behaviour, explicitly set `max_features='sqrt'`.\n",
      "  warnings.warn(\n",
      "C:\\Users\\user\\anaconda3\\lib\\site-packages\\sklearn\\tree\\_classes.py:269: FutureWarning: `max_features='auto'` has been deprecated in 1.1 and will be removed in 1.3. To keep the past behaviour, explicitly set `max_features='sqrt'`.\n",
      "  warnings.warn(\n",
      "C:\\Users\\user\\anaconda3\\lib\\site-packages\\sklearn\\tree\\_classes.py:269: FutureWarning: `max_features='auto'` has been deprecated in 1.1 and will be removed in 1.3. To keep the past behaviour, explicitly set `max_features='sqrt'`.\n",
      "  warnings.warn(\n"
     ]
    },
    {
     "name": "stdout",
     "output_type": "stream",
     "text": [
      "[CV] END ....criterion=gini, max_depth=19, max_features=auto; total time=   0.0s\n",
      "[CV] END ....criterion=gini, max_depth=19, max_features=auto; total time=   0.0s\n",
      "[CV] END ....criterion=gini, max_depth=19, max_features=auto; total time=   0.0s\n",
      "[CV] END ....criterion=gini, max_depth=19, max_features=auto; total time=   0.0s\n"
     ]
    },
    {
     "name": "stderr",
     "output_type": "stream",
     "text": [
      "C:\\Users\\user\\anaconda3\\lib\\site-packages\\sklearn\\tree\\_classes.py:269: FutureWarning: `max_features='auto'` has been deprecated in 1.1 and will be removed in 1.3. To keep the past behaviour, explicitly set `max_features='sqrt'`.\n",
      "  warnings.warn(\n",
      "C:\\Users\\user\\anaconda3\\lib\\site-packages\\sklearn\\tree\\_classes.py:269: FutureWarning: `max_features='auto'` has been deprecated in 1.1 and will be removed in 1.3. To keep the past behaviour, explicitly set `max_features='sqrt'`.\n",
      "  warnings.warn(\n",
      "C:\\Users\\user\\anaconda3\\lib\\site-packages\\sklearn\\tree\\_classes.py:269: FutureWarning: `max_features='auto'` has been deprecated in 1.1 and will be removed in 1.3. To keep the past behaviour, explicitly set `max_features='sqrt'`.\n",
      "  warnings.warn(\n",
      "C:\\Users\\user\\anaconda3\\lib\\site-packages\\sklearn\\tree\\_classes.py:269: FutureWarning: `max_features='auto'` has been deprecated in 1.1 and will be removed in 1.3. To keep the past behaviour, explicitly set `max_features='sqrt'`.\n",
      "  warnings.warn(\n",
      "C:\\Users\\user\\anaconda3\\lib\\site-packages\\sklearn\\tree\\_classes.py:269: FutureWarning: `max_features='auto'` has been deprecated in 1.1 and will be removed in 1.3. To keep the past behaviour, explicitly set `max_features='sqrt'`.\n",
      "  warnings.warn(\n",
      "C:\\Users\\user\\anaconda3\\lib\\site-packages\\sklearn\\tree\\_classes.py:269: FutureWarning: `max_features='auto'` has been deprecated in 1.1 and will be removed in 1.3. To keep the past behaviour, explicitly set `max_features='sqrt'`.\n",
      "  warnings.warn(\n"
     ]
    },
    {
     "name": "stdout",
     "output_type": "stream",
     "text": [
      "[CV] END ....criterion=gini, max_depth=19, max_features=auto; total time=   0.0s\n",
      "[CV] END ....criterion=gini, max_depth=19, max_features=auto; total time=   0.0s\n",
      "[CV] END ....criterion=gini, max_depth=19, max_features=auto; total time=   0.0s\n"
     ]
    },
    {
     "name": "stderr",
     "output_type": "stream",
     "text": [
      "C:\\Users\\user\\anaconda3\\lib\\site-packages\\sklearn\\tree\\_classes.py:269: FutureWarning: `max_features='auto'` has been deprecated in 1.1 and will be removed in 1.3. To keep the past behaviour, explicitly set `max_features='sqrt'`.\n",
      "  warnings.warn(\n"
     ]
    },
    {
     "name": "stdout",
     "output_type": "stream",
     "text": [
      "[CV] END ....criterion=gini, max_depth=19, max_features=auto; total time=   0.0s\n",
      "[CV] END ....criterion=gini, max_depth=19, max_features=sqrt; total time=   0.0s\n",
      "[CV] END ....criterion=gini, max_depth=19, max_features=sqrt; total time=   0.0s\n",
      "[CV] END ....criterion=gini, max_depth=19, max_features=sqrt; total time=   0.0s\n",
      "[CV] END ....criterion=gini, max_depth=19, max_features=sqrt; total time=   0.0s\n",
      "[CV] END ....criterion=gini, max_depth=19, max_features=sqrt; total time=   0.0s\n",
      "[CV] END ....criterion=gini, max_depth=19, max_features=sqrt; total time=   0.0s\n",
      "[CV] END ....criterion=gini, max_depth=19, max_features=sqrt; total time=   0.0s\n",
      "[CV] END ....criterion=gini, max_depth=19, max_features=sqrt; total time=   0.0s\n",
      "[CV] END ....criterion=gini, max_depth=19, max_features=sqrt; total time=   0.0s\n",
      "[CV] END ....criterion=gini, max_depth=19, max_features=sqrt; total time=   0.0s\n",
      "[CV] END ....criterion=gini, max_depth=19, max_features=log2; total time=   0.0s\n",
      "[CV] END ....criterion=gini, max_depth=19, max_features=log2; total time=   0.0s\n",
      "[CV] END ....criterion=gini, max_depth=19, max_features=log2; total time=   0.0s\n",
      "[CV] END ....criterion=gini, max_depth=19, max_features=log2; total time=   0.0s\n",
      "[CV] END ....criterion=gini, max_depth=19, max_features=log2; total time=   0.0s\n",
      "[CV] END ....criterion=gini, max_depth=19, max_features=log2; total time=   0.0s\n",
      "[CV] END ....criterion=gini, max_depth=19, max_features=log2; total time=   0.0s\n",
      "[CV] END ....criterion=gini, max_depth=19, max_features=log2; total time=   0.0s\n",
      "[CV] END ....criterion=gini, max_depth=19, max_features=log2; total time=   0.0s\n",
      "[CV] END ....criterion=gini, max_depth=19, max_features=log2; total time=   0.0s\n",
      "[CV] END ....criterion=gini, max_depth=19, max_features=None; total time=   0.1s\n",
      "[CV] END ....criterion=gini, max_depth=19, max_features=None; total time=   0.1s\n",
      "[CV] END ....criterion=gini, max_depth=19, max_features=None; total time=   0.1s\n",
      "[CV] END ....criterion=gini, max_depth=19, max_features=None; total time=   0.1s\n",
      "[CV] END ....criterion=gini, max_depth=19, max_features=None; total time=   0.1s\n",
      "[CV] END ....criterion=gini, max_depth=19, max_features=None; total time=   0.1s\n",
      "[CV] END ....criterion=gini, max_depth=19, max_features=None; total time=   0.1s\n",
      "[CV] END ....criterion=gini, max_depth=19, max_features=None; total time=   0.1s\n",
      "[CV] END ....criterion=gini, max_depth=19, max_features=None; total time=   0.1s\n",
      "[CV] END ....criterion=gini, max_depth=19, max_features=None; total time=   0.1s\n",
      "[CV] END ..criterion=entropy, max_depth=2, max_features=auto; total time=   0.0s\n",
      "[CV] END ..criterion=entropy, max_depth=2, max_features=auto; total time=   0.0s\n",
      "[CV] END ..criterion=entropy, max_depth=2, max_features=auto; total time=   0.0s\n",
      "[CV] END ..criterion=entropy, max_depth=2, max_features=auto; total time=   0.0s\n",
      "[CV] END ..criterion=entropy, max_depth=2, max_features=auto; total time=   0.0s\n",
      "[CV] END ..criterion=entropy, max_depth=2, max_features=auto; total time=   0.0s\n",
      "[CV] END ..criterion=entropy, max_depth=2, max_features=auto; total time=   0.0s\n"
     ]
    },
    {
     "name": "stderr",
     "output_type": "stream",
     "text": [
      "C:\\Users\\user\\anaconda3\\lib\\site-packages\\sklearn\\tree\\_classes.py:269: FutureWarning: `max_features='auto'` has been deprecated in 1.1 and will be removed in 1.3. To keep the past behaviour, explicitly set `max_features='sqrt'`.\n",
      "  warnings.warn(\n",
      "C:\\Users\\user\\anaconda3\\lib\\site-packages\\sklearn\\tree\\_classes.py:269: FutureWarning: `max_features='auto'` has been deprecated in 1.1 and will be removed in 1.3. To keep the past behaviour, explicitly set `max_features='sqrt'`.\n",
      "  warnings.warn(\n",
      "C:\\Users\\user\\anaconda3\\lib\\site-packages\\sklearn\\tree\\_classes.py:269: FutureWarning: `max_features='auto'` has been deprecated in 1.1 and will be removed in 1.3. To keep the past behaviour, explicitly set `max_features='sqrt'`.\n",
      "  warnings.warn(\n",
      "C:\\Users\\user\\anaconda3\\lib\\site-packages\\sklearn\\tree\\_classes.py:269: FutureWarning: `max_features='auto'` has been deprecated in 1.1 and will be removed in 1.3. To keep the past behaviour, explicitly set `max_features='sqrt'`.\n",
      "  warnings.warn(\n",
      "C:\\Users\\user\\anaconda3\\lib\\site-packages\\sklearn\\tree\\_classes.py:269: FutureWarning: `max_features='auto'` has been deprecated in 1.1 and will be removed in 1.3. To keep the past behaviour, explicitly set `max_features='sqrt'`.\n",
      "  warnings.warn(\n",
      "C:\\Users\\user\\anaconda3\\lib\\site-packages\\sklearn\\tree\\_classes.py:269: FutureWarning: `max_features='auto'` has been deprecated in 1.1 and will be removed in 1.3. To keep the past behaviour, explicitly set `max_features='sqrt'`.\n",
      "  warnings.warn(\n",
      "C:\\Users\\user\\anaconda3\\lib\\site-packages\\sklearn\\tree\\_classes.py:269: FutureWarning: `max_features='auto'` has been deprecated in 1.1 and will be removed in 1.3. To keep the past behaviour, explicitly set `max_features='sqrt'`.\n",
      "  warnings.warn(\n",
      "C:\\Users\\user\\anaconda3\\lib\\site-packages\\sklearn\\tree\\_classes.py:269: FutureWarning: `max_features='auto'` has been deprecated in 1.1 and will be removed in 1.3. To keep the past behaviour, explicitly set `max_features='sqrt'`.\n",
      "  warnings.warn(\n"
     ]
    },
    {
     "name": "stdout",
     "output_type": "stream",
     "text": [
      "[CV] END ..criterion=entropy, max_depth=2, max_features=auto; total time=   0.0s\n",
      "[CV] END ..criterion=entropy, max_depth=2, max_features=auto; total time=   0.0s\n",
      "[CV] END ..criterion=entropy, max_depth=2, max_features=auto; total time=   0.0s\n",
      "[CV] END ..criterion=entropy, max_depth=2, max_features=sqrt; total time=   0.0s\n",
      "[CV] END ..criterion=entropy, max_depth=2, max_features=sqrt; total time=   0.0s\n",
      "[CV] END ..criterion=entropy, max_depth=2, max_features=sqrt; total time=   0.0s\n"
     ]
    },
    {
     "name": "stderr",
     "output_type": "stream",
     "text": [
      "C:\\Users\\user\\anaconda3\\lib\\site-packages\\sklearn\\tree\\_classes.py:269: FutureWarning: `max_features='auto'` has been deprecated in 1.1 and will be removed in 1.3. To keep the past behaviour, explicitly set `max_features='sqrt'`.\n",
      "  warnings.warn(\n",
      "C:\\Users\\user\\anaconda3\\lib\\site-packages\\sklearn\\tree\\_classes.py:269: FutureWarning: `max_features='auto'` has been deprecated in 1.1 and will be removed in 1.3. To keep the past behaviour, explicitly set `max_features='sqrt'`.\n",
      "  warnings.warn(\n"
     ]
    },
    {
     "name": "stdout",
     "output_type": "stream",
     "text": [
      "[CV] END ..criterion=entropy, max_depth=2, max_features=sqrt; total time=   0.0s\n",
      "[CV] END ..criterion=entropy, max_depth=2, max_features=sqrt; total time=   0.0s\n",
      "[CV] END ..criterion=entropy, max_depth=2, max_features=sqrt; total time=   0.0s\n",
      "[CV] END ..criterion=entropy, max_depth=2, max_features=sqrt; total time=   0.0s\n",
      "[CV] END ..criterion=entropy, max_depth=2, max_features=sqrt; total time=   0.0s\n",
      "[CV] END ..criterion=entropy, max_depth=2, max_features=sqrt; total time=   0.0s\n",
      "[CV] END ..criterion=entropy, max_depth=2, max_features=sqrt; total time=   0.0s\n",
      "[CV] END ..criterion=entropy, max_depth=2, max_features=log2; total time=   0.0s\n",
      "[CV] END ..criterion=entropy, max_depth=2, max_features=log2; total time=   0.0s\n",
      "[CV] END ..criterion=entropy, max_depth=2, max_features=log2; total time=   0.0s\n",
      "[CV] END ..criterion=entropy, max_depth=2, max_features=log2; total time=   0.0s\n",
      "[CV] END ..criterion=entropy, max_depth=2, max_features=log2; total time=   0.0s\n",
      "[CV] END ..criterion=entropy, max_depth=2, max_features=log2; total time=   0.0s\n",
      "[CV] END ..criterion=entropy, max_depth=2, max_features=log2; total time=   0.0s\n",
      "[CV] END ..criterion=entropy, max_depth=2, max_features=log2; total time=   0.0s\n",
      "[CV] END ..criterion=entropy, max_depth=2, max_features=log2; total time=   0.0s\n",
      "[CV] END ..criterion=entropy, max_depth=2, max_features=log2; total time=   0.0s\n",
      "[CV] END ..criterion=entropy, max_depth=2, max_features=None; total time=   0.0s\n",
      "[CV] END ..criterion=entropy, max_depth=2, max_features=None; total time=   0.0s\n",
      "[CV] END ..criterion=entropy, max_depth=2, max_features=None; total time=   0.0s\n",
      "[CV] END ..criterion=entropy, max_depth=2, max_features=None; total time=   0.0s\n",
      "[CV] END ..criterion=entropy, max_depth=2, max_features=None; total time=   0.0s\n",
      "[CV] END ..criterion=entropy, max_depth=2, max_features=None; total time=   0.0s\n",
      "[CV] END ..criterion=entropy, max_depth=2, max_features=None; total time=   0.0s\n",
      "[CV] END ..criterion=entropy, max_depth=2, max_features=None; total time=   0.0s\n",
      "[CV] END ..criterion=entropy, max_depth=2, max_features=None; total time=   0.0s\n",
      "[CV] END ..criterion=entropy, max_depth=2, max_features=None; total time=   0.0s\n",
      "[CV] END ..criterion=entropy, max_depth=3, max_features=auto; total time=   0.0s\n",
      "[CV] END ..criterion=entropy, max_depth=3, max_features=auto; total time=   0.0s\n",
      "[CV] END ..criterion=entropy, max_depth=3, max_features=auto; total time=   0.0s\n"
     ]
    },
    {
     "name": "stderr",
     "output_type": "stream",
     "text": [
      "C:\\Users\\user\\anaconda3\\lib\\site-packages\\sklearn\\tree\\_classes.py:269: FutureWarning: `max_features='auto'` has been deprecated in 1.1 and will be removed in 1.3. To keep the past behaviour, explicitly set `max_features='sqrt'`.\n",
      "  warnings.warn(\n",
      "C:\\Users\\user\\anaconda3\\lib\\site-packages\\sklearn\\tree\\_classes.py:269: FutureWarning: `max_features='auto'` has been deprecated in 1.1 and will be removed in 1.3. To keep the past behaviour, explicitly set `max_features='sqrt'`.\n",
      "  warnings.warn(\n",
      "C:\\Users\\user\\anaconda3\\lib\\site-packages\\sklearn\\tree\\_classes.py:269: FutureWarning: `max_features='auto'` has been deprecated in 1.1 and will be removed in 1.3. To keep the past behaviour, explicitly set `max_features='sqrt'`.\n",
      "  warnings.warn(\n",
      "C:\\Users\\user\\anaconda3\\lib\\site-packages\\sklearn\\tree\\_classes.py:269: FutureWarning: `max_features='auto'` has been deprecated in 1.1 and will be removed in 1.3. To keep the past behaviour, explicitly set `max_features='sqrt'`.\n",
      "  warnings.warn(\n",
      "C:\\Users\\user\\anaconda3\\lib\\site-packages\\sklearn\\tree\\_classes.py:269: FutureWarning: `max_features='auto'` has been deprecated in 1.1 and will be removed in 1.3. To keep the past behaviour, explicitly set `max_features='sqrt'`.\n",
      "  warnings.warn(\n"
     ]
    },
    {
     "name": "stdout",
     "output_type": "stream",
     "text": [
      "[CV] END ..criterion=entropy, max_depth=3, max_features=auto; total time=   0.0s\n",
      "[CV] END ..criterion=entropy, max_depth=3, max_features=auto; total time=   0.0s\n",
      "[CV] END ..criterion=entropy, max_depth=3, max_features=auto; total time=   0.0s\n",
      "[CV] END ..criterion=entropy, max_depth=3, max_features=auto; total time=   0.0s\n"
     ]
    },
    {
     "name": "stderr",
     "output_type": "stream",
     "text": [
      "C:\\Users\\user\\anaconda3\\lib\\site-packages\\sklearn\\tree\\_classes.py:269: FutureWarning: `max_features='auto'` has been deprecated in 1.1 and will be removed in 1.3. To keep the past behaviour, explicitly set `max_features='sqrt'`.\n",
      "  warnings.warn(\n",
      "C:\\Users\\user\\anaconda3\\lib\\site-packages\\sklearn\\tree\\_classes.py:269: FutureWarning: `max_features='auto'` has been deprecated in 1.1 and will be removed in 1.3. To keep the past behaviour, explicitly set `max_features='sqrt'`.\n",
      "  warnings.warn(\n",
      "C:\\Users\\user\\anaconda3\\lib\\site-packages\\sklearn\\tree\\_classes.py:269: FutureWarning: `max_features='auto'` has been deprecated in 1.1 and will be removed in 1.3. To keep the past behaviour, explicitly set `max_features='sqrt'`.\n",
      "  warnings.warn(\n",
      "C:\\Users\\user\\anaconda3\\lib\\site-packages\\sklearn\\tree\\_classes.py:269: FutureWarning: `max_features='auto'` has been deprecated in 1.1 and will be removed in 1.3. To keep the past behaviour, explicitly set `max_features='sqrt'`.\n",
      "  warnings.warn(\n",
      "C:\\Users\\user\\anaconda3\\lib\\site-packages\\sklearn\\tree\\_classes.py:269: FutureWarning: `max_features='auto'` has been deprecated in 1.1 and will be removed in 1.3. To keep the past behaviour, explicitly set `max_features='sqrt'`.\n",
      "  warnings.warn(\n"
     ]
    },
    {
     "name": "stdout",
     "output_type": "stream",
     "text": [
      "[CV] END ..criterion=entropy, max_depth=3, max_features=auto; total time=   0.0s\n",
      "[CV] END ..criterion=entropy, max_depth=3, max_features=auto; total time=   0.0s\n",
      "[CV] END ..criterion=entropy, max_depth=3, max_features=auto; total time=   0.0s\n",
      "[CV] END ..criterion=entropy, max_depth=3, max_features=sqrt; total time=   0.0s\n",
      "[CV] END ..criterion=entropy, max_depth=3, max_features=sqrt; total time=   0.0s\n",
      "[CV] END ..criterion=entropy, max_depth=3, max_features=sqrt; total time=   0.0s\n",
      "[CV] END ..criterion=entropy, max_depth=3, max_features=sqrt; total time=   0.0s\n",
      "[CV] END ..criterion=entropy, max_depth=3, max_features=sqrt; total time=   0.0s\n",
      "[CV] END ..criterion=entropy, max_depth=3, max_features=sqrt; total time=   0.0s\n",
      "[CV] END ..criterion=entropy, max_depth=3, max_features=sqrt; total time=   0.0s\n",
      "[CV] END ..criterion=entropy, max_depth=3, max_features=sqrt; total time=   0.0s\n",
      "[CV] END ..criterion=entropy, max_depth=3, max_features=sqrt; total time=   0.0s\n",
      "[CV] END ..criterion=entropy, max_depth=3, max_features=sqrt; total time=   0.0s\n",
      "[CV] END ..criterion=entropy, max_depth=3, max_features=log2; total time=   0.0s\n",
      "[CV] END ..criterion=entropy, max_depth=3, max_features=log2; total time=   0.0s\n",
      "[CV] END ..criterion=entropy, max_depth=3, max_features=log2; total time=   0.0s\n",
      "[CV] END ..criterion=entropy, max_depth=3, max_features=log2; total time=   0.0s\n",
      "[CV] END ..criterion=entropy, max_depth=3, max_features=log2; total time=   0.0s\n",
      "[CV] END ..criterion=entropy, max_depth=3, max_features=log2; total time=   0.0s\n",
      "[CV] END ..criterion=entropy, max_depth=3, max_features=log2; total time=   0.0s\n",
      "[CV] END ..criterion=entropy, max_depth=3, max_features=log2; total time=   0.0s\n",
      "[CV] END ..criterion=entropy, max_depth=3, max_features=log2; total time=   0.0s\n",
      "[CV] END ..criterion=entropy, max_depth=3, max_features=log2; total time=   0.0s\n",
      "[CV] END ..criterion=entropy, max_depth=3, max_features=None; total time=   0.0s\n",
      "[CV] END ..criterion=entropy, max_depth=3, max_features=None; total time=   0.0s\n",
      "[CV] END ..criterion=entropy, max_depth=3, max_features=None; total time=   0.0s\n",
      "[CV] END ..criterion=entropy, max_depth=3, max_features=None; total time=   0.0s\n",
      "[CV] END ..criterion=entropy, max_depth=3, max_features=None; total time=   0.0s\n",
      "[CV] END ..criterion=entropy, max_depth=3, max_features=None; total time=   0.0s\n",
      "[CV] END ..criterion=entropy, max_depth=3, max_features=None; total time=   0.0s\n",
      "[CV] END ..criterion=entropy, max_depth=3, max_features=None; total time=   0.0s\n",
      "[CV] END ..criterion=entropy, max_depth=3, max_features=None; total time=   0.0s\n",
      "[CV] END ..criterion=entropy, max_depth=3, max_features=None; total time=   0.0s\n",
      "[CV] END ..criterion=entropy, max_depth=4, max_features=auto; total time=   0.0s\n",
      "[CV] END ..criterion=entropy, max_depth=4, max_features=auto; total time=   0.0s\n",
      "[CV] END ..criterion=entropy, max_depth=4, max_features=auto; total time=   0.0s\n",
      "[CV] END ..criterion=entropy, max_depth=4, max_features=auto; total time=   0.0s\n",
      "[CV] END ..criterion=entropy, max_depth=4, max_features=auto; total time=   0.0s\n"
     ]
    },
    {
     "name": "stderr",
     "output_type": "stream",
     "text": [
      "C:\\Users\\user\\anaconda3\\lib\\site-packages\\sklearn\\tree\\_classes.py:269: FutureWarning: `max_features='auto'` has been deprecated in 1.1 and will be removed in 1.3. To keep the past behaviour, explicitly set `max_features='sqrt'`.\n",
      "  warnings.warn(\n",
      "C:\\Users\\user\\anaconda3\\lib\\site-packages\\sklearn\\tree\\_classes.py:269: FutureWarning: `max_features='auto'` has been deprecated in 1.1 and will be removed in 1.3. To keep the past behaviour, explicitly set `max_features='sqrt'`.\n",
      "  warnings.warn(\n",
      "C:\\Users\\user\\anaconda3\\lib\\site-packages\\sklearn\\tree\\_classes.py:269: FutureWarning: `max_features='auto'` has been deprecated in 1.1 and will be removed in 1.3. To keep the past behaviour, explicitly set `max_features='sqrt'`.\n",
      "  warnings.warn(\n",
      "C:\\Users\\user\\anaconda3\\lib\\site-packages\\sklearn\\tree\\_classes.py:269: FutureWarning: `max_features='auto'` has been deprecated in 1.1 and will be removed in 1.3. To keep the past behaviour, explicitly set `max_features='sqrt'`.\n",
      "  warnings.warn(\n",
      "C:\\Users\\user\\anaconda3\\lib\\site-packages\\sklearn\\tree\\_classes.py:269: FutureWarning: `max_features='auto'` has been deprecated in 1.1 and will be removed in 1.3. To keep the past behaviour, explicitly set `max_features='sqrt'`.\n",
      "  warnings.warn(\n",
      "C:\\Users\\user\\anaconda3\\lib\\site-packages\\sklearn\\tree\\_classes.py:269: FutureWarning: `max_features='auto'` has been deprecated in 1.1 and will be removed in 1.3. To keep the past behaviour, explicitly set `max_features='sqrt'`.\n",
      "  warnings.warn(\n"
     ]
    },
    {
     "name": "stdout",
     "output_type": "stream",
     "text": [
      "[CV] END ..criterion=entropy, max_depth=4, max_features=auto; total time=   0.0s\n",
      "[CV] END ..criterion=entropy, max_depth=4, max_features=auto; total time=   0.0s\n",
      "[CV] END ..criterion=entropy, max_depth=4, max_features=auto; total time=   0.0s\n",
      "[CV] END ..criterion=entropy, max_depth=4, max_features=auto; total time=   0.0s\n",
      "[CV] END ..criterion=entropy, max_depth=4, max_features=auto; total time=   0.0s\n",
      "[CV] END ..criterion=entropy, max_depth=4, max_features=sqrt; total time=   0.0s\n"
     ]
    },
    {
     "name": "stderr",
     "output_type": "stream",
     "text": [
      "C:\\Users\\user\\anaconda3\\lib\\site-packages\\sklearn\\tree\\_classes.py:269: FutureWarning: `max_features='auto'` has been deprecated in 1.1 and will be removed in 1.3. To keep the past behaviour, explicitly set `max_features='sqrt'`.\n",
      "  warnings.warn(\n",
      "C:\\Users\\user\\anaconda3\\lib\\site-packages\\sklearn\\tree\\_classes.py:269: FutureWarning: `max_features='auto'` has been deprecated in 1.1 and will be removed in 1.3. To keep the past behaviour, explicitly set `max_features='sqrt'`.\n",
      "  warnings.warn(\n",
      "C:\\Users\\user\\anaconda3\\lib\\site-packages\\sklearn\\tree\\_classes.py:269: FutureWarning: `max_features='auto'` has been deprecated in 1.1 and will be removed in 1.3. To keep the past behaviour, explicitly set `max_features='sqrt'`.\n",
      "  warnings.warn(\n",
      "C:\\Users\\user\\anaconda3\\lib\\site-packages\\sklearn\\tree\\_classes.py:269: FutureWarning: `max_features='auto'` has been deprecated in 1.1 and will be removed in 1.3. To keep the past behaviour, explicitly set `max_features='sqrt'`.\n",
      "  warnings.warn(\n"
     ]
    },
    {
     "name": "stdout",
     "output_type": "stream",
     "text": [
      "[CV] END ..criterion=entropy, max_depth=4, max_features=sqrt; total time=   0.0s\n",
      "[CV] END ..criterion=entropy, max_depth=4, max_features=sqrt; total time=   0.0s\n",
      "[CV] END ..criterion=entropy, max_depth=4, max_features=sqrt; total time=   0.0s\n",
      "[CV] END ..criterion=entropy, max_depth=4, max_features=sqrt; total time=   0.0s\n",
      "[CV] END ..criterion=entropy, max_depth=4, max_features=sqrt; total time=   0.0s\n",
      "[CV] END ..criterion=entropy, max_depth=4, max_features=sqrt; total time=   0.0s\n",
      "[CV] END ..criterion=entropy, max_depth=4, max_features=sqrt; total time=   0.0s\n",
      "[CV] END ..criterion=entropy, max_depth=4, max_features=sqrt; total time=   0.0s\n",
      "[CV] END ..criterion=entropy, max_depth=4, max_features=sqrt; total time=   0.0s\n",
      "[CV] END ..criterion=entropy, max_depth=4, max_features=log2; total time=   0.0s\n",
      "[CV] END ..criterion=entropy, max_depth=4, max_features=log2; total time=   0.0s\n",
      "[CV] END ..criterion=entropy, max_depth=4, max_features=log2; total time=   0.0s\n",
      "[CV] END ..criterion=entropy, max_depth=4, max_features=log2; total time=   0.0s\n",
      "[CV] END ..criterion=entropy, max_depth=4, max_features=log2; total time=   0.0s\n",
      "[CV] END ..criterion=entropy, max_depth=4, max_features=log2; total time=   0.0s\n",
      "[CV] END ..criterion=entropy, max_depth=4, max_features=log2; total time=   0.0s\n",
      "[CV] END ..criterion=entropy, max_depth=4, max_features=log2; total time=   0.0s\n",
      "[CV] END ..criterion=entropy, max_depth=4, max_features=log2; total time=   0.0s\n",
      "[CV] END ..criterion=entropy, max_depth=4, max_features=log2; total time=   0.0s\n",
      "[CV] END ..criterion=entropy, max_depth=4, max_features=None; total time=   0.0s\n",
      "[CV] END ..criterion=entropy, max_depth=4, max_features=None; total time=   0.0s\n",
      "[CV] END ..criterion=entropy, max_depth=4, max_features=None; total time=   0.0s\n",
      "[CV] END ..criterion=entropy, max_depth=4, max_features=None; total time=   0.1s\n",
      "[CV] END ..criterion=entropy, max_depth=4, max_features=None; total time=   0.0s\n",
      "[CV] END ..criterion=entropy, max_depth=4, max_features=None; total time=   0.0s\n",
      "[CV] END ..criterion=entropy, max_depth=4, max_features=None; total time=   0.0s\n",
      "[CV] END ..criterion=entropy, max_depth=4, max_features=None; total time=   0.0s\n",
      "[CV] END ..criterion=entropy, max_depth=4, max_features=None; total time=   0.0s\n",
      "[CV] END ..criterion=entropy, max_depth=4, max_features=None; total time=   0.0s\n",
      "[CV] END ..criterion=entropy, max_depth=5, max_features=auto; total time=   0.0s\n",
      "[CV] END ..criterion=entropy, max_depth=5, max_features=auto; total time=   0.0s\n",
      "[CV] END ..criterion=entropy, max_depth=5, max_features=auto; total time=   0.0s\n",
      "[CV] END ..criterion=entropy, max_depth=5, max_features=auto; total time=   0.0s\n"
     ]
    },
    {
     "name": "stderr",
     "output_type": "stream",
     "text": [
      "C:\\Users\\user\\anaconda3\\lib\\site-packages\\sklearn\\tree\\_classes.py:269: FutureWarning: `max_features='auto'` has been deprecated in 1.1 and will be removed in 1.3. To keep the past behaviour, explicitly set `max_features='sqrt'`.\n",
      "  warnings.warn(\n",
      "C:\\Users\\user\\anaconda3\\lib\\site-packages\\sklearn\\tree\\_classes.py:269: FutureWarning: `max_features='auto'` has been deprecated in 1.1 and will be removed in 1.3. To keep the past behaviour, explicitly set `max_features='sqrt'`.\n",
      "  warnings.warn(\n",
      "C:\\Users\\user\\anaconda3\\lib\\site-packages\\sklearn\\tree\\_classes.py:269: FutureWarning: `max_features='auto'` has been deprecated in 1.1 and will be removed in 1.3. To keep the past behaviour, explicitly set `max_features='sqrt'`.\n",
      "  warnings.warn(\n",
      "C:\\Users\\user\\anaconda3\\lib\\site-packages\\sklearn\\tree\\_classes.py:269: FutureWarning: `max_features='auto'` has been deprecated in 1.1 and will be removed in 1.3. To keep the past behaviour, explicitly set `max_features='sqrt'`.\n",
      "  warnings.warn(\n",
      "C:\\Users\\user\\anaconda3\\lib\\site-packages\\sklearn\\tree\\_classes.py:269: FutureWarning: `max_features='auto'` has been deprecated in 1.1 and will be removed in 1.3. To keep the past behaviour, explicitly set `max_features='sqrt'`.\n",
      "  warnings.warn(\n"
     ]
    },
    {
     "name": "stdout",
     "output_type": "stream",
     "text": [
      "[CV] END ..criterion=entropy, max_depth=5, max_features=auto; total time=   0.0s\n",
      "[CV] END ..criterion=entropy, max_depth=5, max_features=auto; total time=   0.0s\n",
      "[CV] END ..criterion=entropy, max_depth=5, max_features=auto; total time=   0.0s\n",
      "[CV] END ..criterion=entropy, max_depth=5, max_features=auto; total time=   0.0s\n",
      "[CV] END ..criterion=entropy, max_depth=5, max_features=auto; total time=   0.0s\n"
     ]
    },
    {
     "name": "stderr",
     "output_type": "stream",
     "text": [
      "C:\\Users\\user\\anaconda3\\lib\\site-packages\\sklearn\\tree\\_classes.py:269: FutureWarning: `max_features='auto'` has been deprecated in 1.1 and will be removed in 1.3. To keep the past behaviour, explicitly set `max_features='sqrt'`.\n",
      "  warnings.warn(\n",
      "C:\\Users\\user\\anaconda3\\lib\\site-packages\\sklearn\\tree\\_classes.py:269: FutureWarning: `max_features='auto'` has been deprecated in 1.1 and will be removed in 1.3. To keep the past behaviour, explicitly set `max_features='sqrt'`.\n",
      "  warnings.warn(\n",
      "C:\\Users\\user\\anaconda3\\lib\\site-packages\\sklearn\\tree\\_classes.py:269: FutureWarning: `max_features='auto'` has been deprecated in 1.1 and will be removed in 1.3. To keep the past behaviour, explicitly set `max_features='sqrt'`.\n",
      "  warnings.warn(\n",
      "C:\\Users\\user\\anaconda3\\lib\\site-packages\\sklearn\\tree\\_classes.py:269: FutureWarning: `max_features='auto'` has been deprecated in 1.1 and will be removed in 1.3. To keep the past behaviour, explicitly set `max_features='sqrt'`.\n",
      "  warnings.warn(\n",
      "C:\\Users\\user\\anaconda3\\lib\\site-packages\\sklearn\\tree\\_classes.py:269: FutureWarning: `max_features='auto'` has been deprecated in 1.1 and will be removed in 1.3. To keep the past behaviour, explicitly set `max_features='sqrt'`.\n",
      "  warnings.warn(\n"
     ]
    },
    {
     "name": "stdout",
     "output_type": "stream",
     "text": [
      "[CV] END ..criterion=entropy, max_depth=5, max_features=auto; total time=   0.0s\n",
      "[CV] END ..criterion=entropy, max_depth=5, max_features=sqrt; total time=   0.0s\n",
      "[CV] END ..criterion=entropy, max_depth=5, max_features=sqrt; total time=   0.0s\n",
      "[CV] END ..criterion=entropy, max_depth=5, max_features=sqrt; total time=   0.0s\n",
      "[CV] END ..criterion=entropy, max_depth=5, max_features=sqrt; total time=   0.0s\n",
      "[CV] END ..criterion=entropy, max_depth=5, max_features=sqrt; total time=   0.0s\n",
      "[CV] END ..criterion=entropy, max_depth=5, max_features=sqrt; total time=   0.0s\n",
      "[CV] END ..criterion=entropy, max_depth=5, max_features=sqrt; total time=   0.0s\n",
      "[CV] END ..criterion=entropy, max_depth=5, max_features=sqrt; total time=   0.0s\n",
      "[CV] END ..criterion=entropy, max_depth=5, max_features=sqrt; total time=   0.0s\n",
      "[CV] END ..criterion=entropy, max_depth=5, max_features=sqrt; total time=   0.0s\n",
      "[CV] END ..criterion=entropy, max_depth=5, max_features=log2; total time=   0.0s\n",
      "[CV] END ..criterion=entropy, max_depth=5, max_features=log2; total time=   0.0s\n",
      "[CV] END ..criterion=entropy, max_depth=5, max_features=log2; total time=   0.0s\n",
      "[CV] END ..criterion=entropy, max_depth=5, max_features=log2; total time=   0.0s\n",
      "[CV] END ..criterion=entropy, max_depth=5, max_features=log2; total time=   0.0s\n",
      "[CV] END ..criterion=entropy, max_depth=5, max_features=log2; total time=   0.0s\n",
      "[CV] END ..criterion=entropy, max_depth=5, max_features=log2; total time=   0.0s\n",
      "[CV] END ..criterion=entropy, max_depth=5, max_features=log2; total time=   0.0s\n",
      "[CV] END ..criterion=entropy, max_depth=5, max_features=log2; total time=   0.0s\n",
      "[CV] END ..criterion=entropy, max_depth=5, max_features=log2; total time=   0.0s\n",
      "[CV] END ..criterion=entropy, max_depth=5, max_features=None; total time=   0.1s\n",
      "[CV] END ..criterion=entropy, max_depth=5, max_features=None; total time=   0.1s\n",
      "[CV] END ..criterion=entropy, max_depth=5, max_features=None; total time=   0.0s\n",
      "[CV] END ..criterion=entropy, max_depth=5, max_features=None; total time=   0.0s\n",
      "[CV] END ..criterion=entropy, max_depth=5, max_features=None; total time=   0.0s\n",
      "[CV] END ..criterion=entropy, max_depth=5, max_features=None; total time=   0.0s\n",
      "[CV] END ..criterion=entropy, max_depth=5, max_features=None; total time=   0.0s\n",
      "[CV] END ..criterion=entropy, max_depth=5, max_features=None; total time=   0.0s\n",
      "[CV] END ..criterion=entropy, max_depth=5, max_features=None; total time=   0.0s\n",
      "[CV] END ..criterion=entropy, max_depth=5, max_features=None; total time=   0.1s\n",
      "[CV] END ..criterion=entropy, max_depth=6, max_features=auto; total time=   0.0s\n"
     ]
    },
    {
     "name": "stderr",
     "output_type": "stream",
     "text": [
      "C:\\Users\\user\\anaconda3\\lib\\site-packages\\sklearn\\tree\\_classes.py:269: FutureWarning: `max_features='auto'` has been deprecated in 1.1 and will be removed in 1.3. To keep the past behaviour, explicitly set `max_features='sqrt'`.\n",
      "  warnings.warn(\n",
      "C:\\Users\\user\\anaconda3\\lib\\site-packages\\sklearn\\tree\\_classes.py:269: FutureWarning: `max_features='auto'` has been deprecated in 1.1 and will be removed in 1.3. To keep the past behaviour, explicitly set `max_features='sqrt'`.\n",
      "  warnings.warn(\n",
      "C:\\Users\\user\\anaconda3\\lib\\site-packages\\sklearn\\tree\\_classes.py:269: FutureWarning: `max_features='auto'` has been deprecated in 1.1 and will be removed in 1.3. To keep the past behaviour, explicitly set `max_features='sqrt'`.\n",
      "  warnings.warn(\n",
      "C:\\Users\\user\\anaconda3\\lib\\site-packages\\sklearn\\tree\\_classes.py:269: FutureWarning: `max_features='auto'` has been deprecated in 1.1 and will be removed in 1.3. To keep the past behaviour, explicitly set `max_features='sqrt'`.\n",
      "  warnings.warn(\n",
      "C:\\Users\\user\\anaconda3\\lib\\site-packages\\sklearn\\tree\\_classes.py:269: FutureWarning: `max_features='auto'` has been deprecated in 1.1 and will be removed in 1.3. To keep the past behaviour, explicitly set `max_features='sqrt'`.\n",
      "  warnings.warn(\n"
     ]
    },
    {
     "name": "stdout",
     "output_type": "stream",
     "text": [
      "[CV] END ..criterion=entropy, max_depth=6, max_features=auto; total time=   0.0s\n",
      "[CV] END ..criterion=entropy, max_depth=6, max_features=auto; total time=   0.0s\n",
      "[CV] END ..criterion=entropy, max_depth=6, max_features=auto; total time=   0.0s\n",
      "[CV] END ..criterion=entropy, max_depth=6, max_features=auto; total time=   0.0s\n",
      "[CV] END ..criterion=entropy, max_depth=6, max_features=auto; total time=   0.0s\n"
     ]
    },
    {
     "name": "stderr",
     "output_type": "stream",
     "text": [
      "C:\\Users\\user\\anaconda3\\lib\\site-packages\\sklearn\\tree\\_classes.py:269: FutureWarning: `max_features='auto'` has been deprecated in 1.1 and will be removed in 1.3. To keep the past behaviour, explicitly set `max_features='sqrt'`.\n",
      "  warnings.warn(\n",
      "C:\\Users\\user\\anaconda3\\lib\\site-packages\\sklearn\\tree\\_classes.py:269: FutureWarning: `max_features='auto'` has been deprecated in 1.1 and will be removed in 1.3. To keep the past behaviour, explicitly set `max_features='sqrt'`.\n",
      "  warnings.warn(\n",
      "C:\\Users\\user\\anaconda3\\lib\\site-packages\\sklearn\\tree\\_classes.py:269: FutureWarning: `max_features='auto'` has been deprecated in 1.1 and will be removed in 1.3. To keep the past behaviour, explicitly set `max_features='sqrt'`.\n",
      "  warnings.warn(\n",
      "C:\\Users\\user\\anaconda3\\lib\\site-packages\\sklearn\\tree\\_classes.py:269: FutureWarning: `max_features='auto'` has been deprecated in 1.1 and will be removed in 1.3. To keep the past behaviour, explicitly set `max_features='sqrt'`.\n",
      "  warnings.warn(\n"
     ]
    },
    {
     "name": "stdout",
     "output_type": "stream",
     "text": [
      "[CV] END ..criterion=entropy, max_depth=6, max_features=auto; total time=   0.0s\n",
      "[CV] END ..criterion=entropy, max_depth=6, max_features=auto; total time=   0.0s\n",
      "[CV] END ..criterion=entropy, max_depth=6, max_features=auto; total time=   0.0s\n",
      "[CV] END ..criterion=entropy, max_depth=6, max_features=auto; total time=   0.0s\n"
     ]
    },
    {
     "name": "stderr",
     "output_type": "stream",
     "text": [
      "C:\\Users\\user\\anaconda3\\lib\\site-packages\\sklearn\\tree\\_classes.py:269: FutureWarning: `max_features='auto'` has been deprecated in 1.1 and will be removed in 1.3. To keep the past behaviour, explicitly set `max_features='sqrt'`.\n",
      "  warnings.warn(\n"
     ]
    },
    {
     "name": "stdout",
     "output_type": "stream",
     "text": [
      "[CV] END ..criterion=entropy, max_depth=6, max_features=sqrt; total time=   0.0s\n",
      "[CV] END ..criterion=entropy, max_depth=6, max_features=sqrt; total time=   0.0s\n",
      "[CV] END ..criterion=entropy, max_depth=6, max_features=sqrt; total time=   0.0s\n",
      "[CV] END ..criterion=entropy, max_depth=6, max_features=sqrt; total time=   0.0s\n",
      "[CV] END ..criterion=entropy, max_depth=6, max_features=sqrt; total time=   0.0s\n",
      "[CV] END ..criterion=entropy, max_depth=6, max_features=sqrt; total time=   0.0s\n",
      "[CV] END ..criterion=entropy, max_depth=6, max_features=sqrt; total time=   0.0s\n",
      "[CV] END ..criterion=entropy, max_depth=6, max_features=sqrt; total time=   0.0s\n",
      "[CV] END ..criterion=entropy, max_depth=6, max_features=sqrt; total time=   0.0s\n",
      "[CV] END ..criterion=entropy, max_depth=6, max_features=sqrt; total time=   0.0s\n",
      "[CV] END ..criterion=entropy, max_depth=6, max_features=log2; total time=   0.0s\n",
      "[CV] END ..criterion=entropy, max_depth=6, max_features=log2; total time=   0.0s\n",
      "[CV] END ..criterion=entropy, max_depth=6, max_features=log2; total time=   0.0s\n",
      "[CV] END ..criterion=entropy, max_depth=6, max_features=log2; total time=   0.0s\n",
      "[CV] END ..criterion=entropy, max_depth=6, max_features=log2; total time=   0.0s\n",
      "[CV] END ..criterion=entropy, max_depth=6, max_features=log2; total time=   0.0s\n",
      "[CV] END ..criterion=entropy, max_depth=6, max_features=log2; total time=   0.0s\n",
      "[CV] END ..criterion=entropy, max_depth=6, max_features=log2; total time=   0.0s\n",
      "[CV] END ..criterion=entropy, max_depth=6, max_features=log2; total time=   0.0s\n",
      "[CV] END ..criterion=entropy, max_depth=6, max_features=log2; total time=   0.0s\n",
      "[CV] END ..criterion=entropy, max_depth=6, max_features=None; total time=   0.0s\n",
      "[CV] END ..criterion=entropy, max_depth=6, max_features=None; total time=   0.0s\n",
      "[CV] END ..criterion=entropy, max_depth=6, max_features=None; total time=   0.1s\n",
      "[CV] END ..criterion=entropy, max_depth=6, max_features=None; total time=   0.0s\n",
      "[CV] END ..criterion=entropy, max_depth=6, max_features=None; total time=   0.0s\n",
      "[CV] END ..criterion=entropy, max_depth=6, max_features=None; total time=   0.0s\n",
      "[CV] END ..criterion=entropy, max_depth=6, max_features=None; total time=   0.0s\n",
      "[CV] END ..criterion=entropy, max_depth=6, max_features=None; total time=   0.0s\n",
      "[CV] END ..criterion=entropy, max_depth=6, max_features=None; total time=   0.0s\n",
      "[CV] END ..criterion=entropy, max_depth=6, max_features=None; total time=   0.1s\n"
     ]
    },
    {
     "name": "stderr",
     "output_type": "stream",
     "text": [
      "C:\\Users\\user\\anaconda3\\lib\\site-packages\\sklearn\\tree\\_classes.py:269: FutureWarning: `max_features='auto'` has been deprecated in 1.1 and will be removed in 1.3. To keep the past behaviour, explicitly set `max_features='sqrt'`.\n",
      "  warnings.warn(\n",
      "C:\\Users\\user\\anaconda3\\lib\\site-packages\\sklearn\\tree\\_classes.py:269: FutureWarning: `max_features='auto'` has been deprecated in 1.1 and will be removed in 1.3. To keep the past behaviour, explicitly set `max_features='sqrt'`.\n",
      "  warnings.warn(\n",
      "C:\\Users\\user\\anaconda3\\lib\\site-packages\\sklearn\\tree\\_classes.py:269: FutureWarning: `max_features='auto'` has been deprecated in 1.1 and will be removed in 1.3. To keep the past behaviour, explicitly set `max_features='sqrt'`.\n",
      "  warnings.warn(\n",
      "C:\\Users\\user\\anaconda3\\lib\\site-packages\\sklearn\\tree\\_classes.py:269: FutureWarning: `max_features='auto'` has been deprecated in 1.1 and will be removed in 1.3. To keep the past behaviour, explicitly set `max_features='sqrt'`.\n",
      "  warnings.warn(\n"
     ]
    },
    {
     "name": "stdout",
     "output_type": "stream",
     "text": [
      "[CV] END ..criterion=entropy, max_depth=7, max_features=auto; total time=   0.0s\n",
      "[CV] END ..criterion=entropy, max_depth=7, max_features=auto; total time=   0.0s\n",
      "[CV] END ..criterion=entropy, max_depth=7, max_features=auto; total time=   0.0s\n",
      "[CV] END ..criterion=entropy, max_depth=7, max_features=auto; total time=   0.0s\n"
     ]
    },
    {
     "name": "stderr",
     "output_type": "stream",
     "text": [
      "C:\\Users\\user\\anaconda3\\lib\\site-packages\\sklearn\\tree\\_classes.py:269: FutureWarning: `max_features='auto'` has been deprecated in 1.1 and will be removed in 1.3. To keep the past behaviour, explicitly set `max_features='sqrt'`.\n",
      "  warnings.warn(\n",
      "C:\\Users\\user\\anaconda3\\lib\\site-packages\\sklearn\\tree\\_classes.py:269: FutureWarning: `max_features='auto'` has been deprecated in 1.1 and will be removed in 1.3. To keep the past behaviour, explicitly set `max_features='sqrt'`.\n",
      "  warnings.warn(\n",
      "C:\\Users\\user\\anaconda3\\lib\\site-packages\\sklearn\\tree\\_classes.py:269: FutureWarning: `max_features='auto'` has been deprecated in 1.1 and will be removed in 1.3. To keep the past behaviour, explicitly set `max_features='sqrt'`.\n",
      "  warnings.warn(\n",
      "C:\\Users\\user\\anaconda3\\lib\\site-packages\\sklearn\\tree\\_classes.py:269: FutureWarning: `max_features='auto'` has been deprecated in 1.1 and will be removed in 1.3. To keep the past behaviour, explicitly set `max_features='sqrt'`.\n",
      "  warnings.warn(\n"
     ]
    },
    {
     "name": "stdout",
     "output_type": "stream",
     "text": [
      "[CV] END ..criterion=entropy, max_depth=7, max_features=auto; total time=   0.0s\n",
      "[CV] END ..criterion=entropy, max_depth=7, max_features=auto; total time=   0.0s\n",
      "[CV] END ..criterion=entropy, max_depth=7, max_features=auto; total time=   0.0s\n",
      "[CV] END ..criterion=entropy, max_depth=7, max_features=auto; total time=   0.0s\n"
     ]
    },
    {
     "name": "stderr",
     "output_type": "stream",
     "text": [
      "C:\\Users\\user\\anaconda3\\lib\\site-packages\\sklearn\\tree\\_classes.py:269: FutureWarning: `max_features='auto'` has been deprecated in 1.1 and will be removed in 1.3. To keep the past behaviour, explicitly set `max_features='sqrt'`.\n",
      "  warnings.warn(\n",
      "C:\\Users\\user\\anaconda3\\lib\\site-packages\\sklearn\\tree\\_classes.py:269: FutureWarning: `max_features='auto'` has been deprecated in 1.1 and will be removed in 1.3. To keep the past behaviour, explicitly set `max_features='sqrt'`.\n",
      "  warnings.warn(\n"
     ]
    },
    {
     "name": "stdout",
     "output_type": "stream",
     "text": [
      "[CV] END ..criterion=entropy, max_depth=7, max_features=auto; total time=   0.0s\n",
      "[CV] END ..criterion=entropy, max_depth=7, max_features=auto; total time=   0.0s\n",
      "[CV] END ..criterion=entropy, max_depth=7, max_features=sqrt; total time=   0.0s\n",
      "[CV] END ..criterion=entropy, max_depth=7, max_features=sqrt; total time=   0.0s\n",
      "[CV] END ..criterion=entropy, max_depth=7, max_features=sqrt; total time=   0.0s\n",
      "[CV] END ..criterion=entropy, max_depth=7, max_features=sqrt; total time=   0.0s\n",
      "[CV] END ..criterion=entropy, max_depth=7, max_features=sqrt; total time=   0.0s\n",
      "[CV] END ..criterion=entropy, max_depth=7, max_features=sqrt; total time=   0.0s\n",
      "[CV] END ..criterion=entropy, max_depth=7, max_features=sqrt; total time=   0.0s\n",
      "[CV] END ..criterion=entropy, max_depth=7, max_features=sqrt; total time=   0.0s\n",
      "[CV] END ..criterion=entropy, max_depth=7, max_features=sqrt; total time=   0.0s\n",
      "[CV] END ..criterion=entropy, max_depth=7, max_features=sqrt; total time=   0.0s\n",
      "[CV] END ..criterion=entropy, max_depth=7, max_features=log2; total time=   0.0s\n",
      "[CV] END ..criterion=entropy, max_depth=7, max_features=log2; total time=   0.0s\n",
      "[CV] END ..criterion=entropy, max_depth=7, max_features=log2; total time=   0.0s\n",
      "[CV] END ..criterion=entropy, max_depth=7, max_features=log2; total time=   0.0s\n",
      "[CV] END ..criterion=entropy, max_depth=7, max_features=log2; total time=   0.0s\n",
      "[CV] END ..criterion=entropy, max_depth=7, max_features=log2; total time=   0.0s\n",
      "[CV] END ..criterion=entropy, max_depth=7, max_features=log2; total time=   0.0s\n",
      "[CV] END ..criterion=entropy, max_depth=7, max_features=log2; total time=   0.0s\n",
      "[CV] END ..criterion=entropy, max_depth=7, max_features=log2; total time=   0.0s\n",
      "[CV] END ..criterion=entropy, max_depth=7, max_features=log2; total time=   0.0s\n",
      "[CV] END ..criterion=entropy, max_depth=7, max_features=None; total time=   0.1s\n",
      "[CV] END ..criterion=entropy, max_depth=7, max_features=None; total time=   0.1s\n",
      "[CV] END ..criterion=entropy, max_depth=7, max_features=None; total time=   0.1s\n",
      "[CV] END ..criterion=entropy, max_depth=7, max_features=None; total time=   0.1s\n",
      "[CV] END ..criterion=entropy, max_depth=7, max_features=None; total time=   0.1s\n",
      "[CV] END ..criterion=entropy, max_depth=7, max_features=None; total time=   0.1s\n",
      "[CV] END ..criterion=entropy, max_depth=7, max_features=None; total time=   0.1s\n",
      "[CV] END ..criterion=entropy, max_depth=7, max_features=None; total time=   0.1s\n",
      "[CV] END ..criterion=entropy, max_depth=7, max_features=None; total time=   0.1s\n",
      "[CV] END ..criterion=entropy, max_depth=7, max_features=None; total time=   0.1s\n"
     ]
    },
    {
     "name": "stderr",
     "output_type": "stream",
     "text": [
      "C:\\Users\\user\\anaconda3\\lib\\site-packages\\sklearn\\tree\\_classes.py:269: FutureWarning: `max_features='auto'` has been deprecated in 1.1 and will be removed in 1.3. To keep the past behaviour, explicitly set `max_features='sqrt'`.\n",
      "  warnings.warn(\n",
      "C:\\Users\\user\\anaconda3\\lib\\site-packages\\sklearn\\tree\\_classes.py:269: FutureWarning: `max_features='auto'` has been deprecated in 1.1 and will be removed in 1.3. To keep the past behaviour, explicitly set `max_features='sqrt'`.\n",
      "  warnings.warn(\n",
      "C:\\Users\\user\\anaconda3\\lib\\site-packages\\sklearn\\tree\\_classes.py:269: FutureWarning: `max_features='auto'` has been deprecated in 1.1 and will be removed in 1.3. To keep the past behaviour, explicitly set `max_features='sqrt'`.\n",
      "  warnings.warn(\n"
     ]
    },
    {
     "name": "stdout",
     "output_type": "stream",
     "text": [
      "[CV] END ..criterion=entropy, max_depth=8, max_features=auto; total time=   0.0s\n",
      "[CV] END ..criterion=entropy, max_depth=8, max_features=auto; total time=   0.0s\n",
      "[CV] END ..criterion=entropy, max_depth=8, max_features=auto; total time=   0.0s\n",
      "[CV] END ..criterion=entropy, max_depth=8, max_features=auto; total time=   0.0s\n"
     ]
    },
    {
     "name": "stderr",
     "output_type": "stream",
     "text": [
      "C:\\Users\\user\\anaconda3\\lib\\site-packages\\sklearn\\tree\\_classes.py:269: FutureWarning: `max_features='auto'` has been deprecated in 1.1 and will be removed in 1.3. To keep the past behaviour, explicitly set `max_features='sqrt'`.\n",
      "  warnings.warn(\n",
      "C:\\Users\\user\\anaconda3\\lib\\site-packages\\sklearn\\tree\\_classes.py:269: FutureWarning: `max_features='auto'` has been deprecated in 1.1 and will be removed in 1.3. To keep the past behaviour, explicitly set `max_features='sqrt'`.\n",
      "  warnings.warn(\n",
      "C:\\Users\\user\\anaconda3\\lib\\site-packages\\sklearn\\tree\\_classes.py:269: FutureWarning: `max_features='auto'` has been deprecated in 1.1 and will be removed in 1.3. To keep the past behaviour, explicitly set `max_features='sqrt'`.\n",
      "  warnings.warn(\n",
      "C:\\Users\\user\\anaconda3\\lib\\site-packages\\sklearn\\tree\\_classes.py:269: FutureWarning: `max_features='auto'` has been deprecated in 1.1 and will be removed in 1.3. To keep the past behaviour, explicitly set `max_features='sqrt'`.\n",
      "  warnings.warn(\n"
     ]
    },
    {
     "name": "stdout",
     "output_type": "stream",
     "text": [
      "[CV] END ..criterion=entropy, max_depth=8, max_features=auto; total time=   0.0s\n",
      "[CV] END ..criterion=entropy, max_depth=8, max_features=auto; total time=   0.0s\n",
      "[CV] END ..criterion=entropy, max_depth=8, max_features=auto; total time=   0.0s\n"
     ]
    },
    {
     "name": "stderr",
     "output_type": "stream",
     "text": [
      "C:\\Users\\user\\anaconda3\\lib\\site-packages\\sklearn\\tree\\_classes.py:269: FutureWarning: `max_features='auto'` has been deprecated in 1.1 and will be removed in 1.3. To keep the past behaviour, explicitly set `max_features='sqrt'`.\n",
      "  warnings.warn(\n",
      "C:\\Users\\user\\anaconda3\\lib\\site-packages\\sklearn\\tree\\_classes.py:269: FutureWarning: `max_features='auto'` has been deprecated in 1.1 and will be removed in 1.3. To keep the past behaviour, explicitly set `max_features='sqrt'`.\n",
      "  warnings.warn(\n"
     ]
    },
    {
     "name": "stdout",
     "output_type": "stream",
     "text": [
      "[CV] END ..criterion=entropy, max_depth=8, max_features=auto; total time=   0.0s\n",
      "[CV] END ..criterion=entropy, max_depth=8, max_features=auto; total time=   0.0s\n",
      "[CV] END ..criterion=entropy, max_depth=8, max_features=auto; total time=   0.0s\n"
     ]
    },
    {
     "name": "stderr",
     "output_type": "stream",
     "text": [
      "C:\\Users\\user\\anaconda3\\lib\\site-packages\\sklearn\\tree\\_classes.py:269: FutureWarning: `max_features='auto'` has been deprecated in 1.1 and will be removed in 1.3. To keep the past behaviour, explicitly set `max_features='sqrt'`.\n",
      "  warnings.warn(\n"
     ]
    },
    {
     "name": "stdout",
     "output_type": "stream",
     "text": [
      "[CV] END ..criterion=entropy, max_depth=8, max_features=sqrt; total time=   0.0s\n",
      "[CV] END ..criterion=entropy, max_depth=8, max_features=sqrt; total time=   0.0s\n",
      "[CV] END ..criterion=entropy, max_depth=8, max_features=sqrt; total time=   0.0s\n",
      "[CV] END ..criterion=entropy, max_depth=8, max_features=sqrt; total time=   0.0s\n",
      "[CV] END ..criterion=entropy, max_depth=8, max_features=sqrt; total time=   0.0s\n",
      "[CV] END ..criterion=entropy, max_depth=8, max_features=sqrt; total time=   0.0s\n",
      "[CV] END ..criterion=entropy, max_depth=8, max_features=sqrt; total time=   0.0s\n",
      "[CV] END ..criterion=entropy, max_depth=8, max_features=sqrt; total time=   0.0s\n",
      "[CV] END ..criterion=entropy, max_depth=8, max_features=sqrt; total time=   0.0s\n",
      "[CV] END ..criterion=entropy, max_depth=8, max_features=sqrt; total time=   0.0s\n",
      "[CV] END ..criterion=entropy, max_depth=8, max_features=log2; total time=   0.0s\n",
      "[CV] END ..criterion=entropy, max_depth=8, max_features=log2; total time=   0.0s\n",
      "[CV] END ..criterion=entropy, max_depth=8, max_features=log2; total time=   0.0s\n",
      "[CV] END ..criterion=entropy, max_depth=8, max_features=log2; total time=   0.0s\n",
      "[CV] END ..criterion=entropy, max_depth=8, max_features=log2; total time=   0.0s\n",
      "[CV] END ..criterion=entropy, max_depth=8, max_features=log2; total time=   0.0s\n",
      "[CV] END ..criterion=entropy, max_depth=8, max_features=log2; total time=   0.0s\n",
      "[CV] END ..criterion=entropy, max_depth=8, max_features=log2; total time=   0.0s\n",
      "[CV] END ..criterion=entropy, max_depth=8, max_features=log2; total time=   0.0s\n",
      "[CV] END ..criterion=entropy, max_depth=8, max_features=log2; total time=   0.0s\n",
      "[CV] END ..criterion=entropy, max_depth=8, max_features=None; total time=   0.1s\n",
      "[CV] END ..criterion=entropy, max_depth=8, max_features=None; total time=   0.1s\n",
      "[CV] END ..criterion=entropy, max_depth=8, max_features=None; total time=   0.1s\n",
      "[CV] END ..criterion=entropy, max_depth=8, max_features=None; total time=   0.1s\n",
      "[CV] END ..criterion=entropy, max_depth=8, max_features=None; total time=   0.1s\n",
      "[CV] END ..criterion=entropy, max_depth=8, max_features=None; total time=   0.1s\n",
      "[CV] END ..criterion=entropy, max_depth=8, max_features=None; total time=   0.1s\n",
      "[CV] END ..criterion=entropy, max_depth=8, max_features=None; total time=   0.1s\n",
      "[CV] END ..criterion=entropy, max_depth=8, max_features=None; total time=   0.1s\n",
      "[CV] END ..criterion=entropy, max_depth=8, max_features=None; total time=   0.1s\n"
     ]
    },
    {
     "name": "stderr",
     "output_type": "stream",
     "text": [
      "C:\\Users\\user\\anaconda3\\lib\\site-packages\\sklearn\\tree\\_classes.py:269: FutureWarning: `max_features='auto'` has been deprecated in 1.1 and will be removed in 1.3. To keep the past behaviour, explicitly set `max_features='sqrt'`.\n",
      "  warnings.warn(\n",
      "C:\\Users\\user\\anaconda3\\lib\\site-packages\\sklearn\\tree\\_classes.py:269: FutureWarning: `max_features='auto'` has been deprecated in 1.1 and will be removed in 1.3. To keep the past behaviour, explicitly set `max_features='sqrt'`.\n",
      "  warnings.warn(\n",
      "C:\\Users\\user\\anaconda3\\lib\\site-packages\\sklearn\\tree\\_classes.py:269: FutureWarning: `max_features='auto'` has been deprecated in 1.1 and will be removed in 1.3. To keep the past behaviour, explicitly set `max_features='sqrt'`.\n",
      "  warnings.warn(\n"
     ]
    },
    {
     "name": "stdout",
     "output_type": "stream",
     "text": [
      "[CV] END ..criterion=entropy, max_depth=9, max_features=auto; total time=   0.0s\n",
      "[CV] END ..criterion=entropy, max_depth=9, max_features=auto; total time=   0.0s\n",
      "[CV] END ..criterion=entropy, max_depth=9, max_features=auto; total time=   0.0s\n",
      "[CV] END ..criterion=entropy, max_depth=9, max_features=auto; total time=   0.0s\n"
     ]
    },
    {
     "name": "stderr",
     "output_type": "stream",
     "text": [
      "C:\\Users\\user\\anaconda3\\lib\\site-packages\\sklearn\\tree\\_classes.py:269: FutureWarning: `max_features='auto'` has been deprecated in 1.1 and will be removed in 1.3. To keep the past behaviour, explicitly set `max_features='sqrt'`.\n",
      "  warnings.warn(\n",
      "C:\\Users\\user\\anaconda3\\lib\\site-packages\\sklearn\\tree\\_classes.py:269: FutureWarning: `max_features='auto'` has been deprecated in 1.1 and will be removed in 1.3. To keep the past behaviour, explicitly set `max_features='sqrt'`.\n",
      "  warnings.warn(\n",
      "C:\\Users\\user\\anaconda3\\lib\\site-packages\\sklearn\\tree\\_classes.py:269: FutureWarning: `max_features='auto'` has been deprecated in 1.1 and will be removed in 1.3. To keep the past behaviour, explicitly set `max_features='sqrt'`.\n",
      "  warnings.warn(\n",
      "C:\\Users\\user\\anaconda3\\lib\\site-packages\\sklearn\\tree\\_classes.py:269: FutureWarning: `max_features='auto'` has been deprecated in 1.1 and will be removed in 1.3. To keep the past behaviour, explicitly set `max_features='sqrt'`.\n",
      "  warnings.warn(\n"
     ]
    },
    {
     "name": "stdout",
     "output_type": "stream",
     "text": [
      "[CV] END ..criterion=entropy, max_depth=9, max_features=auto; total time=   0.0s\n",
      "[CV] END ..criterion=entropy, max_depth=9, max_features=auto; total time=   0.0s\n",
      "[CV] END ..criterion=entropy, max_depth=9, max_features=auto; total time=   0.0s\n",
      "[CV] END ..criterion=entropy, max_depth=9, max_features=auto; total time=   0.0s\n"
     ]
    },
    {
     "name": "stderr",
     "output_type": "stream",
     "text": [
      "C:\\Users\\user\\anaconda3\\lib\\site-packages\\sklearn\\tree\\_classes.py:269: FutureWarning: `max_features='auto'` has been deprecated in 1.1 and will be removed in 1.3. To keep the past behaviour, explicitly set `max_features='sqrt'`.\n",
      "  warnings.warn(\n",
      "C:\\Users\\user\\anaconda3\\lib\\site-packages\\sklearn\\tree\\_classes.py:269: FutureWarning: `max_features='auto'` has been deprecated in 1.1 and will be removed in 1.3. To keep the past behaviour, explicitly set `max_features='sqrt'`.\n",
      "  warnings.warn(\n",
      "C:\\Users\\user\\anaconda3\\lib\\site-packages\\sklearn\\tree\\_classes.py:269: FutureWarning: `max_features='auto'` has been deprecated in 1.1 and will be removed in 1.3. To keep the past behaviour, explicitly set `max_features='sqrt'`.\n",
      "  warnings.warn(\n"
     ]
    },
    {
     "name": "stdout",
     "output_type": "stream",
     "text": [
      "[CV] END ..criterion=entropy, max_depth=9, max_features=auto; total time=   0.0s\n",
      "[CV] END ..criterion=entropy, max_depth=9, max_features=auto; total time=   0.0s\n",
      "[CV] END ..criterion=entropy, max_depth=9, max_features=sqrt; total time=   0.0s\n",
      "[CV] END ..criterion=entropy, max_depth=9, max_features=sqrt; total time=   0.0s\n",
      "[CV] END ..criterion=entropy, max_depth=9, max_features=sqrt; total time=   0.0s\n",
      "[CV] END ..criterion=entropy, max_depth=9, max_features=sqrt; total time=   0.0s\n",
      "[CV] END ..criterion=entropy, max_depth=9, max_features=sqrt; total time=   0.0s\n",
      "[CV] END ..criterion=entropy, max_depth=9, max_features=sqrt; total time=   0.0s\n",
      "[CV] END ..criterion=entropy, max_depth=9, max_features=sqrt; total time=   0.0s\n",
      "[CV] END ..criterion=entropy, max_depth=9, max_features=sqrt; total time=   0.0s\n",
      "[CV] END ..criterion=entropy, max_depth=9, max_features=sqrt; total time=   0.0s\n",
      "[CV] END ..criterion=entropy, max_depth=9, max_features=sqrt; total time=   0.0s\n",
      "[CV] END ..criterion=entropy, max_depth=9, max_features=log2; total time=   0.0s\n",
      "[CV] END ..criterion=entropy, max_depth=9, max_features=log2; total time=   0.0s\n",
      "[CV] END ..criterion=entropy, max_depth=9, max_features=log2; total time=   0.0s\n",
      "[CV] END ..criterion=entropy, max_depth=9, max_features=log2; total time=   0.0s\n",
      "[CV] END ..criterion=entropy, max_depth=9, max_features=log2; total time=   0.0s\n",
      "[CV] END ..criterion=entropy, max_depth=9, max_features=log2; total time=   0.0s\n",
      "[CV] END ..criterion=entropy, max_depth=9, max_features=log2; total time=   0.0s\n",
      "[CV] END ..criterion=entropy, max_depth=9, max_features=log2; total time=   0.0s\n",
      "[CV] END ..criterion=entropy, max_depth=9, max_features=log2; total time=   0.0s\n",
      "[CV] END ..criterion=entropy, max_depth=9, max_features=log2; total time=   0.0s\n",
      "[CV] END ..criterion=entropy, max_depth=9, max_features=None; total time=   0.2s\n",
      "[CV] END ..criterion=entropy, max_depth=9, max_features=None; total time=   0.2s\n",
      "[CV] END ..criterion=entropy, max_depth=9, max_features=None; total time=   0.1s\n",
      "[CV] END ..criterion=entropy, max_depth=9, max_features=None; total time=   0.1s\n",
      "[CV] END ..criterion=entropy, max_depth=9, max_features=None; total time=   0.1s\n",
      "[CV] END ..criterion=entropy, max_depth=9, max_features=None; total time=   0.1s\n",
      "[CV] END ..criterion=entropy, max_depth=9, max_features=None; total time=   0.1s\n",
      "[CV] END ..criterion=entropy, max_depth=9, max_features=None; total time=   0.1s\n",
      "[CV] END ..criterion=entropy, max_depth=9, max_features=None; total time=   0.1s\n",
      "[CV] END ..criterion=entropy, max_depth=9, max_features=None; total time=   0.1s\n"
     ]
    },
    {
     "name": "stderr",
     "output_type": "stream",
     "text": [
      "C:\\Users\\user\\anaconda3\\lib\\site-packages\\sklearn\\tree\\_classes.py:269: FutureWarning: `max_features='auto'` has been deprecated in 1.1 and will be removed in 1.3. To keep the past behaviour, explicitly set `max_features='sqrt'`.\n",
      "  warnings.warn(\n",
      "C:\\Users\\user\\anaconda3\\lib\\site-packages\\sklearn\\tree\\_classes.py:269: FutureWarning: `max_features='auto'` has been deprecated in 1.1 and will be removed in 1.3. To keep the past behaviour, explicitly set `max_features='sqrt'`.\n",
      "  warnings.warn(\n",
      "C:\\Users\\user\\anaconda3\\lib\\site-packages\\sklearn\\tree\\_classes.py:269: FutureWarning: `max_features='auto'` has been deprecated in 1.1 and will be removed in 1.3. To keep the past behaviour, explicitly set `max_features='sqrt'`.\n",
      "  warnings.warn(\n"
     ]
    },
    {
     "name": "stdout",
     "output_type": "stream",
     "text": [
      "[CV] END .criterion=entropy, max_depth=10, max_features=auto; total time=   0.0s\n",
      "[CV] END .criterion=entropy, max_depth=10, max_features=auto; total time=   0.0s\n",
      "[CV] END .criterion=entropy, max_depth=10, max_features=auto; total time=   0.0s\n"
     ]
    },
    {
     "name": "stderr",
     "output_type": "stream",
     "text": [
      "C:\\Users\\user\\anaconda3\\lib\\site-packages\\sklearn\\tree\\_classes.py:269: FutureWarning: `max_features='auto'` has been deprecated in 1.1 and will be removed in 1.3. To keep the past behaviour, explicitly set `max_features='sqrt'`.\n",
      "  warnings.warn(\n",
      "C:\\Users\\user\\anaconda3\\lib\\site-packages\\sklearn\\tree\\_classes.py:269: FutureWarning: `max_features='auto'` has been deprecated in 1.1 and will be removed in 1.3. To keep the past behaviour, explicitly set `max_features='sqrt'`.\n",
      "  warnings.warn(\n",
      "C:\\Users\\user\\anaconda3\\lib\\site-packages\\sklearn\\tree\\_classes.py:269: FutureWarning: `max_features='auto'` has been deprecated in 1.1 and will be removed in 1.3. To keep the past behaviour, explicitly set `max_features='sqrt'`.\n",
      "  warnings.warn(\n"
     ]
    },
    {
     "name": "stdout",
     "output_type": "stream",
     "text": [
      "[CV] END .criterion=entropy, max_depth=10, max_features=auto; total time=   0.0s\n",
      "[CV] END .criterion=entropy, max_depth=10, max_features=auto; total time=   0.0s\n",
      "[CV] END .criterion=entropy, max_depth=10, max_features=auto; total time=   0.0s\n"
     ]
    },
    {
     "name": "stderr",
     "output_type": "stream",
     "text": [
      "C:\\Users\\user\\anaconda3\\lib\\site-packages\\sklearn\\tree\\_classes.py:269: FutureWarning: `max_features='auto'` has been deprecated in 1.1 and will be removed in 1.3. To keep the past behaviour, explicitly set `max_features='sqrt'`.\n",
      "  warnings.warn(\n",
      "C:\\Users\\user\\anaconda3\\lib\\site-packages\\sklearn\\tree\\_classes.py:269: FutureWarning: `max_features='auto'` has been deprecated in 1.1 and will be removed in 1.3. To keep the past behaviour, explicitly set `max_features='sqrt'`.\n",
      "  warnings.warn(\n",
      "C:\\Users\\user\\anaconda3\\lib\\site-packages\\sklearn\\tree\\_classes.py:269: FutureWarning: `max_features='auto'` has been deprecated in 1.1 and will be removed in 1.3. To keep the past behaviour, explicitly set `max_features='sqrt'`.\n",
      "  warnings.warn(\n"
     ]
    },
    {
     "name": "stdout",
     "output_type": "stream",
     "text": [
      "[CV] END .criterion=entropy, max_depth=10, max_features=auto; total time=   0.0s\n",
      "[CV] END .criterion=entropy, max_depth=10, max_features=auto; total time=   0.0s\n",
      "[CV] END .criterion=entropy, max_depth=10, max_features=auto; total time=   0.0s\n"
     ]
    },
    {
     "name": "stderr",
     "output_type": "stream",
     "text": [
      "C:\\Users\\user\\anaconda3\\lib\\site-packages\\sklearn\\tree\\_classes.py:269: FutureWarning: `max_features='auto'` has been deprecated in 1.1 and will be removed in 1.3. To keep the past behaviour, explicitly set `max_features='sqrt'`.\n",
      "  warnings.warn(\n"
     ]
    },
    {
     "name": "stdout",
     "output_type": "stream",
     "text": [
      "[CV] END .criterion=entropy, max_depth=10, max_features=auto; total time=   0.0s\n",
      "[CV] END .criterion=entropy, max_depth=10, max_features=sqrt; total time=   0.0s\n",
      "[CV] END .criterion=entropy, max_depth=10, max_features=sqrt; total time=   0.0s\n",
      "[CV] END .criterion=entropy, max_depth=10, max_features=sqrt; total time=   0.0s\n",
      "[CV] END .criterion=entropy, max_depth=10, max_features=sqrt; total time=   0.0s\n",
      "[CV] END .criterion=entropy, max_depth=10, max_features=sqrt; total time=   0.0s\n",
      "[CV] END .criterion=entropy, max_depth=10, max_features=sqrt; total time=   0.0s\n",
      "[CV] END .criterion=entropy, max_depth=10, max_features=sqrt; total time=   0.0s\n",
      "[CV] END .criterion=entropy, max_depth=10, max_features=sqrt; total time=   0.0s\n",
      "[CV] END .criterion=entropy, max_depth=10, max_features=sqrt; total time=   0.0s\n",
      "[CV] END .criterion=entropy, max_depth=10, max_features=sqrt; total time=   0.0s\n",
      "[CV] END .criterion=entropy, max_depth=10, max_features=log2; total time=   0.0s\n",
      "[CV] END .criterion=entropy, max_depth=10, max_features=log2; total time=   0.0s\n",
      "[CV] END .criterion=entropy, max_depth=10, max_features=log2; total time=   0.0s\n",
      "[CV] END .criterion=entropy, max_depth=10, max_features=log2; total time=   0.0s\n",
      "[CV] END .criterion=entropy, max_depth=10, max_features=log2; total time=   0.0s\n",
      "[CV] END .criterion=entropy, max_depth=10, max_features=log2; total time=   0.0s\n",
      "[CV] END .criterion=entropy, max_depth=10, max_features=log2; total time=   0.0s\n",
      "[CV] END .criterion=entropy, max_depth=10, max_features=log2; total time=   0.0s\n",
      "[CV] END .criterion=entropy, max_depth=10, max_features=log2; total time=   0.0s\n",
      "[CV] END .criterion=entropy, max_depth=10, max_features=log2; total time=   0.0s\n",
      "[CV] END .criterion=entropy, max_depth=10, max_features=None; total time=   0.2s\n",
      "[CV] END .criterion=entropy, max_depth=10, max_features=None; total time=   0.1s\n",
      "[CV] END .criterion=entropy, max_depth=10, max_features=None; total time=   0.1s\n",
      "[CV] END .criterion=entropy, max_depth=10, max_features=None; total time=   0.1s\n",
      "[CV] END .criterion=entropy, max_depth=10, max_features=None; total time=   0.2s\n",
      "[CV] END .criterion=entropy, max_depth=10, max_features=None; total time=   0.2s\n",
      "[CV] END .criterion=entropy, max_depth=10, max_features=None; total time=   0.1s\n",
      "[CV] END .criterion=entropy, max_depth=10, max_features=None; total time=   0.1s\n",
      "[CV] END .criterion=entropy, max_depth=10, max_features=None; total time=   0.1s\n",
      "[CV] END .criterion=entropy, max_depth=10, max_features=None; total time=   0.2s\n",
      "[CV] END .criterion=entropy, max_depth=11, max_features=auto; total time=   0.0s\n",
      "[CV] END .criterion=entropy, max_depth=11, max_features=auto; total time=   0.0s\n"
     ]
    },
    {
     "name": "stderr",
     "output_type": "stream",
     "text": [
      "C:\\Users\\user\\anaconda3\\lib\\site-packages\\sklearn\\tree\\_classes.py:269: FutureWarning: `max_features='auto'` has been deprecated in 1.1 and will be removed in 1.3. To keep the past behaviour, explicitly set `max_features='sqrt'`.\n",
      "  warnings.warn(\n",
      "C:\\Users\\user\\anaconda3\\lib\\site-packages\\sklearn\\tree\\_classes.py:269: FutureWarning: `max_features='auto'` has been deprecated in 1.1 and will be removed in 1.3. To keep the past behaviour, explicitly set `max_features='sqrt'`.\n",
      "  warnings.warn(\n",
      "C:\\Users\\user\\anaconda3\\lib\\site-packages\\sklearn\\tree\\_classes.py:269: FutureWarning: `max_features='auto'` has been deprecated in 1.1 and will be removed in 1.3. To keep the past behaviour, explicitly set `max_features='sqrt'`.\n",
      "  warnings.warn(\n"
     ]
    },
    {
     "name": "stdout",
     "output_type": "stream",
     "text": [
      "[CV] END .criterion=entropy, max_depth=11, max_features=auto; total time=   0.0s\n",
      "[CV] END .criterion=entropy, max_depth=11, max_features=auto; total time=   0.0s\n",
      "[CV] END .criterion=entropy, max_depth=11, max_features=auto; total time=   0.0s\n"
     ]
    },
    {
     "name": "stderr",
     "output_type": "stream",
     "text": [
      "C:\\Users\\user\\anaconda3\\lib\\site-packages\\sklearn\\tree\\_classes.py:269: FutureWarning: `max_features='auto'` has been deprecated in 1.1 and will be removed in 1.3. To keep the past behaviour, explicitly set `max_features='sqrt'`.\n",
      "  warnings.warn(\n",
      "C:\\Users\\user\\anaconda3\\lib\\site-packages\\sklearn\\tree\\_classes.py:269: FutureWarning: `max_features='auto'` has been deprecated in 1.1 and will be removed in 1.3. To keep the past behaviour, explicitly set `max_features='sqrt'`.\n",
      "  warnings.warn(\n",
      "C:\\Users\\user\\anaconda3\\lib\\site-packages\\sklearn\\tree\\_classes.py:269: FutureWarning: `max_features='auto'` has been deprecated in 1.1 and will be removed in 1.3. To keep the past behaviour, explicitly set `max_features='sqrt'`.\n",
      "  warnings.warn(\n"
     ]
    },
    {
     "name": "stdout",
     "output_type": "stream",
     "text": [
      "[CV] END .criterion=entropy, max_depth=11, max_features=auto; total time=   0.0s\n",
      "[CV] END .criterion=entropy, max_depth=11, max_features=auto; total time=   0.0s\n",
      "[CV] END .criterion=entropy, max_depth=11, max_features=auto; total time=   0.0s\n"
     ]
    },
    {
     "name": "stderr",
     "output_type": "stream",
     "text": [
      "C:\\Users\\user\\anaconda3\\lib\\site-packages\\sklearn\\tree\\_classes.py:269: FutureWarning: `max_features='auto'` has been deprecated in 1.1 and will be removed in 1.3. To keep the past behaviour, explicitly set `max_features='sqrt'`.\n",
      "  warnings.warn(\n",
      "C:\\Users\\user\\anaconda3\\lib\\site-packages\\sklearn\\tree\\_classes.py:269: FutureWarning: `max_features='auto'` has been deprecated in 1.1 and will be removed in 1.3. To keep the past behaviour, explicitly set `max_features='sqrt'`.\n",
      "  warnings.warn(\n",
      "C:\\Users\\user\\anaconda3\\lib\\site-packages\\sklearn\\tree\\_classes.py:269: FutureWarning: `max_features='auto'` has been deprecated in 1.1 and will be removed in 1.3. To keep the past behaviour, explicitly set `max_features='sqrt'`.\n",
      "  warnings.warn(\n"
     ]
    },
    {
     "name": "stdout",
     "output_type": "stream",
     "text": [
      "[CV] END .criterion=entropy, max_depth=11, max_features=auto; total time=   0.0s\n",
      "[CV] END .criterion=entropy, max_depth=11, max_features=auto; total time=   0.0s\n",
      "[CV] END .criterion=entropy, max_depth=11, max_features=sqrt; total time=   0.0s\n"
     ]
    },
    {
     "name": "stderr",
     "output_type": "stream",
     "text": [
      "C:\\Users\\user\\anaconda3\\lib\\site-packages\\sklearn\\tree\\_classes.py:269: FutureWarning: `max_features='auto'` has been deprecated in 1.1 and will be removed in 1.3. To keep the past behaviour, explicitly set `max_features='sqrt'`.\n",
      "  warnings.warn(\n"
     ]
    },
    {
     "name": "stdout",
     "output_type": "stream",
     "text": [
      "[CV] END .criterion=entropy, max_depth=11, max_features=sqrt; total time=   0.0s\n",
      "[CV] END .criterion=entropy, max_depth=11, max_features=sqrt; total time=   0.0s\n",
      "[CV] END .criterion=entropy, max_depth=11, max_features=sqrt; total time=   0.0s\n",
      "[CV] END .criterion=entropy, max_depth=11, max_features=sqrt; total time=   0.0s\n",
      "[CV] END .criterion=entropy, max_depth=11, max_features=sqrt; total time=   0.0s\n",
      "[CV] END .criterion=entropy, max_depth=11, max_features=sqrt; total time=   0.0s\n",
      "[CV] END .criterion=entropy, max_depth=11, max_features=sqrt; total time=   0.0s\n",
      "[CV] END .criterion=entropy, max_depth=11, max_features=sqrt; total time=   0.0s\n",
      "[CV] END .criterion=entropy, max_depth=11, max_features=sqrt; total time=   0.0s\n",
      "[CV] END .criterion=entropy, max_depth=11, max_features=log2; total time=   0.0s\n",
      "[CV] END .criterion=entropy, max_depth=11, max_features=log2; total time=   0.0s\n",
      "[CV] END .criterion=entropy, max_depth=11, max_features=log2; total time=   0.0s\n",
      "[CV] END .criterion=entropy, max_depth=11, max_features=log2; total time=   0.0s\n",
      "[CV] END .criterion=entropy, max_depth=11, max_features=log2; total time=   0.0s\n",
      "[CV] END .criterion=entropy, max_depth=11, max_features=log2; total time=   0.0s\n",
      "[CV] END .criterion=entropy, max_depth=11, max_features=log2; total time=   0.0s\n",
      "[CV] END .criterion=entropy, max_depth=11, max_features=log2; total time=   0.0s\n",
      "[CV] END .criterion=entropy, max_depth=11, max_features=log2; total time=   0.0s\n",
      "[CV] END .criterion=entropy, max_depth=11, max_features=log2; total time=   0.0s\n",
      "[CV] END .criterion=entropy, max_depth=11, max_features=None; total time=   0.2s\n",
      "[CV] END .criterion=entropy, max_depth=11, max_features=None; total time=   0.2s\n",
      "[CV] END .criterion=entropy, max_depth=11, max_features=None; total time=   0.3s\n",
      "[CV] END .criterion=entropy, max_depth=11, max_features=None; total time=   0.3s\n",
      "[CV] END .criterion=entropy, max_depth=11, max_features=None; total time=   0.3s\n",
      "[CV] END .criterion=entropy, max_depth=11, max_features=None; total time=   0.3s\n",
      "[CV] END .criterion=entropy, max_depth=11, max_features=None; total time=   0.2s\n",
      "[CV] END .criterion=entropy, max_depth=11, max_features=None; total time=   0.2s\n",
      "[CV] END .criterion=entropy, max_depth=11, max_features=None; total time=   0.2s\n",
      "[CV] END .criterion=entropy, max_depth=11, max_features=None; total time=   0.2s\n",
      "[CV] END .criterion=entropy, max_depth=12, max_features=auto; total time=   0.0s\n",
      "[CV] END .criterion=entropy, max_depth=12, max_features=auto; total time=   0.0s\n"
     ]
    },
    {
     "name": "stderr",
     "output_type": "stream",
     "text": [
      "C:\\Users\\user\\anaconda3\\lib\\site-packages\\sklearn\\tree\\_classes.py:269: FutureWarning: `max_features='auto'` has been deprecated in 1.1 and will be removed in 1.3. To keep the past behaviour, explicitly set `max_features='sqrt'`.\n",
      "  warnings.warn(\n",
      "C:\\Users\\user\\anaconda3\\lib\\site-packages\\sklearn\\tree\\_classes.py:269: FutureWarning: `max_features='auto'` has been deprecated in 1.1 and will be removed in 1.3. To keep the past behaviour, explicitly set `max_features='sqrt'`.\n",
      "  warnings.warn(\n",
      "C:\\Users\\user\\anaconda3\\lib\\site-packages\\sklearn\\tree\\_classes.py:269: FutureWarning: `max_features='auto'` has been deprecated in 1.1 and will be removed in 1.3. To keep the past behaviour, explicitly set `max_features='sqrt'`.\n",
      "  warnings.warn(\n"
     ]
    },
    {
     "name": "stdout",
     "output_type": "stream",
     "text": [
      "[CV] END .criterion=entropy, max_depth=12, max_features=auto; total time=   0.0s\n",
      "[CV] END .criterion=entropy, max_depth=12, max_features=auto; total time=   0.0s\n",
      "[CV] END .criterion=entropy, max_depth=12, max_features=auto; total time=   0.0s\n"
     ]
    },
    {
     "name": "stderr",
     "output_type": "stream",
     "text": [
      "C:\\Users\\user\\anaconda3\\lib\\site-packages\\sklearn\\tree\\_classes.py:269: FutureWarning: `max_features='auto'` has been deprecated in 1.1 and will be removed in 1.3. To keep the past behaviour, explicitly set `max_features='sqrt'`.\n",
      "  warnings.warn(\n",
      "C:\\Users\\user\\anaconda3\\lib\\site-packages\\sklearn\\tree\\_classes.py:269: FutureWarning: `max_features='auto'` has been deprecated in 1.1 and will be removed in 1.3. To keep the past behaviour, explicitly set `max_features='sqrt'`.\n",
      "  warnings.warn(\n",
      "C:\\Users\\user\\anaconda3\\lib\\site-packages\\sklearn\\tree\\_classes.py:269: FutureWarning: `max_features='auto'` has been deprecated in 1.1 and will be removed in 1.3. To keep the past behaviour, explicitly set `max_features='sqrt'`.\n",
      "  warnings.warn(\n"
     ]
    },
    {
     "name": "stdout",
     "output_type": "stream",
     "text": [
      "[CV] END .criterion=entropy, max_depth=12, max_features=auto; total time=   0.0s\n",
      "[CV] END .criterion=entropy, max_depth=12, max_features=auto; total time=   0.0s\n",
      "[CV] END .criterion=entropy, max_depth=12, max_features=auto; total time=   0.0s\n"
     ]
    },
    {
     "name": "stderr",
     "output_type": "stream",
     "text": [
      "C:\\Users\\user\\anaconda3\\lib\\site-packages\\sklearn\\tree\\_classes.py:269: FutureWarning: `max_features='auto'` has been deprecated in 1.1 and will be removed in 1.3. To keep the past behaviour, explicitly set `max_features='sqrt'`.\n",
      "  warnings.warn(\n",
      "C:\\Users\\user\\anaconda3\\lib\\site-packages\\sklearn\\tree\\_classes.py:269: FutureWarning: `max_features='auto'` has been deprecated in 1.1 and will be removed in 1.3. To keep the past behaviour, explicitly set `max_features='sqrt'`.\n",
      "  warnings.warn(\n",
      "C:\\Users\\user\\anaconda3\\lib\\site-packages\\sklearn\\tree\\_classes.py:269: FutureWarning: `max_features='auto'` has been deprecated in 1.1 and will be removed in 1.3. To keep the past behaviour, explicitly set `max_features='sqrt'`.\n",
      "  warnings.warn(\n",
      "C:\\Users\\user\\anaconda3\\lib\\site-packages\\sklearn\\tree\\_classes.py:269: FutureWarning: `max_features='auto'` has been deprecated in 1.1 and will be removed in 1.3. To keep the past behaviour, explicitly set `max_features='sqrt'`.\n",
      "  warnings.warn(\n"
     ]
    },
    {
     "name": "stdout",
     "output_type": "stream",
     "text": [
      "[CV] END .criterion=entropy, max_depth=12, max_features=auto; total time=   0.0s\n",
      "[CV] END .criterion=entropy, max_depth=12, max_features=auto; total time=   0.0s\n",
      "[CV] END .criterion=entropy, max_depth=12, max_features=sqrt; total time=   0.0s\n",
      "[CV] END .criterion=entropy, max_depth=12, max_features=sqrt; total time=   0.0s\n",
      "[CV] END .criterion=entropy, max_depth=12, max_features=sqrt; total time=   0.0s\n",
      "[CV] END .criterion=entropy, max_depth=12, max_features=sqrt; total time=   0.0s\n",
      "[CV] END .criterion=entropy, max_depth=12, max_features=sqrt; total time=   0.0s\n",
      "[CV] END .criterion=entropy, max_depth=12, max_features=sqrt; total time=   0.0s\n",
      "[CV] END .criterion=entropy, max_depth=12, max_features=sqrt; total time=   0.0s\n",
      "[CV] END .criterion=entropy, max_depth=12, max_features=sqrt; total time=   0.0s\n",
      "[CV] END .criterion=entropy, max_depth=12, max_features=sqrt; total time=   0.0s\n",
      "[CV] END .criterion=entropy, max_depth=12, max_features=sqrt; total time=   0.0s\n",
      "[CV] END .criterion=entropy, max_depth=12, max_features=log2; total time=   0.0s\n",
      "[CV] END .criterion=entropy, max_depth=12, max_features=log2; total time=   0.0s\n",
      "[CV] END .criterion=entropy, max_depth=12, max_features=log2; total time=   0.0s\n",
      "[CV] END .criterion=entropy, max_depth=12, max_features=log2; total time=   0.0s\n",
      "[CV] END .criterion=entropy, max_depth=12, max_features=log2; total time=   0.0s\n",
      "[CV] END .criterion=entropy, max_depth=12, max_features=log2; total time=   0.0s\n",
      "[CV] END .criterion=entropy, max_depth=12, max_features=log2; total time=   0.0s\n",
      "[CV] END .criterion=entropy, max_depth=12, max_features=log2; total time=   0.0s\n",
      "[CV] END .criterion=entropy, max_depth=12, max_features=log2; total time=   0.0s\n",
      "[CV] END .criterion=entropy, max_depth=12, max_features=log2; total time=   0.0s\n",
      "[CV] END .criterion=entropy, max_depth=12, max_features=None; total time=   0.2s\n",
      "[CV] END .criterion=entropy, max_depth=12, max_features=None; total time=   0.2s\n",
      "[CV] END .criterion=entropy, max_depth=12, max_features=None; total time=   0.2s\n",
      "[CV] END .criterion=entropy, max_depth=12, max_features=None; total time=   0.2s\n",
      "[CV] END .criterion=entropy, max_depth=12, max_features=None; total time=   0.2s\n",
      "[CV] END .criterion=entropy, max_depth=12, max_features=None; total time=   0.2s\n",
      "[CV] END .criterion=entropy, max_depth=12, max_features=None; total time=   0.2s\n",
      "[CV] END .criterion=entropy, max_depth=12, max_features=None; total time=   0.2s\n",
      "[CV] END .criterion=entropy, max_depth=12, max_features=None; total time=   0.2s\n",
      "[CV] END .criterion=entropy, max_depth=12, max_features=None; total time=   0.2s\n",
      "[CV] END .criterion=entropy, max_depth=13, max_features=auto; total time=   0.0s\n",
      "[CV] END .criterion=entropy, max_depth=13, max_features=auto; total time=   0.0s\n"
     ]
    },
    {
     "name": "stderr",
     "output_type": "stream",
     "text": [
      "C:\\Users\\user\\anaconda3\\lib\\site-packages\\sklearn\\tree\\_classes.py:269: FutureWarning: `max_features='auto'` has been deprecated in 1.1 and will be removed in 1.3. To keep the past behaviour, explicitly set `max_features='sqrt'`.\n",
      "  warnings.warn(\n",
      "C:\\Users\\user\\anaconda3\\lib\\site-packages\\sklearn\\tree\\_classes.py:269: FutureWarning: `max_features='auto'` has been deprecated in 1.1 and will be removed in 1.3. To keep the past behaviour, explicitly set `max_features='sqrt'`.\n",
      "  warnings.warn(\n",
      "C:\\Users\\user\\anaconda3\\lib\\site-packages\\sklearn\\tree\\_classes.py:269: FutureWarning: `max_features='auto'` has been deprecated in 1.1 and will be removed in 1.3. To keep the past behaviour, explicitly set `max_features='sqrt'`.\n",
      "  warnings.warn(\n"
     ]
    },
    {
     "name": "stdout",
     "output_type": "stream",
     "text": [
      "[CV] END .criterion=entropy, max_depth=13, max_features=auto; total time=   0.0s\n",
      "[CV] END .criterion=entropy, max_depth=13, max_features=auto; total time=   0.0s\n",
      "[CV] END .criterion=entropy, max_depth=13, max_features=auto; total time=   0.0s\n"
     ]
    },
    {
     "name": "stderr",
     "output_type": "stream",
     "text": [
      "C:\\Users\\user\\anaconda3\\lib\\site-packages\\sklearn\\tree\\_classes.py:269: FutureWarning: `max_features='auto'` has been deprecated in 1.1 and will be removed in 1.3. To keep the past behaviour, explicitly set `max_features='sqrt'`.\n",
      "  warnings.warn(\n",
      "C:\\Users\\user\\anaconda3\\lib\\site-packages\\sklearn\\tree\\_classes.py:269: FutureWarning: `max_features='auto'` has been deprecated in 1.1 and will be removed in 1.3. To keep the past behaviour, explicitly set `max_features='sqrt'`.\n",
      "  warnings.warn(\n",
      "C:\\Users\\user\\anaconda3\\lib\\site-packages\\sklearn\\tree\\_classes.py:269: FutureWarning: `max_features='auto'` has been deprecated in 1.1 and will be removed in 1.3. To keep the past behaviour, explicitly set `max_features='sqrt'`.\n",
      "  warnings.warn(\n"
     ]
    },
    {
     "name": "stdout",
     "output_type": "stream",
     "text": [
      "[CV] END .criterion=entropy, max_depth=13, max_features=auto; total time=   0.0s\n",
      "[CV] END .criterion=entropy, max_depth=13, max_features=auto; total time=   0.0s\n",
      "[CV] END .criterion=entropy, max_depth=13, max_features=auto; total time=   0.0s\n"
     ]
    },
    {
     "name": "stderr",
     "output_type": "stream",
     "text": [
      "C:\\Users\\user\\anaconda3\\lib\\site-packages\\sklearn\\tree\\_classes.py:269: FutureWarning: `max_features='auto'` has been deprecated in 1.1 and will be removed in 1.3. To keep the past behaviour, explicitly set `max_features='sqrt'`.\n",
      "  warnings.warn(\n",
      "C:\\Users\\user\\anaconda3\\lib\\site-packages\\sklearn\\tree\\_classes.py:269: FutureWarning: `max_features='auto'` has been deprecated in 1.1 and will be removed in 1.3. To keep the past behaviour, explicitly set `max_features='sqrt'`.\n",
      "  warnings.warn(\n",
      "C:\\Users\\user\\anaconda3\\lib\\site-packages\\sklearn\\tree\\_classes.py:269: FutureWarning: `max_features='auto'` has been deprecated in 1.1 and will be removed in 1.3. To keep the past behaviour, explicitly set `max_features='sqrt'`.\n",
      "  warnings.warn(\n"
     ]
    },
    {
     "name": "stdout",
     "output_type": "stream",
     "text": [
      "[CV] END .criterion=entropy, max_depth=13, max_features=auto; total time=   0.0s\n",
      "[CV] END .criterion=entropy, max_depth=13, max_features=auto; total time=   0.0s\n",
      "[CV] END .criterion=entropy, max_depth=13, max_features=sqrt; total time=   0.0s\n"
     ]
    },
    {
     "name": "stderr",
     "output_type": "stream",
     "text": [
      "C:\\Users\\user\\anaconda3\\lib\\site-packages\\sklearn\\tree\\_classes.py:269: FutureWarning: `max_features='auto'` has been deprecated in 1.1 and will be removed in 1.3. To keep the past behaviour, explicitly set `max_features='sqrt'`.\n",
      "  warnings.warn(\n"
     ]
    },
    {
     "name": "stdout",
     "output_type": "stream",
     "text": [
      "[CV] END .criterion=entropy, max_depth=13, max_features=sqrt; total time=   0.0s\n",
      "[CV] END .criterion=entropy, max_depth=13, max_features=sqrt; total time=   0.0s\n",
      "[CV] END .criterion=entropy, max_depth=13, max_features=sqrt; total time=   0.0s\n",
      "[CV] END .criterion=entropy, max_depth=13, max_features=sqrt; total time=   0.0s\n",
      "[CV] END .criterion=entropy, max_depth=13, max_features=sqrt; total time=   0.0s\n",
      "[CV] END .criterion=entropy, max_depth=13, max_features=sqrt; total time=   0.0s\n",
      "[CV] END .criterion=entropy, max_depth=13, max_features=sqrt; total time=   0.0s\n",
      "[CV] END .criterion=entropy, max_depth=13, max_features=sqrt; total time=   0.0s\n",
      "[CV] END .criterion=entropy, max_depth=13, max_features=sqrt; total time=   0.0s\n",
      "[CV] END .criterion=entropy, max_depth=13, max_features=log2; total time=   0.0s\n",
      "[CV] END .criterion=entropy, max_depth=13, max_features=log2; total time=   0.0s\n",
      "[CV] END .criterion=entropy, max_depth=13, max_features=log2; total time=   0.0s\n",
      "[CV] END .criterion=entropy, max_depth=13, max_features=log2; total time=   0.0s\n",
      "[CV] END .criterion=entropy, max_depth=13, max_features=log2; total time=   0.0s\n",
      "[CV] END .criterion=entropy, max_depth=13, max_features=log2; total time=   0.0s\n",
      "[CV] END .criterion=entropy, max_depth=13, max_features=log2; total time=   0.0s\n",
      "[CV] END .criterion=entropy, max_depth=13, max_features=log2; total time=   0.0s\n",
      "[CV] END .criterion=entropy, max_depth=13, max_features=log2; total time=   0.0s\n",
      "[CV] END .criterion=entropy, max_depth=13, max_features=log2; total time=   0.0s\n",
      "[CV] END .criterion=entropy, max_depth=13, max_features=None; total time=   0.2s\n",
      "[CV] END .criterion=entropy, max_depth=13, max_features=None; total time=   0.2s\n",
      "[CV] END .criterion=entropy, max_depth=13, max_features=None; total time=   0.2s\n",
      "[CV] END .criterion=entropy, max_depth=13, max_features=None; total time=   0.2s\n",
      "[CV] END .criterion=entropy, max_depth=13, max_features=None; total time=   0.2s\n",
      "[CV] END .criterion=entropy, max_depth=13, max_features=None; total time=   0.2s\n",
      "[CV] END .criterion=entropy, max_depth=13, max_features=None; total time=   0.2s\n",
      "[CV] END .criterion=entropy, max_depth=13, max_features=None; total time=   0.2s\n",
      "[CV] END .criterion=entropy, max_depth=13, max_features=None; total time=   0.2s\n",
      "[CV] END .criterion=entropy, max_depth=13, max_features=None; total time=   0.2s\n",
      "[CV] END .criterion=entropy, max_depth=14, max_features=auto; total time=   0.0s\n",
      "[CV] END .criterion=entropy, max_depth=14, max_features=auto; total time=   0.0s\n"
     ]
    },
    {
     "name": "stderr",
     "output_type": "stream",
     "text": [
      "C:\\Users\\user\\anaconda3\\lib\\site-packages\\sklearn\\tree\\_classes.py:269: FutureWarning: `max_features='auto'` has been deprecated in 1.1 and will be removed in 1.3. To keep the past behaviour, explicitly set `max_features='sqrt'`.\n",
      "  warnings.warn(\n",
      "C:\\Users\\user\\anaconda3\\lib\\site-packages\\sklearn\\tree\\_classes.py:269: FutureWarning: `max_features='auto'` has been deprecated in 1.1 and will be removed in 1.3. To keep the past behaviour, explicitly set `max_features='sqrt'`.\n",
      "  warnings.warn(\n",
      "C:\\Users\\user\\anaconda3\\lib\\site-packages\\sklearn\\tree\\_classes.py:269: FutureWarning: `max_features='auto'` has been deprecated in 1.1 and will be removed in 1.3. To keep the past behaviour, explicitly set `max_features='sqrt'`.\n",
      "  warnings.warn(\n"
     ]
    },
    {
     "name": "stdout",
     "output_type": "stream",
     "text": [
      "[CV] END .criterion=entropy, max_depth=14, max_features=auto; total time=   0.0s\n",
      "[CV] END .criterion=entropy, max_depth=14, max_features=auto; total time=   0.0s\n",
      "[CV] END .criterion=entropy, max_depth=14, max_features=auto; total time=   0.0s\n"
     ]
    },
    {
     "name": "stderr",
     "output_type": "stream",
     "text": [
      "C:\\Users\\user\\anaconda3\\lib\\site-packages\\sklearn\\tree\\_classes.py:269: FutureWarning: `max_features='auto'` has been deprecated in 1.1 and will be removed in 1.3. To keep the past behaviour, explicitly set `max_features='sqrt'`.\n",
      "  warnings.warn(\n",
      "C:\\Users\\user\\anaconda3\\lib\\site-packages\\sklearn\\tree\\_classes.py:269: FutureWarning: `max_features='auto'` has been deprecated in 1.1 and will be removed in 1.3. To keep the past behaviour, explicitly set `max_features='sqrt'`.\n",
      "  warnings.warn(\n",
      "C:\\Users\\user\\anaconda3\\lib\\site-packages\\sklearn\\tree\\_classes.py:269: FutureWarning: `max_features='auto'` has been deprecated in 1.1 and will be removed in 1.3. To keep the past behaviour, explicitly set `max_features='sqrt'`.\n",
      "  warnings.warn(\n"
     ]
    },
    {
     "name": "stdout",
     "output_type": "stream",
     "text": [
      "[CV] END .criterion=entropy, max_depth=14, max_features=auto; total time=   0.0s\n",
      "[CV] END .criterion=entropy, max_depth=14, max_features=auto; total time=   0.0s\n",
      "[CV] END .criterion=entropy, max_depth=14, max_features=auto; total time=   0.0s\n"
     ]
    },
    {
     "name": "stderr",
     "output_type": "stream",
     "text": [
      "C:\\Users\\user\\anaconda3\\lib\\site-packages\\sklearn\\tree\\_classes.py:269: FutureWarning: `max_features='auto'` has been deprecated in 1.1 and will be removed in 1.3. To keep the past behaviour, explicitly set `max_features='sqrt'`.\n",
      "  warnings.warn(\n",
      "C:\\Users\\user\\anaconda3\\lib\\site-packages\\sklearn\\tree\\_classes.py:269: FutureWarning: `max_features='auto'` has been deprecated in 1.1 and will be removed in 1.3. To keep the past behaviour, explicitly set `max_features='sqrt'`.\n",
      "  warnings.warn(\n",
      "C:\\Users\\user\\anaconda3\\lib\\site-packages\\sklearn\\tree\\_classes.py:269: FutureWarning: `max_features='auto'` has been deprecated in 1.1 and will be removed in 1.3. To keep the past behaviour, explicitly set `max_features='sqrt'`.\n",
      "  warnings.warn(\n"
     ]
    },
    {
     "name": "stdout",
     "output_type": "stream",
     "text": [
      "[CV] END .criterion=entropy, max_depth=14, max_features=auto; total time=   0.0s\n",
      "[CV] END .criterion=entropy, max_depth=14, max_features=auto; total time=   0.0s\n",
      "[CV] END .criterion=entropy, max_depth=14, max_features=sqrt; total time=   0.0s\n"
     ]
    },
    {
     "name": "stderr",
     "output_type": "stream",
     "text": [
      "C:\\Users\\user\\anaconda3\\lib\\site-packages\\sklearn\\tree\\_classes.py:269: FutureWarning: `max_features='auto'` has been deprecated in 1.1 and will be removed in 1.3. To keep the past behaviour, explicitly set `max_features='sqrt'`.\n",
      "  warnings.warn(\n"
     ]
    },
    {
     "name": "stdout",
     "output_type": "stream",
     "text": [
      "[CV] END .criterion=entropy, max_depth=14, max_features=sqrt; total time=   0.0s\n",
      "[CV] END .criterion=entropy, max_depth=14, max_features=sqrt; total time=   0.0s\n",
      "[CV] END .criterion=entropy, max_depth=14, max_features=sqrt; total time=   0.0s\n",
      "[CV] END .criterion=entropy, max_depth=14, max_features=sqrt; total time=   0.0s\n",
      "[CV] END .criterion=entropy, max_depth=14, max_features=sqrt; total time=   0.0s\n",
      "[CV] END .criterion=entropy, max_depth=14, max_features=sqrt; total time=   0.0s\n",
      "[CV] END .criterion=entropy, max_depth=14, max_features=sqrt; total time=   0.0s\n",
      "[CV] END .criterion=entropy, max_depth=14, max_features=sqrt; total time=   0.0s\n",
      "[CV] END .criterion=entropy, max_depth=14, max_features=sqrt; total time=   0.0s\n",
      "[CV] END .criterion=entropy, max_depth=14, max_features=log2; total time=   0.0s\n",
      "[CV] END .criterion=entropy, max_depth=14, max_features=log2; total time=   0.0s\n",
      "[CV] END .criterion=entropy, max_depth=14, max_features=log2; total time=   0.0s\n",
      "[CV] END .criterion=entropy, max_depth=14, max_features=log2; total time=   0.0s\n",
      "[CV] END .criterion=entropy, max_depth=14, max_features=log2; total time=   0.0s\n",
      "[CV] END .criterion=entropy, max_depth=14, max_features=log2; total time=   0.0s\n",
      "[CV] END .criterion=entropy, max_depth=14, max_features=log2; total time=   0.0s\n",
      "[CV] END .criterion=entropy, max_depth=14, max_features=log2; total time=   0.0s\n",
      "[CV] END .criterion=entropy, max_depth=14, max_features=log2; total time=   0.0s\n",
      "[CV] END .criterion=entropy, max_depth=14, max_features=log2; total time=   0.0s\n",
      "[CV] END .criterion=entropy, max_depth=14, max_features=None; total time=   0.4s\n",
      "[CV] END .criterion=entropy, max_depth=14, max_features=None; total time=   0.3s\n",
      "[CV] END .criterion=entropy, max_depth=14, max_features=None; total time=   0.2s\n",
      "[CV] END .criterion=entropy, max_depth=14, max_features=None; total time=   0.3s\n",
      "[CV] END .criterion=entropy, max_depth=14, max_features=None; total time=   0.2s\n",
      "[CV] END .criterion=entropy, max_depth=14, max_features=None; total time=   0.2s\n",
      "[CV] END .criterion=entropy, max_depth=14, max_features=None; total time=   0.2s\n",
      "[CV] END .criterion=entropy, max_depth=14, max_features=None; total time=   0.2s\n",
      "[CV] END .criterion=entropy, max_depth=14, max_features=None; total time=   0.2s\n",
      "[CV] END .criterion=entropy, max_depth=14, max_features=None; total time=   0.2s\n",
      "[CV] END .criterion=entropy, max_depth=15, max_features=auto; total time=   0.0s\n",
      "[CV] END .criterion=entropy, max_depth=15, max_features=auto; total time=   0.0s\n"
     ]
    },
    {
     "name": "stderr",
     "output_type": "stream",
     "text": [
      "C:\\Users\\user\\anaconda3\\lib\\site-packages\\sklearn\\tree\\_classes.py:269: FutureWarning: `max_features='auto'` has been deprecated in 1.1 and will be removed in 1.3. To keep the past behaviour, explicitly set `max_features='sqrt'`.\n",
      "  warnings.warn(\n",
      "C:\\Users\\user\\anaconda3\\lib\\site-packages\\sklearn\\tree\\_classes.py:269: FutureWarning: `max_features='auto'` has been deprecated in 1.1 and will be removed in 1.3. To keep the past behaviour, explicitly set `max_features='sqrt'`.\n",
      "  warnings.warn(\n",
      "C:\\Users\\user\\anaconda3\\lib\\site-packages\\sklearn\\tree\\_classes.py:269: FutureWarning: `max_features='auto'` has been deprecated in 1.1 and will be removed in 1.3. To keep the past behaviour, explicitly set `max_features='sqrt'`.\n",
      "  warnings.warn(\n",
      "C:\\Users\\user\\anaconda3\\lib\\site-packages\\sklearn\\tree\\_classes.py:269: FutureWarning: `max_features='auto'` has been deprecated in 1.1 and will be removed in 1.3. To keep the past behaviour, explicitly set `max_features='sqrt'`.\n",
      "  warnings.warn(\n"
     ]
    },
    {
     "name": "stdout",
     "output_type": "stream",
     "text": [
      "[CV] END .criterion=entropy, max_depth=15, max_features=auto; total time=   0.0s\n",
      "[CV] END .criterion=entropy, max_depth=15, max_features=auto; total time=   0.0s\n",
      "[CV] END .criterion=entropy, max_depth=15, max_features=auto; total time=   0.0s\n"
     ]
    },
    {
     "name": "stderr",
     "output_type": "stream",
     "text": [
      "C:\\Users\\user\\anaconda3\\lib\\site-packages\\sklearn\\tree\\_classes.py:269: FutureWarning: `max_features='auto'` has been deprecated in 1.1 and will be removed in 1.3. To keep the past behaviour, explicitly set `max_features='sqrt'`.\n",
      "  warnings.warn(\n",
      "C:\\Users\\user\\anaconda3\\lib\\site-packages\\sklearn\\tree\\_classes.py:269: FutureWarning: `max_features='auto'` has been deprecated in 1.1 and will be removed in 1.3. To keep the past behaviour, explicitly set `max_features='sqrt'`.\n",
      "  warnings.warn(\n",
      "C:\\Users\\user\\anaconda3\\lib\\site-packages\\sklearn\\tree\\_classes.py:269: FutureWarning: `max_features='auto'` has been deprecated in 1.1 and will be removed in 1.3. To keep the past behaviour, explicitly set `max_features='sqrt'`.\n",
      "  warnings.warn(\n"
     ]
    },
    {
     "name": "stdout",
     "output_type": "stream",
     "text": [
      "[CV] END .criterion=entropy, max_depth=15, max_features=auto; total time=   0.0s\n",
      "[CV] END .criterion=entropy, max_depth=15, max_features=auto; total time=   0.0s\n",
      "[CV] END .criterion=entropy, max_depth=15, max_features=auto; total time=   0.0s\n"
     ]
    },
    {
     "name": "stderr",
     "output_type": "stream",
     "text": [
      "C:\\Users\\user\\anaconda3\\lib\\site-packages\\sklearn\\tree\\_classes.py:269: FutureWarning: `max_features='auto'` has been deprecated in 1.1 and will be removed in 1.3. To keep the past behaviour, explicitly set `max_features='sqrt'`.\n",
      "  warnings.warn(\n",
      "C:\\Users\\user\\anaconda3\\lib\\site-packages\\sklearn\\tree\\_classes.py:269: FutureWarning: `max_features='auto'` has been deprecated in 1.1 and will be removed in 1.3. To keep the past behaviour, explicitly set `max_features='sqrt'`.\n",
      "  warnings.warn(\n",
      "C:\\Users\\user\\anaconda3\\lib\\site-packages\\sklearn\\tree\\_classes.py:269: FutureWarning: `max_features='auto'` has been deprecated in 1.1 and will be removed in 1.3. To keep the past behaviour, explicitly set `max_features='sqrt'`.\n",
      "  warnings.warn(\n"
     ]
    },
    {
     "name": "stdout",
     "output_type": "stream",
     "text": [
      "[CV] END .criterion=entropy, max_depth=15, max_features=auto; total time=   0.0s\n",
      "[CV] END .criterion=entropy, max_depth=15, max_features=auto; total time=   0.0s\n",
      "[CV] END .criterion=entropy, max_depth=15, max_features=sqrt; total time=   0.0s\n",
      "[CV] END .criterion=entropy, max_depth=15, max_features=sqrt; total time=   0.0s\n",
      "[CV] END .criterion=entropy, max_depth=15, max_features=sqrt; total time=   0.0s\n",
      "[CV] END .criterion=entropy, max_depth=15, max_features=sqrt; total time=   0.0s\n",
      "[CV] END .criterion=entropy, max_depth=15, max_features=sqrt; total time=   0.0s\n",
      "[CV] END .criterion=entropy, max_depth=15, max_features=sqrt; total time=   0.0s\n",
      "[CV] END .criterion=entropy, max_depth=15, max_features=sqrt; total time=   0.0s\n",
      "[CV] END .criterion=entropy, max_depth=15, max_features=sqrt; total time=   0.0s\n",
      "[CV] END .criterion=entropy, max_depth=15, max_features=sqrt; total time=   0.0s\n",
      "[CV] END .criterion=entropy, max_depth=15, max_features=sqrt; total time=   0.0s\n",
      "[CV] END .criterion=entropy, max_depth=15, max_features=log2; total time=   0.0s\n",
      "[CV] END .criterion=entropy, max_depth=15, max_features=log2; total time=   0.0s\n",
      "[CV] END .criterion=entropy, max_depth=15, max_features=log2; total time=   0.0s\n",
      "[CV] END .criterion=entropy, max_depth=15, max_features=log2; total time=   0.0s\n",
      "[CV] END .criterion=entropy, max_depth=15, max_features=log2; total time=   0.0s\n",
      "[CV] END .criterion=entropy, max_depth=15, max_features=log2; total time=   0.0s\n",
      "[CV] END .criterion=entropy, max_depth=15, max_features=log2; total time=   0.0s\n",
      "[CV] END .criterion=entropy, max_depth=15, max_features=log2; total time=   0.0s\n",
      "[CV] END .criterion=entropy, max_depth=15, max_features=log2; total time=   0.0s\n",
      "[CV] END .criterion=entropy, max_depth=15, max_features=log2; total time=   0.0s\n",
      "[CV] END .criterion=entropy, max_depth=15, max_features=None; total time=   0.2s\n",
      "[CV] END .criterion=entropy, max_depth=15, max_features=None; total time=   0.2s\n",
      "[CV] END .criterion=entropy, max_depth=15, max_features=None; total time=   0.2s\n",
      "[CV] END .criterion=entropy, max_depth=15, max_features=None; total time=   0.2s\n",
      "[CV] END .criterion=entropy, max_depth=15, max_features=None; total time=   0.2s\n",
      "[CV] END .criterion=entropy, max_depth=15, max_features=None; total time=   0.2s\n",
      "[CV] END .criterion=entropy, max_depth=15, max_features=None; total time=   0.2s\n",
      "[CV] END .criterion=entropy, max_depth=15, max_features=None; total time=   0.2s\n",
      "[CV] END .criterion=entropy, max_depth=15, max_features=None; total time=   0.2s\n",
      "[CV] END .criterion=entropy, max_depth=15, max_features=None; total time=   0.2s\n",
      "[CV] END .criterion=entropy, max_depth=16, max_features=auto; total time=   0.0s\n",
      "[CV] END .criterion=entropy, max_depth=16, max_features=auto; total time=   0.0s\n"
     ]
    },
    {
     "name": "stderr",
     "output_type": "stream",
     "text": [
      "C:\\Users\\user\\anaconda3\\lib\\site-packages\\sklearn\\tree\\_classes.py:269: FutureWarning: `max_features='auto'` has been deprecated in 1.1 and will be removed in 1.3. To keep the past behaviour, explicitly set `max_features='sqrt'`.\n",
      "  warnings.warn(\n",
      "C:\\Users\\user\\anaconda3\\lib\\site-packages\\sklearn\\tree\\_classes.py:269: FutureWarning: `max_features='auto'` has been deprecated in 1.1 and will be removed in 1.3. To keep the past behaviour, explicitly set `max_features='sqrt'`.\n",
      "  warnings.warn(\n",
      "C:\\Users\\user\\anaconda3\\lib\\site-packages\\sklearn\\tree\\_classes.py:269: FutureWarning: `max_features='auto'` has been deprecated in 1.1 and will be removed in 1.3. To keep the past behaviour, explicitly set `max_features='sqrt'`.\n",
      "  warnings.warn(\n",
      "C:\\Users\\user\\anaconda3\\lib\\site-packages\\sklearn\\tree\\_classes.py:269: FutureWarning: `max_features='auto'` has been deprecated in 1.1 and will be removed in 1.3. To keep the past behaviour, explicitly set `max_features='sqrt'`.\n",
      "  warnings.warn(\n"
     ]
    },
    {
     "name": "stdout",
     "output_type": "stream",
     "text": [
      "[CV] END .criterion=entropy, max_depth=16, max_features=auto; total time=   0.0s\n",
      "[CV] END .criterion=entropy, max_depth=16, max_features=auto; total time=   0.0s\n"
     ]
    },
    {
     "name": "stderr",
     "output_type": "stream",
     "text": [
      "C:\\Users\\user\\anaconda3\\lib\\site-packages\\sklearn\\tree\\_classes.py:269: FutureWarning: `max_features='auto'` has been deprecated in 1.1 and will be removed in 1.3. To keep the past behaviour, explicitly set `max_features='sqrt'`.\n",
      "  warnings.warn(\n",
      "C:\\Users\\user\\anaconda3\\lib\\site-packages\\sklearn\\tree\\_classes.py:269: FutureWarning: `max_features='auto'` has been deprecated in 1.1 and will be removed in 1.3. To keep the past behaviour, explicitly set `max_features='sqrt'`.\n",
      "  warnings.warn(\n"
     ]
    },
    {
     "name": "stdout",
     "output_type": "stream",
     "text": [
      "[CV] END .criterion=entropy, max_depth=16, max_features=auto; total time=   0.1s\n",
      "[CV] END .criterion=entropy, max_depth=16, max_features=auto; total time=   0.0s\n"
     ]
    },
    {
     "name": "stderr",
     "output_type": "stream",
     "text": [
      "C:\\Users\\user\\anaconda3\\lib\\site-packages\\sklearn\\tree\\_classes.py:269: FutureWarning: `max_features='auto'` has been deprecated in 1.1 and will be removed in 1.3. To keep the past behaviour, explicitly set `max_features='sqrt'`.\n",
      "  warnings.warn(\n",
      "C:\\Users\\user\\anaconda3\\lib\\site-packages\\sklearn\\tree\\_classes.py:269: FutureWarning: `max_features='auto'` has been deprecated in 1.1 and will be removed in 1.3. To keep the past behaviour, explicitly set `max_features='sqrt'`.\n",
      "  warnings.warn(\n"
     ]
    },
    {
     "name": "stdout",
     "output_type": "stream",
     "text": [
      "[CV] END .criterion=entropy, max_depth=16, max_features=auto; total time=   0.0s\n",
      "[CV] END .criterion=entropy, max_depth=16, max_features=auto; total time=   0.0s\n"
     ]
    },
    {
     "name": "stderr",
     "output_type": "stream",
     "text": [
      "C:\\Users\\user\\anaconda3\\lib\\site-packages\\sklearn\\tree\\_classes.py:269: FutureWarning: `max_features='auto'` has been deprecated in 1.1 and will be removed in 1.3. To keep the past behaviour, explicitly set `max_features='sqrt'`.\n",
      "  warnings.warn(\n",
      "C:\\Users\\user\\anaconda3\\lib\\site-packages\\sklearn\\tree\\_classes.py:269: FutureWarning: `max_features='auto'` has been deprecated in 1.1 and will be removed in 1.3. To keep the past behaviour, explicitly set `max_features='sqrt'`.\n",
      "  warnings.warn(\n"
     ]
    },
    {
     "name": "stdout",
     "output_type": "stream",
     "text": [
      "[CV] END .criterion=entropy, max_depth=16, max_features=auto; total time=   0.0s\n",
      "[CV] END .criterion=entropy, max_depth=16, max_features=auto; total time=   0.0s\n",
      "[CV] END .criterion=entropy, max_depth=16, max_features=sqrt; total time=   0.0s\n",
      "[CV] END .criterion=entropy, max_depth=16, max_features=sqrt; total time=   0.0s\n",
      "[CV] END .criterion=entropy, max_depth=16, max_features=sqrt; total time=   0.0s\n",
      "[CV] END .criterion=entropy, max_depth=16, max_features=sqrt; total time=   0.0s\n",
      "[CV] END .criterion=entropy, max_depth=16, max_features=sqrt; total time=   0.0s\n",
      "[CV] END .criterion=entropy, max_depth=16, max_features=sqrt; total time=   0.0s\n",
      "[CV] END .criterion=entropy, max_depth=16, max_features=sqrt; total time=   0.0s\n",
      "[CV] END .criterion=entropy, max_depth=16, max_features=sqrt; total time=   0.0s\n",
      "[CV] END .criterion=entropy, max_depth=16, max_features=sqrt; total time=   0.0s\n",
      "[CV] END .criterion=entropy, max_depth=16, max_features=sqrt; total time=   0.0s\n",
      "[CV] END .criterion=entropy, max_depth=16, max_features=log2; total time=   0.0s\n",
      "[CV] END .criterion=entropy, max_depth=16, max_features=log2; total time=   0.0s\n",
      "[CV] END .criterion=entropy, max_depth=16, max_features=log2; total time=   0.0s\n",
      "[CV] END .criterion=entropy, max_depth=16, max_features=log2; total time=   0.0s\n",
      "[CV] END .criterion=entropy, max_depth=16, max_features=log2; total time=   0.0s\n",
      "[CV] END .criterion=entropy, max_depth=16, max_features=log2; total time=   0.0s\n",
      "[CV] END .criterion=entropy, max_depth=16, max_features=log2; total time=   0.0s\n",
      "[CV] END .criterion=entropy, max_depth=16, max_features=log2; total time=   0.0s\n",
      "[CV] END .criterion=entropy, max_depth=16, max_features=log2; total time=   0.0s\n",
      "[CV] END .criterion=entropy, max_depth=16, max_features=log2; total time=   0.0s\n",
      "[CV] END .criterion=entropy, max_depth=16, max_features=None; total time=   0.3s\n",
      "[CV] END .criterion=entropy, max_depth=16, max_features=None; total time=   0.3s\n",
      "[CV] END .criterion=entropy, max_depth=16, max_features=None; total time=   0.2s\n",
      "[CV] END .criterion=entropy, max_depth=16, max_features=None; total time=   0.2s\n",
      "[CV] END .criterion=entropy, max_depth=16, max_features=None; total time=   0.2s\n",
      "[CV] END .criterion=entropy, max_depth=16, max_features=None; total time=   0.3s\n",
      "[CV] END .criterion=entropy, max_depth=16, max_features=None; total time=   0.2s\n",
      "[CV] END .criterion=entropy, max_depth=16, max_features=None; total time=   0.2s\n",
      "[CV] END .criterion=entropy, max_depth=16, max_features=None; total time=   0.3s\n",
      "[CV] END .criterion=entropy, max_depth=16, max_features=None; total time=   0.3s\n",
      "[CV] END .criterion=entropy, max_depth=17, max_features=auto; total time=   0.0s\n"
     ]
    },
    {
     "name": "stderr",
     "output_type": "stream",
     "text": [
      "C:\\Users\\user\\anaconda3\\lib\\site-packages\\sklearn\\tree\\_classes.py:269: FutureWarning: `max_features='auto'` has been deprecated in 1.1 and will be removed in 1.3. To keep the past behaviour, explicitly set `max_features='sqrt'`.\n",
      "  warnings.warn(\n",
      "C:\\Users\\user\\anaconda3\\lib\\site-packages\\sklearn\\tree\\_classes.py:269: FutureWarning: `max_features='auto'` has been deprecated in 1.1 and will be removed in 1.3. To keep the past behaviour, explicitly set `max_features='sqrt'`.\n",
      "  warnings.warn(\n"
     ]
    },
    {
     "name": "stdout",
     "output_type": "stream",
     "text": [
      "[CV] END .criterion=entropy, max_depth=17, max_features=auto; total time=   0.1s\n",
      "[CV] END .criterion=entropy, max_depth=17, max_features=auto; total time=   0.1s\n"
     ]
    },
    {
     "name": "stderr",
     "output_type": "stream",
     "text": [
      "C:\\Users\\user\\anaconda3\\lib\\site-packages\\sklearn\\tree\\_classes.py:269: FutureWarning: `max_features='auto'` has been deprecated in 1.1 and will be removed in 1.3. To keep the past behaviour, explicitly set `max_features='sqrt'`.\n",
      "  warnings.warn(\n",
      "C:\\Users\\user\\anaconda3\\lib\\site-packages\\sklearn\\tree\\_classes.py:269: FutureWarning: `max_features='auto'` has been deprecated in 1.1 and will be removed in 1.3. To keep the past behaviour, explicitly set `max_features='sqrt'`.\n",
      "  warnings.warn(\n"
     ]
    },
    {
     "name": "stdout",
     "output_type": "stream",
     "text": [
      "[CV] END .criterion=entropy, max_depth=17, max_features=auto; total time=   0.0s\n",
      "[CV] END .criterion=entropy, max_depth=17, max_features=auto; total time=   0.0s\n"
     ]
    },
    {
     "name": "stderr",
     "output_type": "stream",
     "text": [
      "C:\\Users\\user\\anaconda3\\lib\\site-packages\\sklearn\\tree\\_classes.py:269: FutureWarning: `max_features='auto'` has been deprecated in 1.1 and will be removed in 1.3. To keep the past behaviour, explicitly set `max_features='sqrt'`.\n",
      "  warnings.warn(\n",
      "C:\\Users\\user\\anaconda3\\lib\\site-packages\\sklearn\\tree\\_classes.py:269: FutureWarning: `max_features='auto'` has been deprecated in 1.1 and will be removed in 1.3. To keep the past behaviour, explicitly set `max_features='sqrt'`.\n",
      "  warnings.warn(\n"
     ]
    },
    {
     "name": "stdout",
     "output_type": "stream",
     "text": [
      "[CV] END .criterion=entropy, max_depth=17, max_features=auto; total time=   0.0s\n",
      "[CV] END .criterion=entropy, max_depth=17, max_features=auto; total time=   0.0s\n"
     ]
    },
    {
     "name": "stderr",
     "output_type": "stream",
     "text": [
      "C:\\Users\\user\\anaconda3\\lib\\site-packages\\sklearn\\tree\\_classes.py:269: FutureWarning: `max_features='auto'` has been deprecated in 1.1 and will be removed in 1.3. To keep the past behaviour, explicitly set `max_features='sqrt'`.\n",
      "  warnings.warn(\n",
      "C:\\Users\\user\\anaconda3\\lib\\site-packages\\sklearn\\tree\\_classes.py:269: FutureWarning: `max_features='auto'` has been deprecated in 1.1 and will be removed in 1.3. To keep the past behaviour, explicitly set `max_features='sqrt'`.\n",
      "  warnings.warn(\n"
     ]
    },
    {
     "name": "stdout",
     "output_type": "stream",
     "text": [
      "[CV] END .criterion=entropy, max_depth=17, max_features=auto; total time=   0.0s\n",
      "[CV] END .criterion=entropy, max_depth=17, max_features=auto; total time=   0.0s\n",
      "[CV] END .criterion=entropy, max_depth=17, max_features=auto; total time=   0.0s\n"
     ]
    },
    {
     "name": "stderr",
     "output_type": "stream",
     "text": [
      "C:\\Users\\user\\anaconda3\\lib\\site-packages\\sklearn\\tree\\_classes.py:269: FutureWarning: `max_features='auto'` has been deprecated in 1.1 and will be removed in 1.3. To keep the past behaviour, explicitly set `max_features='sqrt'`.\n",
      "  warnings.warn(\n",
      "C:\\Users\\user\\anaconda3\\lib\\site-packages\\sklearn\\tree\\_classes.py:269: FutureWarning: `max_features='auto'` has been deprecated in 1.1 and will be removed in 1.3. To keep the past behaviour, explicitly set `max_features='sqrt'`.\n",
      "  warnings.warn(\n"
     ]
    },
    {
     "name": "stdout",
     "output_type": "stream",
     "text": [
      "[CV] END .criterion=entropy, max_depth=17, max_features=sqrt; total time=   0.0s\n",
      "[CV] END .criterion=entropy, max_depth=17, max_features=sqrt; total time=   0.0s\n",
      "[CV] END .criterion=entropy, max_depth=17, max_features=sqrt; total time=   0.0s\n",
      "[CV] END .criterion=entropy, max_depth=17, max_features=sqrt; total time=   0.0s\n",
      "[CV] END .criterion=entropy, max_depth=17, max_features=sqrt; total time=   0.0s\n",
      "[CV] END .criterion=entropy, max_depth=17, max_features=sqrt; total time=   0.0s\n",
      "[CV] END .criterion=entropy, max_depth=17, max_features=sqrt; total time=   0.0s\n",
      "[CV] END .criterion=entropy, max_depth=17, max_features=sqrt; total time=   0.0s\n",
      "[CV] END .criterion=entropy, max_depth=17, max_features=sqrt; total time=   0.0s\n",
      "[CV] END .criterion=entropy, max_depth=17, max_features=sqrt; total time=   0.0s\n",
      "[CV] END .criterion=entropy, max_depth=17, max_features=log2; total time=   0.0s\n",
      "[CV] END .criterion=entropy, max_depth=17, max_features=log2; total time=   0.0s\n",
      "[CV] END .criterion=entropy, max_depth=17, max_features=log2; total time=   0.0s\n",
      "[CV] END .criterion=entropy, max_depth=17, max_features=log2; total time=   0.0s\n",
      "[CV] END .criterion=entropy, max_depth=17, max_features=log2; total time=   0.0s\n",
      "[CV] END .criterion=entropy, max_depth=17, max_features=log2; total time=   0.0s\n",
      "[CV] END .criterion=entropy, max_depth=17, max_features=log2; total time=   0.0s\n",
      "[CV] END .criterion=entropy, max_depth=17, max_features=log2; total time=   0.0s\n",
      "[CV] END .criterion=entropy, max_depth=17, max_features=log2; total time=   0.0s\n",
      "[CV] END .criterion=entropy, max_depth=17, max_features=log2; total time=   0.0s\n",
      "[CV] END .criterion=entropy, max_depth=17, max_features=None; total time=   0.3s\n",
      "[CV] END .criterion=entropy, max_depth=17, max_features=None; total time=   0.2s\n",
      "[CV] END .criterion=entropy, max_depth=17, max_features=None; total time=   0.3s\n",
      "[CV] END .criterion=entropy, max_depth=17, max_features=None; total time=   0.2s\n",
      "[CV] END .criterion=entropy, max_depth=17, max_features=None; total time=   0.2s\n",
      "[CV] END .criterion=entropy, max_depth=17, max_features=None; total time=   0.2s\n",
      "[CV] END .criterion=entropy, max_depth=17, max_features=None; total time=   0.2s\n",
      "[CV] END .criterion=entropy, max_depth=17, max_features=None; total time=   0.2s\n",
      "[CV] END .criterion=entropy, max_depth=17, max_features=None; total time=   0.2s\n",
      "[CV] END .criterion=entropy, max_depth=17, max_features=None; total time=   0.2s\n",
      "[CV] END .criterion=entropy, max_depth=18, max_features=auto; total time=   0.0s\n"
     ]
    },
    {
     "name": "stderr",
     "output_type": "stream",
     "text": [
      "C:\\Users\\user\\anaconda3\\lib\\site-packages\\sklearn\\tree\\_classes.py:269: FutureWarning: `max_features='auto'` has been deprecated in 1.1 and will be removed in 1.3. To keep the past behaviour, explicitly set `max_features='sqrt'`.\n",
      "  warnings.warn(\n",
      "C:\\Users\\user\\anaconda3\\lib\\site-packages\\sklearn\\tree\\_classes.py:269: FutureWarning: `max_features='auto'` has been deprecated in 1.1 and will be removed in 1.3. To keep the past behaviour, explicitly set `max_features='sqrt'`.\n",
      "  warnings.warn(\n"
     ]
    },
    {
     "name": "stdout",
     "output_type": "stream",
     "text": [
      "[CV] END .criterion=entropy, max_depth=18, max_features=auto; total time=   0.0s\n",
      "[CV] END .criterion=entropy, max_depth=18, max_features=auto; total time=   0.0s\n"
     ]
    },
    {
     "name": "stderr",
     "output_type": "stream",
     "text": [
      "C:\\Users\\user\\anaconda3\\lib\\site-packages\\sklearn\\tree\\_classes.py:269: FutureWarning: `max_features='auto'` has been deprecated in 1.1 and will be removed in 1.3. To keep the past behaviour, explicitly set `max_features='sqrt'`.\n",
      "  warnings.warn(\n",
      "C:\\Users\\user\\anaconda3\\lib\\site-packages\\sklearn\\tree\\_classes.py:269: FutureWarning: `max_features='auto'` has been deprecated in 1.1 and will be removed in 1.3. To keep the past behaviour, explicitly set `max_features='sqrt'`.\n",
      "  warnings.warn(\n"
     ]
    },
    {
     "name": "stdout",
     "output_type": "stream",
     "text": [
      "[CV] END .criterion=entropy, max_depth=18, max_features=auto; total time=   0.0s\n",
      "[CV] END .criterion=entropy, max_depth=18, max_features=auto; total time=   0.0s\n",
      "[CV] END .criterion=entropy, max_depth=18, max_features=auto; total time=   0.0s\n"
     ]
    },
    {
     "name": "stderr",
     "output_type": "stream",
     "text": [
      "C:\\Users\\user\\anaconda3\\lib\\site-packages\\sklearn\\tree\\_classes.py:269: FutureWarning: `max_features='auto'` has been deprecated in 1.1 and will be removed in 1.3. To keep the past behaviour, explicitly set `max_features='sqrt'`.\n",
      "  warnings.warn(\n",
      "C:\\Users\\user\\anaconda3\\lib\\site-packages\\sklearn\\tree\\_classes.py:269: FutureWarning: `max_features='auto'` has been deprecated in 1.1 and will be removed in 1.3. To keep the past behaviour, explicitly set `max_features='sqrt'`.\n",
      "  warnings.warn(\n",
      "C:\\Users\\user\\anaconda3\\lib\\site-packages\\sklearn\\tree\\_classes.py:269: FutureWarning: `max_features='auto'` has been deprecated in 1.1 and will be removed in 1.3. To keep the past behaviour, explicitly set `max_features='sqrt'`.\n",
      "  warnings.warn(\n",
      "C:\\Users\\user\\anaconda3\\lib\\site-packages\\sklearn\\tree\\_classes.py:269: FutureWarning: `max_features='auto'` has been deprecated in 1.1 and will be removed in 1.3. To keep the past behaviour, explicitly set `max_features='sqrt'`.\n",
      "  warnings.warn(\n"
     ]
    },
    {
     "name": "stdout",
     "output_type": "stream",
     "text": [
      "[CV] END .criterion=entropy, max_depth=18, max_features=auto; total time=   0.0s\n",
      "[CV] END .criterion=entropy, max_depth=18, max_features=auto; total time=   0.0s\n",
      "[CV] END .criterion=entropy, max_depth=18, max_features=auto; total time=   0.0s\n"
     ]
    },
    {
     "name": "stderr",
     "output_type": "stream",
     "text": [
      "C:\\Users\\user\\anaconda3\\lib\\site-packages\\sklearn\\tree\\_classes.py:269: FutureWarning: `max_features='auto'` has been deprecated in 1.1 and will be removed in 1.3. To keep the past behaviour, explicitly set `max_features='sqrt'`.\n",
      "  warnings.warn(\n",
      "C:\\Users\\user\\anaconda3\\lib\\site-packages\\sklearn\\tree\\_classes.py:269: FutureWarning: `max_features='auto'` has been deprecated in 1.1 and will be removed in 1.3. To keep the past behaviour, explicitly set `max_features='sqrt'`.\n",
      "  warnings.warn(\n"
     ]
    },
    {
     "name": "stdout",
     "output_type": "stream",
     "text": [
      "[CV] END .criterion=entropy, max_depth=18, max_features=auto; total time=   0.1s\n",
      "[CV] END .criterion=entropy, max_depth=18, max_features=sqrt; total time=   0.0s\n",
      "[CV] END .criterion=entropy, max_depth=18, max_features=sqrt; total time=   0.0s\n",
      "[CV] END .criterion=entropy, max_depth=18, max_features=sqrt; total time=   0.0s\n",
      "[CV] END .criterion=entropy, max_depth=18, max_features=sqrt; total time=   0.0s\n",
      "[CV] END .criterion=entropy, max_depth=18, max_features=sqrt; total time=   0.0s\n",
      "[CV] END .criterion=entropy, max_depth=18, max_features=sqrt; total time=   0.0s\n",
      "[CV] END .criterion=entropy, max_depth=18, max_features=sqrt; total time=   0.0s\n",
      "[CV] END .criterion=entropy, max_depth=18, max_features=sqrt; total time=   0.0s\n",
      "[CV] END .criterion=entropy, max_depth=18, max_features=sqrt; total time=   0.0s\n",
      "[CV] END .criterion=entropy, max_depth=18, max_features=sqrt; total time=   0.0s\n",
      "[CV] END .criterion=entropy, max_depth=18, max_features=log2; total time=   0.0s\n",
      "[CV] END .criterion=entropy, max_depth=18, max_features=log2; total time=   0.0s\n",
      "[CV] END .criterion=entropy, max_depth=18, max_features=log2; total time=   0.0s\n",
      "[CV] END .criterion=entropy, max_depth=18, max_features=log2; total time=   0.0s\n",
      "[CV] END .criterion=entropy, max_depth=18, max_features=log2; total time=   0.0s\n",
      "[CV] END .criterion=entropy, max_depth=18, max_features=log2; total time=   0.0s\n",
      "[CV] END .criterion=entropy, max_depth=18, max_features=log2; total time=   0.0s\n",
      "[CV] END .criterion=entropy, max_depth=18, max_features=log2; total time=   0.0s\n",
      "[CV] END .criterion=entropy, max_depth=18, max_features=log2; total time=   0.0s\n",
      "[CV] END .criterion=entropy, max_depth=18, max_features=log2; total time=   0.0s\n",
      "[CV] END .criterion=entropy, max_depth=18, max_features=None; total time=   0.2s\n",
      "[CV] END .criterion=entropy, max_depth=18, max_features=None; total time=   0.2s\n",
      "[CV] END .criterion=entropy, max_depth=18, max_features=None; total time=   0.3s\n",
      "[CV] END .criterion=entropy, max_depth=18, max_features=None; total time=   0.2s\n",
      "[CV] END .criterion=entropy, max_depth=18, max_features=None; total time=   0.2s\n",
      "[CV] END .criterion=entropy, max_depth=18, max_features=None; total time=   0.3s\n",
      "[CV] END .criterion=entropy, max_depth=18, max_features=None; total time=   0.2s\n",
      "[CV] END .criterion=entropy, max_depth=18, max_features=None; total time=   0.3s\n",
      "[CV] END .criterion=entropy, max_depth=18, max_features=None; total time=   0.2s\n",
      "[CV] END .criterion=entropy, max_depth=18, max_features=None; total time=   0.2s\n",
      "[CV] END .criterion=entropy, max_depth=19, max_features=auto; total time=   0.0s\n",
      "[CV] END .criterion=entropy, max_depth=19, max_features=auto; total time=   0.0s\n"
     ]
    },
    {
     "name": "stderr",
     "output_type": "stream",
     "text": [
      "C:\\Users\\user\\anaconda3\\lib\\site-packages\\sklearn\\tree\\_classes.py:269: FutureWarning: `max_features='auto'` has been deprecated in 1.1 and will be removed in 1.3. To keep the past behaviour, explicitly set `max_features='sqrt'`.\n",
      "  warnings.warn(\n",
      "C:\\Users\\user\\anaconda3\\lib\\site-packages\\sklearn\\tree\\_classes.py:269: FutureWarning: `max_features='auto'` has been deprecated in 1.1 and will be removed in 1.3. To keep the past behaviour, explicitly set `max_features='sqrt'`.\n",
      "  warnings.warn(\n",
      "C:\\Users\\user\\anaconda3\\lib\\site-packages\\sklearn\\tree\\_classes.py:269: FutureWarning: `max_features='auto'` has been deprecated in 1.1 and will be removed in 1.3. To keep the past behaviour, explicitly set `max_features='sqrt'`.\n",
      "  warnings.warn(\n"
     ]
    },
    {
     "name": "stdout",
     "output_type": "stream",
     "text": [
      "[CV] END .criterion=entropy, max_depth=19, max_features=auto; total time=   0.0s\n",
      "[CV] END .criterion=entropy, max_depth=19, max_features=auto; total time=   0.0s\n",
      "[CV] END .criterion=entropy, max_depth=19, max_features=auto; total time=   0.0s\n"
     ]
    },
    {
     "name": "stderr",
     "output_type": "stream",
     "text": [
      "C:\\Users\\user\\anaconda3\\lib\\site-packages\\sklearn\\tree\\_classes.py:269: FutureWarning: `max_features='auto'` has been deprecated in 1.1 and will be removed in 1.3. To keep the past behaviour, explicitly set `max_features='sqrt'`.\n",
      "  warnings.warn(\n",
      "C:\\Users\\user\\anaconda3\\lib\\site-packages\\sklearn\\tree\\_classes.py:269: FutureWarning: `max_features='auto'` has been deprecated in 1.1 and will be removed in 1.3. To keep the past behaviour, explicitly set `max_features='sqrt'`.\n",
      "  warnings.warn(\n",
      "C:\\Users\\user\\anaconda3\\lib\\site-packages\\sklearn\\tree\\_classes.py:269: FutureWarning: `max_features='auto'` has been deprecated in 1.1 and will be removed in 1.3. To keep the past behaviour, explicitly set `max_features='sqrt'`.\n",
      "  warnings.warn(\n",
      "C:\\Users\\user\\anaconda3\\lib\\site-packages\\sklearn\\tree\\_classes.py:269: FutureWarning: `max_features='auto'` has been deprecated in 1.1 and will be removed in 1.3. To keep the past behaviour, explicitly set `max_features='sqrt'`.\n",
      "  warnings.warn(\n"
     ]
    },
    {
     "name": "stdout",
     "output_type": "stream",
     "text": [
      "[CV] END .criterion=entropy, max_depth=19, max_features=auto; total time=   0.0s\n",
      "[CV] END .criterion=entropy, max_depth=19, max_features=auto; total time=   0.0s\n"
     ]
    },
    {
     "name": "stderr",
     "output_type": "stream",
     "text": [
      "C:\\Users\\user\\anaconda3\\lib\\site-packages\\sklearn\\tree\\_classes.py:269: FutureWarning: `max_features='auto'` has been deprecated in 1.1 and will be removed in 1.3. To keep the past behaviour, explicitly set `max_features='sqrt'`.\n",
      "  warnings.warn(\n",
      "C:\\Users\\user\\anaconda3\\lib\\site-packages\\sklearn\\tree\\_classes.py:269: FutureWarning: `max_features='auto'` has been deprecated in 1.1 and will be removed in 1.3. To keep the past behaviour, explicitly set `max_features='sqrt'`.\n",
      "  warnings.warn(\n"
     ]
    },
    {
     "name": "stdout",
     "output_type": "stream",
     "text": [
      "[CV] END .criterion=entropy, max_depth=19, max_features=auto; total time=   0.0s\n",
      "[CV] END .criterion=entropy, max_depth=19, max_features=auto; total time=   0.0s\n"
     ]
    },
    {
     "name": "stderr",
     "output_type": "stream",
     "text": [
      "C:\\Users\\user\\anaconda3\\lib\\site-packages\\sklearn\\tree\\_classes.py:269: FutureWarning: `max_features='auto'` has been deprecated in 1.1 and will be removed in 1.3. To keep the past behaviour, explicitly set `max_features='sqrt'`.\n",
      "  warnings.warn(\n"
     ]
    },
    {
     "name": "stdout",
     "output_type": "stream",
     "text": [
      "[CV] END .criterion=entropy, max_depth=19, max_features=auto; total time=   0.0s\n",
      "[CV] END .criterion=entropy, max_depth=19, max_features=sqrt; total time=   0.0s\n",
      "[CV] END .criterion=entropy, max_depth=19, max_features=sqrt; total time=   0.0s\n",
      "[CV] END .criterion=entropy, max_depth=19, max_features=sqrt; total time=   0.0s\n",
      "[CV] END .criterion=entropy, max_depth=19, max_features=sqrt; total time=   0.0s\n",
      "[CV] END .criterion=entropy, max_depth=19, max_features=sqrt; total time=   0.0s\n",
      "[CV] END .criterion=entropy, max_depth=19, max_features=sqrt; total time=   0.0s\n",
      "[CV] END .criterion=entropy, max_depth=19, max_features=sqrt; total time=   0.0s\n",
      "[CV] END .criterion=entropy, max_depth=19, max_features=sqrt; total time=   0.0s\n",
      "[CV] END .criterion=entropy, max_depth=19, max_features=sqrt; total time=   0.0s\n",
      "[CV] END .criterion=entropy, max_depth=19, max_features=sqrt; total time=   0.0s\n",
      "[CV] END .criterion=entropy, max_depth=19, max_features=log2; total time=   0.0s\n",
      "[CV] END .criterion=entropy, max_depth=19, max_features=log2; total time=   0.1s\n",
      "[CV] END .criterion=entropy, max_depth=19, max_features=log2; total time=   0.0s\n",
      "[CV] END .criterion=entropy, max_depth=19, max_features=log2; total time=   0.0s\n",
      "[CV] END .criterion=entropy, max_depth=19, max_features=log2; total time=   0.0s\n",
      "[CV] END .criterion=entropy, max_depth=19, max_features=log2; total time=   0.0s\n",
      "[CV] END .criterion=entropy, max_depth=19, max_features=log2; total time=   0.0s\n",
      "[CV] END .criterion=entropy, max_depth=19, max_features=log2; total time=   0.0s\n",
      "[CV] END .criterion=entropy, max_depth=19, max_features=log2; total time=   0.0s\n",
      "[CV] END .criterion=entropy, max_depth=19, max_features=log2; total time=   0.0s\n",
      "[CV] END .criterion=entropy, max_depth=19, max_features=None; total time=   0.3s\n",
      "[CV] END .criterion=entropy, max_depth=19, max_features=None; total time=   0.3s\n",
      "[CV] END .criterion=entropy, max_depth=19, max_features=None; total time=   0.2s\n",
      "[CV] END .criterion=entropy, max_depth=19, max_features=None; total time=   0.2s\n",
      "[CV] END .criterion=entropy, max_depth=19, max_features=None; total time=   0.3s\n",
      "[CV] END .criterion=entropy, max_depth=19, max_features=None; total time=   0.2s\n",
      "[CV] END .criterion=entropy, max_depth=19, max_features=None; total time=   0.2s\n",
      "[CV] END .criterion=entropy, max_depth=19, max_features=None; total time=   0.3s\n",
      "[CV] END .criterion=entropy, max_depth=19, max_features=None; total time=   0.2s\n",
      "[CV] END .criterion=entropy, max_depth=19, max_features=None; total time=   0.2s\n"
     ]
    },
    {
     "data": {
      "text/html": [
       "<style>#sk-container-id-10 {color: black;background-color: white;}#sk-container-id-10 pre{padding: 0;}#sk-container-id-10 div.sk-toggleable {background-color: white;}#sk-container-id-10 label.sk-toggleable__label {cursor: pointer;display: block;width: 100%;margin-bottom: 0;padding: 0.3em;box-sizing: border-box;text-align: center;}#sk-container-id-10 label.sk-toggleable__label-arrow:before {content: \"▸\";float: left;margin-right: 0.25em;color: #696969;}#sk-container-id-10 label.sk-toggleable__label-arrow:hover:before {color: black;}#sk-container-id-10 div.sk-estimator:hover label.sk-toggleable__label-arrow:before {color: black;}#sk-container-id-10 div.sk-toggleable__content {max-height: 0;max-width: 0;overflow: hidden;text-align: left;background-color: #f0f8ff;}#sk-container-id-10 div.sk-toggleable__content pre {margin: 0.2em;color: black;border-radius: 0.25em;background-color: #f0f8ff;}#sk-container-id-10 input.sk-toggleable__control:checked~div.sk-toggleable__content {max-height: 200px;max-width: 100%;overflow: auto;}#sk-container-id-10 input.sk-toggleable__control:checked~label.sk-toggleable__label-arrow:before {content: \"▾\";}#sk-container-id-10 div.sk-estimator input.sk-toggleable__control:checked~label.sk-toggleable__label {background-color: #d4ebff;}#sk-container-id-10 div.sk-label input.sk-toggleable__control:checked~label.sk-toggleable__label {background-color: #d4ebff;}#sk-container-id-10 input.sk-hidden--visually {border: 0;clip: rect(1px 1px 1px 1px);clip: rect(1px, 1px, 1px, 1px);height: 1px;margin: -1px;overflow: hidden;padding: 0;position: absolute;width: 1px;}#sk-container-id-10 div.sk-estimator {font-family: monospace;background-color: #f0f8ff;border: 1px dotted black;border-radius: 0.25em;box-sizing: border-box;margin-bottom: 0.5em;}#sk-container-id-10 div.sk-estimator:hover {background-color: #d4ebff;}#sk-container-id-10 div.sk-parallel-item::after {content: \"\";width: 100%;border-bottom: 1px solid gray;flex-grow: 1;}#sk-container-id-10 div.sk-label:hover label.sk-toggleable__label {background-color: #d4ebff;}#sk-container-id-10 div.sk-serial::before {content: \"\";position: absolute;border-left: 1px solid gray;box-sizing: border-box;top: 0;bottom: 0;left: 50%;z-index: 0;}#sk-container-id-10 div.sk-serial {display: flex;flex-direction: column;align-items: center;background-color: white;padding-right: 0.2em;padding-left: 0.2em;position: relative;}#sk-container-id-10 div.sk-item {position: relative;z-index: 1;}#sk-container-id-10 div.sk-parallel {display: flex;align-items: stretch;justify-content: center;background-color: white;position: relative;}#sk-container-id-10 div.sk-item::before, #sk-container-id-10 div.sk-parallel-item::before {content: \"\";position: absolute;border-left: 1px solid gray;box-sizing: border-box;top: 0;bottom: 0;left: 50%;z-index: -1;}#sk-container-id-10 div.sk-parallel-item {display: flex;flex-direction: column;z-index: 1;position: relative;background-color: white;}#sk-container-id-10 div.sk-parallel-item:first-child::after {align-self: flex-end;width: 50%;}#sk-container-id-10 div.sk-parallel-item:last-child::after {align-self: flex-start;width: 50%;}#sk-container-id-10 div.sk-parallel-item:only-child::after {width: 0;}#sk-container-id-10 div.sk-dashed-wrapped {border: 1px dashed gray;margin: 0 0.4em 0.5em 0.4em;box-sizing: border-box;padding-bottom: 0.4em;background-color: white;}#sk-container-id-10 div.sk-label label {font-family: monospace;font-weight: bold;display: inline-block;line-height: 1.2em;}#sk-container-id-10 div.sk-label-container {text-align: center;}#sk-container-id-10 div.sk-container {/* jupyter's `normalize.less` sets `[hidden] { display: none; }` but bootstrap.min.css set `[hidden] { display: none !important; }` so we also need the `!important` here to be able to override the default hidden behavior on the sphinx rendered scikit-learn.org. See: https://github.com/scikit-learn/scikit-learn/issues/21755 */display: inline-block !important;position: relative;}#sk-container-id-10 div.sk-text-repr-fallback {display: none;}</style><div id=\"sk-container-id-10\" class=\"sk-top-container\"><div class=\"sk-text-repr-fallback\"><pre>GridSearchCV(cv=10, estimator=DecisionTreeClassifier(),\n",
       "             param_grid={&#x27;criterion&#x27;: [&#x27;gini&#x27;, &#x27;entropy&#x27;],\n",
       "                         &#x27;max_depth&#x27;: [2, 3, 4, 5, 6, 7, 8, 9, 10, 11, 12, 13,\n",
       "                                       14, 15, 16, 17, 18, 19],\n",
       "                         &#x27;max_features&#x27;: [&#x27;auto&#x27;, &#x27;sqrt&#x27;, &#x27;log2&#x27;, None]},\n",
       "             scoring=&#x27;f1&#x27;, verbose=2)</pre><b>In a Jupyter environment, please rerun this cell to show the HTML representation or trust the notebook. <br />On GitHub, the HTML representation is unable to render, please try loading this page with nbviewer.org.</b></div><div class=\"sk-container\" hidden><div class=\"sk-item sk-dashed-wrapped\"><div class=\"sk-label-container\"><div class=\"sk-label sk-toggleable\"><input class=\"sk-toggleable__control sk-hidden--visually\" id=\"sk-estimator-id-12\" type=\"checkbox\" ><label for=\"sk-estimator-id-12\" class=\"sk-toggleable__label sk-toggleable__label-arrow\">GridSearchCV</label><div class=\"sk-toggleable__content\"><pre>GridSearchCV(cv=10, estimator=DecisionTreeClassifier(),\n",
       "             param_grid={&#x27;criterion&#x27;: [&#x27;gini&#x27;, &#x27;entropy&#x27;],\n",
       "                         &#x27;max_depth&#x27;: [2, 3, 4, 5, 6, 7, 8, 9, 10, 11, 12, 13,\n",
       "                                       14, 15, 16, 17, 18, 19],\n",
       "                         &#x27;max_features&#x27;: [&#x27;auto&#x27;, &#x27;sqrt&#x27;, &#x27;log2&#x27;, None]},\n",
       "             scoring=&#x27;f1&#x27;, verbose=2)</pre></div></div></div><div class=\"sk-parallel\"><div class=\"sk-parallel-item\"><div class=\"sk-item\"><div class=\"sk-label-container\"><div class=\"sk-label sk-toggleable\"><input class=\"sk-toggleable__control sk-hidden--visually\" id=\"sk-estimator-id-13\" type=\"checkbox\" ><label for=\"sk-estimator-id-13\" class=\"sk-toggleable__label sk-toggleable__label-arrow\">estimator: DecisionTreeClassifier</label><div class=\"sk-toggleable__content\"><pre>DecisionTreeClassifier()</pre></div></div></div><div class=\"sk-serial\"><div class=\"sk-item\"><div class=\"sk-estimator sk-toggleable\"><input class=\"sk-toggleable__control sk-hidden--visually\" id=\"sk-estimator-id-14\" type=\"checkbox\" ><label for=\"sk-estimator-id-14\" class=\"sk-toggleable__label sk-toggleable__label-arrow\">DecisionTreeClassifier</label><div class=\"sk-toggleable__content\"><pre>DecisionTreeClassifier()</pre></div></div></div></div></div></div></div></div></div></div>"
      ],
      "text/plain": [
       "GridSearchCV(cv=10, estimator=DecisionTreeClassifier(),\n",
       "             param_grid={'criterion': ['gini', 'entropy'],\n",
       "                         'max_depth': [2, 3, 4, 5, 6, 7, 8, 9, 10, 11, 12, 13,\n",
       "                                       14, 15, 16, 17, 18, 19],\n",
       "                         'max_features': ['auto', 'sqrt', 'log2', None]},\n",
       "             scoring='f1', verbose=2)"
      ]
     },
     "execution_count": 210,
     "metadata": {},
     "output_type": "execute_result"
    }
   ],
   "source": [
    "clf.fit(X_train,y_train)"
   ]
  },
  {
   "cell_type": "code",
   "execution_count": 211,
   "id": "d1be62f6",
   "metadata": {},
   "outputs": [
    {
     "name": "stdout",
     "output_type": "stream",
     "text": [
      "Best hyperparameters: {'criterion': 'entropy', 'max_depth': 11, 'max_features': None}\n",
      "Best scores: 0.7900041560759967\n"
     ]
    }
   ],
   "source": [
    "print(f'Best hyperparameters: {clf.best_params_}')\n",
    "print(f'Best scores: {clf.best_score_}')"
   ]
  },
  {
   "cell_type": "code",
   "execution_count": 212,
   "id": "c7d439b5",
   "metadata": {},
   "outputs": [
    {
     "name": "stdout",
     "output_type": "stream",
     "text": [
      "Training score:  0.8461635062162501\n",
      "Test score:  0.8323176040397005\n"
     ]
    }
   ],
   "source": [
    "print('Training score: ', f1_score(y_train,clf.predict(X_train)))\n",
    "print('Test score: ', f1_score(y_test,clf.predict(X_test)))"
   ]
  },
  {
   "cell_type": "code",
   "execution_count": 213,
   "id": "cb879917",
   "metadata": {},
   "outputs": [],
   "source": [
    "# STICK WITH \"improved_model_2\" SINCE IT EXHIBITS THE BEST PERFORMS"
   ]
  },
  {
   "cell_type": "code",
   "execution_count": 214,
   "id": "27841209",
   "metadata": {},
   "outputs": [
    {
     "data": {
      "text/plain": [
       "<AxesSubplot:>"
      ]
     },
     "execution_count": 214,
     "metadata": {},
     "output_type": "execute_result"
    },
    {
     "data": {
      "image/png": "[encoded data removed]",
      "text/plain": [
       "<Figure size 720x288 with 2 Axes>"
      ]
     },
     "metadata": {
      "needs_background": "light"
     },
     "output_type": "display_data"
    }
   ],
   "source": [
    "from sklearn.metrics import confusion_matrix\n",
    "cm = confusion_matrix(y_test,improved_model_2.predict(X_test))\n",
    "conf_matrix = pd.DataFrame(data=cm)\n",
    "plt.figure(figsize=(10,4))\n",
    "sns.heatmap(conf_matrix,annot=True,fmt='d')"
   ]
  },
  {
   "cell_type": "code",
   "execution_count": 215,
   "id": "4d6f6183",
   "metadata": {},
   "outputs": [
    {
     "name": "stdout",
     "output_type": "stream",
     "text": [
      "True negative = 1271\n",
      "False positive = 434\n",
      "True positive = 2403\n",
      "False negaive = 512\n"
     ]
    }
   ],
   "source": [
    "TN,FP,FN,TP = confusion_matrix(y_test,improved_model_2.predict(X_test)).ravel()\n",
    "print('True negative =',TN )\n",
    "print('False positive =',FP )\n",
    "print('True positive =',TP )\n",
    "print('False negaive =',FN )"
   ]
  },
  {
   "cell_type": "code",
   "execution_count": 216,
   "id": "2aad2646",
   "metadata": {},
   "outputs": [],
   "source": [
    "# For safety reasons, high false negatives value at 517 than false positives(434) shows that model fits perfectly with \n",
    "# predicting that patients won't survive after a year for the most part while they actually would survive."
   ]
  },
  {
   "cell_type": "code",
   "execution_count": 217,
   "id": "f5ef9fde",
   "metadata": {},
   "outputs": [],
   "source": [
    "from sklearn.metrics import classification_report"
   ]
  },
  {
   "cell_type": "code",
   "execution_count": 218,
   "id": "e549fc5e",
   "metadata": {},
   "outputs": [
    {
     "name": "stdout",
     "output_type": "stream",
     "text": [
      "              precision    recall  f1-score   support\n",
      "\n",
      "           0       0.71      0.75      0.73      1705\n",
      "           1       0.85      0.82      0.84      2915\n",
      "\n",
      "    accuracy                           0.80      4620\n",
      "   macro avg       0.78      0.78      0.78      4620\n",
      "weighted avg       0.80      0.80      0.80      4620\n",
      "\n"
     ]
    }
   ],
   "source": [
    "# See classification report\n",
    "print(classification_report(y_test,improved_model_2.predict(X_test)))"
   ]
  },
  {
   "cell_type": "code",
   "execution_count": 219,
   "id": "a918a262",
   "metadata": {},
   "outputs": [],
   "source": [
    "# From the classifiction report above, the model clearly shows ability to figure survivors after a year as well as make \n",
    "# correct predictions, given the respective high recall and precision values"
   ]
  },
  {
   "cell_type": "code",
   "execution_count": 220,
   "id": "4e697f92",
   "metadata": {},
   "outputs": [],
   "source": [
    "# Below constitute sample predictions on an unseen dataset"
   ]
  },
  {
   "cell_type": "code",
   "execution_count": 221,
   "id": "bef095c2",
   "metadata": {},
   "outputs": [],
   "source": [
    "sample_test_data = pd.read_csv('./hospital_dataset/Test_Data.csv')"
   ]
  },
  {
   "cell_type": "code",
   "execution_count": 222,
   "id": "1bc1de9a",
   "metadata": {},
   "outputs": [
    {
     "data": {
      "text/html": [
       "<div>\n",
       "<style scoped>\n",
       "    .dataframe tbody tr th:only-of-type {\n",
       "        vertical-align: middle;\n",
       "    }\n",
       "\n",
       "    .dataframe tbody tr th {\n",
       "        vertical-align: top;\n",
       "    }\n",
       "\n",
       "    .dataframe thead th {\n",
       "        text-align: right;\n",
       "    }\n",
       "</style>\n",
       "<table border=\"1\" class=\"dataframe\">\n",
       "  <thead>\n",
       "    <tr style=\"text-align: right;\">\n",
       "      <th></th>\n",
       "      <th>ID_Patient_Care_Situation</th>\n",
       "      <th>Diagnosed_Condition</th>\n",
       "      <th>Patient_ID</th>\n",
       "      <th>Treated_with_drugs</th>\n",
       "      <th>Patient_Age</th>\n",
       "      <th>Patient_Body_Mass_Index</th>\n",
       "      <th>Patient_Smoker</th>\n",
       "      <th>Patient_Rural_Urban</th>\n",
       "      <th>Patient_mental_condition</th>\n",
       "      <th>A</th>\n",
       "      <th>B</th>\n",
       "      <th>C</th>\n",
       "      <th>D</th>\n",
       "      <th>E</th>\n",
       "      <th>F</th>\n",
       "      <th>Z</th>\n",
       "      <th>Number_of_prev_cond</th>\n",
       "    </tr>\n",
       "  </thead>\n",
       "  <tbody>\n",
       "    <tr>\n",
       "      <th>0</th>\n",
       "      <td>19150</td>\n",
       "      <td>40</td>\n",
       "      <td>3709</td>\n",
       "      <td>DX3</td>\n",
       "      <td>16</td>\n",
       "      <td>29.443894</td>\n",
       "      <td>NO</td>\n",
       "      <td>RURAL</td>\n",
       "      <td>Stable</td>\n",
       "      <td>1.0</td>\n",
       "      <td>0.0</td>\n",
       "      <td>0.0</td>\n",
       "      <td>0.0</td>\n",
       "      <td>1.0</td>\n",
       "      <td>0.0</td>\n",
       "      <td>0.0</td>\n",
       "      <td>2.0</td>\n",
       "    </tr>\n",
       "    <tr>\n",
       "      <th>1</th>\n",
       "      <td>23216</td>\n",
       "      <td>52</td>\n",
       "      <td>986</td>\n",
       "      <td>DX6</td>\n",
       "      <td>24</td>\n",
       "      <td>26.836321</td>\n",
       "      <td>NO</td>\n",
       "      <td>URBAN</td>\n",
       "      <td>Stable</td>\n",
       "      <td>1.0</td>\n",
       "      <td>1.0</td>\n",
       "      <td>0.0</td>\n",
       "      <td>0.0</td>\n",
       "      <td>0.0</td>\n",
       "      <td>0.0</td>\n",
       "      <td>0.0</td>\n",
       "      <td>2.0</td>\n",
       "    </tr>\n",
       "    <tr>\n",
       "      <th>2</th>\n",
       "      <td>11890</td>\n",
       "      <td>50</td>\n",
       "      <td>11821</td>\n",
       "      <td>DX4 DX5</td>\n",
       "      <td>63</td>\n",
       "      <td>25.523280</td>\n",
       "      <td>NO</td>\n",
       "      <td>RURAL</td>\n",
       "      <td>Stable</td>\n",
       "      <td>1.0</td>\n",
       "      <td>0.0</td>\n",
       "      <td>0.0</td>\n",
       "      <td>0.0</td>\n",
       "      <td>1.0</td>\n",
       "      <td>0.0</td>\n",
       "      <td>0.0</td>\n",
       "      <td>2.0</td>\n",
       "    </tr>\n",
       "  </tbody>\n",
       "</table>\n",
       "</div>"
      ],
      "text/plain": [
       "   ID_Patient_Care_Situation  Diagnosed_Condition  Patient_ID  \\\n",
       "0                      19150                   40        3709   \n",
       "1                      23216                   52         986   \n",
       "2                      11890                   50       11821   \n",
       "\n",
       "  Treated_with_drugs  Patient_Age  Patient_Body_Mass_Index Patient_Smoker  \\\n",
       "0               DX3            16                29.443894             NO   \n",
       "1                DX6           24                26.836321             NO   \n",
       "2           DX4 DX5            63                25.523280             NO   \n",
       "\n",
       "  Patient_Rural_Urban Patient_mental_condition    A    B    C    D    E    F  \\\n",
       "0               RURAL                   Stable  1.0  0.0  0.0  0.0  1.0  0.0   \n",
       "1               URBAN                   Stable  1.0  1.0  0.0  0.0  0.0  0.0   \n",
       "2               RURAL                   Stable  1.0  0.0  0.0  0.0  1.0  0.0   \n",
       "\n",
       "     Z  Number_of_prev_cond  \n",
       "0  0.0                  2.0  \n",
       "1  0.0                  2.0  \n",
       "2  0.0                  2.0  "
      ]
     },
     "execution_count": 222,
     "metadata": {},
     "output_type": "execute_result"
    }
   ],
   "source": [
    "sample_test_data.head(3)"
   ]
  },
  {
   "cell_type": "code",
   "execution_count": 223,
   "id": "1d41dec4",
   "metadata": {},
   "outputs": [],
   "source": [
    "# Colmns of dataset"
   ]
  },
  {
   "cell_type": "code",
   "execution_count": 224,
   "id": "ac81e1e1",
   "metadata": {},
   "outputs": [
    {
     "data": {
      "text/plain": [
       "Index(['ID_Patient_Care_Situation', 'Diagnosed_Condition', 'Patient_ID',\n",
       "       'Treated_with_drugs', 'Patient_Age', 'Patient_Body_Mass_Index',\n",
       "       'Patient_Smoker', 'Patient_Rural_Urban', 'Patient_mental_condition',\n",
       "       'A', 'B', 'C', 'D', 'E', 'F', 'Z', 'Number_of_prev_cond'],\n",
       "      dtype='object')"
      ]
     },
     "execution_count": 224,
     "metadata": {},
     "output_type": "execute_result"
    }
   ],
   "source": [
    "sample_test_data.columns"
   ]
  },
  {
   "cell_type": "code",
   "execution_count": 225,
   "id": "19e635a0",
   "metadata": {},
   "outputs": [],
   "source": [
    "# Categorical colmns of test dataset"
   ]
  },
  {
   "cell_type": "code",
   "execution_count": 226,
   "id": "233ba9ce",
   "metadata": {},
   "outputs": [],
   "source": [
    "cat_sample_test_data = sample_test_data.select_dtypes(include='object').columns"
   ]
  },
  {
   "cell_type": "code",
   "execution_count": 227,
   "id": "d7648db6",
   "metadata": {},
   "outputs": [
    {
     "data": {
      "text/plain": [
       "Index(['Treated_with_drugs', 'Patient_Smoker', 'Patient_Rural_Urban',\n",
       "       'Patient_mental_condition'],\n",
       "      dtype='object')"
      ]
     },
     "execution_count": 227,
     "metadata": {},
     "output_type": "execute_result"
    }
   ],
   "source": [
    "cat_sample_test_data"
   ]
  },
  {
   "cell_type": "code",
   "execution_count": 228,
   "id": "51db323c",
   "metadata": {},
   "outputs": [],
   "source": [
    "# Convert numerical into categorical variables on the test dataset"
   ]
  },
  {
   "cell_type": "code",
   "execution_count": 229,
   "id": "ed6265a2",
   "metadata": {},
   "outputs": [],
   "source": [
    "for column in cat_sample_test_data:\n",
    "    sample_test_data[column] = encoder.fit_transform(sample_test_data[column])"
   ]
  },
  {
   "cell_type": "code",
   "execution_count": 230,
   "id": "ee11e0a2",
   "metadata": {},
   "outputs": [
    {
     "data": {
      "text/html": [
       "<div>\n",
       "<style scoped>\n",
       "    .dataframe tbody tr th:only-of-type {\n",
       "        vertical-align: middle;\n",
       "    }\n",
       "\n",
       "    .dataframe tbody tr th {\n",
       "        vertical-align: top;\n",
       "    }\n",
       "\n",
       "    .dataframe thead th {\n",
       "        text-align: right;\n",
       "    }\n",
       "</style>\n",
       "<table border=\"1\" class=\"dataframe\">\n",
       "  <thead>\n",
       "    <tr style=\"text-align: right;\">\n",
       "      <th></th>\n",
       "      <th>ID_Patient_Care_Situation</th>\n",
       "      <th>Diagnosed_Condition</th>\n",
       "      <th>Patient_ID</th>\n",
       "      <th>Treated_with_drugs</th>\n",
       "      <th>Patient_Age</th>\n",
       "      <th>Patient_Body_Mass_Index</th>\n",
       "      <th>Patient_Smoker</th>\n",
       "      <th>Patient_Rural_Urban</th>\n",
       "      <th>Patient_mental_condition</th>\n",
       "      <th>A</th>\n",
       "      <th>B</th>\n",
       "      <th>C</th>\n",
       "      <th>D</th>\n",
       "      <th>E</th>\n",
       "      <th>F</th>\n",
       "      <th>Z</th>\n",
       "      <th>Number_of_prev_cond</th>\n",
       "    </tr>\n",
       "  </thead>\n",
       "  <tbody>\n",
       "    <tr>\n",
       "      <th>0</th>\n",
       "      <td>19150</td>\n",
       "      <td>40</td>\n",
       "      <td>3709</td>\n",
       "      <td>24</td>\n",
       "      <td>16</td>\n",
       "      <td>29.443894</td>\n",
       "      <td>0</td>\n",
       "      <td>0</td>\n",
       "      <td>0</td>\n",
       "      <td>1.0</td>\n",
       "      <td>0.0</td>\n",
       "      <td>0.0</td>\n",
       "      <td>0.0</td>\n",
       "      <td>1.0</td>\n",
       "      <td>0.0</td>\n",
       "      <td>0.0</td>\n",
       "      <td>2.0</td>\n",
       "    </tr>\n",
       "    <tr>\n",
       "      <th>1</th>\n",
       "      <td>23216</td>\n",
       "      <td>52</td>\n",
       "      <td>986</td>\n",
       "      <td>31</td>\n",
       "      <td>24</td>\n",
       "      <td>26.836321</td>\n",
       "      <td>0</td>\n",
       "      <td>1</td>\n",
       "      <td>0</td>\n",
       "      <td>1.0</td>\n",
       "      <td>1.0</td>\n",
       "      <td>0.0</td>\n",
       "      <td>0.0</td>\n",
       "      <td>0.0</td>\n",
       "      <td>0.0</td>\n",
       "      <td>0.0</td>\n",
       "      <td>2.0</td>\n",
       "    </tr>\n",
       "    <tr>\n",
       "      <th>2</th>\n",
       "      <td>11890</td>\n",
       "      <td>50</td>\n",
       "      <td>11821</td>\n",
       "      <td>29</td>\n",
       "      <td>63</td>\n",
       "      <td>25.523280</td>\n",
       "      <td>0</td>\n",
       "      <td>0</td>\n",
       "      <td>0</td>\n",
       "      <td>1.0</td>\n",
       "      <td>0.0</td>\n",
       "      <td>0.0</td>\n",
       "      <td>0.0</td>\n",
       "      <td>1.0</td>\n",
       "      <td>0.0</td>\n",
       "      <td>0.0</td>\n",
       "      <td>2.0</td>\n",
       "    </tr>\n",
       "  </tbody>\n",
       "</table>\n",
       "</div>"
      ],
      "text/plain": [
       "   ID_Patient_Care_Situation  Diagnosed_Condition  Patient_ID  \\\n",
       "0                      19150                   40        3709   \n",
       "1                      23216                   52         986   \n",
       "2                      11890                   50       11821   \n",
       "\n",
       "   Treated_with_drugs  Patient_Age  Patient_Body_Mass_Index  Patient_Smoker  \\\n",
       "0                  24           16                29.443894               0   \n",
       "1                  31           24                26.836321               0   \n",
       "2                  29           63                25.523280               0   \n",
       "\n",
       "   Patient_Rural_Urban  Patient_mental_condition    A    B    C    D    E  \\\n",
       "0                    0                         0  1.0  0.0  0.0  0.0  1.0   \n",
       "1                    1                         0  1.0  1.0  0.0  0.0  0.0   \n",
       "2                    0                         0  1.0  0.0  0.0  0.0  1.0   \n",
       "\n",
       "     F    Z  Number_of_prev_cond  \n",
       "0  0.0  0.0                  2.0  \n",
       "1  0.0  0.0                  2.0  \n",
       "2  0.0  0.0                  2.0  "
      ]
     },
     "execution_count": 230,
     "metadata": {},
     "output_type": "execute_result"
    }
   ],
   "source": [
    "sample_test_data.head(3)"
   ]
  },
  {
   "cell_type": "code",
   "execution_count": 231,
   "id": "b7fab038",
   "metadata": {},
   "outputs": [],
   "source": [
    "# COnfirm absence of categorical columns"
   ]
  },
  {
   "cell_type": "code",
   "execution_count": 232,
   "id": "99284591",
   "metadata": {},
   "outputs": [
    {
     "data": {
      "text/plain": [
       "Index([], dtype='object')"
      ]
     },
     "execution_count": 232,
     "metadata": {},
     "output_type": "execute_result"
    }
   ],
   "source": [
    "sample_test_data.select_dtypes(include='object').columns"
   ]
  },
  {
   "cell_type": "code",
   "execution_count": 233,
   "id": "04651568",
   "metadata": {},
   "outputs": [],
   "source": [
    "# Run prediction"
   ]
  },
  {
   "cell_type": "code",
   "execution_count": 234,
   "id": "d8553cde",
   "metadata": {},
   "outputs": [],
   "source": [
    "sample_test_result = d_tree_classifier.predict(sample_test_data)"
   ]
  },
  {
   "cell_type": "code",
   "execution_count": 235,
   "id": "0f329db5",
   "metadata": {},
   "outputs": [
    {
     "data": {
      "text/plain": [
       "array([1, 0, 1, ..., 1, 0, 0], dtype=int64)"
      ]
     },
     "execution_count": 235,
     "metadata": {},
     "output_type": "execute_result"
    }
   ],
   "source": [
    "sample_test_result"
   ]
  },
  {
   "cell_type": "code",
   "execution_count": 236,
   "id": "414d6f29",
   "metadata": {},
   "outputs": [],
   "source": [
    "sample_test_result_data = pd.DataFrame(sample_test_result,columns=['prediction'])"
   ]
  },
  {
   "cell_type": "code",
   "execution_count": 237,
   "id": "05d3f1bb",
   "metadata": {},
   "outputs": [],
   "source": [
    "# Display result"
   ]
  },
  {
   "cell_type": "code",
   "execution_count": 238,
   "id": "7f3824ca",
   "metadata": {},
   "outputs": [
    {
     "data": {
      "text/html": [
       "<div>\n",
       "<style scoped>\n",
       "    .dataframe tbody tr th:only-of-type {\n",
       "        vertical-align: middle;\n",
       "    }\n",
       "\n",
       "    .dataframe tbody tr th {\n",
       "        vertical-align: top;\n",
       "    }\n",
       "\n",
       "    .dataframe thead th {\n",
       "        text-align: right;\n",
       "    }\n",
       "</style>\n",
       "<table border=\"1\" class=\"dataframe\">\n",
       "  <thead>\n",
       "    <tr style=\"text-align: right;\">\n",
       "      <th></th>\n",
       "      <th>prediction</th>\n",
       "    </tr>\n",
       "  </thead>\n",
       "  <tbody>\n",
       "    <tr>\n",
       "      <th>0</th>\n",
       "      <td>1</td>\n",
       "    </tr>\n",
       "    <tr>\n",
       "      <th>1</th>\n",
       "      <td>0</td>\n",
       "    </tr>\n",
       "    <tr>\n",
       "      <th>2</th>\n",
       "      <td>1</td>\n",
       "    </tr>\n",
       "    <tr>\n",
       "      <th>3</th>\n",
       "      <td>0</td>\n",
       "    </tr>\n",
       "    <tr>\n",
       "      <th>4</th>\n",
       "      <td>1</td>\n",
       "    </tr>\n",
       "    <tr>\n",
       "      <th>...</th>\n",
       "      <td>...</td>\n",
       "    </tr>\n",
       "    <tr>\n",
       "      <th>9298</th>\n",
       "      <td>0</td>\n",
       "    </tr>\n",
       "    <tr>\n",
       "      <th>9299</th>\n",
       "      <td>1</td>\n",
       "    </tr>\n",
       "    <tr>\n",
       "      <th>9300</th>\n",
       "      <td>1</td>\n",
       "    </tr>\n",
       "    <tr>\n",
       "      <th>9301</th>\n",
       "      <td>0</td>\n",
       "    </tr>\n",
       "    <tr>\n",
       "      <th>9302</th>\n",
       "      <td>0</td>\n",
       "    </tr>\n",
       "  </tbody>\n",
       "</table>\n",
       "<p>9303 rows × 1 columns</p>\n",
       "</div>"
      ],
      "text/plain": [
       "      prediction\n",
       "0              1\n",
       "1              0\n",
       "2              1\n",
       "3              0\n",
       "4              1\n",
       "...          ...\n",
       "9298           0\n",
       "9299           1\n",
       "9300           1\n",
       "9301           0\n",
       "9302           0\n",
       "\n",
       "[9303 rows x 1 columns]"
      ]
     },
     "execution_count": 238,
     "metadata": {},
     "output_type": "execute_result"
    }
   ],
   "source": [
    "sample_test_result_data"
   ]
  },
  {
   "cell_type": "code",
   "execution_count": 239,
   "id": "03bf1d1c",
   "metadata": {},
   "outputs": [],
   "source": [
    "# Save predictions in a csv file"
   ]
  },
  {
   "cell_type": "code",
   "execution_count": 240,
   "id": "5482d186",
   "metadata": {
    "collapsed": true
   },
   "outputs": [],
   "source": [
    "sample_test_result_data.to_csv('survival_task.csv',index=False)"
   ]
  }
 ],
 "metadata": {
  "kernelspec": {
   "display_name": "Python 3 (ipykernel)",
   "language": "python",
   "name": "python3"
  },
  "language_info": {
   "codemirror_mode": {
    "name": "ipython",
    "version": 3
   },
   "file_extension": ".py",
   "mimetype": "text/x-python",
   "name": "python",
   "nbconvert_exporter": "python",
   "pygments_lexer": "ipython3",
   "version": "3.9.7"
  }
 },
 "nbformat": 4,
 "nbformat_minor": 5
}

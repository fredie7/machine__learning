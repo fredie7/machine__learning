{
 "cells": [
  {
   "cell_type": "code",
   "execution_count": 1,
   "id": "023ce9b2",
   "metadata": {},
   "outputs": [],
   "source": [
    "d = {'No_Pation': 17975.0, 'AGE': 50.0, 'Urea': 4.7, 'Creatinine_ratio': 46.0, 'HbA1c': 4.9, 'Cholesterol': 4.2, 'Triglycerides': 0.9, 'HDL_Cholesterol': 2.4, 'Low_density_lipoprotein': 1.4, 'VLDL': 0.5, 'BMI': 24.0}"
   ]
  },
  {
   "cell_type": "code",
   "execution_count": 2,
   "id": "e5167fee",
   "metadata": {},
   "outputs": [
    {
     "name": "stdout",
     "output_type": "stream",
     "text": [
      "{'No_Pation': 17975.0, 'AGE': 50.0, 'Urea': 4.7, 'Creatinine_ratio': 46.0, 'HbA1c': 4.9, 'Cholesterol': 4.2, 'Triglycerides': 0.9, 'HDL_Cholesterol': 2.4, 'Low_density_lipoprotein': 1.4, 'VLDL': 0.5, 'BMI': 24.0}\n"
     ]
    }
   ],
   "source": [
    "print(d)"
   ]
  },
  {
   "cell_type": "code",
   "execution_count": 8,
   "id": "33502b5c",
   "metadata": {},
   "outputs": [
    {
     "name": "stdout",
     "output_type": "stream",
     "text": [
      "17975.0\n",
      "50.0\n",
      "4.7\n",
      "46.0\n",
      "4.9\n",
      "4.2\n",
      "0.9\n",
      "2.4\n",
      "1.4\n",
      "0.5\n",
      "24.0\n"
     ]
    }
   ],
   "source": [
    "for i in d.items():\n",
    "    print(i[1])"
   ]
  },
  {
   "cell_type": "code",
   "execution_count": 9,
   "id": "6c0547c5",
   "metadata": {},
   "outputs": [
    {
     "data": {
      "text/plain": [
       "dict_values([17975.0, 50.0, 4.7, 46.0, 4.9, 4.2, 0.9, 2.4, 1.4, 0.5, 24.0])"
      ]
     },
     "execution_count": 9,
     "metadata": {},
     "output_type": "execute_result"
    }
   ],
   "source": [
    "d.values()"
   ]
  },
  {
   "cell_type": "code",
   "execution_count": 10,
   "id": "85b3cac8",
   "metadata": {},
   "outputs": [
    {
     "data": {
      "text/plain": [
       "{'No_Pation': 17975.0,\n",
       " 'AGE': 50.0,\n",
       " 'Urea': 4.7,\n",
       " 'Creatinine_ratio': 46.0,\n",
       " 'HbA1c': 4.9,\n",
       " 'Cholesterol': 4.2,\n",
       " 'Triglycerides': 0.9,\n",
       " 'HDL_Cholesterol': 2.4,\n",
       " 'Low_density_lipoprotein': 1.4,\n",
       " 'VLDL': 0.5,\n",
       " 'BMI': 24.0}"
      ]
     },
     "execution_count": 10,
     "metadata": {},
     "output_type": "execute_result"
    }
   ],
   "source": [
    "d"
   ]
  },
  {
   "cell_type": "code",
   "execution_count": 11,
   "id": "ef1583c5",
   "metadata": {},
   "outputs": [
    {
     "name": "stdout",
     "output_type": "stream",
     "text": [
      "[17975.0, 50.0, 4.7, 46.0, 4.9, 4.2, 0.9, 2.4, 1.4, 0.5, 24.0]\n"
     ]
    }
   ],
   "source": [
    "l = []\n",
    "for i in d.items():\n",
    "    l.append(i[1])\n",
    "print(l)"
   ]
  },
  {
   "cell_type": "code",
   "execution_count": 12,
   "id": "4a4cd953",
   "metadata": {},
   "outputs": [],
   "source": [
    "import numpy as np"
   ]
  },
  {
   "cell_type": "code",
   "execution_count": 13,
   "id": "9debf6dd",
   "metadata": {},
   "outputs": [
    {
     "data": {
      "text/plain": [
       "array([1.7975e+04, 5.0000e+01, 4.7000e+00, 4.6000e+01, 4.9000e+00,\n",
       "       4.2000e+00, 9.0000e-01, 2.4000e+00, 1.4000e+00, 5.0000e-01,\n",
       "       2.4000e+01])"
      ]
     },
     "execution_count": 13,
     "metadata": {},
     "output_type": "execute_result"
    }
   ],
   "source": [
    "np.asarray(l)"
   ]
  },
  {
   "cell_type": "code",
   "execution_count": null,
   "id": "8354e1a3",
   "metadata": {},
   "outputs": [],
   "source": []
  }
 ],
 "metadata": {
  "kernelspec": {
   "display_name": "Python 3 (ipykernel)",
   "language": "python",
   "name": "python3"
  },
  "language_info": {
   "codemirror_mode": {
    "name": "ipython",
    "version": 3
   },
   "file_extension": ".py",
   "mimetype": "text/x-python",
   "name": "python",
   "nbconvert_exporter": "python",
   "pygments_lexer": "ipython3",
   "version": "3.9.7"
  }
 },
 "nbformat": 4,
 "nbformat_minor": 5
}

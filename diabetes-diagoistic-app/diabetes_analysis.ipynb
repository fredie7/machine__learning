{
 "cells": [
  {
   "cell_type": "code",
   "execution_count": 1,
   "id": "23bd010d",
   "metadata": {},
   "outputs": [],
   "source": [
    "# DIABETES DIOGONISTIC SYSTEM created from data collected from the laboratory at Medical City Hospital"
   ]
  },
  {
   "cell_type": "code",
   "execution_count": 2,
   "id": "76c09e43",
   "metadata": {},
   "outputs": [],
   "source": [
    "#  -a specialist Center for Endocrinology and Diabetes, Al-Kindy ,Iraq"
   ]
  },
  {
   "cell_type": "code",
   "execution_count": 3,
   "id": "8c29df18",
   "metadata": {},
   "outputs": [],
   "source": [
    "# IMPORT DEPENDENCES"
   ]
  },
  {
   "cell_type": "code",
   "execution_count": 4,
   "id": "3a0cd042",
   "metadata": {},
   "outputs": [],
   "source": [
    "import pandas as pd\n",
    "import matplotlib.pyplot as plt\n",
    "import numpy as np\n",
    "import seaborn as sns\n",
    "from sklearn.preprocessing import StandardScaler\n",
    "from sklearn.model_selection import train_test_split\n",
    "from sklearn import svm\n",
    "from sklearn.metrics import accuracy_score\n",
    "\n",
    "%matplotlib inline"
   ]
  },
  {
   "cell_type": "code",
   "execution_count": 6,
   "id": "d27189fa",
   "metadata": {},
   "outputs": [],
   "source": [
    "diabetes_data = pd.read_csv('./Dataset of Diabetes .csv')"
   ]
  },
  {
   "cell_type": "code",
   "execution_count": 7,
   "id": "ed8bad4d",
   "metadata": {},
   "outputs": [
    {
     "data": {
      "text/html": [
       "<div>\n",
       "<style scoped>\n",
       "    .dataframe tbody tr th:only-of-type {\n",
       "        vertical-align: middle;\n",
       "    }\n",
       "\n",
       "    .dataframe tbody tr th {\n",
       "        vertical-align: top;\n",
       "    }\n",
       "\n",
       "    .dataframe thead th {\n",
       "        text-align: right;\n",
       "    }\n",
       "</style>\n",
       "<table border=\"1\" class=\"dataframe\">\n",
       "  <thead>\n",
       "    <tr style=\"text-align: right;\">\n",
       "      <th></th>\n",
       "      <th>ID</th>\n",
       "      <th>No_Pation</th>\n",
       "      <th>Gender</th>\n",
       "      <th>AGE</th>\n",
       "      <th>Urea</th>\n",
       "      <th>Creatinine ratio</th>\n",
       "      <th>HbA1c</th>\n",
       "      <th>Cholesterol</th>\n",
       "      <th>Triglycerides</th>\n",
       "      <th>HDL Cholesterol</th>\n",
       "      <th>Low density lipoprotein</th>\n",
       "      <th>VLDL</th>\n",
       "      <th>BMI</th>\n",
       "      <th>CLASS</th>\n",
       "    </tr>\n",
       "  </thead>\n",
       "  <tbody>\n",
       "    <tr>\n",
       "      <th>0</th>\n",
       "      <td>502</td>\n",
       "      <td>17975</td>\n",
       "      <td>F</td>\n",
       "      <td>50</td>\n",
       "      <td>4.7</td>\n",
       "      <td>46</td>\n",
       "      <td>4.9</td>\n",
       "      <td>4.2</td>\n",
       "      <td>0.9</td>\n",
       "      <td>2.4</td>\n",
       "      <td>1.4</td>\n",
       "      <td>0.5</td>\n",
       "      <td>24.0</td>\n",
       "      <td>N</td>\n",
       "    </tr>\n",
       "    <tr>\n",
       "      <th>1</th>\n",
       "      <td>735</td>\n",
       "      <td>34221</td>\n",
       "      <td>M</td>\n",
       "      <td>26</td>\n",
       "      <td>4.5</td>\n",
       "      <td>62</td>\n",
       "      <td>4.9</td>\n",
       "      <td>3.7</td>\n",
       "      <td>1.4</td>\n",
       "      <td>1.1</td>\n",
       "      <td>2.1</td>\n",
       "      <td>0.6</td>\n",
       "      <td>23.0</td>\n",
       "      <td>N</td>\n",
       "    </tr>\n",
       "    <tr>\n",
       "      <th>2</th>\n",
       "      <td>420</td>\n",
       "      <td>47975</td>\n",
       "      <td>F</td>\n",
       "      <td>50</td>\n",
       "      <td>4.7</td>\n",
       "      <td>46</td>\n",
       "      <td>4.9</td>\n",
       "      <td>4.2</td>\n",
       "      <td>0.9</td>\n",
       "      <td>2.4</td>\n",
       "      <td>1.4</td>\n",
       "      <td>0.5</td>\n",
       "      <td>24.0</td>\n",
       "      <td>N</td>\n",
       "    </tr>\n",
       "    <tr>\n",
       "      <th>3</th>\n",
       "      <td>680</td>\n",
       "      <td>87656</td>\n",
       "      <td>F</td>\n",
       "      <td>50</td>\n",
       "      <td>4.7</td>\n",
       "      <td>46</td>\n",
       "      <td>4.9</td>\n",
       "      <td>4.2</td>\n",
       "      <td>0.9</td>\n",
       "      <td>2.4</td>\n",
       "      <td>1.4</td>\n",
       "      <td>0.5</td>\n",
       "      <td>24.0</td>\n",
       "      <td>N</td>\n",
       "    </tr>\n",
       "    <tr>\n",
       "      <th>4</th>\n",
       "      <td>504</td>\n",
       "      <td>34223</td>\n",
       "      <td>M</td>\n",
       "      <td>33</td>\n",
       "      <td>7.1</td>\n",
       "      <td>46</td>\n",
       "      <td>4.9</td>\n",
       "      <td>4.9</td>\n",
       "      <td>1.0</td>\n",
       "      <td>0.8</td>\n",
       "      <td>2.0</td>\n",
       "      <td>0.4</td>\n",
       "      <td>21.0</td>\n",
       "      <td>N</td>\n",
       "    </tr>\n",
       "  </tbody>\n",
       "</table>\n",
       "</div>"
      ],
      "text/plain": [
       "    ID  No_Pation Gender  AGE  Urea  Creatinine ratio  HbA1c  Cholesterol  \\\n",
       "0  502      17975      F   50   4.7                46    4.9          4.2   \n",
       "1  735      34221      M   26   4.5                62    4.9          3.7   \n",
       "2  420      47975      F   50   4.7                46    4.9          4.2   \n",
       "3  680      87656      F   50   4.7                46    4.9          4.2   \n",
       "4  504      34223      M   33   7.1                46    4.9          4.9   \n",
       "\n",
       "   Triglycerides  HDL Cholesterol  Low density lipoprotein  VLDL   BMI CLASS  \n",
       "0            0.9              2.4                      1.4   0.5  24.0     N  \n",
       "1            1.4              1.1                      2.1   0.6  23.0     N  \n",
       "2            0.9              2.4                      1.4   0.5  24.0     N  \n",
       "3            0.9              2.4                      1.4   0.5  24.0     N  \n",
       "4            1.0              0.8                      2.0   0.4  21.0     N  "
      ]
     },
     "execution_count": 7,
     "metadata": {},
     "output_type": "execute_result"
    }
   ],
   "source": [
    "diabetes_data.head()"
   ]
  },
  {
   "cell_type": "code",
   "execution_count": 8,
   "id": "085380cf",
   "metadata": {},
   "outputs": [
    {
     "name": "stdout",
     "output_type": "stream",
     "text": [
      "<class 'pandas.core.frame.DataFrame'>\n",
      "RangeIndex: 1000 entries, 0 to 999\n",
      "Data columns (total 14 columns):\n",
      " #   Column                   Non-Null Count  Dtype  \n",
      "---  ------                   --------------  -----  \n",
      " 0   ID                       1000 non-null   int64  \n",
      " 1   No_Pation                1000 non-null   int64  \n",
      " 2   Gender                   1000 non-null   object \n",
      " 3   AGE                      1000 non-null   int64  \n",
      " 4   Urea                     1000 non-null   float64\n",
      " 5   Creatinine ratio         1000 non-null   int64  \n",
      " 6   HbA1c                    1000 non-null   float64\n",
      " 7   Cholesterol              1000 non-null   float64\n",
      " 8   Triglycerides            1000 non-null   float64\n",
      " 9   HDL Cholesterol          1000 non-null   float64\n",
      " 10  Low density lipoprotein  1000 non-null   float64\n",
      " 11  VLDL                     1000 non-null   float64\n",
      " 12  BMI                      1000 non-null   float64\n",
      " 13  CLASS                    1000 non-null   object \n",
      "dtypes: float64(8), int64(4), object(2)\n",
      "memory usage: 109.5+ KB\n"
     ]
    }
   ],
   "source": [
    "diabetes_data.info()"
   ]
  },
  {
   "cell_type": "code",
   "execution_count": 9,
   "id": "00ab4795",
   "metadata": {},
   "outputs": [
    {
     "data": {
      "text/html": [
       "<div>\n",
       "<style scoped>\n",
       "    .dataframe tbody tr th:only-of-type {\n",
       "        vertical-align: middle;\n",
       "    }\n",
       "\n",
       "    .dataframe tbody tr th {\n",
       "        vertical-align: top;\n",
       "    }\n",
       "\n",
       "    .dataframe thead th {\n",
       "        text-align: right;\n",
       "    }\n",
       "</style>\n",
       "<table border=\"1\" class=\"dataframe\">\n",
       "  <thead>\n",
       "    <tr style=\"text-align: right;\">\n",
       "      <th></th>\n",
       "      <th>count</th>\n",
       "      <th>mean</th>\n",
       "      <th>std</th>\n",
       "      <th>min</th>\n",
       "      <th>25%</th>\n",
       "      <th>50%</th>\n",
       "      <th>75%</th>\n",
       "      <th>max</th>\n",
       "    </tr>\n",
       "  </thead>\n",
       "  <tbody>\n",
       "    <tr>\n",
       "      <th>ID</th>\n",
       "      <td>1000.0</td>\n",
       "      <td>340.500000</td>\n",
       "      <td>2.403977e+02</td>\n",
       "      <td>1.0</td>\n",
       "      <td>125.75</td>\n",
       "      <td>300.5</td>\n",
       "      <td>550.25</td>\n",
       "      <td>800.00</td>\n",
       "    </tr>\n",
       "    <tr>\n",
       "      <th>No_Pation</th>\n",
       "      <td>1000.0</td>\n",
       "      <td>270551.408000</td>\n",
       "      <td>3.380758e+06</td>\n",
       "      <td>123.0</td>\n",
       "      <td>24063.75</td>\n",
       "      <td>34395.5</td>\n",
       "      <td>45384.25</td>\n",
       "      <td>75435657.00</td>\n",
       "    </tr>\n",
       "    <tr>\n",
       "      <th>AGE</th>\n",
       "      <td>1000.0</td>\n",
       "      <td>53.528000</td>\n",
       "      <td>8.799241e+00</td>\n",
       "      <td>20.0</td>\n",
       "      <td>51.00</td>\n",
       "      <td>55.0</td>\n",
       "      <td>59.00</td>\n",
       "      <td>79.00</td>\n",
       "    </tr>\n",
       "    <tr>\n",
       "      <th>Urea</th>\n",
       "      <td>1000.0</td>\n",
       "      <td>5.124743</td>\n",
       "      <td>2.935165e+00</td>\n",
       "      <td>0.5</td>\n",
       "      <td>3.70</td>\n",
       "      <td>4.6</td>\n",
       "      <td>5.70</td>\n",
       "      <td>38.90</td>\n",
       "    </tr>\n",
       "    <tr>\n",
       "      <th>Creatinine ratio</th>\n",
       "      <td>1000.0</td>\n",
       "      <td>68.943000</td>\n",
       "      <td>5.998475e+01</td>\n",
       "      <td>6.0</td>\n",
       "      <td>48.00</td>\n",
       "      <td>60.0</td>\n",
       "      <td>73.00</td>\n",
       "      <td>800.00</td>\n",
       "    </tr>\n",
       "    <tr>\n",
       "      <th>HbA1c</th>\n",
       "      <td>1000.0</td>\n",
       "      <td>8.281160</td>\n",
       "      <td>2.534003e+00</td>\n",
       "      <td>0.9</td>\n",
       "      <td>6.50</td>\n",
       "      <td>8.0</td>\n",
       "      <td>10.20</td>\n",
       "      <td>16.00</td>\n",
       "    </tr>\n",
       "    <tr>\n",
       "      <th>Cholesterol</th>\n",
       "      <td>1000.0</td>\n",
       "      <td>4.862820</td>\n",
       "      <td>1.301738e+00</td>\n",
       "      <td>0.0</td>\n",
       "      <td>4.00</td>\n",
       "      <td>4.8</td>\n",
       "      <td>5.60</td>\n",
       "      <td>10.30</td>\n",
       "    </tr>\n",
       "    <tr>\n",
       "      <th>Triglycerides</th>\n",
       "      <td>1000.0</td>\n",
       "      <td>2.349610</td>\n",
       "      <td>1.401176e+00</td>\n",
       "      <td>0.3</td>\n",
       "      <td>1.50</td>\n",
       "      <td>2.0</td>\n",
       "      <td>2.90</td>\n",
       "      <td>13.80</td>\n",
       "    </tr>\n",
       "    <tr>\n",
       "      <th>HDL Cholesterol</th>\n",
       "      <td>1000.0</td>\n",
       "      <td>1.204750</td>\n",
       "      <td>6.604136e-01</td>\n",
       "      <td>0.2</td>\n",
       "      <td>0.90</td>\n",
       "      <td>1.1</td>\n",
       "      <td>1.30</td>\n",
       "      <td>9.90</td>\n",
       "    </tr>\n",
       "    <tr>\n",
       "      <th>Low density lipoprotein</th>\n",
       "      <td>1000.0</td>\n",
       "      <td>2.609790</td>\n",
       "      <td>1.115102e+00</td>\n",
       "      <td>0.3</td>\n",
       "      <td>1.80</td>\n",
       "      <td>2.5</td>\n",
       "      <td>3.30</td>\n",
       "      <td>9.90</td>\n",
       "    </tr>\n",
       "    <tr>\n",
       "      <th>VLDL</th>\n",
       "      <td>1000.0</td>\n",
       "      <td>1.854700</td>\n",
       "      <td>3.663599e+00</td>\n",
       "      <td>0.1</td>\n",
       "      <td>0.70</td>\n",
       "      <td>0.9</td>\n",
       "      <td>1.50</td>\n",
       "      <td>35.00</td>\n",
       "    </tr>\n",
       "    <tr>\n",
       "      <th>BMI</th>\n",
       "      <td>1000.0</td>\n",
       "      <td>29.578020</td>\n",
       "      <td>4.962388e+00</td>\n",
       "      <td>19.0</td>\n",
       "      <td>26.00</td>\n",
       "      <td>30.0</td>\n",
       "      <td>33.00</td>\n",
       "      <td>47.75</td>\n",
       "    </tr>\n",
       "  </tbody>\n",
       "</table>\n",
       "</div>"
      ],
      "text/plain": [
       "                          count           mean           std    min       25%  \\\n",
       "ID                       1000.0     340.500000  2.403977e+02    1.0    125.75   \n",
       "No_Pation                1000.0  270551.408000  3.380758e+06  123.0  24063.75   \n",
       "AGE                      1000.0      53.528000  8.799241e+00   20.0     51.00   \n",
       "Urea                     1000.0       5.124743  2.935165e+00    0.5      3.70   \n",
       "Creatinine ratio         1000.0      68.943000  5.998475e+01    6.0     48.00   \n",
       "HbA1c                    1000.0       8.281160  2.534003e+00    0.9      6.50   \n",
       "Cholesterol              1000.0       4.862820  1.301738e+00    0.0      4.00   \n",
       "Triglycerides            1000.0       2.349610  1.401176e+00    0.3      1.50   \n",
       "HDL Cholesterol          1000.0       1.204750  6.604136e-01    0.2      0.90   \n",
       "Low density lipoprotein  1000.0       2.609790  1.115102e+00    0.3      1.80   \n",
       "VLDL                     1000.0       1.854700  3.663599e+00    0.1      0.70   \n",
       "BMI                      1000.0      29.578020  4.962388e+00   19.0     26.00   \n",
       "\n",
       "                             50%       75%          max  \n",
       "ID                         300.5    550.25       800.00  \n",
       "No_Pation                34395.5  45384.25  75435657.00  \n",
       "AGE                         55.0     59.00        79.00  \n",
       "Urea                         4.6      5.70        38.90  \n",
       "Creatinine ratio            60.0     73.00       800.00  \n",
       "HbA1c                        8.0     10.20        16.00  \n",
       "Cholesterol                  4.8      5.60        10.30  \n",
       "Triglycerides                2.0      2.90        13.80  \n",
       "HDL Cholesterol              1.1      1.30         9.90  \n",
       "Low density lipoprotein      2.5      3.30         9.90  \n",
       "VLDL                         0.9      1.50        35.00  \n",
       "BMI                         30.0     33.00        47.75  "
      ]
     },
     "execution_count": 9,
     "metadata": {},
     "output_type": "execute_result"
    }
   ],
   "source": [
    "diabetes_data.describe().T"
   ]
  },
  {
   "cell_type": "code",
   "execution_count": 10,
   "id": "819312d7",
   "metadata": {},
   "outputs": [
    {
     "data": {
      "text/plain": [
       "(1000, 14)"
      ]
     },
     "execution_count": 10,
     "metadata": {},
     "output_type": "execute_result"
    }
   ],
   "source": [
    "diabetes_data.shape"
   ]
  },
  {
   "cell_type": "code",
   "execution_count": 11,
   "id": "1dce0f2a",
   "metadata": {},
   "outputs": [],
   "source": [
    "# The data set is made up of 1000 rows and 14 columns"
   ]
  },
  {
   "cell_type": "code",
   "execution_count": 12,
   "id": "ccc71c1a",
   "metadata": {},
   "outputs": [
    {
     "data": {
      "text/plain": [
       "ID                         0\n",
       "No_Pation                  0\n",
       "Gender                     0\n",
       "AGE                        0\n",
       "Urea                       0\n",
       "Creatinine ratio           0\n",
       "HbA1c                      0\n",
       "Cholesterol                0\n",
       "Triglycerides              0\n",
       "HDL Cholesterol            0\n",
       "Low density lipoprotein    0\n",
       "VLDL                       0\n",
       "BMI                        0\n",
       "CLASS                      0\n",
       "dtype: int64"
      ]
     },
     "execution_count": 12,
     "metadata": {},
     "output_type": "execute_result"
    }
   ],
   "source": [
    "diabetes_data.isnull().sum()"
   ]
  },
  {
   "cell_type": "code",
   "execution_count": 13,
   "id": "bee2d9a8",
   "metadata": {},
   "outputs": [
    {
     "data": {
      "text/plain": [
       "array(['N', 'N ', 'P', 'Y', 'Y '], dtype=object)"
      ]
     },
     "execution_count": 13,
     "metadata": {},
     "output_type": "execute_result"
    }
   ],
   "source": [
    "diabetes_data['CLASS'].unique()"
   ]
  },
  {
   "cell_type": "code",
   "execution_count": 14,
   "id": "3d936a39",
   "metadata": {},
   "outputs": [
    {
     "data": {
      "text/plain": [
       "Index(['ID', 'No_Pation', 'Gender', 'AGE', 'Urea', 'Creatinine ratio', 'HbA1c',\n",
       "       'Cholesterol', 'Triglycerides', 'HDL Cholesterol',\n",
       "       'Low density lipoprotein', 'VLDL', 'BMI', 'CLASS'],\n",
       "      dtype='object')"
      ]
     },
     "execution_count": 14,
     "metadata": {},
     "output_type": "execute_result"
    }
   ],
   "source": [
    "diabetes_data.columns"
   ]
  },
  {
   "cell_type": "code",
   "execution_count": 15,
   "id": "bddc1837",
   "metadata": {},
   "outputs": [],
   "source": [
    "diabetes_data.drop('ID',axis=1,inplace=True)"
   ]
  },
  {
   "cell_type": "code",
   "execution_count": 16,
   "id": "98cf2c58",
   "metadata": {},
   "outputs": [],
   "source": [
    "diabetes_data['CLASS'] = diabetes_data['CLASS'].map({\"N\":0, \"N \":0, \"Y\":1, \"Y \":1, \"P\":2})"
   ]
  },
  {
   "cell_type": "code",
   "execution_count": 17,
   "id": "5a6a2fce",
   "metadata": {},
   "outputs": [
    {
     "data": {
      "text/html": [
       "<div>\n",
       "<style scoped>\n",
       "    .dataframe tbody tr th:only-of-type {\n",
       "        vertical-align: middle;\n",
       "    }\n",
       "\n",
       "    .dataframe tbody tr th {\n",
       "        vertical-align: top;\n",
       "    }\n",
       "\n",
       "    .dataframe thead th {\n",
       "        text-align: right;\n",
       "    }\n",
       "</style>\n",
       "<table border=\"1\" class=\"dataframe\">\n",
       "  <thead>\n",
       "    <tr style=\"text-align: right;\">\n",
       "      <th></th>\n",
       "      <th>No_Pation</th>\n",
       "      <th>Gender</th>\n",
       "      <th>AGE</th>\n",
       "      <th>Urea</th>\n",
       "      <th>Creatinine ratio</th>\n",
       "      <th>HbA1c</th>\n",
       "      <th>Cholesterol</th>\n",
       "      <th>Triglycerides</th>\n",
       "      <th>HDL Cholesterol</th>\n",
       "      <th>Low density lipoprotein</th>\n",
       "      <th>VLDL</th>\n",
       "      <th>BMI</th>\n",
       "      <th>CLASS</th>\n",
       "    </tr>\n",
       "  </thead>\n",
       "  <tbody>\n",
       "    <tr>\n",
       "      <th>0</th>\n",
       "      <td>17975</td>\n",
       "      <td>F</td>\n",
       "      <td>50</td>\n",
       "      <td>4.7</td>\n",
       "      <td>46</td>\n",
       "      <td>4.9</td>\n",
       "      <td>4.2</td>\n",
       "      <td>0.9</td>\n",
       "      <td>2.4</td>\n",
       "      <td>1.4</td>\n",
       "      <td>0.5</td>\n",
       "      <td>24.0</td>\n",
       "      <td>0</td>\n",
       "    </tr>\n",
       "    <tr>\n",
       "      <th>1</th>\n",
       "      <td>34221</td>\n",
       "      <td>M</td>\n",
       "      <td>26</td>\n",
       "      <td>4.5</td>\n",
       "      <td>62</td>\n",
       "      <td>4.9</td>\n",
       "      <td>3.7</td>\n",
       "      <td>1.4</td>\n",
       "      <td>1.1</td>\n",
       "      <td>2.1</td>\n",
       "      <td>0.6</td>\n",
       "      <td>23.0</td>\n",
       "      <td>0</td>\n",
       "    </tr>\n",
       "    <tr>\n",
       "      <th>2</th>\n",
       "      <td>47975</td>\n",
       "      <td>F</td>\n",
       "      <td>50</td>\n",
       "      <td>4.7</td>\n",
       "      <td>46</td>\n",
       "      <td>4.9</td>\n",
       "      <td>4.2</td>\n",
       "      <td>0.9</td>\n",
       "      <td>2.4</td>\n",
       "      <td>1.4</td>\n",
       "      <td>0.5</td>\n",
       "      <td>24.0</td>\n",
       "      <td>0</td>\n",
       "    </tr>\n",
       "    <tr>\n",
       "      <th>3</th>\n",
       "      <td>87656</td>\n",
       "      <td>F</td>\n",
       "      <td>50</td>\n",
       "      <td>4.7</td>\n",
       "      <td>46</td>\n",
       "      <td>4.9</td>\n",
       "      <td>4.2</td>\n",
       "      <td>0.9</td>\n",
       "      <td>2.4</td>\n",
       "      <td>1.4</td>\n",
       "      <td>0.5</td>\n",
       "      <td>24.0</td>\n",
       "      <td>0</td>\n",
       "    </tr>\n",
       "    <tr>\n",
       "      <th>4</th>\n",
       "      <td>34223</td>\n",
       "      <td>M</td>\n",
       "      <td>33</td>\n",
       "      <td>7.1</td>\n",
       "      <td>46</td>\n",
       "      <td>4.9</td>\n",
       "      <td>4.9</td>\n",
       "      <td>1.0</td>\n",
       "      <td>0.8</td>\n",
       "      <td>2.0</td>\n",
       "      <td>0.4</td>\n",
       "      <td>21.0</td>\n",
       "      <td>0</td>\n",
       "    </tr>\n",
       "  </tbody>\n",
       "</table>\n",
       "</div>"
      ],
      "text/plain": [
       "   No_Pation Gender  AGE  Urea  Creatinine ratio  HbA1c  Cholesterol  \\\n",
       "0      17975      F   50   4.7                46    4.9          4.2   \n",
       "1      34221      M   26   4.5                62    4.9          3.7   \n",
       "2      47975      F   50   4.7                46    4.9          4.2   \n",
       "3      87656      F   50   4.7                46    4.9          4.2   \n",
       "4      34223      M   33   7.1                46    4.9          4.9   \n",
       "\n",
       "   Triglycerides  HDL Cholesterol  Low density lipoprotein  VLDL   BMI  CLASS  \n",
       "0            0.9              2.4                      1.4   0.5  24.0      0  \n",
       "1            1.4              1.1                      2.1   0.6  23.0      0  \n",
       "2            0.9              2.4                      1.4   0.5  24.0      0  \n",
       "3            0.9              2.4                      1.4   0.5  24.0      0  \n",
       "4            1.0              0.8                      2.0   0.4  21.0      0  "
      ]
     },
     "execution_count": 17,
     "metadata": {},
     "output_type": "execute_result"
    }
   ],
   "source": [
    "diabetes_data.head()"
   ]
  },
  {
   "cell_type": "code",
   "execution_count": 18,
   "id": "db5d502c",
   "metadata": {},
   "outputs": [
    {
     "data": {
      "text/plain": [
       "No_Pation                  0\n",
       "Gender                     0\n",
       "AGE                        0\n",
       "Urea                       0\n",
       "Creatinine ratio           0\n",
       "HbA1c                      0\n",
       "Cholesterol                0\n",
       "Triglycerides              0\n",
       "HDL Cholesterol            0\n",
       "Low density lipoprotein    0\n",
       "VLDL                       0\n",
       "BMI                        0\n",
       "CLASS                      0\n",
       "dtype: int64"
      ]
     },
     "execution_count": 18,
     "metadata": {},
     "output_type": "execute_result"
    }
   ],
   "source": [
    "# Probe for NULL values\n",
    "diabetes_data.isnull().sum()"
   ]
  },
  {
   "cell_type": "code",
   "execution_count": 19,
   "id": "634645f0",
   "metadata": {},
   "outputs": [],
   "source": [
    "# Apparently, there are no NULL values"
   ]
  },
  {
   "cell_type": "code",
   "execution_count": 20,
   "id": "f50f6767",
   "metadata": {},
   "outputs": [
    {
     "data": {
      "text/plain": [
       "array([0, 2, 1], dtype=int64)"
      ]
     },
     "execution_count": 20,
     "metadata": {},
     "output_type": "execute_result"
    }
   ],
   "source": [
    "diabetes_data['CLASS'].unique()"
   ]
  },
  {
   "cell_type": "code",
   "execution_count": 21,
   "id": "54c00138",
   "metadata": {},
   "outputs": [
    {
     "data": {
      "text/plain": [
       "1    844\n",
       "0    103\n",
       "2     53\n",
       "Name: CLASS, dtype: int64"
      ]
     },
     "execution_count": 21,
     "metadata": {},
     "output_type": "execute_result"
    }
   ],
   "source": [
    "diabetes_data['CLASS'].value_counts()"
   ]
  },
  {
   "cell_type": "code",
   "execution_count": 22,
   "id": "85d5acc2",
   "metadata": {},
   "outputs": [
    {
     "data": {
      "text/plain": [
       "<AxesSubplot:xlabel='CLASS', ylabel='count'>"
      ]
     },
     "execution_count": 22,
     "metadata": {},
     "output_type": "execute_result"
    },
    {
     "data": {
      "image/png": "[encoded data removed]",
      "text/plain": [
       "<Figure size 432x288 with 1 Axes>"
      ]
     },
     "metadata": {
      "needs_background": "light"
     },
     "output_type": "display_data"
    }
   ],
   "source": [
    "# Let's visualize the above result to visually compare the numbers\n",
    "sns.countplot(x='CLASS',data=diabetes_data)"
   ]
  },
  {
   "cell_type": "code",
   "execution_count": 23,
   "id": "941d0106",
   "metadata": {},
   "outputs": [
    {
     "data": {
      "text/plain": [
       "Index(['No_Pation', 'Gender', 'AGE', 'Urea', 'Creatinine ratio', 'HbA1c',\n",
       "       'Cholesterol', 'Triglycerides', 'HDL Cholesterol',\n",
       "       'Low density lipoprotein', 'VLDL', 'BMI', 'CLASS'],\n",
       "      dtype='object')"
      ]
     },
     "execution_count": 23,
     "metadata": {},
     "output_type": "execute_result"
    }
   ],
   "source": [
    "diabetes_data.columns"
   ]
  },
  {
   "cell_type": "code",
   "execution_count": 24,
   "id": "099e4b2a",
   "metadata": {},
   "outputs": [
    {
     "name": "stderr",
     "output_type": "stream",
     "text": [
      "C:\\Users\\MATTHEW\\AppData\\Roaming\\Python\\Python310\\site-packages\\seaborn\\_decorators.py:36: FutureWarning: Pass the following variables as keyword args: x, y. From version 0.12, the only valid positional argument will be `data`, and passing other arguments without an explicit keyword will result in an error or misinterpretation.\n",
      "  warnings.warn(\n"
     ]
    },
    {
     "data": {
      "text/plain": [
       "<seaborn.axisgrid.JointGrid at 0x2bd2991a0e0>"
      ]
     },
     "execution_count": 24,
     "metadata": {},
     "output_type": "execute_result"
    },
    {
     "data": {
      "image/png": "[encoded data removed]",
      "text/plain": [
       "<Figure size 432x432 with 3 Axes>"
      ]
     },
     "metadata": {
      "needs_background": "light"
     },
     "output_type": "display_data"
    }
   ],
   "source": [
    "# Let's visualize how Cholesterol impacts Low density lipoprotein \n",
    "# sns.jointplot(df['Pregnancies'],df['Outcome'])\n",
    "sns.jointplot(diabetes_data['Cholesterol'],diabetes_data['Low density lipoprotein'])"
   ]
  },
  {
   "cell_type": "code",
   "execution_count": 25,
   "id": "8061e7e6",
   "metadata": {},
   "outputs": [],
   "source": [
    "# Clearly, as low density lipoprotein increases with cholesterol"
   ]
  },
  {
   "cell_type": "code",
   "execution_count": 26,
   "id": "c8151fba",
   "metadata": {},
   "outputs": [],
   "source": [
    "#The gender column is dropped since we only need numerical values for machine learning\n",
    "diabetes_data.drop(\"Gender\",axis=1,inplace=True)"
   ]
  },
  {
   "cell_type": "code",
   "execution_count": 28,
   "id": "60376a53",
   "metadata": {},
   "outputs": [
    {
     "data": {
      "text/html": [
       "<div>\n",
       "<style scoped>\n",
       "    .dataframe tbody tr th:only-of-type {\n",
       "        vertical-align: middle;\n",
       "    }\n",
       "\n",
       "    .dataframe tbody tr th {\n",
       "        vertical-align: top;\n",
       "    }\n",
       "\n",
       "    .dataframe thead th {\n",
       "        text-align: right;\n",
       "    }\n",
       "</style>\n",
       "<table border=\"1\" class=\"dataframe\">\n",
       "  <thead>\n",
       "    <tr style=\"text-align: right;\">\n",
       "      <th></th>\n",
       "      <th>No_Pation</th>\n",
       "      <th>AGE</th>\n",
       "      <th>Urea</th>\n",
       "      <th>Creatinine ratio</th>\n",
       "      <th>HbA1c</th>\n",
       "      <th>Cholesterol</th>\n",
       "      <th>Triglycerides</th>\n",
       "      <th>HDL Cholesterol</th>\n",
       "      <th>Low density lipoprotein</th>\n",
       "      <th>VLDL</th>\n",
       "      <th>BMI</th>\n",
       "      <th>CLASS</th>\n",
       "    </tr>\n",
       "  </thead>\n",
       "  <tbody>\n",
       "    <tr>\n",
       "      <th>0</th>\n",
       "      <td>17975</td>\n",
       "      <td>50</td>\n",
       "      <td>4.7</td>\n",
       "      <td>46</td>\n",
       "      <td>4.9</td>\n",
       "      <td>4.2</td>\n",
       "      <td>0.9</td>\n",
       "      <td>2.4</td>\n",
       "      <td>1.4</td>\n",
       "      <td>0.5</td>\n",
       "      <td>24.0</td>\n",
       "      <td>0</td>\n",
       "    </tr>\n",
       "    <tr>\n",
       "      <th>1</th>\n",
       "      <td>34221</td>\n",
       "      <td>26</td>\n",
       "      <td>4.5</td>\n",
       "      <td>62</td>\n",
       "      <td>4.9</td>\n",
       "      <td>3.7</td>\n",
       "      <td>1.4</td>\n",
       "      <td>1.1</td>\n",
       "      <td>2.1</td>\n",
       "      <td>0.6</td>\n",
       "      <td>23.0</td>\n",
       "      <td>0</td>\n",
       "    </tr>\n",
       "    <tr>\n",
       "      <th>2</th>\n",
       "      <td>47975</td>\n",
       "      <td>50</td>\n",
       "      <td>4.7</td>\n",
       "      <td>46</td>\n",
       "      <td>4.9</td>\n",
       "      <td>4.2</td>\n",
       "      <td>0.9</td>\n",
       "      <td>2.4</td>\n",
       "      <td>1.4</td>\n",
       "      <td>0.5</td>\n",
       "      <td>24.0</td>\n",
       "      <td>0</td>\n",
       "    </tr>\n",
       "    <tr>\n",
       "      <th>3</th>\n",
       "      <td>87656</td>\n",
       "      <td>50</td>\n",
       "      <td>4.7</td>\n",
       "      <td>46</td>\n",
       "      <td>4.9</td>\n",
       "      <td>4.2</td>\n",
       "      <td>0.9</td>\n",
       "      <td>2.4</td>\n",
       "      <td>1.4</td>\n",
       "      <td>0.5</td>\n",
       "      <td>24.0</td>\n",
       "      <td>0</td>\n",
       "    </tr>\n",
       "    <tr>\n",
       "      <th>4</th>\n",
       "      <td>34223</td>\n",
       "      <td>33</td>\n",
       "      <td>7.1</td>\n",
       "      <td>46</td>\n",
       "      <td>4.9</td>\n",
       "      <td>4.9</td>\n",
       "      <td>1.0</td>\n",
       "      <td>0.8</td>\n",
       "      <td>2.0</td>\n",
       "      <td>0.4</td>\n",
       "      <td>21.0</td>\n",
       "      <td>0</td>\n",
       "    </tr>\n",
       "  </tbody>\n",
       "</table>\n",
       "</div>"
      ],
      "text/plain": [
       "   No_Pation  AGE  Urea  Creatinine ratio  HbA1c  Cholesterol  Triglycerides  \\\n",
       "0      17975   50   4.7                46    4.9          4.2            0.9   \n",
       "1      34221   26   4.5                62    4.9          3.7            1.4   \n",
       "2      47975   50   4.7                46    4.9          4.2            0.9   \n",
       "3      87656   50   4.7                46    4.9          4.2            0.9   \n",
       "4      34223   33   7.1                46    4.9          4.9            1.0   \n",
       "\n",
       "   HDL Cholesterol  Low density lipoprotein  VLDL   BMI  CLASS  \n",
       "0              2.4                      1.4   0.5  24.0      0  \n",
       "1              1.1                      2.1   0.6  23.0      0  \n",
       "2              2.4                      1.4   0.5  24.0      0  \n",
       "3              2.4                      1.4   0.5  24.0      0  \n",
       "4              0.8                      2.0   0.4  21.0      0  "
      ]
     },
     "execution_count": 28,
     "metadata": {},
     "output_type": "execute_result"
    }
   ],
   "source": [
    "diabetes_data.head()"
   ]
  },
  {
   "cell_type": "code",
   "execution_count": 29,
   "id": "00ee4148",
   "metadata": {},
   "outputs": [],
   "source": [
    "X = diabetes_data.iloc[:,0:-1]\n",
    "y = diabetes_data.iloc[:,-1]"
   ]
  },
  {
   "cell_type": "code",
   "execution_count": 30,
   "id": "7a7e98c2",
   "metadata": {},
   "outputs": [
    {
     "name": "stdout",
     "output_type": "stream",
     "text": [
      "     No_Pation  AGE  Urea  Creatinine ratio  HbA1c  Cholesterol  \\\n",
      "0        17975   50   4.7                46    4.9          4.2   \n",
      "1        34221   26   4.5                62    4.9          3.7   \n",
      "2        47975   50   4.7                46    4.9          4.2   \n",
      "3        87656   50   4.7                46    4.9          4.2   \n",
      "4        34223   33   7.1                46    4.9          4.9   \n",
      "..         ...  ...   ...               ...    ...          ...   \n",
      "995     454317   71  11.0                97    7.0          7.5   \n",
      "996     876534   31   3.0                60   12.3          4.1   \n",
      "997      87654   30   7.1                81    6.7          4.1   \n",
      "998      24004   38   5.8                59    6.7          5.3   \n",
      "999      24054   54   5.0                67    6.9          3.8   \n",
      "\n",
      "     Triglycerides  HDL Cholesterol  Low density lipoprotein  VLDL   BMI  \n",
      "0              0.9              2.4                      1.4   0.5  24.0  \n",
      "1              1.4              1.1                      2.1   0.6  23.0  \n",
      "2              0.9              2.4                      1.4   0.5  24.0  \n",
      "3              0.9              2.4                      1.4   0.5  24.0  \n",
      "4              1.0              0.8                      2.0   0.4  21.0  \n",
      "..             ...              ...                      ...   ...   ...  \n",
      "995            1.7              1.2                      1.8   0.6  30.0  \n",
      "996            2.2              0.7                      2.4  15.4  37.2  \n",
      "997            1.1              1.2                      2.4   8.1  27.4  \n",
      "998            2.0              1.6                      2.9  14.0  40.5  \n",
      "999            1.7              1.1                      3.0   0.7  33.0  \n",
      "\n",
      "[1000 rows x 11 columns]\n"
     ]
    }
   ],
   "source": [
    "print(X)"
   ]
  },
  {
   "cell_type": "code",
   "execution_count": 31,
   "id": "7642ec1b",
   "metadata": {},
   "outputs": [
    {
     "name": "stdout",
     "output_type": "stream",
     "text": [
      "0      0\n",
      "1      0\n",
      "2      0\n",
      "3      0\n",
      "4      0\n",
      "      ..\n",
      "995    1\n",
      "996    1\n",
      "997    1\n",
      "998    1\n",
      "999    1\n",
      "Name: CLASS, Length: 1000, dtype: int64\n"
     ]
    }
   ],
   "source": [
    "print(y)"
   ]
  },
  {
   "cell_type": "code",
   "execution_count": 32,
   "id": "745f33fa",
   "metadata": {},
   "outputs": [],
   "source": [
    "# STANDARDIZE THE DATASET"
   ]
  },
  {
   "cell_type": "code",
   "execution_count": 33,
   "id": "d50176e6",
   "metadata": {},
   "outputs": [],
   "source": [
    "scaler_instance = StandardScaler()"
   ]
  },
  {
   "cell_type": "code",
   "execution_count": 34,
   "id": "24cd6883",
   "metadata": {},
   "outputs": [],
   "source": [
    "standardized_dataset = scaler_instance.fit_transform(X)"
   ]
  },
  {
   "cell_type": "code",
   "execution_count": 35,
   "id": "d165acb5",
   "metadata": {},
   "outputs": [],
   "source": [
    "# X becomes reassigned with a now standardized dataset\n",
    "X = standardized_dataset"
   ]
  },
  {
   "cell_type": "code",
   "execution_count": 36,
   "id": "9dae1a1e",
   "metadata": {},
   "outputs": [
    {
     "name": "stdout",
     "output_type": "stream",
     "text": [
      "[[-0.07474738 -0.40114429 -0.14478078 ... -1.08545731 -0.369958\n",
      "  -1.12462205]\n",
      " [-0.06993954 -3.13001704 -0.21295413 ... -0.4573978  -0.34264878\n",
      "  -1.32623876]\n",
      " [-0.06586919 -0.40114429 -0.14478078 ... -1.08545731 -0.369958\n",
      "  -1.12462205]\n",
      " ...\n",
      " [-0.0541266  -2.67520491  0.67329948 ... -0.18822944  1.70554268\n",
      "  -0.43912523]\n",
      " [-0.07296316 -1.76558067  0.23017268 ...  0.2603845   3.31678663\n",
      "   2.2020537 ]\n",
      " [-0.07294836  0.05366783 -0.04252074 ...  0.35010729 -0.31533956\n",
      "   0.68992836]]\n"
     ]
    }
   ],
   "source": [
    "print(X)"
   ]
  },
  {
   "cell_type": "code",
   "execution_count": 37,
   "id": "3559d8a5",
   "metadata": {},
   "outputs": [],
   "source": [
    "# Now, we split the dataset into training and test data\n",
    "X_train, X_test, y_train, y_test = train_test_split(X, y, test_size=0.33, random_state=42)"
   ]
  },
  {
   "cell_type": "code",
   "execution_count": 38,
   "id": "dd3b3d2d",
   "metadata": {},
   "outputs": [],
   "source": [
    "model_classifier = svm.SVC(kernel='linear')"
   ]
  },
  {
   "cell_type": "code",
   "execution_count": 39,
   "id": "cd9bf8f9",
   "metadata": {},
   "outputs": [
    {
     "data": {
      "text/plain": [
       "SVC(kernel='linear')"
      ]
     },
     "execution_count": 39,
     "metadata": {},
     "output_type": "execute_result"
    }
   ],
   "source": [
    "# we train the model\n",
    "model_classifier.fit(X_train,y_train)"
   ]
  },
  {
   "cell_type": "code",
   "execution_count": 40,
   "id": "cb95db9e",
   "metadata": {},
   "outputs": [
    {
     "data": {
      "text/plain": [
       "0.9432835820895522"
      ]
     },
     "execution_count": 40,
     "metadata": {},
     "output_type": "execute_result"
    }
   ],
   "source": [
    "# we make predictions and evaluation on the traning dataset\n",
    "X_train_prediction = model_classifier.predict(X_train)\n",
    "accuracy_score(X_train_prediction,y_train)"
   ]
  },
  {
   "cell_type": "code",
   "execution_count": 41,
   "id": "809f479c",
   "metadata": {},
   "outputs": [
    {
     "data": {
      "text/plain": [
       "0.9424242424242424"
      ]
     },
     "execution_count": 41,
     "metadata": {},
     "output_type": "execute_result"
    }
   ],
   "source": [
    "# we also make predictions and evaluation on the traning dataset\n",
    "X_test_prediction = model_classifier.predict(X_test)\n",
    "accuracy_score(X_test_prediction,y_test)"
   ]
  },
  {
   "cell_type": "code",
   "execution_count": 42,
   "id": "158b3e43",
   "metadata": {},
   "outputs": [],
   "source": [
    "# BELOW IS A FUNCTION WHICH MAKES UP THE PREDITIVE SYSTEM"
   ]
  },
  {
   "cell_type": "code",
   "execution_count": 43,
   "id": "c8f77c69",
   "metadata": {},
   "outputs": [],
   "source": [
    "def model_prediction(input_data):\n",
    "    # change the input data into a numpy array\n",
    "    input_data_as_numpy_array = np.asarray(input_data)\n",
    "    # we reshape the array since we are redicting for one instance\n",
    "    reshaped_input_data =  input_data_as_numpy_array.reshape(1,-1)\n",
    "    # Standardize the input\n",
    "    scaler_instance.transform(reshaped_input_data)\n",
    "    # make predictions\n",
    "    prediction = model_classifier.predict(reshaped_input_data)\n",
    "    if (prediction[0] == 0):\n",
    "        return \"This patient is not diabetic\"\n",
    "    elif (prediction[0] == 2):\n",
    "        return \"This patient is predicted diabetic\"\n",
    "    else:\n",
    "        return \"This patient is diabetic\""
   ]
  },
  {
   "cell_type": "code",
   "execution_count": 44,
   "id": "310447d1",
   "metadata": {},
   "outputs": [],
   "source": [
    "input_data = (34235,50,3.5,39,4,4,1.5,1.2,2.2,0.7,24,)"
   ]
  },
  {
   "cell_type": "code",
   "execution_count": 45,
   "id": "b17354fc",
   "metadata": {},
   "outputs": [
    {
     "name": "stderr",
     "output_type": "stream",
     "text": [
      "C:\\Users\\MATTHEW\\AppData\\Roaming\\Python\\Python310\\site-packages\\sklearn\\base.py:450: UserWarning: X does not have valid feature names, but StandardScaler was fitted with feature names\n",
      "  warnings.warn(\n"
     ]
    },
    {
     "data": {
      "text/plain": [
       "'This patient is not diabetic'"
      ]
     },
     "execution_count": 45,
     "metadata": {},
     "output_type": "execute_result"
    }
   ],
   "source": [
    "predictions = model_prediction(input_data)\n",
    "predictions"
   ]
  },
  {
   "cell_type": "code",
   "execution_count": null,
   "id": "8aa2c764",
   "metadata": {},
   "outputs": [],
   "source": []
  }
 ],
 "metadata": {
  "kernelspec": {
   "display_name": "Python 3 (ipykernel)",
   "language": "python",
   "name": "python3"
  },
  "language_info": {
   "codemirror_mode": {
    "name": "ipython",
    "version": 3
   },
   "file_extension": ".py",
   "mimetype": "text/x-python",
   "name": "python",
   "nbconvert_exporter": "python",
   "pygments_lexer": "ipython3",
   "version": "3.10.4"
  }
 },
 "nbformat": 4,
 "nbformat_minor": 5
}

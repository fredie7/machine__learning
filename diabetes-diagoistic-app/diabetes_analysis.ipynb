{
 "cells": [
  {
   "cell_type": "markdown",
   "id": "07e4a850",
   "metadata": {},
   "source": [
    "DIABETES DIOGONISTIC SYSTEM created from data collected from the laboratory at Medical City Hospital"
   ]
  },
  {
   "cell_type": "markdown",
   "id": "e1be2bd3",
   "metadata": {},
   "source": [
    "a specialist Center for Endocrinology and Diabetes, Al-Kindy ,Iraq"
   ]
  },
  {
   "cell_type": "markdown",
   "id": "f7b42384",
   "metadata": {},
   "source": [
    "The construction of diabetes dataset was explained. The data were collected from the Iraqi society, as they data were acquired \n",
    "from the laboratory of Medical City Hospital and \n",
    "(the Specializes Center for Endocrinology and Diabetes-Al-Kindy Teaching Hospital). \n",
    "Patients' files were taken and data extracted from them and \n",
    "entered in to the database to construct the diabetes dataset. The data consist of medical information, laboratory analysis. \n",
    "The data attribute are:\n",
    "The data consist of medical information, laboratory analysis… etc. The data that have been entered initially into the system \n",
    "are: No. of Patient, Sugar Level Blood, Age, Gender, Creatinine ratio(Cr), Body Mass Index (BMI), Urea, Cholesterol (Chol), \n",
    "Fasting lipid profile, including total, LDL, VLDL, Triglycerides(TG) and HDL Cholesterol , HBA1C, Class (the patient's \n",
    "diabetes disease class may be Diabetic, Non-Diabetic, or Predict-Diabetic)."
   ]
  },
  {
   "cell_type": "markdown",
   "id": "80bfd305",
   "metadata": {},
   "source": [
    "IMPORT DEPENDENCES"
   ]
  },
  {
   "cell_type": "code",
   "execution_count": 153,
   "id": "3a0cd042",
   "metadata": {},
   "outputs": [],
   "source": [
    "import pandas as pd\n",
    "import matplotlib.pyplot as plt\n",
    "import numpy as np\n",
    "import seaborn as sns\n",
    "from sklearn.model_selection import train_test_split\n",
    "from sklearn.metrics import accuracy_score, f1_score\n",
    "import warnings\n",
    "warnings.filterwarnings('ignore')\n",
    "\n",
    "%matplotlib inline"
   ]
  },
  {
   "cell_type": "markdown",
   "id": "b1848759",
   "metadata": {},
   "source": [
    "Import dataset"
   ]
  },
  {
   "cell_type": "code",
   "execution_count": 154,
   "id": "d27189fa",
   "metadata": {},
   "outputs": [],
   "source": [
    "diabetes_data = pd.read_csv('./Dataset of Diabetes .csv')"
   ]
  },
  {
   "cell_type": "markdown",
   "id": "8c119bc6",
   "metadata": {},
   "source": [
    "View the firt 5 rows"
   ]
  },
  {
   "cell_type": "code",
   "execution_count": 155,
   "id": "ed8bad4d",
   "metadata": {},
   "outputs": [
    {
     "data": {
      "text/html": [
       "<div>\n",
       "<style scoped>\n",
       "    .dataframe tbody tr th:only-of-type {\n",
       "        vertical-align: middle;\n",
       "    }\n",
       "\n",
       "    .dataframe tbody tr th {\n",
       "        vertical-align: top;\n",
       "    }\n",
       "\n",
       "    .dataframe thead th {\n",
       "        text-align: right;\n",
       "    }\n",
       "</style>\n",
       "<table border=\"1\" class=\"dataframe\">\n",
       "  <thead>\n",
       "    <tr style=\"text-align: right;\">\n",
       "      <th></th>\n",
       "      <th>ID</th>\n",
       "      <th>No_Pation</th>\n",
       "      <th>Gender</th>\n",
       "      <th>AGE</th>\n",
       "      <th>Urea</th>\n",
       "      <th>Creatinine ratio</th>\n",
       "      <th>HbA1c</th>\n",
       "      <th>Cholesterol</th>\n",
       "      <th>Triglycerides</th>\n",
       "      <th>HDL Cholesterol</th>\n",
       "      <th>Low density lipoprotein</th>\n",
       "      <th>VLDL</th>\n",
       "      <th>BMI</th>\n",
       "      <th>CLASS</th>\n",
       "    </tr>\n",
       "  </thead>\n",
       "  <tbody>\n",
       "    <tr>\n",
       "      <th>0</th>\n",
       "      <td>502</td>\n",
       "      <td>17975</td>\n",
       "      <td>F</td>\n",
       "      <td>50</td>\n",
       "      <td>4.7</td>\n",
       "      <td>46</td>\n",
       "      <td>4.9</td>\n",
       "      <td>4.2</td>\n",
       "      <td>0.9</td>\n",
       "      <td>2.4</td>\n",
       "      <td>1.4</td>\n",
       "      <td>0.5</td>\n",
       "      <td>24.0</td>\n",
       "      <td>N</td>\n",
       "    </tr>\n",
       "    <tr>\n",
       "      <th>1</th>\n",
       "      <td>735</td>\n",
       "      <td>34221</td>\n",
       "      <td>M</td>\n",
       "      <td>26</td>\n",
       "      <td>4.5</td>\n",
       "      <td>62</td>\n",
       "      <td>4.9</td>\n",
       "      <td>3.7</td>\n",
       "      <td>1.4</td>\n",
       "      <td>1.1</td>\n",
       "      <td>2.1</td>\n",
       "      <td>0.6</td>\n",
       "      <td>23.0</td>\n",
       "      <td>N</td>\n",
       "    </tr>\n",
       "    <tr>\n",
       "      <th>2</th>\n",
       "      <td>420</td>\n",
       "      <td>47975</td>\n",
       "      <td>F</td>\n",
       "      <td>50</td>\n",
       "      <td>4.7</td>\n",
       "      <td>46</td>\n",
       "      <td>4.9</td>\n",
       "      <td>4.2</td>\n",
       "      <td>0.9</td>\n",
       "      <td>2.4</td>\n",
       "      <td>1.4</td>\n",
       "      <td>0.5</td>\n",
       "      <td>24.0</td>\n",
       "      <td>N</td>\n",
       "    </tr>\n",
       "    <tr>\n",
       "      <th>3</th>\n",
       "      <td>680</td>\n",
       "      <td>87656</td>\n",
       "      <td>F</td>\n",
       "      <td>50</td>\n",
       "      <td>4.7</td>\n",
       "      <td>46</td>\n",
       "      <td>4.9</td>\n",
       "      <td>4.2</td>\n",
       "      <td>0.9</td>\n",
       "      <td>2.4</td>\n",
       "      <td>1.4</td>\n",
       "      <td>0.5</td>\n",
       "      <td>24.0</td>\n",
       "      <td>N</td>\n",
       "    </tr>\n",
       "    <tr>\n",
       "      <th>4</th>\n",
       "      <td>504</td>\n",
       "      <td>34223</td>\n",
       "      <td>M</td>\n",
       "      <td>33</td>\n",
       "      <td>7.1</td>\n",
       "      <td>46</td>\n",
       "      <td>4.9</td>\n",
       "      <td>4.9</td>\n",
       "      <td>1.0</td>\n",
       "      <td>0.8</td>\n",
       "      <td>2.0</td>\n",
       "      <td>0.4</td>\n",
       "      <td>21.0</td>\n",
       "      <td>N</td>\n",
       "    </tr>\n",
       "  </tbody>\n",
       "</table>\n",
       "</div>"
      ],
      "text/plain": [
       "    ID  No_Pation Gender  AGE  Urea  Creatinine ratio  HbA1c  Cholesterol  \\\n",
       "0  502      17975      F   50   4.7                46    4.9          4.2   \n",
       "1  735      34221      M   26   4.5                62    4.9          3.7   \n",
       "2  420      47975      F   50   4.7                46    4.9          4.2   \n",
       "3  680      87656      F   50   4.7                46    4.9          4.2   \n",
       "4  504      34223      M   33   7.1                46    4.9          4.9   \n",
       "\n",
       "   Triglycerides  HDL Cholesterol  Low density lipoprotein  VLDL   BMI CLASS  \n",
       "0            0.9              2.4                      1.4   0.5  24.0     N  \n",
       "1            1.4              1.1                      2.1   0.6  23.0     N  \n",
       "2            0.9              2.4                      1.4   0.5  24.0     N  \n",
       "3            0.9              2.4                      1.4   0.5  24.0     N  \n",
       "4            1.0              0.8                      2.0   0.4  21.0     N  "
      ]
     },
     "execution_count": 155,
     "metadata": {},
     "output_type": "execute_result"
    }
   ],
   "source": [
    "diabetes_data.head()"
   ]
  },
  {
   "cell_type": "code",
   "execution_count": 156,
   "id": "a45b602e",
   "metadata": {},
   "outputs": [
    {
     "data": {
      "text/plain": [
       "Index(['ID', 'No_Pation', 'Gender', 'AGE', 'Urea', 'Creatinine ratio', 'HbA1c',\n",
       "       'Cholesterol', 'Triglycerides', 'HDL Cholesterol',\n",
       "       'Low density lipoprotein', 'VLDL', 'BMI', 'CLASS'],\n",
       "      dtype='object')"
      ]
     },
     "execution_count": 156,
     "metadata": {},
     "output_type": "execute_result"
    }
   ],
   "source": [
    "diabetes_data.columns"
   ]
  },
  {
   "cell_type": "markdown",
   "id": "e45cf210",
   "metadata": {},
   "source": [
    "Rename columns"
   ]
  },
  {
   "cell_type": "code",
   "execution_count": 157,
   "id": "7bce3455",
   "metadata": {},
   "outputs": [],
   "source": [
    "diabetes_data.rename(columns={'Creatinine ratio':'Creatinine_ratio','Low density lipoprotein':'Low_density_lipoprotein',\n",
    "                              'HDL Cholesterol':'HDL_Cholesterol'},inplace=True)"
   ]
  },
  {
   "cell_type": "code",
   "execution_count": 158,
   "id": "085380cf",
   "metadata": {},
   "outputs": [
    {
     "name": "stdout",
     "output_type": "stream",
     "text": [
      "<class 'pandas.core.frame.DataFrame'>\n",
      "RangeIndex: 1000 entries, 0 to 999\n",
      "Data columns (total 14 columns):\n",
      " #   Column                   Non-Null Count  Dtype  \n",
      "---  ------                   --------------  -----  \n",
      " 0   ID                       1000 non-null   int64  \n",
      " 1   No_Pation                1000 non-null   int64  \n",
      " 2   Gender                   1000 non-null   object \n",
      " 3   AGE                      1000 non-null   int64  \n",
      " 4   Urea                     1000 non-null   float64\n",
      " 5   Creatinine_ratio         1000 non-null   int64  \n",
      " 6   HbA1c                    1000 non-null   float64\n",
      " 7   Cholesterol              1000 non-null   float64\n",
      " 8   Triglycerides            1000 non-null   float64\n",
      " 9   HDL_Cholesterol          1000 non-null   float64\n",
      " 10  Low_density_lipoprotein  1000 non-null   float64\n",
      " 11  VLDL                     1000 non-null   float64\n",
      " 12  BMI                      1000 non-null   float64\n",
      " 13  CLASS                    1000 non-null   object \n",
      "dtypes: float64(8), int64(4), object(2)\n",
      "memory usage: 109.5+ KB\n"
     ]
    }
   ],
   "source": [
    "diabetes_data.info()"
   ]
  },
  {
   "cell_type": "markdown",
   "id": "6d24bc49",
   "metadata": {},
   "source": [
    "Plot statistical anaytics of the given dataset"
   ]
  },
  {
   "cell_type": "code",
   "execution_count": 159,
   "id": "00ab4795",
   "metadata": {},
   "outputs": [
    {
     "data": {
      "text/html": [
       "<div>\n",
       "<style scoped>\n",
       "    .dataframe tbody tr th:only-of-type {\n",
       "        vertical-align: middle;\n",
       "    }\n",
       "\n",
       "    .dataframe tbody tr th {\n",
       "        vertical-align: top;\n",
       "    }\n",
       "\n",
       "    .dataframe thead th {\n",
       "        text-align: right;\n",
       "    }\n",
       "</style>\n",
       "<table border=\"1\" class=\"dataframe\">\n",
       "  <thead>\n",
       "    <tr style=\"text-align: right;\">\n",
       "      <th></th>\n",
       "      <th>count</th>\n",
       "      <th>mean</th>\n",
       "      <th>std</th>\n",
       "      <th>min</th>\n",
       "      <th>25%</th>\n",
       "      <th>50%</th>\n",
       "      <th>75%</th>\n",
       "      <th>max</th>\n",
       "    </tr>\n",
       "  </thead>\n",
       "  <tbody>\n",
       "    <tr>\n",
       "      <th>ID</th>\n",
       "      <td>1000.0</td>\n",
       "      <td>340.500000</td>\n",
       "      <td>2.403977e+02</td>\n",
       "      <td>1.0</td>\n",
       "      <td>125.75</td>\n",
       "      <td>300.5</td>\n",
       "      <td>550.25</td>\n",
       "      <td>800.00</td>\n",
       "    </tr>\n",
       "    <tr>\n",
       "      <th>No_Pation</th>\n",
       "      <td>1000.0</td>\n",
       "      <td>270551.408000</td>\n",
       "      <td>3.380758e+06</td>\n",
       "      <td>123.0</td>\n",
       "      <td>24063.75</td>\n",
       "      <td>34395.5</td>\n",
       "      <td>45384.25</td>\n",
       "      <td>75435657.00</td>\n",
       "    </tr>\n",
       "    <tr>\n",
       "      <th>AGE</th>\n",
       "      <td>1000.0</td>\n",
       "      <td>53.528000</td>\n",
       "      <td>8.799241e+00</td>\n",
       "      <td>20.0</td>\n",
       "      <td>51.00</td>\n",
       "      <td>55.0</td>\n",
       "      <td>59.00</td>\n",
       "      <td>79.00</td>\n",
       "    </tr>\n",
       "    <tr>\n",
       "      <th>Urea</th>\n",
       "      <td>1000.0</td>\n",
       "      <td>5.124743</td>\n",
       "      <td>2.935165e+00</td>\n",
       "      <td>0.5</td>\n",
       "      <td>3.70</td>\n",
       "      <td>4.6</td>\n",
       "      <td>5.70</td>\n",
       "      <td>38.90</td>\n",
       "    </tr>\n",
       "    <tr>\n",
       "      <th>Creatinine_ratio</th>\n",
       "      <td>1000.0</td>\n",
       "      <td>68.943000</td>\n",
       "      <td>5.998475e+01</td>\n",
       "      <td>6.0</td>\n",
       "      <td>48.00</td>\n",
       "      <td>60.0</td>\n",
       "      <td>73.00</td>\n",
       "      <td>800.00</td>\n",
       "    </tr>\n",
       "    <tr>\n",
       "      <th>HbA1c</th>\n",
       "      <td>1000.0</td>\n",
       "      <td>8.281160</td>\n",
       "      <td>2.534003e+00</td>\n",
       "      <td>0.9</td>\n",
       "      <td>6.50</td>\n",
       "      <td>8.0</td>\n",
       "      <td>10.20</td>\n",
       "      <td>16.00</td>\n",
       "    </tr>\n",
       "    <tr>\n",
       "      <th>Cholesterol</th>\n",
       "      <td>1000.0</td>\n",
       "      <td>4.862820</td>\n",
       "      <td>1.301738e+00</td>\n",
       "      <td>0.0</td>\n",
       "      <td>4.00</td>\n",
       "      <td>4.8</td>\n",
       "      <td>5.60</td>\n",
       "      <td>10.30</td>\n",
       "    </tr>\n",
       "    <tr>\n",
       "      <th>Triglycerides</th>\n",
       "      <td>1000.0</td>\n",
       "      <td>2.349610</td>\n",
       "      <td>1.401176e+00</td>\n",
       "      <td>0.3</td>\n",
       "      <td>1.50</td>\n",
       "      <td>2.0</td>\n",
       "      <td>2.90</td>\n",
       "      <td>13.80</td>\n",
       "    </tr>\n",
       "    <tr>\n",
       "      <th>HDL_Cholesterol</th>\n",
       "      <td>1000.0</td>\n",
       "      <td>1.204750</td>\n",
       "      <td>6.604136e-01</td>\n",
       "      <td>0.2</td>\n",
       "      <td>0.90</td>\n",
       "      <td>1.1</td>\n",
       "      <td>1.30</td>\n",
       "      <td>9.90</td>\n",
       "    </tr>\n",
       "    <tr>\n",
       "      <th>Low_density_lipoprotein</th>\n",
       "      <td>1000.0</td>\n",
       "      <td>2.609790</td>\n",
       "      <td>1.115102e+00</td>\n",
       "      <td>0.3</td>\n",
       "      <td>1.80</td>\n",
       "      <td>2.5</td>\n",
       "      <td>3.30</td>\n",
       "      <td>9.90</td>\n",
       "    </tr>\n",
       "    <tr>\n",
       "      <th>VLDL</th>\n",
       "      <td>1000.0</td>\n",
       "      <td>1.854700</td>\n",
       "      <td>3.663599e+00</td>\n",
       "      <td>0.1</td>\n",
       "      <td>0.70</td>\n",
       "      <td>0.9</td>\n",
       "      <td>1.50</td>\n",
       "      <td>35.00</td>\n",
       "    </tr>\n",
       "    <tr>\n",
       "      <th>BMI</th>\n",
       "      <td>1000.0</td>\n",
       "      <td>29.578020</td>\n",
       "      <td>4.962388e+00</td>\n",
       "      <td>19.0</td>\n",
       "      <td>26.00</td>\n",
       "      <td>30.0</td>\n",
       "      <td>33.00</td>\n",
       "      <td>47.75</td>\n",
       "    </tr>\n",
       "  </tbody>\n",
       "</table>\n",
       "</div>"
      ],
      "text/plain": [
       "                          count           mean           std    min       25%  \\\n",
       "ID                       1000.0     340.500000  2.403977e+02    1.0    125.75   \n",
       "No_Pation                1000.0  270551.408000  3.380758e+06  123.0  24063.75   \n",
       "AGE                      1000.0      53.528000  8.799241e+00   20.0     51.00   \n",
       "Urea                     1000.0       5.124743  2.935165e+00    0.5      3.70   \n",
       "Creatinine_ratio         1000.0      68.943000  5.998475e+01    6.0     48.00   \n",
       "HbA1c                    1000.0       8.281160  2.534003e+00    0.9      6.50   \n",
       "Cholesterol              1000.0       4.862820  1.301738e+00    0.0      4.00   \n",
       "Triglycerides            1000.0       2.349610  1.401176e+00    0.3      1.50   \n",
       "HDL_Cholesterol          1000.0       1.204750  6.604136e-01    0.2      0.90   \n",
       "Low_density_lipoprotein  1000.0       2.609790  1.115102e+00    0.3      1.80   \n",
       "VLDL                     1000.0       1.854700  3.663599e+00    0.1      0.70   \n",
       "BMI                      1000.0      29.578020  4.962388e+00   19.0     26.00   \n",
       "\n",
       "                             50%       75%          max  \n",
       "ID                         300.5    550.25       800.00  \n",
       "No_Pation                34395.5  45384.25  75435657.00  \n",
       "AGE                         55.0     59.00        79.00  \n",
       "Urea                         4.6      5.70        38.90  \n",
       "Creatinine_ratio            60.0     73.00       800.00  \n",
       "HbA1c                        8.0     10.20        16.00  \n",
       "Cholesterol                  4.8      5.60        10.30  \n",
       "Triglycerides                2.0      2.90        13.80  \n",
       "HDL_Cholesterol              1.1      1.30         9.90  \n",
       "Low_density_lipoprotein      2.5      3.30         9.90  \n",
       "VLDL                         0.9      1.50        35.00  \n",
       "BMI                         30.0     33.00        47.75  "
      ]
     },
     "execution_count": 159,
     "metadata": {},
     "output_type": "execute_result"
    }
   ],
   "source": [
    "diabetes_data.describe().T"
   ]
  },
  {
   "cell_type": "code",
   "execution_count": 160,
   "id": "819312d7",
   "metadata": {},
   "outputs": [
    {
     "data": {
      "text/plain": [
       "(1000, 14)"
      ]
     },
     "execution_count": 160,
     "metadata": {},
     "output_type": "execute_result"
    }
   ],
   "source": [
    "diabetes_data.shape"
   ]
  },
  {
   "cell_type": "markdown",
   "id": "6abac3f1",
   "metadata": {},
   "source": [
    "The data set is made up of 1000 rows and 14 columns"
   ]
  },
  {
   "cell_type": "code",
   "execution_count": 161,
   "id": "ccc71c1a",
   "metadata": {},
   "outputs": [
    {
     "data": {
      "text/plain": [
       "ID                         0\n",
       "No_Pation                  0\n",
       "Gender                     0\n",
       "AGE                        0\n",
       "Urea                       0\n",
       "Creatinine_ratio           0\n",
       "HbA1c                      0\n",
       "Cholesterol                0\n",
       "Triglycerides              0\n",
       "HDL_Cholesterol            0\n",
       "Low_density_lipoprotein    0\n",
       "VLDL                       0\n",
       "BMI                        0\n",
       "CLASS                      0\n",
       "dtype: int64"
      ]
     },
     "execution_count": 161,
     "metadata": {},
     "output_type": "execute_result"
    }
   ],
   "source": [
    "diabetes_data.isnull().sum()"
   ]
  },
  {
   "cell_type": "markdown",
   "id": "abca7877",
   "metadata": {},
   "source": [
    "Observe the components of the target column"
   ]
  },
  {
   "cell_type": "code",
   "execution_count": 162,
   "id": "bee2d9a8",
   "metadata": {},
   "outputs": [
    {
     "data": {
      "text/plain": [
       "array(['N', 'N ', 'P', 'Y', 'Y '], dtype=object)"
      ]
     },
     "execution_count": 162,
     "metadata": {},
     "output_type": "execute_result"
    }
   ],
   "source": [
    "diabetes_data['CLASS'].unique()"
   ]
  },
  {
   "cell_type": "markdown",
   "id": "aacf0971",
   "metadata": {},
   "source": [
    "Modify target column"
   ]
  },
  {
   "cell_type": "code",
   "execution_count": 163,
   "id": "63e55c8a",
   "metadata": {},
   "outputs": [],
   "source": [
    "diabetes_data['CLASS'] = diabetes_data['CLASS'].apply(lambda x:x.split(' ')[0])"
   ]
  },
  {
   "cell_type": "code",
   "execution_count": 164,
   "id": "1e872885",
   "metadata": {},
   "outputs": [
    {
     "data": {
      "text/plain": [
       "array(['N', 'P', 'Y'], dtype=object)"
      ]
     },
     "execution_count": 164,
     "metadata": {},
     "output_type": "execute_result"
    }
   ],
   "source": [
    "diabetes_data['CLASS'].unique()"
   ]
  },
  {
   "cell_type": "markdown",
   "id": "99605ae5",
   "metadata": {},
   "source": [
    "Total number of Non-diabetic, predicted diabetic and diabetic occurrences"
   ]
  },
  {
   "cell_type": "code",
   "execution_count": 165,
   "id": "232bfdea",
   "metadata": {},
   "outputs": [
    {
     "data": {
      "text/plain": [
       "Y    844\n",
       "N    103\n",
       "P     53\n",
       "Name: CLASS, dtype: int64"
      ]
     },
     "execution_count": 165,
     "metadata": {},
     "output_type": "execute_result"
    }
   ],
   "source": [
    "diabetes_data['CLASS'].value_counts()"
   ]
  },
  {
   "cell_type": "code",
   "execution_count": 166,
   "id": "3d936a39",
   "metadata": {},
   "outputs": [
    {
     "data": {
      "text/plain": [
       "Index(['ID', 'No_Pation', 'Gender', 'AGE', 'Urea', 'Creatinine_ratio', 'HbA1c',\n",
       "       'Cholesterol', 'Triglycerides', 'HDL_Cholesterol',\n",
       "       'Low_density_lipoprotein', 'VLDL', 'BMI', 'CLASS'],\n",
       "      dtype='object')"
      ]
     },
     "execution_count": 166,
     "metadata": {},
     "output_type": "execute_result"
    }
   ],
   "source": [
    "diabetes_data.columns"
   ]
  },
  {
   "cell_type": "code",
   "execution_count": 167,
   "id": "bddc1837",
   "metadata": {},
   "outputs": [],
   "source": [
    "diabetes_data.drop('ID',axis=1,inplace=True)"
   ]
  },
  {
   "cell_type": "code",
   "execution_count": 168,
   "id": "98cf2c58",
   "metadata": {},
   "outputs": [],
   "source": [
    "diabetes_data['CLASS'] = diabetes_data['CLASS'].map({\"N\":0, \"Y\":1,\"P\":2})"
   ]
  },
  {
   "cell_type": "code",
   "execution_count": 169,
   "id": "5a6a2fce",
   "metadata": {},
   "outputs": [
    {
     "data": {
      "text/html": [
       "<div>\n",
       "<style scoped>\n",
       "    .dataframe tbody tr th:only-of-type {\n",
       "        vertical-align: middle;\n",
       "    }\n",
       "\n",
       "    .dataframe tbody tr th {\n",
       "        vertical-align: top;\n",
       "    }\n",
       "\n",
       "    .dataframe thead th {\n",
       "        text-align: right;\n",
       "    }\n",
       "</style>\n",
       "<table border=\"1\" class=\"dataframe\">\n",
       "  <thead>\n",
       "    <tr style=\"text-align: right;\">\n",
       "      <th></th>\n",
       "      <th>No_Pation</th>\n",
       "      <th>Gender</th>\n",
       "      <th>AGE</th>\n",
       "      <th>Urea</th>\n",
       "      <th>Creatinine_ratio</th>\n",
       "      <th>HbA1c</th>\n",
       "      <th>Cholesterol</th>\n",
       "      <th>Triglycerides</th>\n",
       "      <th>HDL_Cholesterol</th>\n",
       "      <th>Low_density_lipoprotein</th>\n",
       "      <th>VLDL</th>\n",
       "      <th>BMI</th>\n",
       "      <th>CLASS</th>\n",
       "    </tr>\n",
       "  </thead>\n",
       "  <tbody>\n",
       "    <tr>\n",
       "      <th>0</th>\n",
       "      <td>17975</td>\n",
       "      <td>F</td>\n",
       "      <td>50</td>\n",
       "      <td>4.7</td>\n",
       "      <td>46</td>\n",
       "      <td>4.9</td>\n",
       "      <td>4.2</td>\n",
       "      <td>0.9</td>\n",
       "      <td>2.4</td>\n",
       "      <td>1.4</td>\n",
       "      <td>0.5</td>\n",
       "      <td>24.0</td>\n",
       "      <td>0</td>\n",
       "    </tr>\n",
       "    <tr>\n",
       "      <th>1</th>\n",
       "      <td>34221</td>\n",
       "      <td>M</td>\n",
       "      <td>26</td>\n",
       "      <td>4.5</td>\n",
       "      <td>62</td>\n",
       "      <td>4.9</td>\n",
       "      <td>3.7</td>\n",
       "      <td>1.4</td>\n",
       "      <td>1.1</td>\n",
       "      <td>2.1</td>\n",
       "      <td>0.6</td>\n",
       "      <td>23.0</td>\n",
       "      <td>0</td>\n",
       "    </tr>\n",
       "    <tr>\n",
       "      <th>2</th>\n",
       "      <td>47975</td>\n",
       "      <td>F</td>\n",
       "      <td>50</td>\n",
       "      <td>4.7</td>\n",
       "      <td>46</td>\n",
       "      <td>4.9</td>\n",
       "      <td>4.2</td>\n",
       "      <td>0.9</td>\n",
       "      <td>2.4</td>\n",
       "      <td>1.4</td>\n",
       "      <td>0.5</td>\n",
       "      <td>24.0</td>\n",
       "      <td>0</td>\n",
       "    </tr>\n",
       "    <tr>\n",
       "      <th>3</th>\n",
       "      <td>87656</td>\n",
       "      <td>F</td>\n",
       "      <td>50</td>\n",
       "      <td>4.7</td>\n",
       "      <td>46</td>\n",
       "      <td>4.9</td>\n",
       "      <td>4.2</td>\n",
       "      <td>0.9</td>\n",
       "      <td>2.4</td>\n",
       "      <td>1.4</td>\n",
       "      <td>0.5</td>\n",
       "      <td>24.0</td>\n",
       "      <td>0</td>\n",
       "    </tr>\n",
       "    <tr>\n",
       "      <th>4</th>\n",
       "      <td>34223</td>\n",
       "      <td>M</td>\n",
       "      <td>33</td>\n",
       "      <td>7.1</td>\n",
       "      <td>46</td>\n",
       "      <td>4.9</td>\n",
       "      <td>4.9</td>\n",
       "      <td>1.0</td>\n",
       "      <td>0.8</td>\n",
       "      <td>2.0</td>\n",
       "      <td>0.4</td>\n",
       "      <td>21.0</td>\n",
       "      <td>0</td>\n",
       "    </tr>\n",
       "  </tbody>\n",
       "</table>\n",
       "</div>"
      ],
      "text/plain": [
       "   No_Pation Gender  AGE  Urea  Creatinine_ratio  HbA1c  Cholesterol  \\\n",
       "0      17975      F   50   4.7                46    4.9          4.2   \n",
       "1      34221      M   26   4.5                62    4.9          3.7   \n",
       "2      47975      F   50   4.7                46    4.9          4.2   \n",
       "3      87656      F   50   4.7                46    4.9          4.2   \n",
       "4      34223      M   33   7.1                46    4.9          4.9   \n",
       "\n",
       "   Triglycerides  HDL_Cholesterol  Low_density_lipoprotein  VLDL   BMI  CLASS  \n",
       "0            0.9              2.4                      1.4   0.5  24.0      0  \n",
       "1            1.4              1.1                      2.1   0.6  23.0      0  \n",
       "2            0.9              2.4                      1.4   0.5  24.0      0  \n",
       "3            0.9              2.4                      1.4   0.5  24.0      0  \n",
       "4            1.0              0.8                      2.0   0.4  21.0      0  "
      ]
     },
     "execution_count": 169,
     "metadata": {},
     "output_type": "execute_result"
    }
   ],
   "source": [
    "diabetes_data.head()"
   ]
  },
  {
   "cell_type": "markdown",
   "id": "f2894ec0",
   "metadata": {},
   "source": [
    "Probe for NULL values"
   ]
  },
  {
   "cell_type": "code",
   "execution_count": 170,
   "id": "db5d502c",
   "metadata": {},
   "outputs": [
    {
     "data": {
      "text/plain": [
       "No_Pation                  0\n",
       "Gender                     0\n",
       "AGE                        0\n",
       "Urea                       0\n",
       "Creatinine_ratio           0\n",
       "HbA1c                      0\n",
       "Cholesterol                0\n",
       "Triglycerides              0\n",
       "HDL_Cholesterol            0\n",
       "Low_density_lipoprotein    0\n",
       "VLDL                       0\n",
       "BMI                        0\n",
       "CLASS                      0\n",
       "dtype: int64"
      ]
     },
     "execution_count": 170,
     "metadata": {},
     "output_type": "execute_result"
    }
   ],
   "source": [
    "diabetes_data.isnull().sum()"
   ]
  },
  {
   "cell_type": "markdown",
   "id": "6645360e",
   "metadata": {},
   "source": [
    "Apparently, there are no NULL values"
   ]
  },
  {
   "cell_type": "markdown",
   "id": "c186c664",
   "metadata": {},
   "source": [
    "Let's visualize the above result to visually compare the numbers"
   ]
  },
  {
   "cell_type": "code",
   "execution_count": 171,
   "id": "85d5acc2",
   "metadata": {},
   "outputs": [
    {
     "data": {
      "text/plain": [
       "<AxesSubplot:xlabel='CLASS', ylabel='count'>"
      ]
     },
     "execution_count": 171,
     "metadata": {},
     "output_type": "execute_result"
    },
    {
     "data": {
      "image/png": "[encoded data removed]",
      "text/plain": [
       "<Figure size 432x288 with 1 Axes>"
      ]
     },
     "metadata": {
      "needs_background": "light"
     },
     "output_type": "display_data"
    }
   ],
   "source": [
    "sns.countplot(x='CLASS',data=diabetes_data)"
   ]
  },
  {
   "cell_type": "code",
   "execution_count": 172,
   "id": "941d0106",
   "metadata": {},
   "outputs": [
    {
     "data": {
      "text/plain": [
       "Index(['No_Pation', 'Gender', 'AGE', 'Urea', 'Creatinine_ratio', 'HbA1c',\n",
       "       'Cholesterol', 'Triglycerides', 'HDL_Cholesterol',\n",
       "       'Low_density_lipoprotein', 'VLDL', 'BMI', 'CLASS'],\n",
       "      dtype='object')"
      ]
     },
     "execution_count": 172,
     "metadata": {},
     "output_type": "execute_result"
    }
   ],
   "source": [
    "diabetes_data.columns"
   ]
  },
  {
   "cell_type": "markdown",
   "id": "c96a22c7",
   "metadata": {},
   "source": [
    "Let's visualize how Cholesterol impacts Low density lipoprotein "
   ]
  },
  {
   "cell_type": "code",
   "execution_count": 173,
   "id": "099e4b2a",
   "metadata": {},
   "outputs": [
    {
     "data": {
      "text/plain": [
       "<seaborn.axisgrid.JointGrid at 0x25321aba5b0>"
      ]
     },
     "execution_count": 173,
     "metadata": {},
     "output_type": "execute_result"
    },
    {
     "data": {
      "image/png": "[encoded data removed]",
      "text/plain": [
       "<Figure size 432x432 with 3 Axes>"
      ]
     },
     "metadata": {
      "needs_background": "light"
     },
     "output_type": "display_data"
    }
   ],
   "source": [
    "sns.jointplot(diabetes_data['Cholesterol'],diabetes_data['Low_density_lipoprotein'])"
   ]
  },
  {
   "cell_type": "markdown",
   "id": "1f35a878",
   "metadata": {},
   "source": [
    "Clearly, as low density lipoprotein increases with cholesterol"
   ]
  },
  {
   "cell_type": "markdown",
   "id": "b2819a44",
   "metadata": {},
   "source": [
    "The gender column is dropped since we only need numerical values for machine learning"
   ]
  },
  {
   "cell_type": "code",
   "execution_count": 174,
   "id": "c8151fba",
   "metadata": {},
   "outputs": [],
   "source": [
    "diabetes_data.drop(\"Gender\",axis=1,inplace=True)"
   ]
  },
  {
   "cell_type": "code",
   "execution_count": 175,
   "id": "60376a53",
   "metadata": {},
   "outputs": [
    {
     "data": {
      "text/html": [
       "<div>\n",
       "<style scoped>\n",
       "    .dataframe tbody tr th:only-of-type {\n",
       "        vertical-align: middle;\n",
       "    }\n",
       "\n",
       "    .dataframe tbody tr th {\n",
       "        vertical-align: top;\n",
       "    }\n",
       "\n",
       "    .dataframe thead th {\n",
       "        text-align: right;\n",
       "    }\n",
       "</style>\n",
       "<table border=\"1\" class=\"dataframe\">\n",
       "  <thead>\n",
       "    <tr style=\"text-align: right;\">\n",
       "      <th></th>\n",
       "      <th>No_Pation</th>\n",
       "      <th>AGE</th>\n",
       "      <th>Urea</th>\n",
       "      <th>Creatinine_ratio</th>\n",
       "      <th>HbA1c</th>\n",
       "      <th>Cholesterol</th>\n",
       "      <th>Triglycerides</th>\n",
       "      <th>HDL_Cholesterol</th>\n",
       "      <th>Low_density_lipoprotein</th>\n",
       "      <th>VLDL</th>\n",
       "      <th>BMI</th>\n",
       "      <th>CLASS</th>\n",
       "    </tr>\n",
       "  </thead>\n",
       "  <tbody>\n",
       "    <tr>\n",
       "      <th>0</th>\n",
       "      <td>17975</td>\n",
       "      <td>50</td>\n",
       "      <td>4.7</td>\n",
       "      <td>46</td>\n",
       "      <td>4.9</td>\n",
       "      <td>4.2</td>\n",
       "      <td>0.9</td>\n",
       "      <td>2.4</td>\n",
       "      <td>1.4</td>\n",
       "      <td>0.5</td>\n",
       "      <td>24.0</td>\n",
       "      <td>0</td>\n",
       "    </tr>\n",
       "    <tr>\n",
       "      <th>1</th>\n",
       "      <td>34221</td>\n",
       "      <td>26</td>\n",
       "      <td>4.5</td>\n",
       "      <td>62</td>\n",
       "      <td>4.9</td>\n",
       "      <td>3.7</td>\n",
       "      <td>1.4</td>\n",
       "      <td>1.1</td>\n",
       "      <td>2.1</td>\n",
       "      <td>0.6</td>\n",
       "      <td>23.0</td>\n",
       "      <td>0</td>\n",
       "    </tr>\n",
       "    <tr>\n",
       "      <th>2</th>\n",
       "      <td>47975</td>\n",
       "      <td>50</td>\n",
       "      <td>4.7</td>\n",
       "      <td>46</td>\n",
       "      <td>4.9</td>\n",
       "      <td>4.2</td>\n",
       "      <td>0.9</td>\n",
       "      <td>2.4</td>\n",
       "      <td>1.4</td>\n",
       "      <td>0.5</td>\n",
       "      <td>24.0</td>\n",
       "      <td>0</td>\n",
       "    </tr>\n",
       "    <tr>\n",
       "      <th>3</th>\n",
       "      <td>87656</td>\n",
       "      <td>50</td>\n",
       "      <td>4.7</td>\n",
       "      <td>46</td>\n",
       "      <td>4.9</td>\n",
       "      <td>4.2</td>\n",
       "      <td>0.9</td>\n",
       "      <td>2.4</td>\n",
       "      <td>1.4</td>\n",
       "      <td>0.5</td>\n",
       "      <td>24.0</td>\n",
       "      <td>0</td>\n",
       "    </tr>\n",
       "    <tr>\n",
       "      <th>4</th>\n",
       "      <td>34223</td>\n",
       "      <td>33</td>\n",
       "      <td>7.1</td>\n",
       "      <td>46</td>\n",
       "      <td>4.9</td>\n",
       "      <td>4.9</td>\n",
       "      <td>1.0</td>\n",
       "      <td>0.8</td>\n",
       "      <td>2.0</td>\n",
       "      <td>0.4</td>\n",
       "      <td>21.0</td>\n",
       "      <td>0</td>\n",
       "    </tr>\n",
       "  </tbody>\n",
       "</table>\n",
       "</div>"
      ],
      "text/plain": [
       "   No_Pation  AGE  Urea  Creatinine_ratio  HbA1c  Cholesterol  Triglycerides  \\\n",
       "0      17975   50   4.7                46    4.9          4.2            0.9   \n",
       "1      34221   26   4.5                62    4.9          3.7            1.4   \n",
       "2      47975   50   4.7                46    4.9          4.2            0.9   \n",
       "3      87656   50   4.7                46    4.9          4.2            0.9   \n",
       "4      34223   33   7.1                46    4.9          4.9            1.0   \n",
       "\n",
       "   HDL_Cholesterol  Low_density_lipoprotein  VLDL   BMI  CLASS  \n",
       "0              2.4                      1.4   0.5  24.0      0  \n",
       "1              1.1                      2.1   0.6  23.0      0  \n",
       "2              2.4                      1.4   0.5  24.0      0  \n",
       "3              2.4                      1.4   0.5  24.0      0  \n",
       "4              0.8                      2.0   0.4  21.0      0  "
      ]
     },
     "execution_count": 175,
     "metadata": {},
     "output_type": "execute_result"
    }
   ],
   "source": [
    "diabetes_data.head()"
   ]
  },
  {
   "cell_type": "code",
   "execution_count": 176,
   "id": "00ee4148",
   "metadata": {},
   "outputs": [],
   "source": [
    "X = diabetes_data.iloc[:,0:-1]\n",
    "y = diabetes_data.iloc[:,-1]"
   ]
  },
  {
   "cell_type": "code",
   "execution_count": 177,
   "id": "7a7e98c2",
   "metadata": {},
   "outputs": [
    {
     "name": "stdout",
     "output_type": "stream",
     "text": [
      "     No_Pation  AGE  Urea  Creatinine_ratio  HbA1c  Cholesterol  \\\n",
      "0        17975   50   4.7                46    4.9          4.2   \n",
      "1        34221   26   4.5                62    4.9          3.7   \n",
      "2        47975   50   4.7                46    4.9          4.2   \n",
      "3        87656   50   4.7                46    4.9          4.2   \n",
      "4        34223   33   7.1                46    4.9          4.9   \n",
      "..         ...  ...   ...               ...    ...          ...   \n",
      "995     454317   71  11.0                97    7.0          7.5   \n",
      "996     876534   31   3.0                60   12.3          4.1   \n",
      "997      87654   30   7.1                81    6.7          4.1   \n",
      "998      24004   38   5.8                59    6.7          5.3   \n",
      "999      24054   54   5.0                67    6.9          3.8   \n",
      "\n",
      "     Triglycerides  HDL_Cholesterol  Low_density_lipoprotein  VLDL   BMI  \n",
      "0              0.9              2.4                      1.4   0.5  24.0  \n",
      "1              1.4              1.1                      2.1   0.6  23.0  \n",
      "2              0.9              2.4                      1.4   0.5  24.0  \n",
      "3              0.9              2.4                      1.4   0.5  24.0  \n",
      "4              1.0              0.8                      2.0   0.4  21.0  \n",
      "..             ...              ...                      ...   ...   ...  \n",
      "995            1.7              1.2                      1.8   0.6  30.0  \n",
      "996            2.2              0.7                      2.4  15.4  37.2  \n",
      "997            1.1              1.2                      2.4   8.1  27.4  \n",
      "998            2.0              1.6                      2.9  14.0  40.5  \n",
      "999            1.7              1.1                      3.0   0.7  33.0  \n",
      "\n",
      "[1000 rows x 11 columns]\n"
     ]
    }
   ],
   "source": [
    "print(X)"
   ]
  },
  {
   "cell_type": "code",
   "execution_count": 178,
   "id": "7642ec1b",
   "metadata": {},
   "outputs": [
    {
     "name": "stdout",
     "output_type": "stream",
     "text": [
      "0      0\n",
      "1      0\n",
      "2      0\n",
      "3      0\n",
      "4      0\n",
      "      ..\n",
      "995    1\n",
      "996    1\n",
      "997    1\n",
      "998    1\n",
      "999    1\n",
      "Name: CLASS, Length: 1000, dtype: int64\n"
     ]
    }
   ],
   "source": [
    "print(y)"
   ]
  },
  {
   "cell_type": "code",
   "execution_count": 179,
   "id": "9dae1a1e",
   "metadata": {},
   "outputs": [
    {
     "name": "stdout",
     "output_type": "stream",
     "text": [
      "     No_Pation  AGE  Urea  Creatinine_ratio  HbA1c  Cholesterol  \\\n",
      "0        17975   50   4.7                46    4.9          4.2   \n",
      "1        34221   26   4.5                62    4.9          3.7   \n",
      "2        47975   50   4.7                46    4.9          4.2   \n",
      "3        87656   50   4.7                46    4.9          4.2   \n",
      "4        34223   33   7.1                46    4.9          4.9   \n",
      "..         ...  ...   ...               ...    ...          ...   \n",
      "995     454317   71  11.0                97    7.0          7.5   \n",
      "996     876534   31   3.0                60   12.3          4.1   \n",
      "997      87654   30   7.1                81    6.7          4.1   \n",
      "998      24004   38   5.8                59    6.7          5.3   \n",
      "999      24054   54   5.0                67    6.9          3.8   \n",
      "\n",
      "     Triglycerides  HDL_Cholesterol  Low_density_lipoprotein  VLDL   BMI  \n",
      "0              0.9              2.4                      1.4   0.5  24.0  \n",
      "1              1.4              1.1                      2.1   0.6  23.0  \n",
      "2              0.9              2.4                      1.4   0.5  24.0  \n",
      "3              0.9              2.4                      1.4   0.5  24.0  \n",
      "4              1.0              0.8                      2.0   0.4  21.0  \n",
      "..             ...              ...                      ...   ...   ...  \n",
      "995            1.7              1.2                      1.8   0.6  30.0  \n",
      "996            2.2              0.7                      2.4  15.4  37.2  \n",
      "997            1.1              1.2                      2.4   8.1  27.4  \n",
      "998            2.0              1.6                      2.9  14.0  40.5  \n",
      "999            1.7              1.1                      3.0   0.7  33.0  \n",
      "\n",
      "[1000 rows x 11 columns]\n"
     ]
    }
   ],
   "source": [
    "print(X)"
   ]
  },
  {
   "cell_type": "markdown",
   "id": "357dfab2",
   "metadata": {},
   "source": [
    "Now, we split the dataset into training and test data"
   ]
  },
  {
   "cell_type": "code",
   "execution_count": 180,
   "id": "3559d8a5",
   "metadata": {},
   "outputs": [],
   "source": [
    "X_train, X_test, y_train, y_test = train_test_split(X, y, test_size=0.33, random_state=42)"
   ]
  },
  {
   "cell_type": "markdown",
   "id": "6e2516e7",
   "metadata": {},
   "source": [
    "Install the imblearn dependency to help strike some balance on the data set using => pip install imblearn"
   ]
  },
  {
   "cell_type": "code",
   "execution_count": 181,
   "id": "e5da587b",
   "metadata": {},
   "outputs": [],
   "source": [
    "from imblearn.over_sampling import SMOTE"
   ]
  },
  {
   "cell_type": "code",
   "execution_count": 182,
   "id": "24175548",
   "metadata": {},
   "outputs": [],
   "source": [
    "sm = SMOTE()"
   ]
  },
  {
   "cell_type": "code",
   "execution_count": 183,
   "id": "5d7028a6",
   "metadata": {},
   "outputs": [],
   "source": [
    "X_train,y_train = sm.fit_resample(X_train,y_train)"
   ]
  },
  {
   "cell_type": "code",
   "execution_count": 184,
   "id": "7acc0aa3",
   "metadata": {},
   "outputs": [
    {
     "data": {
      "text/plain": [
       "(array([0, 1, 2], dtype=int64), array([563, 563, 563], dtype=int64))"
      ]
     },
     "execution_count": 184,
     "metadata": {},
     "output_type": "execute_result"
    }
   ],
   "source": [
    "np.unique(y_train, return_counts=True)"
   ]
  },
  {
   "cell_type": "markdown",
   "id": "98bd1375",
   "metadata": {},
   "source": [
    "Observe the balance established above"
   ]
  },
  {
   "cell_type": "markdown",
   "id": "d0be90f6",
   "metadata": {},
   "source": [
    "Train the model - first, using the DecisionTreeClassifier algorithm:"
   ]
  },
  {
   "cell_type": "code",
   "execution_count": 185,
   "id": "295960f1",
   "metadata": {},
   "outputs": [],
   "source": [
    "from sklearn.tree import DecisionTreeClassifier"
   ]
  },
  {
   "cell_type": "code",
   "execution_count": 186,
   "id": "faecaec6",
   "metadata": {},
   "outputs": [],
   "source": [
    "dtree_model = DecisionTreeClassifier()"
   ]
  },
  {
   "cell_type": "markdown",
   "id": "c0d98e10",
   "metadata": {},
   "source": [
    "Train the dataset"
   ]
  },
  {
   "cell_type": "code",
   "execution_count": 187,
   "id": "9136fd44",
   "metadata": {},
   "outputs": [
    {
     "data": {
      "text/html": [
       "<style>#sk-container-id-4 {color: black;background-color: white;}#sk-container-id-4 pre{padding: 0;}#sk-container-id-4 div.sk-toggleable {background-color: white;}#sk-container-id-4 label.sk-toggleable__label {cursor: pointer;display: block;width: 100%;margin-bottom: 0;padding: 0.3em;box-sizing: border-box;text-align: center;}#sk-container-id-4 label.sk-toggleable__label-arrow:before {content: \"▸\";float: left;margin-right: 0.25em;color: #696969;}#sk-container-id-4 label.sk-toggleable__label-arrow:hover:before {color: black;}#sk-container-id-4 div.sk-estimator:hover label.sk-toggleable__label-arrow:before {color: black;}#sk-container-id-4 div.sk-toggleable__content {max-height: 0;max-width: 0;overflow: hidden;text-align: left;background-color: #f0f8ff;}#sk-container-id-4 div.sk-toggleable__content pre {margin: 0.2em;color: black;border-radius: 0.25em;background-color: #f0f8ff;}#sk-container-id-4 input.sk-toggleable__control:checked~div.sk-toggleable__content {max-height: 200px;max-width: 100%;overflow: auto;}#sk-container-id-4 input.sk-toggleable__control:checked~label.sk-toggleable__label-arrow:before {content: \"▾\";}#sk-container-id-4 div.sk-estimator input.sk-toggleable__control:checked~label.sk-toggleable__label {background-color: #d4ebff;}#sk-container-id-4 div.sk-label input.sk-toggleable__control:checked~label.sk-toggleable__label {background-color: #d4ebff;}#sk-container-id-4 input.sk-hidden--visually {border: 0;clip: rect(1px 1px 1px 1px);clip: rect(1px, 1px, 1px, 1px);height: 1px;margin: -1px;overflow: hidden;padding: 0;position: absolute;width: 1px;}#sk-container-id-4 div.sk-estimator {font-family: monospace;background-color: #f0f8ff;border: 1px dotted black;border-radius: 0.25em;box-sizing: border-box;margin-bottom: 0.5em;}#sk-container-id-4 div.sk-estimator:hover {background-color: #d4ebff;}#sk-container-id-4 div.sk-parallel-item::after {content: \"\";width: 100%;border-bottom: 1px solid gray;flex-grow: 1;}#sk-container-id-4 div.sk-label:hover label.sk-toggleable__label {background-color: #d4ebff;}#sk-container-id-4 div.sk-serial::before {content: \"\";position: absolute;border-left: 1px solid gray;box-sizing: border-box;top: 0;bottom: 0;left: 50%;z-index: 0;}#sk-container-id-4 div.sk-serial {display: flex;flex-direction: column;align-items: center;background-color: white;padding-right: 0.2em;padding-left: 0.2em;position: relative;}#sk-container-id-4 div.sk-item {position: relative;z-index: 1;}#sk-container-id-4 div.sk-parallel {display: flex;align-items: stretch;justify-content: center;background-color: white;position: relative;}#sk-container-id-4 div.sk-item::before, #sk-container-id-4 div.sk-parallel-item::before {content: \"\";position: absolute;border-left: 1px solid gray;box-sizing: border-box;top: 0;bottom: 0;left: 50%;z-index: -1;}#sk-container-id-4 div.sk-parallel-item {display: flex;flex-direction: column;z-index: 1;position: relative;background-color: white;}#sk-container-id-4 div.sk-parallel-item:first-child::after {align-self: flex-end;width: 50%;}#sk-container-id-4 div.sk-parallel-item:last-child::after {align-self: flex-start;width: 50%;}#sk-container-id-4 div.sk-parallel-item:only-child::after {width: 0;}#sk-container-id-4 div.sk-dashed-wrapped {border: 1px dashed gray;margin: 0 0.4em 0.5em 0.4em;box-sizing: border-box;padding-bottom: 0.4em;background-color: white;}#sk-container-id-4 div.sk-label label {font-family: monospace;font-weight: bold;display: inline-block;line-height: 1.2em;}#sk-container-id-4 div.sk-label-container {text-align: center;}#sk-container-id-4 div.sk-container {/* jupyter's `normalize.less` sets `[hidden] { display: none; }` but bootstrap.min.css set `[hidden] { display: none !important; }` so we also need the `!important` here to be able to override the default hidden behavior on the sphinx rendered scikit-learn.org. See: https://github.com/scikit-learn/scikit-learn/issues/21755 */display: inline-block !important;position: relative;}#sk-container-id-4 div.sk-text-repr-fallback {display: none;}</style><div id=\"sk-container-id-4\" class=\"sk-top-container\"><div class=\"sk-text-repr-fallback\"><pre>DecisionTreeClassifier()</pre><b>In a Jupyter environment, please rerun this cell to show the HTML representation or trust the notebook. <br />On GitHub, the HTML representation is unable to render, please try loading this page with nbviewer.org.</b></div><div class=\"sk-container\" hidden><div class=\"sk-item\"><div class=\"sk-estimator sk-toggleable\"><input class=\"sk-toggleable__control sk-hidden--visually\" id=\"sk-estimator-id-4\" type=\"checkbox\" checked><label for=\"sk-estimator-id-4\" class=\"sk-toggleable__label sk-toggleable__label-arrow\">DecisionTreeClassifier</label><div class=\"sk-toggleable__content\"><pre>DecisionTreeClassifier()</pre></div></div></div></div></div>"
      ],
      "text/plain": [
       "DecisionTreeClassifier()"
      ]
     },
     "execution_count": 187,
     "metadata": {},
     "output_type": "execute_result"
    }
   ],
   "source": [
    "dtree_model.fit(X_train,y_train)"
   ]
  },
  {
   "cell_type": "code",
   "execution_count": 188,
   "id": "2ccbdd7a",
   "metadata": {},
   "outputs": [
    {
     "data": {
      "text/plain": [
       "0.9878787878787879"
      ]
     },
     "execution_count": 188,
     "metadata": {},
     "output_type": "execute_result"
    }
   ],
   "source": [
    "dtree_model.score(X_test,y_test)"
   ]
  },
  {
   "cell_type": "markdown",
   "id": "8fce28e6",
   "metadata": {},
   "source": [
    "Evaluate model on the training and test dataset"
   ]
  },
  {
   "cell_type": "code",
   "execution_count": 189,
   "id": "e18559da",
   "metadata": {},
   "outputs": [
    {
     "data": {
      "text/plain": [
       "1.0"
      ]
     },
     "execution_count": 189,
     "metadata": {},
     "output_type": "execute_result"
    }
   ],
   "source": [
    "dtree_pred = dtree_model.predict(X_train)\n",
    "f1_score(y_train,dtree_pred,average='micro')"
   ]
  },
  {
   "cell_type": "code",
   "execution_count": 190,
   "id": "05d1b0c7",
   "metadata": {},
   "outputs": [
    {
     "data": {
      "text/plain": [
       "0.9878787878787879"
      ]
     },
     "execution_count": 190,
     "metadata": {},
     "output_type": "execute_result"
    }
   ],
   "source": [
    "f1_score(y_test,dtree_model.predict(X_test),average='micro')"
   ]
  },
  {
   "cell_type": "code",
   "execution_count": 191,
   "id": "af6170f4",
   "metadata": {},
   "outputs": [
    {
     "data": {
      "text/plain": [
       "0.9666666666666667"
      ]
     },
     "execution_count": 191,
     "metadata": {},
     "output_type": "execute_result"
    }
   ],
   "source": [
    "dtree_model_2 = DecisionTreeClassifier(max_depth=3)\n",
    "dtree_model_2.fit(X_train,y_train)\n",
    "dtree_model_2.score(X_test,y_test)"
   ]
  },
  {
   "cell_type": "code",
   "execution_count": 192,
   "id": "030a6859",
   "metadata": {},
   "outputs": [
    {
     "data": {
      "text/plain": [
       "0.9881586737714624"
      ]
     },
     "execution_count": 192,
     "metadata": {},
     "output_type": "execute_result"
    }
   ],
   "source": [
    "f1_score(y_train,dtree_model_2.predict(X_train),average='micro')"
   ]
  },
  {
   "cell_type": "code",
   "execution_count": 193,
   "id": "7cfb58f8",
   "metadata": {},
   "outputs": [
    {
     "data": {
      "text/plain": [
       "0.9666666666666667"
      ]
     },
     "execution_count": 193,
     "metadata": {},
     "output_type": "execute_result"
    }
   ],
   "source": [
    "f1_score(y_test,dtree_model_2.predict(X_test),average='micro')"
   ]
  },
  {
   "cell_type": "code",
   "execution_count": 194,
   "id": "4ef9470f",
   "metadata": {},
   "outputs": [],
   "source": [
    "from sklearn.model_selection import cross_val_score"
   ]
  },
  {
   "cell_type": "code",
   "execution_count": 195,
   "id": "02dad2e9",
   "metadata": {},
   "outputs": [],
   "source": [
    "cv_score = cross_val_score(dtree_model_2,X_train,y_train,cv=10)"
   ]
  },
  {
   "cell_type": "code",
   "execution_count": 196,
   "id": "dbd016ae",
   "metadata": {},
   "outputs": [
    {
     "data": {
      "text/plain": [
       "array([0.92899408, 0.98224852, 0.98224852, 0.98816568, 1.        ,\n",
       "       0.98816568, 0.98816568, 0.99408284, 0.98224852, 1.        ])"
      ]
     },
     "execution_count": 196,
     "metadata": {},
     "output_type": "execute_result"
    }
   ],
   "source": [
    "cv_score"
   ]
  },
  {
   "cell_type": "code",
   "execution_count": 197,
   "id": "6bc1aeea",
   "metadata": {},
   "outputs": [
    {
     "name": "stdout",
     "output_type": "stream",
     "text": [
      "Average training score is:  0.9834319526627219\n"
     ]
    }
   ],
   "source": [
    "print(\"Average training score is: \",cv_score.mean())"
   ]
  },
  {
   "cell_type": "code",
   "execution_count": 198,
   "id": "32c21262",
   "metadata": {},
   "outputs": [
    {
     "name": "stdout",
     "output_type": "stream",
     "text": [
      "Standard deviation from training score is:  0.019228493265410568\n"
     ]
    }
   ],
   "source": [
    "print(\"Standard deviation from training score is: \",cv_score.std())"
   ]
  },
  {
   "cell_type": "markdown",
   "id": "93a61c3d",
   "metadata": {},
   "source": [
    "Engage cross validation to train and test the model on varying iterations on different portions of the dataset"
   ]
  },
  {
   "cell_type": "code",
   "execution_count": 199,
   "id": "ed5fa20a",
   "metadata": {},
   "outputs": [
    {
     "name": "stdout",
     "output_type": "stream",
     "text": [
      "With depth of:  2\n",
      " Average training score:  0.9715905888982814\n",
      " Standard deviation training score:  0.01958333713094505\n",
      "With depth of:  3\n",
      " Average training score:  0.9834319526627219\n",
      " Standard deviation training score:  0.019228493265410568\n",
      "With depth of:  4\n",
      " Average training score:  0.9875739644970414\n",
      " Standard deviation training score:  0.01662079515406879\n",
      "With depth of:  5\n",
      " Average training score:  0.9863870104254719\n",
      " Standard deviation training score:  0.016534682772388648\n",
      "With depth of:  6\n",
      " Average training score:  0.9881656804733728\n",
      " Standard deviation training score:  0.01871170213117384\n",
      "With depth of:  7\n",
      " Average training score:  0.9881656804733728\n",
      " Standard deviation training score:  0.017352518696586005\n",
      "With depth of:  8\n",
      " Average training score:  0.9893491124260354\n",
      " Standard deviation training score:  0.019045534839563408\n",
      "With depth of:  9\n",
      " Average training score:  0.9875739644970414\n",
      " Standard deviation training score:  0.017036899466139597\n",
      "With depth of:  10\n",
      " Average training score:  0.9875704423781346\n",
      " Standard deviation training score:  0.01703555707919861\n",
      "With depth of:  11\n",
      " Average training score:  0.9875704423781346\n",
      " Standard deviation training score:  0.016828774437424674\n",
      "With depth of:  12\n",
      " Average training score:  0.9881656804733728\n",
      " Standard deviation training score:  0.01908226685987822\n",
      "With depth of:  13\n",
      " Average training score:  0.9875739644970414\n",
      " Standard deviation training score:  0.018981082760172116\n",
      "With depth of:  14\n",
      " Average training score:  0.9881656804733728\n",
      " Standard deviation training score:  0.01908226685987822\n",
      "With depth of:  15\n",
      " Average training score:  0.9875739644970414\n",
      " Standard deviation training score:  0.015304754031216063\n",
      "With depth of:  16\n",
      " Average training score:  0.9881656804733728\n",
      " Standard deviation training score:  0.01926487644508841\n",
      "With depth of:  17\n",
      " Average training score:  0.9881621583544661\n",
      " Standard deviation training score:  0.014732198196050802\n",
      "With depth of:  18\n",
      " Average training score:  0.9881656804733728\n",
      " Standard deviation training score:  0.017352518696586005\n",
      "With depth of:  19\n",
      " Average training score:  0.9887573964497042\n",
      " Standard deviation training score:  0.017642664515829073\n"
     ]
    }
   ],
   "source": [
    "for depth in range(2,20):\n",
    "    print(\"With depth of: \",depth)\n",
    "    cv_score = cross_val_score(DecisionTreeClassifier(max_depth=depth,max_features=None),X_train,y_train,cv=10)\n",
    "    print(' Average training score: ',cv_score.mean())\n",
    "    print(' Standard deviation training score: ',cv_score.std())"
   ]
  },
  {
   "cell_type": "markdown",
   "id": "8295d800",
   "metadata": {},
   "source": [
    "Observe performance at dapth of 16 as provided from the above cross validation"
   ]
  },
  {
   "cell_type": "code",
   "execution_count": 200,
   "id": "35167dc4",
   "metadata": {},
   "outputs": [
    {
     "data": {
      "text/plain": [
       "1.0"
      ]
     },
     "execution_count": 200,
     "metadata": {},
     "output_type": "execute_result"
    }
   ],
   "source": [
    "improved_model = DecisionTreeClassifier(max_depth=16)\n",
    "improved_model.fit(X_train,y_train)\n",
    "f1_score(y_train,improved_model.predict(X_train),average='micro')"
   ]
  },
  {
   "cell_type": "code",
   "execution_count": 201,
   "id": "66b35068",
   "metadata": {},
   "outputs": [
    {
     "data": {
      "text/plain": [
       "0.9878787878787879"
      ]
     },
     "execution_count": 201,
     "metadata": {},
     "output_type": "execute_result"
    }
   ],
   "source": [
    "f1_score(y_test,improved_model.predict(X_test),average='micro')"
   ]
  },
  {
   "cell_type": "markdown",
   "id": "d3544f5b",
   "metadata": {},
   "source": [
    "BELOW IS A FUNCTION WHICH MAKES UP THE PREDITIVE SYSTEM"
   ]
  },
  {
   "cell_type": "code",
   "execution_count": 202,
   "id": "c8f77c69",
   "metadata": {},
   "outputs": [],
   "source": [
    "def model_prediction(input_data):\n",
    "    \n",
    "    # change the input data into a numpy array\n",
    "    input_data_as_numpy_array = np.asarray(input_data)\n",
    "    \n",
    "    # we reshape the array since we are redicting for one instance\n",
    "    reshaped_input_data =  input_data_as_numpy_array.reshape(1,-1)\n",
    "    \n",
    "    # make predictions\n",
    "    prediction = improved_model.predict(reshaped_input_data)\n",
    "    if (prediction[0] == 0):\n",
    "        return \"This patient is not diabetic\"\n",
    "    elif (prediction[0] == 2):\n",
    "        return \"This patient is predicted diabetic\"\n",
    "    else:\n",
    "        return \"This patient is diabetic\""
   ]
  },
  {
   "cell_type": "markdown",
   "id": "f81b194a",
   "metadata": {},
   "source": [
    "TEST THE MODEL"
   ]
  },
  {
   "cell_type": "code",
   "execution_count": 203,
   "id": "310447d1",
   "metadata": {},
   "outputs": [],
   "source": [
    "input_data = (23979,45,4.1,63,10.2,4.8,1.3,0.9,3.3,9.5,34.3)"
   ]
  },
  {
   "cell_type": "code",
   "execution_count": 204,
   "id": "b17354fc",
   "metadata": {},
   "outputs": [
    {
     "data": {
      "text/plain": [
       "'This patient is diabetic'"
      ]
     },
     "execution_count": 204,
     "metadata": {},
     "output_type": "execute_result"
    }
   ],
   "source": [
    "predictions = model_prediction(input_data)\n",
    "predictions"
   ]
  },
  {
   "cell_type": "markdown",
   "id": "b0a95e72",
   "metadata": {},
   "source": [
    "SAVE MODEL IN PICKLE FILE FORMAT"
   ]
  },
  {
   "cell_type": "code",
   "execution_count": 205,
   "id": "b995735e",
   "metadata": {},
   "outputs": [],
   "source": [
    "import pickle\n",
    "pickle_file = open(\"diabetes_prediction.pkl\",\"wb\")\n",
    "pickle.dump(improved_model, pickle_file)\n",
    "pickle_file.close()"
   ]
  },
  {
   "cell_type": "markdown",
   "id": "494d4824",
   "metadata": {},
   "source": [
    "YAYY!! IT NICELY WORKS !"
   ]
  }
 ],
 "metadata": {
  "kernelspec": {
   "display_name": "Python 3 (ipykernel)",
   "language": "python",
   "name": "python3"
  },
  "language_info": {
   "codemirror_mode": {
    "name": "ipython",
    "version": 3
   },
   "file_extension": ".py",
   "mimetype": "text/x-python",
   "name": "python",
   "nbconvert_exporter": "python",
   "pygments_lexer": "ipython3",
   "version": "3.9.7"
  }
 },
 "nbformat": 4,
 "nbformat_minor": 5
}

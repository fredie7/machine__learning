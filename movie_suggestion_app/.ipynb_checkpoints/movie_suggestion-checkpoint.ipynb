{
 "cells": [
  {
   "cell_type": "code",
   "execution_count": 7,
   "id": "ee3907eb",
   "metadata": {},
   "outputs": [],
   "source": [
    "# A MACHINE LEARNING TECHNIQUE WHICH SUGGESTS MOVIES RELEVANT TO A GIVEN SEARCHED MOVIE"
   ]
  },
  {
   "cell_type": "code",
   "execution_count": 8,
   "id": "3fc3964e",
   "metadata": {},
   "outputs": [],
   "source": [
    "# IMPORT DEPENDENCES"
   ]
  },
  {
   "cell_type": "code",
   "execution_count": 14,
   "id": "24caaa9f",
   "metadata": {},
   "outputs": [],
   "source": [
    "import pandas as pd\n",
    "import matplotlib.pyplot as plt\n",
    "import numpy as np\n",
    "import seaborn as sns\n",
    "from sklearn.feature_extraction.text import TfidfVectorizer\n",
    "from sklearn.metrics.pairwise import cosine_similarity\n",
    "import difflib\n",
    "\n",
    "%matplotlib inline"
   ]
  },
  {
   "cell_type": "code",
   "execution_count": 15,
   "id": "6e9ad61b",
   "metadata": {},
   "outputs": [
    {
     "ename": "FileNotFoundError",
     "evalue": "[Errno 2] No such file or directory: '/movies.csv'",
     "output_type": "error",
     "traceback": [
      "\u001b[1;31m---------------------------------------------------------------------------\u001b[0m",
      "\u001b[1;31mFileNotFoundError\u001b[0m                         Traceback (most recent call last)",
      "Input \u001b[1;32mIn [15]\u001b[0m, in \u001b[0;36m<cell line: 1>\u001b[1;34m()\u001b[0m\n\u001b[1;32m----> 1\u001b[0m df \u001b[38;5;241m=\u001b[39m \u001b[43mpd\u001b[49m\u001b[38;5;241;43m.\u001b[39;49m\u001b[43mread_csv\u001b[49m\u001b[43m(\u001b[49m\u001b[38;5;124;43m'\u001b[39;49m\u001b[38;5;124;43m/movies.csv\u001b[39;49m\u001b[38;5;124;43m'\u001b[39;49m\u001b[43m)\u001b[49m\n",
      "File \u001b[1;32m~\\AppData\\Roaming\\Python\\Python310\\site-packages\\pandas\\util\\_decorators.py:311\u001b[0m, in \u001b[0;36mdeprecate_nonkeyword_arguments.<locals>.decorate.<locals>.wrapper\u001b[1;34m(*args, **kwargs)\u001b[0m\n\u001b[0;32m    305\u001b[0m \u001b[38;5;28;01mif\u001b[39;00m \u001b[38;5;28mlen\u001b[39m(args) \u001b[38;5;241m>\u001b[39m num_allow_args:\n\u001b[0;32m    306\u001b[0m     warnings\u001b[38;5;241m.\u001b[39mwarn(\n\u001b[0;32m    307\u001b[0m         msg\u001b[38;5;241m.\u001b[39mformat(arguments\u001b[38;5;241m=\u001b[39marguments),\n\u001b[0;32m    308\u001b[0m         \u001b[38;5;167;01mFutureWarning\u001b[39;00m,\n\u001b[0;32m    309\u001b[0m         stacklevel\u001b[38;5;241m=\u001b[39mstacklevel,\n\u001b[0;32m    310\u001b[0m     )\n\u001b[1;32m--> 311\u001b[0m \u001b[38;5;28;01mreturn\u001b[39;00m func(\u001b[38;5;241m*\u001b[39margs, \u001b[38;5;241m*\u001b[39m\u001b[38;5;241m*\u001b[39mkwargs)\n",
      "File \u001b[1;32m~\\AppData\\Roaming\\Python\\Python310\\site-packages\\pandas\\io\\parsers\\readers.py:680\u001b[0m, in \u001b[0;36mread_csv\u001b[1;34m(filepath_or_buffer, sep, delimiter, header, names, index_col, usecols, squeeze, prefix, mangle_dupe_cols, dtype, engine, converters, true_values, false_values, skipinitialspace, skiprows, skipfooter, nrows, na_values, keep_default_na, na_filter, verbose, skip_blank_lines, parse_dates, infer_datetime_format, keep_date_col, date_parser, dayfirst, cache_dates, iterator, chunksize, compression, thousands, decimal, lineterminator, quotechar, quoting, doublequote, escapechar, comment, encoding, encoding_errors, dialect, error_bad_lines, warn_bad_lines, on_bad_lines, delim_whitespace, low_memory, memory_map, float_precision, storage_options)\u001b[0m\n\u001b[0;32m    665\u001b[0m kwds_defaults \u001b[38;5;241m=\u001b[39m _refine_defaults_read(\n\u001b[0;32m    666\u001b[0m     dialect,\n\u001b[0;32m    667\u001b[0m     delimiter,\n\u001b[1;32m   (...)\u001b[0m\n\u001b[0;32m    676\u001b[0m     defaults\u001b[38;5;241m=\u001b[39m{\u001b[38;5;124m\"\u001b[39m\u001b[38;5;124mdelimiter\u001b[39m\u001b[38;5;124m\"\u001b[39m: \u001b[38;5;124m\"\u001b[39m\u001b[38;5;124m,\u001b[39m\u001b[38;5;124m\"\u001b[39m},\n\u001b[0;32m    677\u001b[0m )\n\u001b[0;32m    678\u001b[0m kwds\u001b[38;5;241m.\u001b[39mupdate(kwds_defaults)\n\u001b[1;32m--> 680\u001b[0m \u001b[38;5;28;01mreturn\u001b[39;00m \u001b[43m_read\u001b[49m\u001b[43m(\u001b[49m\u001b[43mfilepath_or_buffer\u001b[49m\u001b[43m,\u001b[49m\u001b[43m \u001b[49m\u001b[43mkwds\u001b[49m\u001b[43m)\u001b[49m\n",
      "File \u001b[1;32m~\\AppData\\Roaming\\Python\\Python310\\site-packages\\pandas\\io\\parsers\\readers.py:575\u001b[0m, in \u001b[0;36m_read\u001b[1;34m(filepath_or_buffer, kwds)\u001b[0m\n\u001b[0;32m    572\u001b[0m _validate_names(kwds\u001b[38;5;241m.\u001b[39mget(\u001b[38;5;124m\"\u001b[39m\u001b[38;5;124mnames\u001b[39m\u001b[38;5;124m\"\u001b[39m, \u001b[38;5;28;01mNone\u001b[39;00m))\n\u001b[0;32m    574\u001b[0m \u001b[38;5;66;03m# Create the parser.\u001b[39;00m\n\u001b[1;32m--> 575\u001b[0m parser \u001b[38;5;241m=\u001b[39m TextFileReader(filepath_or_buffer, \u001b[38;5;241m*\u001b[39m\u001b[38;5;241m*\u001b[39mkwds)\n\u001b[0;32m    577\u001b[0m \u001b[38;5;28;01mif\u001b[39;00m chunksize \u001b[38;5;129;01mor\u001b[39;00m iterator:\n\u001b[0;32m    578\u001b[0m     \u001b[38;5;28;01mreturn\u001b[39;00m parser\n",
      "File \u001b[1;32m~\\AppData\\Roaming\\Python\\Python310\\site-packages\\pandas\\io\\parsers\\readers.py:933\u001b[0m, in \u001b[0;36mTextFileReader.__init__\u001b[1;34m(self, f, engine, **kwds)\u001b[0m\n\u001b[0;32m    930\u001b[0m     \u001b[38;5;28mself\u001b[39m\u001b[38;5;241m.\u001b[39moptions[\u001b[38;5;124m\"\u001b[39m\u001b[38;5;124mhas_index_names\u001b[39m\u001b[38;5;124m\"\u001b[39m] \u001b[38;5;241m=\u001b[39m kwds[\u001b[38;5;124m\"\u001b[39m\u001b[38;5;124mhas_index_names\u001b[39m\u001b[38;5;124m\"\u001b[39m]\n\u001b[0;32m    932\u001b[0m \u001b[38;5;28mself\u001b[39m\u001b[38;5;241m.\u001b[39mhandles: IOHandles \u001b[38;5;241m|\u001b[39m \u001b[38;5;28;01mNone\u001b[39;00m \u001b[38;5;241m=\u001b[39m \u001b[38;5;28;01mNone\u001b[39;00m\n\u001b[1;32m--> 933\u001b[0m \u001b[38;5;28mself\u001b[39m\u001b[38;5;241m.\u001b[39m_engine \u001b[38;5;241m=\u001b[39m \u001b[38;5;28;43mself\u001b[39;49m\u001b[38;5;241;43m.\u001b[39;49m\u001b[43m_make_engine\u001b[49m\u001b[43m(\u001b[49m\u001b[43mf\u001b[49m\u001b[43m,\u001b[49m\u001b[43m \u001b[49m\u001b[38;5;28;43mself\u001b[39;49m\u001b[38;5;241;43m.\u001b[39;49m\u001b[43mengine\u001b[49m\u001b[43m)\u001b[49m\n",
      "File \u001b[1;32m~\\AppData\\Roaming\\Python\\Python310\\site-packages\\pandas\\io\\parsers\\readers.py:1217\u001b[0m, in \u001b[0;36mTextFileReader._make_engine\u001b[1;34m(self, f, engine)\u001b[0m\n\u001b[0;32m   1213\u001b[0m     mode \u001b[38;5;241m=\u001b[39m \u001b[38;5;124m\"\u001b[39m\u001b[38;5;124mrb\u001b[39m\u001b[38;5;124m\"\u001b[39m\n\u001b[0;32m   1214\u001b[0m \u001b[38;5;66;03m# error: No overload variant of \"get_handle\" matches argument types\u001b[39;00m\n\u001b[0;32m   1215\u001b[0m \u001b[38;5;66;03m# \"Union[str, PathLike[str], ReadCsvBuffer[bytes], ReadCsvBuffer[str]]\"\u001b[39;00m\n\u001b[0;32m   1216\u001b[0m \u001b[38;5;66;03m# , \"str\", \"bool\", \"Any\", \"Any\", \"Any\", \"Any\", \"Any\"\u001b[39;00m\n\u001b[1;32m-> 1217\u001b[0m \u001b[38;5;28mself\u001b[39m\u001b[38;5;241m.\u001b[39mhandles \u001b[38;5;241m=\u001b[39m \u001b[43mget_handle\u001b[49m\u001b[43m(\u001b[49m\u001b[43m  \u001b[49m\u001b[38;5;66;43;03m# type: ignore[call-overload]\u001b[39;49;00m\n\u001b[0;32m   1218\u001b[0m \u001b[43m    \u001b[49m\u001b[43mf\u001b[49m\u001b[43m,\u001b[49m\n\u001b[0;32m   1219\u001b[0m \u001b[43m    \u001b[49m\u001b[43mmode\u001b[49m\u001b[43m,\u001b[49m\n\u001b[0;32m   1220\u001b[0m \u001b[43m    \u001b[49m\u001b[43mencoding\u001b[49m\u001b[38;5;241;43m=\u001b[39;49m\u001b[38;5;28;43mself\u001b[39;49m\u001b[38;5;241;43m.\u001b[39;49m\u001b[43moptions\u001b[49m\u001b[38;5;241;43m.\u001b[39;49m\u001b[43mget\u001b[49m\u001b[43m(\u001b[49m\u001b[38;5;124;43m\"\u001b[39;49m\u001b[38;5;124;43mencoding\u001b[39;49m\u001b[38;5;124;43m\"\u001b[39;49m\u001b[43m,\u001b[49m\u001b[43m \u001b[49m\u001b[38;5;28;43;01mNone\u001b[39;49;00m\u001b[43m)\u001b[49m\u001b[43m,\u001b[49m\n\u001b[0;32m   1221\u001b[0m \u001b[43m    \u001b[49m\u001b[43mcompression\u001b[49m\u001b[38;5;241;43m=\u001b[39;49m\u001b[38;5;28;43mself\u001b[39;49m\u001b[38;5;241;43m.\u001b[39;49m\u001b[43moptions\u001b[49m\u001b[38;5;241;43m.\u001b[39;49m\u001b[43mget\u001b[49m\u001b[43m(\u001b[49m\u001b[38;5;124;43m\"\u001b[39;49m\u001b[38;5;124;43mcompression\u001b[39;49m\u001b[38;5;124;43m\"\u001b[39;49m\u001b[43m,\u001b[49m\u001b[43m \u001b[49m\u001b[38;5;28;43;01mNone\u001b[39;49;00m\u001b[43m)\u001b[49m\u001b[43m,\u001b[49m\n\u001b[0;32m   1222\u001b[0m \u001b[43m    \u001b[49m\u001b[43mmemory_map\u001b[49m\u001b[38;5;241;43m=\u001b[39;49m\u001b[38;5;28;43mself\u001b[39;49m\u001b[38;5;241;43m.\u001b[39;49m\u001b[43moptions\u001b[49m\u001b[38;5;241;43m.\u001b[39;49m\u001b[43mget\u001b[49m\u001b[43m(\u001b[49m\u001b[38;5;124;43m\"\u001b[39;49m\u001b[38;5;124;43mmemory_map\u001b[39;49m\u001b[38;5;124;43m\"\u001b[39;49m\u001b[43m,\u001b[49m\u001b[43m \u001b[49m\u001b[38;5;28;43;01mFalse\u001b[39;49;00m\u001b[43m)\u001b[49m\u001b[43m,\u001b[49m\n\u001b[0;32m   1223\u001b[0m \u001b[43m    \u001b[49m\u001b[43mis_text\u001b[49m\u001b[38;5;241;43m=\u001b[39;49m\u001b[43mis_text\u001b[49m\u001b[43m,\u001b[49m\n\u001b[0;32m   1224\u001b[0m \u001b[43m    \u001b[49m\u001b[43merrors\u001b[49m\u001b[38;5;241;43m=\u001b[39;49m\u001b[38;5;28;43mself\u001b[39;49m\u001b[38;5;241;43m.\u001b[39;49m\u001b[43moptions\u001b[49m\u001b[38;5;241;43m.\u001b[39;49m\u001b[43mget\u001b[49m\u001b[43m(\u001b[49m\u001b[38;5;124;43m\"\u001b[39;49m\u001b[38;5;124;43mencoding_errors\u001b[39;49m\u001b[38;5;124;43m\"\u001b[39;49m\u001b[43m,\u001b[49m\u001b[43m \u001b[49m\u001b[38;5;124;43m\"\u001b[39;49m\u001b[38;5;124;43mstrict\u001b[39;49m\u001b[38;5;124;43m\"\u001b[39;49m\u001b[43m)\u001b[49m\u001b[43m,\u001b[49m\n\u001b[0;32m   1225\u001b[0m \u001b[43m    \u001b[49m\u001b[43mstorage_options\u001b[49m\u001b[38;5;241;43m=\u001b[39;49m\u001b[38;5;28;43mself\u001b[39;49m\u001b[38;5;241;43m.\u001b[39;49m\u001b[43moptions\u001b[49m\u001b[38;5;241;43m.\u001b[39;49m\u001b[43mget\u001b[49m\u001b[43m(\u001b[49m\u001b[38;5;124;43m\"\u001b[39;49m\u001b[38;5;124;43mstorage_options\u001b[39;49m\u001b[38;5;124;43m\"\u001b[39;49m\u001b[43m,\u001b[49m\u001b[43m \u001b[49m\u001b[38;5;28;43;01mNone\u001b[39;49;00m\u001b[43m)\u001b[49m\u001b[43m,\u001b[49m\n\u001b[0;32m   1226\u001b[0m \u001b[43m\u001b[49m\u001b[43m)\u001b[49m\n\u001b[0;32m   1227\u001b[0m \u001b[38;5;28;01massert\u001b[39;00m \u001b[38;5;28mself\u001b[39m\u001b[38;5;241m.\u001b[39mhandles \u001b[38;5;129;01mis\u001b[39;00m \u001b[38;5;129;01mnot\u001b[39;00m \u001b[38;5;28;01mNone\u001b[39;00m\n\u001b[0;32m   1228\u001b[0m f \u001b[38;5;241m=\u001b[39m \u001b[38;5;28mself\u001b[39m\u001b[38;5;241m.\u001b[39mhandles\u001b[38;5;241m.\u001b[39mhandle\n",
      "File \u001b[1;32m~\\AppData\\Roaming\\Python\\Python310\\site-packages\\pandas\\io\\common.py:789\u001b[0m, in \u001b[0;36mget_handle\u001b[1;34m(path_or_buf, mode, encoding, compression, memory_map, is_text, errors, storage_options)\u001b[0m\n\u001b[0;32m    784\u001b[0m \u001b[38;5;28;01melif\u001b[39;00m \u001b[38;5;28misinstance\u001b[39m(handle, \u001b[38;5;28mstr\u001b[39m):\n\u001b[0;32m    785\u001b[0m     \u001b[38;5;66;03m# Check whether the filename is to be opened in binary mode.\u001b[39;00m\n\u001b[0;32m    786\u001b[0m     \u001b[38;5;66;03m# Binary mode does not support 'encoding' and 'newline'.\u001b[39;00m\n\u001b[0;32m    787\u001b[0m     \u001b[38;5;28;01mif\u001b[39;00m ioargs\u001b[38;5;241m.\u001b[39mencoding \u001b[38;5;129;01mand\u001b[39;00m \u001b[38;5;124m\"\u001b[39m\u001b[38;5;124mb\u001b[39m\u001b[38;5;124m\"\u001b[39m \u001b[38;5;129;01mnot\u001b[39;00m \u001b[38;5;129;01min\u001b[39;00m ioargs\u001b[38;5;241m.\u001b[39mmode:\n\u001b[0;32m    788\u001b[0m         \u001b[38;5;66;03m# Encoding\u001b[39;00m\n\u001b[1;32m--> 789\u001b[0m         handle \u001b[38;5;241m=\u001b[39m \u001b[38;5;28;43mopen\u001b[39;49m\u001b[43m(\u001b[49m\n\u001b[0;32m    790\u001b[0m \u001b[43m            \u001b[49m\u001b[43mhandle\u001b[49m\u001b[43m,\u001b[49m\n\u001b[0;32m    791\u001b[0m \u001b[43m            \u001b[49m\u001b[43mioargs\u001b[49m\u001b[38;5;241;43m.\u001b[39;49m\u001b[43mmode\u001b[49m\u001b[43m,\u001b[49m\n\u001b[0;32m    792\u001b[0m \u001b[43m            \u001b[49m\u001b[43mencoding\u001b[49m\u001b[38;5;241;43m=\u001b[39;49m\u001b[43mioargs\u001b[49m\u001b[38;5;241;43m.\u001b[39;49m\u001b[43mencoding\u001b[49m\u001b[43m,\u001b[49m\n\u001b[0;32m    793\u001b[0m \u001b[43m            \u001b[49m\u001b[43merrors\u001b[49m\u001b[38;5;241;43m=\u001b[39;49m\u001b[43merrors\u001b[49m\u001b[43m,\u001b[49m\n\u001b[0;32m    794\u001b[0m \u001b[43m            \u001b[49m\u001b[43mnewline\u001b[49m\u001b[38;5;241;43m=\u001b[39;49m\u001b[38;5;124;43m\"\u001b[39;49m\u001b[38;5;124;43m\"\u001b[39;49m\u001b[43m,\u001b[49m\n\u001b[0;32m    795\u001b[0m \u001b[43m        \u001b[49m\u001b[43m)\u001b[49m\n\u001b[0;32m    796\u001b[0m     \u001b[38;5;28;01melse\u001b[39;00m:\n\u001b[0;32m    797\u001b[0m         \u001b[38;5;66;03m# Binary mode\u001b[39;00m\n\u001b[0;32m    798\u001b[0m         handle \u001b[38;5;241m=\u001b[39m \u001b[38;5;28mopen\u001b[39m(handle, ioargs\u001b[38;5;241m.\u001b[39mmode)\n",
      "\u001b[1;31mFileNotFoundError\u001b[0m: [Errno 2] No such file or directory: '/movies.csv'"
     ]
    }
   ],
   "source": [
    "df = pd.read_csv('/movies.csv')"
   ]
  },
  {
   "cell_type": "code",
   "execution_count": 11,
   "id": "a6de359d",
   "metadata": {},
   "outputs": [],
   "source": [
    "# Display the first 3 movies"
   ]
  },
  {
   "cell_type": "code",
   "execution_count": null,
   "id": "aa35d758",
   "metadata": {},
   "outputs": [],
   "source": [
    "df.head(3)"
   ]
  },
  {
   "cell_type": "code",
   "execution_count": null,
   "id": "d5332dea",
   "metadata": {},
   "outputs": [],
   "source": [
    "# Display key information associated with the given data"
   ]
  },
  {
   "cell_type": "code",
   "execution_count": null,
   "id": "d7d1bdee",
   "metadata": {},
   "outputs": [],
   "source": [
    "df.info()"
   ]
  },
  {
   "cell_type": "code",
   "execution_count": null,
   "id": "94078664",
   "metadata": {},
   "outputs": [],
   "source": [
    "# selecting the relevant features for recommendation\n",
    "\n",
    "selected_features = ['genres','keywords','tagline','cast','director']"
   ]
  },
  {
   "cell_type": "code",
   "execution_count": null,
   "id": "627e7e0f",
   "metadata": {},
   "outputs": [],
   "source": [
    "# Check for NULL values"
   ]
  },
  {
   "cell_type": "code",
   "execution_count": null,
   "id": "1cfc727b",
   "metadata": {},
   "outputs": [],
   "source": [
    "df[selected_features].isnull().sum()"
   ]
  },
  {
   "cell_type": "code",
   "execution_count": null,
   "id": "24a76ae2",
   "metadata": {},
   "outputs": [],
   "source": [
    "# Fill in null values"
   ]
  },
  {
   "cell_type": "code",
   "execution_count": null,
   "id": "0278cc07",
   "metadata": {},
   "outputs": [],
   "source": [
    "for feature in selected_features:\n",
    "    df[feature] = df[feature].fillna('')"
   ]
  },
  {
   "cell_type": "code",
   "execution_count": null,
   "id": "0c180def",
   "metadata": {},
   "outputs": [],
   "source": [
    "# Confirm absence of NULL values"
   ]
  },
  {
   "cell_type": "code",
   "execution_count": null,
   "id": "6f93d30e",
   "metadata": {},
   "outputs": [],
   "source": [
    "df[selected_features].isnull().sum()"
   ]
  },
  {
   "cell_type": "code",
   "execution_count": null,
   "id": "cfe94983",
   "metadata": {},
   "outputs": [],
   "source": [
    "# Combine selected features"
   ]
  },
  {
   "cell_type": "code",
   "execution_count": null,
   "id": "3f6da6bf",
   "metadata": {},
   "outputs": [],
   "source": [
    "combined_features = df['genres']+''+df['keywords']+''+df['tagline']+''+df['cast']+''+df['director']"
   ]
  },
  {
   "cell_type": "code",
   "execution_count": null,
   "id": "d3c39516",
   "metadata": {},
   "outputs": [],
   "source": [
    "# Display first 5 lines of the combined features"
   ]
  },
  {
   "cell_type": "code",
   "execution_count": 5,
   "id": "7e27be42",
   "metadata": {},
   "outputs": [
    {
     "ename": "NameError",
     "evalue": "name 'combined_features' is not defined",
     "output_type": "error",
     "traceback": [
      "\u001b[1;31m---------------------------------------------------------------------------\u001b[0m",
      "\u001b[1;31mNameError\u001b[0m                                 Traceback (most recent call last)",
      "Input \u001b[1;32mIn [5]\u001b[0m, in \u001b[0;36m<cell line: 1>\u001b[1;34m()\u001b[0m\n\u001b[1;32m----> 1\u001b[0m \u001b[43mcombined_features\u001b[49m\u001b[38;5;241m.\u001b[39mhead()\n",
      "\u001b[1;31mNameError\u001b[0m: name 'combined_features' is not defined"
     ]
    }
   ],
   "source": [
    "combined_features.head()"
   ]
  },
  {
   "cell_type": "code",
   "execution_count": 6,
   "id": "b022c9dd",
   "metadata": {},
   "outputs": [],
   "source": [
    "# we convert the text data into feature vectors to ease movie data pattern recognition"
   ]
  },
  {
   "cell_type": "code",
   "execution_count": 29,
   "id": "6d241009",
   "metadata": {},
   "outputs": [],
   "source": [
    "vectorizer = TfidfVectorizer()"
   ]
  },
  {
   "cell_type": "code",
   "execution_count": 30,
   "id": "ce6126c1",
   "metadata": {},
   "outputs": [],
   "source": [
    "featured_vectors = vectorizer.fit_transform(combined_features)"
   ]
  },
  {
   "cell_type": "code",
   "execution_count": 31,
   "id": "b0786432",
   "metadata": {},
   "outputs": [],
   "source": [
    "# Display featured vectors"
   ]
  },
  {
   "cell_type": "code",
   "execution_count": 32,
   "id": "5c9bd456",
   "metadata": {},
   "outputs": [
    {
     "name": "stdout",
     "output_type": "stream",
     "text": [
      "  (0, 3583)\t0.16941894714909375\n",
      "  (0, 20729)\t0.2738578969459924\n",
      "  (0, 16614)\t0.15696073877453268\n",
      "  (0, 14550)\t0.2236809363648068\n",
      "  (0, 23267)\t0.16128139780622516\n",
      "  (0, 26547)\t0.19638671147741732\n",
      "  (0, 22464)\t0.20207089568711745\n",
      "  (0, 21487)\t0.21550128478931546\n",
      "  (0, 27540)\t0.19771357974524176\n",
      "  (0, 27182)\t0.23480088356130552\n",
      "  (0, 21521)\t0.1562356665943368\n",
      "  (0, 18558)\t0.2612168335104853\n",
      "  (0, 18164)\t0.08690831799482265\n",
      "  (0, 27161)\t0.1261988657937151\n",
      "  (0, 24197)\t0.07518543993419265\n",
      "  (0, 22778)\t0.2738578969459924\n",
      "  (0, 4676)\t0.2452909770424961\n",
      "  (0, 26334)\t0.13059723071916296\n",
      "  (0, 22916)\t0.33668756406929184\n",
      "  (0, 10193)\t0.16532432420812987\n",
      "  (0, 4456)\t0.21799675215510664\n",
      "  (0, 9304)\t0.2738578969459924\n",
      "  (0, 21836)\t0.09966592997173944\n",
      "  (0, 8936)\t0.11806131645084653\n",
      "  (0, 444)\t0.09109355212252294\n",
      "  :\t:\n",
      "  (4801, 5449)\t0.31510541707008866\n",
      "  (4801, 22170)\t0.31510541707008866\n",
      "  (4801, 27361)\t0.31510541707008866\n",
      "  (4801, 27513)\t0.3005604008026175\n",
      "  (4801, 8121)\t0.2611505149930138\n",
      "  (4801, 758)\t0.19369913462690624\n",
      "  (4801, 11776)\t0.3005604008026175\n",
      "  (4801, 18790)\t0.22450140828104795\n",
      "  (4801, 2511)\t0.16619755360453184\n",
      "  (4801, 17791)\t0.15702571586793676\n",
      "  (4801, 12846)\t0.1232063996421506\n",
      "  (4802, 7770)\t0.28212235292045307\n",
      "  (4802, 11874)\t0.5642447058409061\n",
      "  (4802, 10640)\t0.28212235292045307\n",
      "  (4802, 6978)\t0.28212235292045307\n",
      "  (4802, 3569)\t0.2526933433912742\n",
      "  (4802, 9174)\t0.23381507827213685\n",
      "  (4802, 5847)\t0.2598601666162226\n",
      "  (4802, 11042)\t0.2245754361399493\n",
      "  (4802, 20664)\t0.1718311116708895\n",
      "  (4802, 2027)\t0.19514642661077047\n",
      "  (4802, 5354)\t0.2196244946235084\n",
      "  (4802, 8313)\t0.1713172199751922\n",
      "  (4802, 3128)\t0.17288424030654004\n",
      "  (4802, 7626)\t0.17686850692938538\n"
     ]
    }
   ],
   "source": [
    "print(featured_vectors)"
   ]
  },
  {
   "cell_type": "code",
   "execution_count": 33,
   "id": "349df614",
   "metadata": {},
   "outputs": [],
   "source": [
    "# GET THE SIMILARITY SCORES USING COSINE SIMILARITY \n",
    "# NB: Cosine similarity measures the cosine of the angle btw 2 vectors projected\n",
    "# in multi-dimensional space and tends to be more similar with small angle measures between 2 contextual angles"
   ]
  },
  {
   "cell_type": "code",
   "execution_count": 53,
   "id": "dbbdaee9",
   "metadata": {},
   "outputs": [],
   "source": [
    "similarity = cosine_similarity(featured_vectors)"
   ]
  },
  {
   "cell_type": "code",
   "execution_count": 54,
   "id": "15863362",
   "metadata": {},
   "outputs": [],
   "source": [
    "# Display similarity scores"
   ]
  },
  {
   "cell_type": "code",
   "execution_count": 55,
   "id": "30fad8c4",
   "metadata": {},
   "outputs": [
    {
     "name": "stdout",
     "output_type": "stream",
     "text": [
      "[[1.         0.06865296 0.01492221 ... 0.         0.         0.        ]\n",
      " [0.06865296 1.         0.02799128 ... 0.01243107 0.         0.        ]\n",
      " [0.01492221 0.02799128 1.         ... 0.         0.         0.        ]\n",
      " ...\n",
      " [0.         0.01243107 0.         ... 1.         0.         0.        ]\n",
      " [0.         0.         0.         ... 0.         1.         0.        ]\n",
      " [0.         0.         0.         ... 0.         0.         1.        ]]\n"
     ]
    }
   ],
   "source": [
    "print(similarity)"
   ]
  },
  {
   "cell_type": "code",
   "execution_count": 62,
   "id": "59e19d61",
   "metadata": {},
   "outputs": [],
   "source": [
    "# Display dimension of similarity score"
   ]
  },
  {
   "cell_type": "code",
   "execution_count": 63,
   "id": "e7fbeaf1",
   "metadata": {},
   "outputs": [
    {
     "data": {
      "text/plain": [
       "(4803, 4803)"
      ]
     },
     "execution_count": 63,
     "metadata": {},
     "output_type": "execute_result"
    }
   ],
   "source": [
    "similarity.shape"
   ]
  },
  {
   "cell_type": "code",
   "execution_count": 57,
   "id": "c2af902b",
   "metadata": {},
   "outputs": [],
   "source": [
    "# Define a function which suggests movies"
   ]
  },
  {
   "cell_type": "code",
   "execution_count": 58,
   "id": "ea2380fa",
   "metadata": {},
   "outputs": [
    {
     "name": "stdout",
     "output_type": "stream",
     "text": [
      "Enter your favorite movie name: iron man\n"
     ]
    }
   ],
   "source": [
    "def recommend_movies(movie_name=input('Enter your favorite movie name: ')):\n",
    "    # list all movie titles given in the dataset\n",
    "    titles = df['title'].tolist()\n",
    "    \n",
    "    # Find the close match for the movie name entered by the user as difflib would compare the sequences already\n",
    "    # established by the cosine simiarity\n",
    "    close_match = difflib.get_close_matches(movie_name,titles)\n",
    "    closest_match = close_match[0]\n",
    "    \n",
    "    # finding the index of the movie with the closest match\n",
    "    movie_index = df[df['title'] == closest_match]['index'].values[0]\n",
    "    \n",
    "    # Get a list of similar movies\n",
    "    # Also add a counter to the similarity_scores on the movie index by implimenting the enumerate function with a list\n",
    "    similarity_scores = list(enumerate(similarity[movie_index]))\n",
    "    \n",
    "    # sort the movies based on their similarity scores\n",
    "    sorted_similarity_scores = sorted(similarity_scores, key=lambda x : x[1], reverse=True)\n",
    "        \n",
    "    print('Movies suggested to you: \\n')\n",
    "    i = 1\n",
    "    for movie in sorted_similarity_scores:\n",
    "        index = movie[0]\n",
    "        title_from_index = df[df['index'] == index]['title'].values[0]\n",
    "        if i <= 10:\n",
    "            print(f'{i}. {title_from_index}')\n",
    "            i+=1"
   ]
  },
  {
   "cell_type": "code",
   "execution_count": 60,
   "id": "90cab7f1",
   "metadata": {},
   "outputs": [],
   "source": [
    "# Call function and print movie suggestions"
   ]
  },
  {
   "cell_type": "code",
   "execution_count": 52,
   "id": "2a094d59",
   "metadata": {},
   "outputs": [
    {
     "name": "stdout",
     "output_type": "stream",
     "text": [
      "Movies suggested to you: \n",
      "\n",
      "1. Iron Man\n",
      "2. Iron Man 2\n",
      "3. Iron Man 3\n",
      "4. The Avengers\n",
      "5. Captain America: Civil War\n",
      "6. The Helix... Loaded\n",
      "7. Avengers: Age of Ultron\n",
      "8. X-Men: The Last Stand\n",
      "9. X-Men: Days of Future Past\n",
      "10. X-Men\n",
      "None\n"
     ]
    }
   ],
   "source": [
    "movie_collections = recommend_movies()\n",
    "print(movie_collections)"
   ]
  },
  {
   "cell_type": "code",
   "execution_count": 47,
   "id": "c7aa4f72",
   "metadata": {},
   "outputs": [],
   "source": []
  }
 ],
 "metadata": {
  "kernelspec": {
   "display_name": "Python 3 (ipykernel)",
   "language": "python",
   "name": "python3"
  },
  "language_info": {
   "codemirror_mode": {
    "name": "ipython",
    "version": 3
   },
   "file_extension": ".py",
   "mimetype": "text/x-python",
   "name": "python",
   "nbconvert_exporter": "python",
   "pygments_lexer": "ipython3",
   "version": "3.10.4"
  }
 },
 "nbformat": 4,
 "nbformat_minor": 5
}

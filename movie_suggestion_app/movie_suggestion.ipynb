{
 "cells": [
  {
   "cell_type": "code",
   "execution_count": 54,
   "id": "ee3907eb",
   "metadata": {},
   "outputs": [],
   "source": [
    "# A MACHINE LEARNING TECHNIQUE WHICH SUGGESTS MOVIES RELEVANT TO A GIVEN SEARCHED MOVIE"
   ]
  },
  {
   "cell_type": "code",
   "execution_count": 55,
   "id": "3fc3964e",
   "metadata": {},
   "outputs": [],
   "source": [
    "# IMPORT DEPENDENCES"
   ]
  },
  {
   "cell_type": "code",
   "execution_count": 56,
   "id": "24caaa9f",
   "metadata": {},
   "outputs": [],
   "source": [
    "import pandas as pd\n",
    "import matplotlib.pyplot as plt\n",
    "import numpy as np\n",
    "import seaborn as sns\n",
    "from sklearn.feature_extraction.text import TfidfVectorizer\n",
    "from sklearn.metrics.pairwise import cosine_similarity\n",
    "import difflib\n",
    "\n",
    "%matplotlib inline"
   ]
  },
  {
   "cell_type": "code",
   "execution_count": 57,
   "id": "6e9ad61b",
   "metadata": {},
   "outputs": [],
   "source": [
    "df = pd.read_csv('movies.csv')"
   ]
  },
  {
   "cell_type": "code",
   "execution_count": 58,
   "id": "a6de359d",
   "metadata": {},
   "outputs": [],
   "source": [
    "# Display the first 3 movies"
   ]
  },
  {
   "cell_type": "code",
   "execution_count": 59,
   "id": "aa35d758",
   "metadata": {},
   "outputs": [
    {
     "data": {
      "text/html": [
       "<div>\n",
       "<style scoped>\n",
       "    .dataframe tbody tr th:only-of-type {\n",
       "        vertical-align: middle;\n",
       "    }\n",
       "\n",
       "    .dataframe tbody tr th {\n",
       "        vertical-align: top;\n",
       "    }\n",
       "\n",
       "    .dataframe thead th {\n",
       "        text-align: right;\n",
       "    }\n",
       "</style>\n",
       "<table border=\"1\" class=\"dataframe\">\n",
       "  <thead>\n",
       "    <tr style=\"text-align: right;\">\n",
       "      <th></th>\n",
       "      <th>index</th>\n",
       "      <th>budget</th>\n",
       "      <th>genres</th>\n",
       "      <th>homepage</th>\n",
       "      <th>id</th>\n",
       "      <th>keywords</th>\n",
       "      <th>original_language</th>\n",
       "      <th>original_title</th>\n",
       "      <th>overview</th>\n",
       "      <th>popularity</th>\n",
       "      <th>...</th>\n",
       "      <th>runtime</th>\n",
       "      <th>spoken_languages</th>\n",
       "      <th>status</th>\n",
       "      <th>tagline</th>\n",
       "      <th>title</th>\n",
       "      <th>vote_average</th>\n",
       "      <th>vote_count</th>\n",
       "      <th>cast</th>\n",
       "      <th>crew</th>\n",
       "      <th>director</th>\n",
       "    </tr>\n",
       "  </thead>\n",
       "  <tbody>\n",
       "    <tr>\n",
       "      <th>0</th>\n",
       "      <td>0</td>\n",
       "      <td>237000000</td>\n",
       "      <td>Action Adventure Fantasy Science Fiction</td>\n",
       "      <td>http://www.avatarmovie.com/</td>\n",
       "      <td>19995</td>\n",
       "      <td>culture clash future space war space colony so...</td>\n",
       "      <td>en</td>\n",
       "      <td>Avatar</td>\n",
       "      <td>In the 22nd century, a paraplegic Marine is di...</td>\n",
       "      <td>150.437577</td>\n",
       "      <td>...</td>\n",
       "      <td>162.0</td>\n",
       "      <td>[{\"iso_639_1\": \"en\", \"name\": \"English\"}, {\"iso...</td>\n",
       "      <td>Released</td>\n",
       "      <td>Enter the World of Pandora.</td>\n",
       "      <td>Avatar</td>\n",
       "      <td>7.2</td>\n",
       "      <td>11800</td>\n",
       "      <td>Sam Worthington Zoe Saldana Sigourney Weaver S...</td>\n",
       "      <td>[{'name': 'Stephen E. Rivkin', 'gender': 0, 'd...</td>\n",
       "      <td>James Cameron</td>\n",
       "    </tr>\n",
       "    <tr>\n",
       "      <th>1</th>\n",
       "      <td>1</td>\n",
       "      <td>300000000</td>\n",
       "      <td>Adventure Fantasy Action</td>\n",
       "      <td>http://disney.go.com/disneypictures/pirates/</td>\n",
       "      <td>285</td>\n",
       "      <td>ocean drug abuse exotic island east india trad...</td>\n",
       "      <td>en</td>\n",
       "      <td>Pirates of the Caribbean: At World's End</td>\n",
       "      <td>Captain Barbossa, long believed to be dead, ha...</td>\n",
       "      <td>139.082615</td>\n",
       "      <td>...</td>\n",
       "      <td>169.0</td>\n",
       "      <td>[{\"iso_639_1\": \"en\", \"name\": \"English\"}]</td>\n",
       "      <td>Released</td>\n",
       "      <td>At the end of the world, the adventure begins.</td>\n",
       "      <td>Pirates of the Caribbean: At World's End</td>\n",
       "      <td>6.9</td>\n",
       "      <td>4500</td>\n",
       "      <td>Johnny Depp Orlando Bloom Keira Knightley Stel...</td>\n",
       "      <td>[{'name': 'Dariusz Wolski', 'gender': 2, 'depa...</td>\n",
       "      <td>Gore Verbinski</td>\n",
       "    </tr>\n",
       "    <tr>\n",
       "      <th>2</th>\n",
       "      <td>2</td>\n",
       "      <td>245000000</td>\n",
       "      <td>Action Adventure Crime</td>\n",
       "      <td>http://www.sonypictures.com/movies/spectre/</td>\n",
       "      <td>206647</td>\n",
       "      <td>spy based on novel secret agent sequel mi6</td>\n",
       "      <td>en</td>\n",
       "      <td>Spectre</td>\n",
       "      <td>A cryptic message from Bond’s past sends him o...</td>\n",
       "      <td>107.376788</td>\n",
       "      <td>...</td>\n",
       "      <td>148.0</td>\n",
       "      <td>[{\"iso_639_1\": \"fr\", \"name\": \"Fran\\u00e7ais\"},...</td>\n",
       "      <td>Released</td>\n",
       "      <td>A Plan No One Escapes</td>\n",
       "      <td>Spectre</td>\n",
       "      <td>6.3</td>\n",
       "      <td>4466</td>\n",
       "      <td>Daniel Craig Christoph Waltz L\\u00e9a Seydoux ...</td>\n",
       "      <td>[{'name': 'Thomas Newman', 'gender': 2, 'depar...</td>\n",
       "      <td>Sam Mendes</td>\n",
       "    </tr>\n",
       "  </tbody>\n",
       "</table>\n",
       "<p>3 rows × 24 columns</p>\n",
       "</div>"
      ],
      "text/plain": [
       "   index     budget                                    genres  \\\n",
       "0      0  237000000  Action Adventure Fantasy Science Fiction   \n",
       "1      1  300000000                  Adventure Fantasy Action   \n",
       "2      2  245000000                    Action Adventure Crime   \n",
       "\n",
       "                                       homepage      id  \\\n",
       "0                   http://www.avatarmovie.com/   19995   \n",
       "1  http://disney.go.com/disneypictures/pirates/     285   \n",
       "2   http://www.sonypictures.com/movies/spectre/  206647   \n",
       "\n",
       "                                            keywords original_language  \\\n",
       "0  culture clash future space war space colony so...                en   \n",
       "1  ocean drug abuse exotic island east india trad...                en   \n",
       "2         spy based on novel secret agent sequel mi6                en   \n",
       "\n",
       "                             original_title  \\\n",
       "0                                    Avatar   \n",
       "1  Pirates of the Caribbean: At World's End   \n",
       "2                                   Spectre   \n",
       "\n",
       "                                            overview  popularity  ... runtime  \\\n",
       "0  In the 22nd century, a paraplegic Marine is di...  150.437577  ...   162.0   \n",
       "1  Captain Barbossa, long believed to be dead, ha...  139.082615  ...   169.0   \n",
       "2  A cryptic message from Bond’s past sends him o...  107.376788  ...   148.0   \n",
       "\n",
       "                                    spoken_languages    status  \\\n",
       "0  [{\"iso_639_1\": \"en\", \"name\": \"English\"}, {\"iso...  Released   \n",
       "1           [{\"iso_639_1\": \"en\", \"name\": \"English\"}]  Released   \n",
       "2  [{\"iso_639_1\": \"fr\", \"name\": \"Fran\\u00e7ais\"},...  Released   \n",
       "\n",
       "                                          tagline  \\\n",
       "0                     Enter the World of Pandora.   \n",
       "1  At the end of the world, the adventure begins.   \n",
       "2                           A Plan No One Escapes   \n",
       "\n",
       "                                      title vote_average vote_count  \\\n",
       "0                                    Avatar          7.2      11800   \n",
       "1  Pirates of the Caribbean: At World's End          6.9       4500   \n",
       "2                                   Spectre          6.3       4466   \n",
       "\n",
       "                                                cast  \\\n",
       "0  Sam Worthington Zoe Saldana Sigourney Weaver S...   \n",
       "1  Johnny Depp Orlando Bloom Keira Knightley Stel...   \n",
       "2  Daniel Craig Christoph Waltz L\\u00e9a Seydoux ...   \n",
       "\n",
       "                                                crew        director  \n",
       "0  [{'name': 'Stephen E. Rivkin', 'gender': 0, 'd...   James Cameron  \n",
       "1  [{'name': 'Dariusz Wolski', 'gender': 2, 'depa...  Gore Verbinski  \n",
       "2  [{'name': 'Thomas Newman', 'gender': 2, 'depar...      Sam Mendes  \n",
       "\n",
       "[3 rows x 24 columns]"
      ]
     },
     "execution_count": 59,
     "metadata": {},
     "output_type": "execute_result"
    }
   ],
   "source": [
    "df.head(3)"
   ]
  },
  {
   "cell_type": "code",
   "execution_count": 60,
   "id": "d5332dea",
   "metadata": {},
   "outputs": [],
   "source": [
    "# Display key information associated with the given data"
   ]
  },
  {
   "cell_type": "code",
   "execution_count": 61,
   "id": "d7d1bdee",
   "metadata": {},
   "outputs": [
    {
     "name": "stdout",
     "output_type": "stream",
     "text": [
      "<class 'pandas.core.frame.DataFrame'>\n",
      "RangeIndex: 4803 entries, 0 to 4802\n",
      "Data columns (total 24 columns):\n",
      " #   Column                Non-Null Count  Dtype  \n",
      "---  ------                --------------  -----  \n",
      " 0   index                 4803 non-null   int64  \n",
      " 1   budget                4803 non-null   int64  \n",
      " 2   genres                4775 non-null   object \n",
      " 3   homepage              1712 non-null   object \n",
      " 4   id                    4803 non-null   int64  \n",
      " 5   keywords              4391 non-null   object \n",
      " 6   original_language     4803 non-null   object \n",
      " 7   original_title        4803 non-null   object \n",
      " 8   overview              4800 non-null   object \n",
      " 9   popularity            4803 non-null   float64\n",
      " 10  production_companies  4803 non-null   object \n",
      " 11  production_countries  4803 non-null   object \n",
      " 12  release_date          4802 non-null   object \n",
      " 13  revenue               4803 non-null   int64  \n",
      " 14  runtime               4801 non-null   float64\n",
      " 15  spoken_languages      4803 non-null   object \n",
      " 16  status                4803 non-null   object \n",
      " 17  tagline               3959 non-null   object \n",
      " 18  title                 4803 non-null   object \n",
      " 19  vote_average          4803 non-null   float64\n",
      " 20  vote_count            4803 non-null   int64  \n",
      " 21  cast                  4760 non-null   object \n",
      " 22  crew                  4803 non-null   object \n",
      " 23  director              4773 non-null   object \n",
      "dtypes: float64(3), int64(5), object(16)\n",
      "memory usage: 900.7+ KB\n"
     ]
    }
   ],
   "source": [
    "df.info()"
   ]
  },
  {
   "cell_type": "code",
   "execution_count": 62,
   "id": "94078664",
   "metadata": {},
   "outputs": [],
   "source": [
    "# selecting the relevant features for recommendation\n",
    "\n",
    "selected_features = ['genres','keywords','tagline','cast','director']"
   ]
  },
  {
   "cell_type": "code",
   "execution_count": 63,
   "id": "627e7e0f",
   "metadata": {},
   "outputs": [],
   "source": [
    "# Check for NULL values"
   ]
  },
  {
   "cell_type": "code",
   "execution_count": 64,
   "id": "1cfc727b",
   "metadata": {},
   "outputs": [
    {
     "data": {
      "text/plain": [
       "genres       28\n",
       "keywords    412\n",
       "tagline     844\n",
       "cast         43\n",
       "director     30\n",
       "dtype: int64"
      ]
     },
     "execution_count": 64,
     "metadata": {},
     "output_type": "execute_result"
    }
   ],
   "source": [
    "df[selected_features].isnull().sum()"
   ]
  },
  {
   "cell_type": "code",
   "execution_count": 65,
   "id": "24a76ae2",
   "metadata": {},
   "outputs": [],
   "source": [
    "# Fill in null values"
   ]
  },
  {
   "cell_type": "code",
   "execution_count": 66,
   "id": "0278cc07",
   "metadata": {},
   "outputs": [],
   "source": [
    "for feature in selected_features:\n",
    "    df[feature] = df[feature].fillna('')"
   ]
  },
  {
   "cell_type": "code",
   "execution_count": 67,
   "id": "0c180def",
   "metadata": {},
   "outputs": [],
   "source": [
    "# Confirm absence of NULL values"
   ]
  },
  {
   "cell_type": "code",
   "execution_count": 68,
   "id": "6f93d30e",
   "metadata": {},
   "outputs": [
    {
     "data": {
      "text/plain": [
       "genres      0\n",
       "keywords    0\n",
       "tagline     0\n",
       "cast        0\n",
       "director    0\n",
       "dtype: int64"
      ]
     },
     "execution_count": 68,
     "metadata": {},
     "output_type": "execute_result"
    }
   ],
   "source": [
    "df[selected_features].isnull().sum()"
   ]
  },
  {
   "cell_type": "code",
   "execution_count": 69,
   "id": "cfe94983",
   "metadata": {},
   "outputs": [],
   "source": [
    "# Combine selected features"
   ]
  },
  {
   "cell_type": "code",
   "execution_count": 70,
   "id": "3f6da6bf",
   "metadata": {},
   "outputs": [],
   "source": [
    "combined_features = df['genres']+''+df['keywords']+''+df['tagline']+''+df['cast']+''+df['director']"
   ]
  },
  {
   "cell_type": "code",
   "execution_count": 71,
   "id": "d3c39516",
   "metadata": {},
   "outputs": [],
   "source": [
    "# Display first 5 lines of the combined features"
   ]
  },
  {
   "cell_type": "code",
   "execution_count": 72,
   "id": "7e27be42",
   "metadata": {},
   "outputs": [
    {
     "data": {
      "text/plain": [
       "0    Action Adventure Fantasy Science Fictioncultur...\n",
       "1    Adventure Fantasy Actionocean drug abuse exoti...\n",
       "2    Action Adventure Crimespy based on novel secre...\n",
       "3    Action Crime Drama Thrillerdc comics crime fig...\n",
       "4    Action Adventure Science Fictionbased on novel...\n",
       "dtype: object"
      ]
     },
     "execution_count": 72,
     "metadata": {},
     "output_type": "execute_result"
    }
   ],
   "source": [
    "combined_features.head()"
   ]
  },
  {
   "cell_type": "code",
   "execution_count": 73,
   "id": "b022c9dd",
   "metadata": {},
   "outputs": [],
   "source": [
    "# we convert the text data into feature vectors to ease movie data pattern recognition"
   ]
  },
  {
   "cell_type": "code",
   "execution_count": 74,
   "id": "6d241009",
   "metadata": {},
   "outputs": [],
   "source": [
    "vectorizer = TfidfVectorizer()"
   ]
  },
  {
   "cell_type": "code",
   "execution_count": 75,
   "id": "ce6126c1",
   "metadata": {},
   "outputs": [],
   "source": [
    "featured_vectors = vectorizer.fit_transform(combined_features)"
   ]
  },
  {
   "cell_type": "code",
   "execution_count": 76,
   "id": "b0786432",
   "metadata": {},
   "outputs": [],
   "source": [
    "# Display featured vectors"
   ]
  },
  {
   "cell_type": "code",
   "execution_count": 77,
   "id": "5c9bd456",
   "metadata": {},
   "outputs": [
    {
     "name": "stdout",
     "output_type": "stream",
     "text": [
      "  (0, 3583)\t0.16941894714909375\n",
      "  (0, 20729)\t0.2738578969459924\n",
      "  (0, 16614)\t0.15696073877453268\n",
      "  (0, 14550)\t0.2236809363648068\n",
      "  (0, 23267)\t0.16128139780622516\n",
      "  (0, 26547)\t0.19638671147741732\n",
      "  (0, 22464)\t0.20207089568711745\n",
      "  (0, 21487)\t0.21550128478931546\n",
      "  (0, 27540)\t0.19771357974524176\n",
      "  (0, 27182)\t0.23480088356130552\n",
      "  (0, 21521)\t0.1562356665943368\n",
      "  (0, 18558)\t0.2612168335104853\n",
      "  (0, 18164)\t0.08690831799482265\n",
      "  (0, 27161)\t0.1261988657937151\n",
      "  (0, 24197)\t0.07518543993419265\n",
      "  (0, 22778)\t0.2738578969459924\n",
      "  (0, 4676)\t0.2452909770424961\n",
      "  (0, 26334)\t0.13059723071916296\n",
      "  (0, 22916)\t0.33668756406929184\n",
      "  (0, 10193)\t0.16532432420812987\n",
      "  (0, 4456)\t0.21799675215510664\n",
      "  (0, 9304)\t0.2738578969459924\n",
      "  (0, 21836)\t0.09966592997173944\n",
      "  (0, 8936)\t0.11806131645084653\n",
      "  (0, 444)\t0.09109355212252294\n",
      "  :\t:\n",
      "  (4801, 5449)\t0.31510541707008866\n",
      "  (4801, 22170)\t0.31510541707008866\n",
      "  (4801, 27361)\t0.31510541707008866\n",
      "  (4801, 27513)\t0.3005604008026175\n",
      "  (4801, 8121)\t0.2611505149930138\n",
      "  (4801, 758)\t0.19369913462690624\n",
      "  (4801, 11776)\t0.3005604008026175\n",
      "  (4801, 18790)\t0.22450140828104795\n",
      "  (4801, 2511)\t0.16619755360453184\n",
      "  (4801, 17791)\t0.15702571586793676\n",
      "  (4801, 12846)\t0.1232063996421506\n",
      "  (4802, 7770)\t0.28212235292045307\n",
      "  (4802, 11874)\t0.5642447058409061\n",
      "  (4802, 10640)\t0.28212235292045307\n",
      "  (4802, 6978)\t0.28212235292045307\n",
      "  (4802, 3569)\t0.2526933433912742\n",
      "  (4802, 9174)\t0.23381507827213685\n",
      "  (4802, 5847)\t0.2598601666162226\n",
      "  (4802, 11042)\t0.2245754361399493\n",
      "  (4802, 20664)\t0.1718311116708895\n",
      "  (4802, 2027)\t0.19514642661077047\n",
      "  (4802, 5354)\t0.2196244946235084\n",
      "  (4802, 8313)\t0.1713172199751922\n",
      "  (4802, 3128)\t0.17288424030654004\n",
      "  (4802, 7626)\t0.17686850692938538\n"
     ]
    }
   ],
   "source": [
    "print(featured_vectors)"
   ]
  },
  {
   "cell_type": "code",
   "execution_count": 78,
   "id": "349df614",
   "metadata": {},
   "outputs": [],
   "source": [
    "# GET THE SIMILARITY SCORES USING COSINE SIMILARITY \n",
    "# NB: Cosine similarity measures the cosine of the angle btw 2 vectors projected\n",
    "# in multi-dimensional space and tends to be more similar with small angle measures between 2 contextual angles"
   ]
  },
  {
   "cell_type": "code",
   "execution_count": 79,
   "id": "dbbdaee9",
   "metadata": {},
   "outputs": [],
   "source": [
    "similarity = cosine_similarity(featured_vectors)"
   ]
  },
  {
   "cell_type": "code",
   "execution_count": 80,
   "id": "15863362",
   "metadata": {},
   "outputs": [],
   "source": [
    "# Display similarity scores"
   ]
  },
  {
   "cell_type": "code",
   "execution_count": 81,
   "id": "30fad8c4",
   "metadata": {},
   "outputs": [
    {
     "name": "stdout",
     "output_type": "stream",
     "text": [
      "[[1.         0.06865296 0.01492221 ... 0.         0.         0.        ]\n",
      " [0.06865296 1.         0.02799128 ... 0.01243107 0.         0.        ]\n",
      " [0.01492221 0.02799128 1.         ... 0.         0.         0.        ]\n",
      " ...\n",
      " [0.         0.01243107 0.         ... 1.         0.         0.        ]\n",
      " [0.         0.         0.         ... 0.         1.         0.        ]\n",
      " [0.         0.         0.         ... 0.         0.         1.        ]]\n"
     ]
    }
   ],
   "source": [
    "print(similarity)"
   ]
  },
  {
   "cell_type": "code",
   "execution_count": 82,
   "id": "59e19d61",
   "metadata": {},
   "outputs": [],
   "source": [
    "# Display dimension of similarity score"
   ]
  },
  {
   "cell_type": "code",
   "execution_count": 83,
   "id": "e7fbeaf1",
   "metadata": {},
   "outputs": [
    {
     "data": {
      "text/plain": [
       "(4803, 4803)"
      ]
     },
     "execution_count": 83,
     "metadata": {},
     "output_type": "execute_result"
    }
   ],
   "source": [
    "similarity.shape"
   ]
  },
  {
   "cell_type": "code",
   "execution_count": 84,
   "id": "c2af902b",
   "metadata": {},
   "outputs": [],
   "source": [
    "# Define a function which suggests movies"
   ]
  },
  {
   "cell_type": "code",
   "execution_count": 85,
   "id": "ea2380fa",
   "metadata": {},
   "outputs": [
    {
     "name": "stdout",
     "output_type": "stream",
     "text": [
      "Enter your favorite movie name: rush hour\n"
     ]
    }
   ],
   "source": [
    "def recommend_movies(movie_name=input('Enter your favorite movie name: ')):\n",
    "    # list all movie titles given in the dataset\n",
    "    titles = df['title'].tolist()\n",
    "    \n",
    "    # Find the close match for the movie name entered by the user as difflib would compare the sequences already\n",
    "    # established by the cosine simiarity\n",
    "    close_match = difflib.get_close_matches(movie_name,titles)\n",
    "    closest_match = close_match[0]\n",
    "    \n",
    "    # finding the index of the movie with the closest match\n",
    "    movie_index = df[df['title'] == closest_match]['index'].values[0]\n",
    "    \n",
    "    # Get a list of similar movies\n",
    "    # Also add a counter to the similarity_scores on the movie index by implimenting the enumerate function with a list\n",
    "    similarity_scores = list(enumerate(similarity[movie_index]))\n",
    "    \n",
    "    # sort the movies based on their similarity scores\n",
    "    sorted_similarity_scores = sorted(similarity_scores, key=lambda x : x[1], reverse=True)\n",
    "        \n",
    "    print('Movies suggested to you: \\n')\n",
    "    i = 1\n",
    "    for movie in sorted_similarity_scores:\n",
    "        index = movie[0]\n",
    "        title_from_index = df[df['index'] == index]['title'].values[0]\n",
    "        if i <= 10:\n",
    "            print(f'{i}. {title_from_index}')\n",
    "            i+=1"
   ]
  },
  {
   "cell_type": "code",
   "execution_count": 86,
   "id": "90cab7f1",
   "metadata": {},
   "outputs": [],
   "source": [
    "# Call function and print movie suggestions"
   ]
  },
  {
   "cell_type": "code",
   "execution_count": 87,
   "id": "2a094d59",
   "metadata": {},
   "outputs": [
    {
     "name": "stdout",
     "output_type": "stream",
     "text": [
      "Movies suggested to you: \n",
      "\n",
      "1. Rush Hour 3\n",
      "2. Rush Hour 2\n",
      "3. The White Countess\n",
      "4. What Dreams May Come\n",
      "5. Minority Report\n",
      "6. Extremely Loud & Incredibly Close\n",
      "7. Money Talks\n",
      "8. The Spy Next Door\n",
      "9. Robin Hood\n",
      "10. Flash Gordon\n",
      "None\n"
     ]
    }
   ],
   "source": [
    "movie_collections = recommend_movies()\n",
    "print(movie_collections)"
   ]
  },
  {
   "cell_type": "code",
   "execution_count": null,
   "id": "c7aa4f72",
   "metadata": {},
   "outputs": [],
   "source": []
  },
  {
   "cell_type": "code",
   "execution_count": 88,
   "id": "6fa80bd8",
   "metadata": {},
   "outputs": [],
   "source": [
    "# Import pickle to have it saved and reused by anyone"
   ]
  },
  {
   "cell_type": "code",
   "execution_count": 89,
   "id": "e953ff9f",
   "metadata": {},
   "outputs": [],
   "source": [
    "import pickle"
   ]
  },
  {
   "cell_type": "code",
   "execution_count": 90,
   "id": "9db9a40e",
   "metadata": {},
   "outputs": [],
   "source": [
    "file_name = \"suggest_movies.sav\""
   ]
  },
  {
   "cell_type": "code",
   "execution_count": 91,
   "id": "17305495",
   "metadata": {},
   "outputs": [],
   "source": [
    "# Save the model"
   ]
  },
  {
   "cell_type": "code",
   "execution_count": 92,
   "id": "f6e1688a",
   "metadata": {},
   "outputs": [],
   "source": [
    "pickle.dump(recommend_movies, open(file_name, 'wb'))"
   ]
  },
  {
   "cell_type": "code",
   "execution_count": 93,
   "id": "74f11ef9",
   "metadata": {},
   "outputs": [],
   "source": [
    "# Reuse the model"
   ]
  },
  {
   "cell_type": "code",
   "execution_count": 94,
   "id": "0dbe15be",
   "metadata": {},
   "outputs": [],
   "source": [
    "loaded_model = pickle.load(open('suggest_movies.sav', 'rb'))"
   ]
  },
  {
   "cell_type": "code",
   "execution_count": null,
   "id": "1aa18f81",
   "metadata": {},
   "outputs": [
    {
     "name": "stdout",
     "output_type": "stream",
     "text": [
      "Movies suggested to you: \n",
      "\n",
      "1. Thor\n",
      "2. Thor: The Dark World\n",
      "3. The Avengers\n",
      "4. Cinderella\n",
      "5. Captain America: The Winter Soldier\n",
      "6. Avengers: Age of Ultron\n",
      "7. Jack Ryan: Shadow Recruit\n",
      "8. Deadpool\n",
      "9. Iron Man 2\n",
      "10. Spider-Man 2\n"
     ]
    }
   ],
   "source": [
    "prediction = loaded_model('thor')"
   ]
  },
  {
   "cell_type": "code",
   "execution_count": null,
   "id": "2b37620c",
   "metadata": {},
   "outputs": [],
   "source": []
  }
 ],
 "metadata": {
  "kernelspec": {
   "display_name": "Python 3 (ipykernel)",
   "language": "python",
   "name": "python3"
  },
  "language_info": {
   "codemirror_mode": {
    "name": "ipython",
    "version": 3
   },
   "file_extension": ".py",
   "mimetype": "text/x-python",
   "name": "python",
   "nbconvert_exporter": "python",
   "pygments_lexer": "ipython3",
   "version": "3.10.4"
  }
 },
 "nbformat": 4,
 "nbformat_minor": 5
}
